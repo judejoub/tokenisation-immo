{
 "cells": [
  {
   "cell_type": "markdown",
   "id": "660234b5",
   "metadata": {},
   "source": [
    "# Projet Python ENSAE\n",
    "\n",
    "## Tokenisation d'actifs immobiliers"
   ]
  },
  {
   "cell_type": "markdown",
   "id": "81d4b487",
   "metadata": {},
   "source": [
    "Lien projet: https://hureauxarnaud.medium.com/projet-estimateur-de-prix-dun-bien-immobilier-bas%C3%A9-sur-du-machine-learning-ae578fdacaca\n",
    "\n",
    "Code : https://colab.research.google.com/drive/1bU1Nx0HcLSSf1U6BVvsiYFfrJeKnhIW2?usp=sharing#scrollTo=GWGxYN3LKLu8   "
   ]
  },
  {
   "cell_type": "markdown",
   "id": "3154eea4",
   "metadata": {},
   "source": [
    "# Etape 0 : packages"
   ]
  },
  {
   "cell_type": "code",
   "execution_count": 1,
   "id": "38547454",
   "metadata": {},
   "outputs": [],
   "source": [
    "import numpy as np\n",
    "import pandas as pd\n",
    "from tqdm import tqdm\n",
    "from sklearn.neighbors import BallTree\n",
    "import requests\n",
    "import matplotlib\n",
    "import seaborn as sns\n",
    "import matplotlib.pyplot as plt"
   ]
  },
  {
   "cell_type": "code",
   "execution_count": 33,
   "id": "5c24e8e7",
   "metadata": {},
   "outputs": [
    {
     "data": {
      "text/plain": [
       "' \\n\\nurl = \\'https://github.com/InseeFrLab/Py-Insee-Data/archive/refs/heads/master.zip\\'\\nr = requests.get(url)\\nwith open(\"pynsee.zip\" , \\'wb\\') as zipfile:\\n    zipfile.write(r.content)\\n\\n!pip install --ignore-installed pynsee.zip\\n!pip install python-Levenshtein\\n\\n'"
      ]
     },
     "execution_count": 33,
     "metadata": {},
     "output_type": "execute_result"
    }
   ],
   "source": [
    "\"\"\" \n",
    "\n",
    "url = 'https://github.com/InseeFrLab/Py-Insee-Data/archive/refs/heads/master.zip'\n",
    "r = requests.get(url)\n",
    "with open(\"pynsee.zip\" , 'wb') as zipfile:\n",
    "    zipfile.write(r.content)\n",
    "\n",
    "!pip install --ignore-installed pynsee.zip\n",
    "!pip install python-Levenshtein\n",
    "\n",
    "\"\"\""
   ]
  },
  {
   "cell_type": "code",
   "execution_count": 62,
   "id": "2a92b8b9",
   "metadata": {},
   "outputs": [],
   "source": [
    "# Get the development version from GitHub\n",
    "# git clone https://github.com/InseeFrLab/Py-Insee-Data.git\n",
    "# cd Py-Insee-Data\n",
    "# pip install .\n",
    "# pip install --ignore-installed pynsee.zip\n",
    "# pip install xlrd\n",
    "# pip install python-Levenshtein"
   ]
  },
  {
   "cell_type": "code",
   "execution_count": 3,
   "id": "c74cbdb6",
   "metadata": {},
   "outputs": [],
   "source": [
    "# import pynsee\n",
    "# import pynsee.download\n",
    "# from pynsee.download import telechargerDonnees"
   ]
  },
  {
   "cell_type": "code",
   "execution_count": 4,
   "id": "0f89d707",
   "metadata": {},
   "outputs": [],
   "source": [
    "# df_city_2015 = telechargerDonnees(\"FILOSOFI_COM\", date = \"2015\")"
   ]
  },
  {
   "cell_type": "code",
   "execution_count": 5,
   "id": "8f87e3e1",
   "metadata": {},
   "outputs": [],
   "source": [
    "# Variable nombre de personnes: `NBPERSMENFISC16`\n",
    "# df_city_2015.sample(5)"
   ]
  },
  {
   "cell_type": "markdown",
   "id": "97025158",
   "metadata": {},
   "source": [
    "# Etape 1 : preprocessing"
   ]
  },
  {
   "cell_type": "markdown",
   "id": "eab2c34c-fc10-4be2-b04e-961ad0f01601",
   "metadata": {},
   "source": [
    "### 1.1. Importation du dataset DVF :\n",
    "\n",
    "Nous importons le dataset « **Demandes de valeurs foncières** » (DVF), publié par la DGFiP, permet de connaître les transactions immobilières intervenues au cours des cinq dernières années sur le territoire métropolitain et les DOM-TOM, à l’exception de l’Alsace, de la Moselle et de Mayotte. Les données contenues sont issues des actes notariés et des informations cadastrales.\n",
    "\n",
    "Fichiers 2017-2020 : https://files.data.gouv.fr/geo-dvf/latest/"
   ]
  },
  {
   "cell_type": "code",
   "execution_count": 2,
   "id": "04c30121",
   "metadata": {},
   "outputs": [
    {
     "name": "stderr",
     "output_type": "stream",
     "text": [
      "/opt/conda/lib/python3.9/site-packages/IPython/core/interactiveshell.py:3444: DtypeWarning: Columns (10,12,17,18,20,22,24,35,36) have mixed types.Specify dtype option on import or set low_memory=False.\n",
      "  exec(code_obj, self.user_global_ns, self.user_ns)\n"
     ]
    },
    {
     "data": {
      "text/plain": [
       "'\\nfor year in range(2017, 2021):\\n    name = \"https://files.data.gouv.fr/geo-dvf/latest/csv/\" + str(year) + \"/full.csv.gz\"\\n    table = pd.concat([table, pd.read_csv(name, sep = \\',\\')])\\n\\ndisplay(\"Taille de table :\")\\ndisplay(table.shape)\\ntable.head()\\n'"
      ]
     },
     "execution_count": 2,
     "metadata": {},
     "output_type": "execute_result"
    }
   ],
   "source": [
    "# Les fichiers sont issus de https://files.data.gouv.fr/geo-dvf/latest/\n",
    "\n",
    "name = \"https://files.data.gouv.fr/geo-dvf/latest/csv/2021/full.csv.gz\"\n",
    "table = pd.read_csv(name, sep = ',')\n",
    "\n",
    "# Pour l'instant, on ne travaille que sur les données de 2021, mais il conviendra d'enlever les guillemets par la suite...\n",
    "\n",
    "\"\"\"\n",
    "for year in range(2017, 2021):\n",
    "    name = \"https://files.data.gouv.fr/geo-dvf/latest/csv/\" + str(year) + \"/full.csv.gz\"\n",
    "    table = pd.concat([table, pd.read_csv(name, sep = ',')])\n",
    "\n",
    "display(\"Taille de table :\")\n",
    "display(table.shape)\n",
    "table.head()\n",
    "\"\"\""
   ]
  },
  {
   "cell_type": "markdown",
   "id": "313f9ecc-fbac-477f-a3d0-fdc27d14e487",
   "metadata": {},
   "source": [
    "### 1.2. Visualisation des données\n",
    "\n",
    "A compléter : il s'agit d'avoir **des premières intuitions sur les données**. \n",
    "\n",
    "Notamment, il faudra visualiser sur une carte, **faire des analyses descriptives** (moyennes, variances, etc.) au niveau national et par région ou dans les grandes villes (cf. l'étape 2).\n",
    "\n",
    "En particulier, on se rend compte du **problème de preprocessing** mentionné plus haut : une transaction correspond à plusieurs lignes.\n",
    "Ainsi, si on entraîne l'algorithme de pricing sur ce dataset, il sera **biaisé** : \n",
    "* d'une part, il associerait à une dépendance de 20 m2 le prix d'un appartement de 200 m2\n",
    "* d'autre part, il ne prendrait pas en compte la plus-value apportée par un jardin à une maison, par une dépendance à un appartement, etc.\n",
    "\n",
    "Il conviendra donc de **retravailler les données pour obtenir une seule ligne par transaction**."
   ]
  },
  {
   "cell_type": "code",
   "execution_count": 3,
   "id": "62f24851",
   "metadata": {
    "scrolled": true
   },
   "outputs": [
    {
     "name": "stdout",
     "output_type": "stream",
     "text": [
      "Voici les colonnes de table :\n"
     ]
    },
    {
     "data": {
      "text/plain": [
       "Index(['id_mutation', 'date_mutation', 'numero_disposition', 'nature_mutation',\n",
       "       'valeur_fonciere', 'adresse_numero', 'adresse_suffixe',\n",
       "       'adresse_nom_voie', 'adresse_code_voie', 'code_postal', 'code_commune',\n",
       "       'nom_commune', 'code_departement', 'ancien_code_commune',\n",
       "       'ancien_nom_commune', 'id_parcelle', 'ancien_id_parcelle',\n",
       "       'numero_volume', 'lot1_numero', 'lot1_surface_carrez', 'lot2_numero',\n",
       "       'lot2_surface_carrez', 'lot3_numero', 'lot3_surface_carrez',\n",
       "       'lot4_numero', 'lot4_surface_carrez', 'lot5_numero',\n",
       "       'lot5_surface_carrez', 'nombre_lots', 'code_type_local', 'type_local',\n",
       "       'surface_reelle_bati', 'nombre_pieces_principales',\n",
       "       'code_nature_culture', 'nature_culture', 'code_nature_culture_speciale',\n",
       "       'nature_culture_speciale', 'surface_terrain', 'longitude', 'latitude'],\n",
       "      dtype='object')"
      ]
     },
     "metadata": {},
     "output_type": "display_data"
    }
   ],
   "source": [
    "# Colonnes du dataset\n",
    "\n",
    "print(\"Voici les colonnes de table :\")\n",
    "display(table.columns)"
   ]
  },
  {
   "cell_type": "code",
   "execution_count": 4,
   "id": "f9350dcd",
   "metadata": {},
   "outputs": [],
   "source": [
    "# Création d'une adresse générique\n",
    "\n",
    "table['adresse_numero'] = table['adresse_numero'].fillna('0').astype(int)\n",
    "table['adresse_suffixe'] = table['adresse_suffixe'].fillna(' ')\n",
    "table['adresse_code_voie'] = table['adresse_code_voie'].fillna(' ')\n",
    "table['adresse_nom_voie'] = table['adresse_nom_voie'].fillna(' ')\n",
    "table['code_postal'] = table['code_postal'].fillna('0').astype(int)\n",
    "table['nom_commune'] = table['nom_commune'].fillna(' ')\n",
    "\n",
    "table[\"adresse\"] = table['adresse_numero'].astype(str) + ' ' + table['adresse_suffixe'] + ' ' + table['adresse_code_voie'] + ' ' + table['adresse_nom_voie'] + ' ' + table['nom_commune'] + ' ' + table['code_postal'].astype(str) + ' ' + 'France'\n",
    "\n",
    "# Création d'un identifiant de transaction\n",
    "# Pour identifier les doublons, l'adresse ne suffit pas : un bien peut avoir été vendu deux fois dans la même année\n",
    "\n",
    "table[\"identifiant_transaction\"] = table[\"adresse\"].astype(str) + ' le ' + table[\"date_mutation\"].astype(str)"
   ]
  },
  {
   "cell_type": "code",
   "execution_count": 5,
   "id": "d25e7012",
   "metadata": {},
   "outputs": [
    {
     "data": {
      "text/plain": [
       "'5080   0471 CHE DE VOGELAS Val-Revermont 1370 France le 2021-01-05'"
      ]
     },
     "metadata": {},
     "output_type": "display_data"
    },
    {
     "data": {
      "text/plain": [
       "'5080   0471 CHE DE VOGELAS Val-Revermont 1370 France le 2021-01-05'"
      ]
     },
     "metadata": {},
     "output_type": "display_data"
    },
    {
     "data": {
      "text/plain": [
       "\"Si l'identifiant de transaction est valide, alors True doit s'afficher :\""
      ]
     },
     "metadata": {},
     "output_type": "display_data"
    },
    {
     "data": {
      "text/plain": [
       "True"
      ]
     },
     "execution_count": 5,
     "metadata": {},
     "output_type": "execute_result"
    }
   ],
   "source": [
    "# Problème dans les données et vérification de la validité de l'identifiant de transaction :\n",
    "\n",
    "display(table[\"identifiant_transaction\"].loc[0])\n",
    "display(table[\"identifiant_transaction\"].loc[1])\n",
    "display(\"Si l'identifiant de transaction est valide, alors True doit s'afficher :\")\n",
    "table[\"identifiant_transaction\"].loc[0] == table[\"identifiant_transaction\"].loc[1]"
   ]
  },
  {
   "cell_type": "markdown",
   "id": "dbe98070-29e7-4521-8a8e-96585e09622e",
   "metadata": {},
   "source": [
    "**Problème de preprocessing** : le dataset affiche le même prix de vente global à chaque lot.\n",
    "\n",
    "En effet, d'après la **notice descriptive** : \n",
    "* Les lots, notion juridique immobilière, sont définis dans un état descriptif de division (EDD) et dans les documents de mutation. Ils permettent d’identifier une partie d’un immeuble et ainsi d’y associer un droit de propriété spécifique (propriété, usufruit, etc.).\n",
    "* Les locaux, notion fiscale, identifient les mêmes parties d’un immeuble pour les besoins de la taxe foncière et de la taxe d’habitation en regroupant plusieurs lots.\n",
    "* La correspondance entre le découpage en lots et en locaux n’est pas retracée.\n",
    "\n",
    "Donc, quand une disposition comporte plusieurs locaux ou plusieurs natures de culture, **le fichier de restitution comporte autant de lignes qu’il y a de locaux ou de nature de culture concernés par la mutation**. Ainsi, pour une même publication, il peut y avoir 1 à n ligne(s) de restitution. **Les données génériques (ainsi que le prix) sont alors répétées sur chaque ligne**.\n",
    "\n",
    "Voici les types de locaux différents : \n",
    "['Dépendance', 'Appartement', 'Maison', nan, 'Local industriel. commercial ou assimilé']\n",
    "On ne peut pas juste enlever les \"Dépendances\". En effet, ces dernières peuvent avoir un effet (haussier) sur le prix de vente.\n",
    "\n",
    "Par ailleurs, une maison avec un jardin fait l'objet de deux lignes ayant la même valeur foncière mais des surfaces différentes (celle de la maison, celle du jardin) : suivant la colonne nature_culture ([nan, 'sols', \"terrains d'agrément\", 'taillis simples', 'terrains a bâtir', 'eaux', 'landes', 'taillis sous futaie', 'prés', 'terres', 'jardins', 'peupleraies', 'vignes', 'bois', 'vergers', 'carrières', 'futaies résineuses', 'pâtures', 'futaies feuillues', 'futaies mixtes', 'chemin de fer', 'oseraies', 'pacages', 'prés plantes', 'terres plantées', 'landes boisées', 'herbages', \"prés d'embouche\"]).\n",
    "\n",
    "Il conviendra donc d'**agréger dans une ligne ces informations** :\n",
    "* l'actif immobilier a-t-il une dépendance ? si oui, de combien de m2 ?\n",
    "* la maison a-t-elle un jardin ? si oui, de combien de m2 ?"
   ]
  },
  {
   "cell_type": "code",
   "execution_count": 6,
   "id": "a2d6d028",
   "metadata": {},
   "outputs": [
    {
     "data": {
      "text/plain": [
       "\"Nombre d'adresses uniques dans le DataFrame :\""
      ]
     },
     "metadata": {},
     "output_type": "display_data"
    },
    {
     "data": {
      "text/plain": [
       "547234"
      ]
     },
     "metadata": {},
     "output_type": "display_data"
    },
    {
     "data": {
      "text/plain": [
       "\"Nombre d'identifiant_transaction uniques dans le DataFrame :\""
      ]
     },
     "metadata": {},
     "output_type": "display_data"
    },
    {
     "data": {
      "text/plain": [
       "654843"
      ]
     },
     "metadata": {},
     "output_type": "display_data"
    },
    {
     "data": {
      "text/plain": [
       "'Nombre de lignes dans le DataFrame :'"
      ]
     },
     "metadata": {},
     "output_type": "display_data"
    },
    {
     "data": {
      "text/plain": [
       "1210569"
      ]
     },
     "metadata": {},
     "output_type": "display_data"
    },
    {
     "data": {
      "text/plain": [
       "'Nombre moyen de lignes par vente :'"
      ]
     },
     "metadata": {},
     "output_type": "display_data"
    },
    {
     "data": {
      "text/plain": [
       "1.85"
      ]
     },
     "execution_count": 6,
     "metadata": {},
     "output_type": "execute_result"
    }
   ],
   "source": [
    "# On constate, encore une fois, le problème relevé ci-dessus :\n",
    "\n",
    "display(\"Nombre d'adresses uniques dans le DataFrame :\")\n",
    "display(len(table[\"adresse\"].unique()))\n",
    "display(\"Nombre d'identifiant_transaction uniques dans le DataFrame :\")\n",
    "display(len(table[\"identifiant_transaction\"].unique()))\n",
    "display(\"Nombre de lignes dans le DataFrame :\")\n",
    "display(len(table))\n",
    "display(\"Nombre moyen de lignes par vente :\")\n",
    "np.round(len(table) / len(table[\"identifiant_transaction\"].unique()), 2)\n",
    "\n",
    "# Une vente correspond à plusieurs lignes, les informations sont donc diffusées dans ces lignes..."
   ]
  },
  {
   "cell_type": "markdown",
   "id": "7c73870b-6be9-46a3-8851-e3e92655159a",
   "metadata": {},
   "source": [
    "### 1.3. Création du dataset final :\n",
    "\n",
    "Nous ne prenons que les colonnes suivantes :\n",
    "- Date de vente/mutation\n",
    "- Nature mutation (pour séparer les ventes en VEFA et les ventes classiques)\n",
    "- Valeur foncière (prix de vente)\n",
    "- Colonnes liées à l’adresse (pour nous permettre de localiser le bien)\n",
    "- Adresse\n",
    "- Code Postal\n",
    "- Type local (maison/appartement/Local commercial/Dépendance etc)\n",
    "- Surface réelle bâtie (nb de mètre carré du bien bâti)\n",
    "- Surface terrain (nb de mètre carré du terrain associé au bien)"
   ]
  },
  {
   "cell_type": "code",
   "execution_count": 7,
   "id": "0bc0995e",
   "metadata": {},
   "outputs": [
    {
     "data": {
      "text/plain": [
       "(1210569, 14)"
      ]
     },
     "metadata": {},
     "output_type": "display_data"
    },
    {
     "data": {
      "text/plain": [
       "'Les quatre premières lignes'"
      ]
     },
     "metadata": {},
     "output_type": "display_data"
    },
    {
     "data": {
      "text/html": [
       "<div>\n",
       "<style scoped>\n",
       "    .dataframe tbody tr th:only-of-type {\n",
       "        vertical-align: middle;\n",
       "    }\n",
       "\n",
       "    .dataframe tbody tr th {\n",
       "        vertical-align: top;\n",
       "    }\n",
       "\n",
       "    .dataframe thead th {\n",
       "        text-align: right;\n",
       "    }\n",
       "</style>\n",
       "<table border=\"1\" class=\"dataframe\">\n",
       "  <thead>\n",
       "    <tr style=\"text-align: right;\">\n",
       "      <th></th>\n",
       "      <th>date_mutation</th>\n",
       "      <th>nature_mutation</th>\n",
       "      <th>valeur_fonciere</th>\n",
       "      <th>code_postal</th>\n",
       "      <th>type_local</th>\n",
       "      <th>surface_reelle_bati</th>\n",
       "      <th>nombre_pieces_principales</th>\n",
       "      <th>nature_culture</th>\n",
       "      <th>surface_terrain</th>\n",
       "      <th>longitude</th>\n",
       "      <th>latitude</th>\n",
       "      <th>adresse</th>\n",
       "      <th>code_departement</th>\n",
       "      <th>identifiant_transaction</th>\n",
       "    </tr>\n",
       "  </thead>\n",
       "  <tbody>\n",
       "    <tr>\n",
       "      <th>0</th>\n",
       "      <td>2021-01-05</td>\n",
       "      <td>Vente</td>\n",
       "      <td>185000.0</td>\n",
       "      <td>1370</td>\n",
       "      <td>Maison</td>\n",
       "      <td>97.0</td>\n",
       "      <td>5.0</td>\n",
       "      <td>sols</td>\n",
       "      <td>2410.0</td>\n",
       "      <td>5.386094</td>\n",
       "      <td>46.327140</td>\n",
       "      <td>5080   0471 CHE DE VOGELAS Val-Revermont 1370 ...</td>\n",
       "      <td>1</td>\n",
       "      <td>5080   0471 CHE DE VOGELAS Val-Revermont 1370 ...</td>\n",
       "    </tr>\n",
       "    <tr>\n",
       "      <th>1</th>\n",
       "      <td>2021-01-05</td>\n",
       "      <td>Vente</td>\n",
       "      <td>185000.0</td>\n",
       "      <td>1370</td>\n",
       "      <td>Dépendance</td>\n",
       "      <td>NaN</td>\n",
       "      <td>0.0</td>\n",
       "      <td>sols</td>\n",
       "      <td>2410.0</td>\n",
       "      <td>5.386094</td>\n",
       "      <td>46.327140</td>\n",
       "      <td>5080   0471 CHE DE VOGELAS Val-Revermont 1370 ...</td>\n",
       "      <td>1</td>\n",
       "      <td>5080   0471 CHE DE VOGELAS Val-Revermont 1370 ...</td>\n",
       "    </tr>\n",
       "    <tr>\n",
       "      <th>2</th>\n",
       "      <td>2021-01-06</td>\n",
       "      <td>Vente</td>\n",
       "      <td>10.0</td>\n",
       "      <td>1290</td>\n",
       "      <td>NaN</td>\n",
       "      <td>NaN</td>\n",
       "      <td>NaN</td>\n",
       "      <td>culture</td>\n",
       "      <td>530.0</td>\n",
       "      <td>4.844368</td>\n",
       "      <td>46.224233</td>\n",
       "      <td>0   B043 ROUGEMONT Bey 1290 France</td>\n",
       "      <td>1</td>\n",
       "      <td>0   B043 ROUGEMONT Bey 1290 France le 2021-01-06</td>\n",
       "    </tr>\n",
       "    <tr>\n",
       "      <th>3</th>\n",
       "      <td>2021-01-04</td>\n",
       "      <td>Vente</td>\n",
       "      <td>204332.0</td>\n",
       "      <td>1310</td>\n",
       "      <td>Maison</td>\n",
       "      <td>88.0</td>\n",
       "      <td>4.0</td>\n",
       "      <td>sols</td>\n",
       "      <td>866.0</td>\n",
       "      <td>5.157688</td>\n",
       "      <td>46.200988</td>\n",
       "      <td>7   0276 ALL DES ECUREUILS Buellas 1310 France</td>\n",
       "      <td>1</td>\n",
       "      <td>7   0276 ALL DES ECUREUILS Buellas 1310 France...</td>\n",
       "    </tr>\n",
       "  </tbody>\n",
       "</table>\n",
       "</div>"
      ],
      "text/plain": [
       "  date_mutation nature_mutation  valeur_fonciere  code_postal  type_local  \\\n",
       "0    2021-01-05           Vente         185000.0         1370      Maison   \n",
       "1    2021-01-05           Vente         185000.0         1370  Dépendance   \n",
       "2    2021-01-06           Vente             10.0         1290         NaN   \n",
       "3    2021-01-04           Vente         204332.0         1310      Maison   \n",
       "\n",
       "   surface_reelle_bati  nombre_pieces_principales nature_culture  \\\n",
       "0                 97.0                        5.0           sols   \n",
       "1                  NaN                        0.0           sols   \n",
       "2                  NaN                        NaN        culture   \n",
       "3                 88.0                        4.0           sols   \n",
       "\n",
       "   surface_terrain  longitude   latitude  \\\n",
       "0           2410.0   5.386094  46.327140   \n",
       "1           2410.0   5.386094  46.327140   \n",
       "2            530.0   4.844368  46.224233   \n",
       "3            866.0   5.157688  46.200988   \n",
       "\n",
       "                                             adresse code_departement  \\\n",
       "0  5080   0471 CHE DE VOGELAS Val-Revermont 1370 ...                1   \n",
       "1  5080   0471 CHE DE VOGELAS Val-Revermont 1370 ...                1   \n",
       "2                 0   B043 ROUGEMONT Bey 1290 France                1   \n",
       "3     7   0276 ALL DES ECUREUILS Buellas 1310 France                1   \n",
       "\n",
       "                             identifiant_transaction  \n",
       "0  5080   0471 CHE DE VOGELAS Val-Revermont 1370 ...  \n",
       "1  5080   0471 CHE DE VOGELAS Val-Revermont 1370 ...  \n",
       "2   0   B043 ROUGEMONT Bey 1290 France le 2021-01-06  \n",
       "3  7   0276 ALL DES ECUREUILS Buellas 1310 France...  "
      ]
     },
     "metadata": {},
     "output_type": "display_data"
    },
    {
     "data": {
      "text/plain": [
       "'Les quatre dernières lignes'"
      ]
     },
     "metadata": {},
     "output_type": "display_data"
    },
    {
     "data": {
      "text/html": [
       "<div>\n",
       "<style scoped>\n",
       "    .dataframe tbody tr th:only-of-type {\n",
       "        vertical-align: middle;\n",
       "    }\n",
       "\n",
       "    .dataframe tbody tr th {\n",
       "        vertical-align: top;\n",
       "    }\n",
       "\n",
       "    .dataframe thead th {\n",
       "        text-align: right;\n",
       "    }\n",
       "</style>\n",
       "<table border=\"1\" class=\"dataframe\">\n",
       "  <thead>\n",
       "    <tr style=\"text-align: right;\">\n",
       "      <th></th>\n",
       "      <th>date_mutation</th>\n",
       "      <th>nature_mutation</th>\n",
       "      <th>valeur_fonciere</th>\n",
       "      <th>code_postal</th>\n",
       "      <th>type_local</th>\n",
       "      <th>surface_reelle_bati</th>\n",
       "      <th>nombre_pieces_principales</th>\n",
       "      <th>nature_culture</th>\n",
       "      <th>surface_terrain</th>\n",
       "      <th>longitude</th>\n",
       "      <th>latitude</th>\n",
       "      <th>adresse</th>\n",
       "      <th>code_departement</th>\n",
       "      <th>identifiant_transaction</th>\n",
       "    </tr>\n",
       "  </thead>\n",
       "  <tbody>\n",
       "    <tr>\n",
       "      <th>1210565</th>\n",
       "      <td>2021-03-17</td>\n",
       "      <td>Vente</td>\n",
       "      <td>260000.0</td>\n",
       "      <td>75002</td>\n",
       "      <td>Appartement</td>\n",
       "      <td>37.0</td>\n",
       "      <td>2.0</td>\n",
       "      <td>NaN</td>\n",
       "      <td>NaN</td>\n",
       "      <td>2.350774</td>\n",
       "      <td>48.868450</td>\n",
       "      <td>8   8561 RUE SAINTE FOY Paris 2e Arrondissemen...</td>\n",
       "      <td>75</td>\n",
       "      <td>8   8561 RUE SAINTE FOY Paris 2e Arrondissemen...</td>\n",
       "    </tr>\n",
       "    <tr>\n",
       "      <th>1210566</th>\n",
       "      <td>2021-03-19</td>\n",
       "      <td>Vente</td>\n",
       "      <td>38000.0</td>\n",
       "      <td>75004</td>\n",
       "      <td>Dépendance</td>\n",
       "      <td>NaN</td>\n",
       "      <td>0.0</td>\n",
       "      <td>NaN</td>\n",
       "      <td>NaN</td>\n",
       "      <td>2.357623</td>\n",
       "      <td>48.858041</td>\n",
       "      <td>6   4398 RUE DES GUILLEMITES Paris 4e Arrondis...</td>\n",
       "      <td>75</td>\n",
       "      <td>6   4398 RUE DES GUILLEMITES Paris 4e Arrondis...</td>\n",
       "    </tr>\n",
       "    <tr>\n",
       "      <th>1210567</th>\n",
       "      <td>2021-03-30</td>\n",
       "      <td>Vente</td>\n",
       "      <td>38000.0</td>\n",
       "      <td>75004</td>\n",
       "      <td>Dépendance</td>\n",
       "      <td>NaN</td>\n",
       "      <td>0.0</td>\n",
       "      <td>NaN</td>\n",
       "      <td>NaN</td>\n",
       "      <td>2.365430</td>\n",
       "      <td>48.852861</td>\n",
       "      <td>30   7338 RUE DU PETIT MUSC Paris 4e Arrondiss...</td>\n",
       "      <td>75</td>\n",
       "      <td>30   7338 RUE DU PETIT MUSC Paris 4e Arrondiss...</td>\n",
       "    </tr>\n",
       "    <tr>\n",
       "      <th>1210568</th>\n",
       "      <td>2021-03-19</td>\n",
       "      <td>Vente</td>\n",
       "      <td>690000.0</td>\n",
       "      <td>75002</td>\n",
       "      <td>Local industriel. commercial ou assimilé</td>\n",
       "      <td>56.0</td>\n",
       "      <td>0.0</td>\n",
       "      <td>NaN</td>\n",
       "      <td>NaN</td>\n",
       "      <td>2.345110</td>\n",
       "      <td>48.868196</td>\n",
       "      <td>3   8659 RUE SAINT-JOSEPH Paris 2e Arrondissem...</td>\n",
       "      <td>75</td>\n",
       "      <td>3   8659 RUE SAINT-JOSEPH Paris 2e Arrondissem...</td>\n",
       "    </tr>\n",
       "  </tbody>\n",
       "</table>\n",
       "</div>"
      ],
      "text/plain": [
       "        date_mutation nature_mutation  valeur_fonciere  code_postal  \\\n",
       "1210565    2021-03-17           Vente         260000.0        75002   \n",
       "1210566    2021-03-19           Vente          38000.0        75004   \n",
       "1210567    2021-03-30           Vente          38000.0        75004   \n",
       "1210568    2021-03-19           Vente         690000.0        75002   \n",
       "\n",
       "                                       type_local  surface_reelle_bati  \\\n",
       "1210565                               Appartement                 37.0   \n",
       "1210566                                Dépendance                  NaN   \n",
       "1210567                                Dépendance                  NaN   \n",
       "1210568  Local industriel. commercial ou assimilé                 56.0   \n",
       "\n",
       "         nombre_pieces_principales nature_culture  surface_terrain  longitude  \\\n",
       "1210565                        2.0            NaN              NaN   2.350774   \n",
       "1210566                        0.0            NaN              NaN   2.357623   \n",
       "1210567                        0.0            NaN              NaN   2.365430   \n",
       "1210568                        0.0            NaN              NaN   2.345110   \n",
       "\n",
       "          latitude                                            adresse  \\\n",
       "1210565  48.868450  8   8561 RUE SAINTE FOY Paris 2e Arrondissemen...   \n",
       "1210566  48.858041  6   4398 RUE DES GUILLEMITES Paris 4e Arrondis...   \n",
       "1210567  48.852861  30   7338 RUE DU PETIT MUSC Paris 4e Arrondiss...   \n",
       "1210568  48.868196  3   8659 RUE SAINT-JOSEPH Paris 2e Arrondissem...   \n",
       "\n",
       "        code_departement                            identifiant_transaction  \n",
       "1210565               75  8   8561 RUE SAINTE FOY Paris 2e Arrondissemen...  \n",
       "1210566               75  6   4398 RUE DES GUILLEMITES Paris 4e Arrondis...  \n",
       "1210567               75  30   7338 RUE DU PETIT MUSC Paris 4e Arrondiss...  \n",
       "1210568               75  3   8659 RUE SAINT-JOSEPH Paris 2e Arrondissem...  "
      ]
     },
     "execution_count": 7,
     "metadata": {},
     "output_type": "execute_result"
    }
   ],
   "source": [
    "# Création de table_vf :\n",
    "\n",
    "# On crée le dataframe table_vf qui sera la version finale (vf) de notre dataset\n",
    "colonnes = [\"date_mutation\", \"nature_mutation\", \"valeur_fonciere\", \"code_postal\", 'type_local',\n",
    "            'surface_reelle_bati', 'nombre_pieces_principales', 'nature_culture', 'surface_terrain', 'longitude', \n",
    "            'latitude', 'adresse', 'code_departement', 'identifiant_transaction']\n",
    "table_vf = table[colonnes].copy()\n",
    "\n",
    "# On agrège les types de cultures différents de NaN, sols, terrain à bâtir et  : on les renomme \"culture\"\n",
    "culture_type = ['taillis simples', 'eaux', 'landes', 'taillis sous futaie', 'prés', 'terres', 'peupleraies', \n",
    "                'vignes', 'bois', 'vergers', 'carrières', 'futaies résineuses', 'pâtures', 'futaies feuillues', \n",
    "                'futaies mixtes', 'chemin de fer', 'oseraies', 'pacages', 'prés plantes', 'terres plantées', \n",
    "                'landes boisées', 'herbages', \"prés d'embouche\"]\n",
    "for x in culture_type:\n",
    "    table_vf.loc[table_vf[\"nature_culture\"] == x, \"nature_culture\"] = \"culture\"\n",
    "\n",
    "# Visualisation de table_vf\n",
    "display(table_vf.shape)\n",
    "display(\"Les quatre premières lignes\")\n",
    "display(table_vf.head(4))\n",
    "display(\"Les quatre dernières lignes\")\n",
    "table_vf.tail(4)"
   ]
  },
  {
   "cell_type": "markdown",
   "id": "1798b71c-26a5-49ed-b848-129ab0da7ad3",
   "metadata": {},
   "source": [
    "**1.3.1. Création de deux dataframes**"
   ]
  },
  {
   "cell_type": "code",
   "execution_count": 8,
   "id": "fb5119c9-a237-4d10-81e9-301351c2f6c8",
   "metadata": {},
   "outputs": [
    {
     "name": "stdout",
     "output_type": "stream",
     "text": [
      "Taille de table_vf_uni :\n",
      "(1210569, 14)\n",
      "Voici à quoi ressemble dup_id :\n"
     ]
    },
    {
     "data": {
      "text/html": [
       "<div>\n",
       "<style scoped>\n",
       "    .dataframe tbody tr th:only-of-type {\n",
       "        vertical-align: middle;\n",
       "    }\n",
       "\n",
       "    .dataframe tbody tr th {\n",
       "        vertical-align: top;\n",
       "    }\n",
       "\n",
       "    .dataframe thead th {\n",
       "        text-align: right;\n",
       "    }\n",
       "</style>\n",
       "<table border=\"1\" class=\"dataframe\">\n",
       "  <thead>\n",
       "    <tr style=\"text-align: right;\">\n",
       "      <th></th>\n",
       "      <th>identifiant_transaction</th>\n",
       "      <th>0</th>\n",
       "    </tr>\n",
       "  </thead>\n",
       "  <tbody>\n",
       "    <tr>\n",
       "      <th>63637</th>\n",
       "      <td>0   B090 MORILLON Chêne-en-Semine 74270 France...</td>\n",
       "      <td>2</td>\n",
       "    </tr>\n",
       "    <tr>\n",
       "      <th>129670</th>\n",
       "      <td>15   0390 BD DE LORRAINE Vaires-sur-Marne 7736...</td>\n",
       "      <td>2</td>\n",
       "    </tr>\n",
       "    <tr>\n",
       "      <th>55049</th>\n",
       "      <td>0   B065 BREDASQUE Aix-en-Provence 13090 Franc...</td>\n",
       "      <td>3</td>\n",
       "    </tr>\n",
       "    <tr>\n",
       "      <th>239303</th>\n",
       "      <td>68   8356 BD SILVIO TRENTIN Toulouse 31200 Fra...</td>\n",
       "      <td>2</td>\n",
       "    </tr>\n",
       "    <tr>\n",
       "      <th>212313</th>\n",
       "      <td>5   4875 RUE JULES STEEG Bordeaux 33800 France...</td>\n",
       "      <td>2</td>\n",
       "    </tr>\n",
       "  </tbody>\n",
       "</table>\n",
       "</div>"
      ],
      "text/plain": [
       "                                  identifiant_transaction  0\n",
       "63637   0   B090 MORILLON Chêne-en-Semine 74270 France...  2\n",
       "129670  15   0390 BD DE LORRAINE Vaires-sur-Marne 7736...  2\n",
       "55049   0   B065 BREDASQUE Aix-en-Provence 13090 Franc...  3\n",
       "239303  68   8356 BD SILVIO TRENTIN Toulouse 31200 Fra...  2\n",
       "212313  5   4875 RUE JULES STEEG Bordeaux 33800 France...  2"
      ]
     },
     "metadata": {},
     "output_type": "display_data"
    },
    {
     "name": "stdout",
     "output_type": "stream",
     "text": [
      "Voici à quoi ressemble table_vf_dup :\n"
     ]
    },
    {
     "data": {
      "text/html": [
       "<div>\n",
       "<style scoped>\n",
       "    .dataframe tbody tr th:only-of-type {\n",
       "        vertical-align: middle;\n",
       "    }\n",
       "\n",
       "    .dataframe tbody tr th {\n",
       "        vertical-align: top;\n",
       "    }\n",
       "\n",
       "    .dataframe thead th {\n",
       "        text-align: right;\n",
       "    }\n",
       "</style>\n",
       "<table border=\"1\" class=\"dataframe\">\n",
       "  <thead>\n",
       "    <tr style=\"text-align: right;\">\n",
       "      <th></th>\n",
       "      <th>date_mutation</th>\n",
       "      <th>nature_mutation</th>\n",
       "      <th>valeur_fonciere</th>\n",
       "      <th>code_postal</th>\n",
       "      <th>type_local</th>\n",
       "      <th>surface_reelle_bati</th>\n",
       "      <th>nombre_pieces_principales</th>\n",
       "      <th>nature_culture</th>\n",
       "      <th>surface_terrain</th>\n",
       "      <th>longitude</th>\n",
       "      <th>latitude</th>\n",
       "      <th>adresse</th>\n",
       "      <th>code_departement</th>\n",
       "      <th>identifiant_transaction</th>\n",
       "    </tr>\n",
       "  </thead>\n",
       "  <tbody>\n",
       "    <tr>\n",
       "      <th>0</th>\n",
       "      <td>2021-01-05</td>\n",
       "      <td>Vente</td>\n",
       "      <td>185000.0</td>\n",
       "      <td>1370</td>\n",
       "      <td>Maison</td>\n",
       "      <td>97.0</td>\n",
       "      <td>5.0</td>\n",
       "      <td>sols</td>\n",
       "      <td>2410.0</td>\n",
       "      <td>5.386094</td>\n",
       "      <td>46.327140</td>\n",
       "      <td>5080   0471 CHE DE VOGELAS Val-Revermont 1370 ...</td>\n",
       "      <td>1</td>\n",
       "      <td>5080   0471 CHE DE VOGELAS Val-Revermont 1370 ...</td>\n",
       "    </tr>\n",
       "    <tr>\n",
       "      <th>1</th>\n",
       "      <td>2021-01-05</td>\n",
       "      <td>Vente</td>\n",
       "      <td>185000.0</td>\n",
       "      <td>1370</td>\n",
       "      <td>Dépendance</td>\n",
       "      <td>NaN</td>\n",
       "      <td>0.0</td>\n",
       "      <td>sols</td>\n",
       "      <td>2410.0</td>\n",
       "      <td>5.386094</td>\n",
       "      <td>46.327140</td>\n",
       "      <td>5080   0471 CHE DE VOGELAS Val-Revermont 1370 ...</td>\n",
       "      <td>1</td>\n",
       "      <td>5080   0471 CHE DE VOGELAS Val-Revermont 1370 ...</td>\n",
       "    </tr>\n",
       "    <tr>\n",
       "      <th>4</th>\n",
       "      <td>2021-01-06</td>\n",
       "      <td>Vente</td>\n",
       "      <td>320000.0</td>\n",
       "      <td>1250</td>\n",
       "      <td>Maison</td>\n",
       "      <td>168.0</td>\n",
       "      <td>5.0</td>\n",
       "      <td>sols</td>\n",
       "      <td>1426.0</td>\n",
       "      <td>5.273260</td>\n",
       "      <td>46.156334</td>\n",
       "      <td>87   0140 RTE DE CERTINES Montagnat 1250 France</td>\n",
       "      <td>1</td>\n",
       "      <td>87   0140 RTE DE CERTINES Montagnat 1250 Franc...</td>\n",
       "    </tr>\n",
       "    <tr>\n",
       "      <th>5</th>\n",
       "      <td>2021-01-06</td>\n",
       "      <td>Vente</td>\n",
       "      <td>320000.0</td>\n",
       "      <td>1250</td>\n",
       "      <td>Dépendance</td>\n",
       "      <td>NaN</td>\n",
       "      <td>0.0</td>\n",
       "      <td>sols</td>\n",
       "      <td>1426.0</td>\n",
       "      <td>5.273260</td>\n",
       "      <td>46.156334</td>\n",
       "      <td>87   0140 RTE DE CERTINES Montagnat 1250 France</td>\n",
       "      <td>1</td>\n",
       "      <td>87   0140 RTE DE CERTINES Montagnat 1250 Franc...</td>\n",
       "    </tr>\n",
       "    <tr>\n",
       "      <th>7</th>\n",
       "      <td>2021-01-04</td>\n",
       "      <td>Vente</td>\n",
       "      <td>176000.0</td>\n",
       "      <td>1000</td>\n",
       "      <td>Dépendance</td>\n",
       "      <td>NaN</td>\n",
       "      <td>0.0</td>\n",
       "      <td>NaN</td>\n",
       "      <td>NaN</td>\n",
       "      <td>5.200117</td>\n",
       "      <td>46.210292</td>\n",
       "      <td>210   0820 RUE GEORGE SAND Saint-Denis-lès-Bou...</td>\n",
       "      <td>1</td>\n",
       "      <td>210   0820 RUE GEORGE SAND Saint-Denis-lès-Bou...</td>\n",
       "    </tr>\n",
       "  </tbody>\n",
       "</table>\n",
       "</div>"
      ],
      "text/plain": [
       "  date_mutation nature_mutation  valeur_fonciere  code_postal  type_local  \\\n",
       "0    2021-01-05           Vente         185000.0         1370      Maison   \n",
       "1    2021-01-05           Vente         185000.0         1370  Dépendance   \n",
       "4    2021-01-06           Vente         320000.0         1250      Maison   \n",
       "5    2021-01-06           Vente         320000.0         1250  Dépendance   \n",
       "7    2021-01-04           Vente         176000.0         1000  Dépendance   \n",
       "\n",
       "   surface_reelle_bati  nombre_pieces_principales nature_culture  \\\n",
       "0                 97.0                        5.0           sols   \n",
       "1                  NaN                        0.0           sols   \n",
       "4                168.0                        5.0           sols   \n",
       "5                  NaN                        0.0           sols   \n",
       "7                  NaN                        0.0            NaN   \n",
       "\n",
       "   surface_terrain  longitude   latitude  \\\n",
       "0           2410.0   5.386094  46.327140   \n",
       "1           2410.0   5.386094  46.327140   \n",
       "4           1426.0   5.273260  46.156334   \n",
       "5           1426.0   5.273260  46.156334   \n",
       "7              NaN   5.200117  46.210292   \n",
       "\n",
       "                                             adresse code_departement  \\\n",
       "0  5080   0471 CHE DE VOGELAS Val-Revermont 1370 ...                1   \n",
       "1  5080   0471 CHE DE VOGELAS Val-Revermont 1370 ...                1   \n",
       "4    87   0140 RTE DE CERTINES Montagnat 1250 France                1   \n",
       "5    87   0140 RTE DE CERTINES Montagnat 1250 France                1   \n",
       "7  210   0820 RUE GEORGE SAND Saint-Denis-lès-Bou...                1   \n",
       "\n",
       "                             identifiant_transaction  \n",
       "0  5080   0471 CHE DE VOGELAS Val-Revermont 1370 ...  \n",
       "1  5080   0471 CHE DE VOGELAS Val-Revermont 1370 ...  \n",
       "4  87   0140 RTE DE CERTINES Montagnat 1250 Franc...  \n",
       "5  87   0140 RTE DE CERTINES Montagnat 1250 Franc...  \n",
       "7  210   0820 RUE GEORGE SAND Saint-Denis-lès-Bou...  "
      ]
     },
     "metadata": {},
     "output_type": "display_data"
    },
    {
     "name": "stdout",
     "output_type": "stream",
     "text": [
      "Taille de table_vf_dup :\n"
     ]
    },
    {
     "data": {
      "text/plain": [
       "(823100, 14)"
      ]
     },
     "metadata": {},
     "output_type": "display_data"
    },
    {
     "name": "stdout",
     "output_type": "stream",
     "text": [
      "Voici à quoi ressemble table_vf_uni :\n"
     ]
    },
    {
     "data": {
      "text/html": [
       "<div>\n",
       "<style scoped>\n",
       "    .dataframe tbody tr th:only-of-type {\n",
       "        vertical-align: middle;\n",
       "    }\n",
       "\n",
       "    .dataframe tbody tr th {\n",
       "        vertical-align: top;\n",
       "    }\n",
       "\n",
       "    .dataframe thead th {\n",
       "        text-align: right;\n",
       "    }\n",
       "</style>\n",
       "<table border=\"1\" class=\"dataframe\">\n",
       "  <thead>\n",
       "    <tr style=\"text-align: right;\">\n",
       "      <th></th>\n",
       "      <th>date_mutation</th>\n",
       "      <th>nature_mutation</th>\n",
       "      <th>valeur_fonciere</th>\n",
       "      <th>code_postal</th>\n",
       "      <th>type_local</th>\n",
       "      <th>surface_reelle_bati</th>\n",
       "      <th>nombre_pieces_principales</th>\n",
       "      <th>nature_culture</th>\n",
       "      <th>surface_terrain</th>\n",
       "      <th>longitude</th>\n",
       "      <th>latitude</th>\n",
       "      <th>adresse</th>\n",
       "      <th>code_departement</th>\n",
       "      <th>identifiant_transaction</th>\n",
       "    </tr>\n",
       "  </thead>\n",
       "  <tbody>\n",
       "    <tr>\n",
       "      <th>597687</th>\n",
       "      <td>2021-05-25</td>\n",
       "      <td>Vente</td>\n",
       "      <td>10000.0</td>\n",
       "      <td>52220</td>\n",
       "      <td>NaN</td>\n",
       "      <td>NaN</td>\n",
       "      <td>NaN</td>\n",
       "      <td>culture</td>\n",
       "      <td>15640.0</td>\n",
       "      <td>4.826634</td>\n",
       "      <td>48.436958</td>\n",
       "      <td>0   B176 PIECE DE LA MARE La Porte du Der 5222...</td>\n",
       "      <td>52</td>\n",
       "      <td>0   B176 PIECE DE LA MARE La Porte du Der 5222...</td>\n",
       "    </tr>\n",
       "    <tr>\n",
       "      <th>823877</th>\n",
       "      <td>2021-03-24</td>\n",
       "      <td>Vente</td>\n",
       "      <td>155000.0</td>\n",
       "      <td>73100</td>\n",
       "      <td>Appartement</td>\n",
       "      <td>66.0</td>\n",
       "      <td>3.0</td>\n",
       "      <td>NaN</td>\n",
       "      <td>NaN</td>\n",
       "      <td>5.911058</td>\n",
       "      <td>45.702133</td>\n",
       "      <td>2   1075 RUE D IENA Aix-les-Bains 73100 France</td>\n",
       "      <td>73</td>\n",
       "      <td>2   1075 RUE D IENA Aix-les-Bains 73100 France...</td>\n",
       "    </tr>\n",
       "    <tr>\n",
       "      <th>60797</th>\n",
       "      <td>2021-02-09</td>\n",
       "      <td>Vente</td>\n",
       "      <td>300000.0</td>\n",
       "      <td>6250</td>\n",
       "      <td>NaN</td>\n",
       "      <td>NaN</td>\n",
       "      <td>NaN</td>\n",
       "      <td>terrains a bâtir</td>\n",
       "      <td>380.0</td>\n",
       "      <td>6.984499</td>\n",
       "      <td>43.582243</td>\n",
       "      <td>0   0110 CHE DES CABRIERES Mougins 6250 France</td>\n",
       "      <td>6</td>\n",
       "      <td>0   0110 CHE DES CABRIERES Mougins 6250 France...</td>\n",
       "    </tr>\n",
       "    <tr>\n",
       "      <th>447141</th>\n",
       "      <td>2021-02-17</td>\n",
       "      <td>Vente</td>\n",
       "      <td>75000.0</td>\n",
       "      <td>41160</td>\n",
       "      <td>Maison</td>\n",
       "      <td>92.0</td>\n",
       "      <td>2.0</td>\n",
       "      <td>sols</td>\n",
       "      <td>570.0</td>\n",
       "      <td>1.342316</td>\n",
       "      <td>47.941652</td>\n",
       "      <td>3   0029 RUE DU MOULIN A VENT Ouzouer-le-Doyen...</td>\n",
       "      <td>41</td>\n",
       "      <td>3   0029 RUE DU MOULIN A VENT Ouzouer-le-Doyen...</td>\n",
       "    </tr>\n",
       "    <tr>\n",
       "      <th>146367</th>\n",
       "      <td>2021-06-03</td>\n",
       "      <td>Vente</td>\n",
       "      <td>97277.0</td>\n",
       "      <td>16330</td>\n",
       "      <td>NaN</td>\n",
       "      <td>NaN</td>\n",
       "      <td>NaN</td>\n",
       "      <td>culture</td>\n",
       "      <td>4180.0</td>\n",
       "      <td>0.112731</td>\n",
       "      <td>45.738224</td>\n",
       "      <td>0   B023 LES BUISSONS Vars 16330 France</td>\n",
       "      <td>16</td>\n",
       "      <td>0   B023 LES BUISSONS Vars 16330 France le 202...</td>\n",
       "    </tr>\n",
       "  </tbody>\n",
       "</table>\n",
       "</div>"
      ],
      "text/plain": [
       "       date_mutation nature_mutation  valeur_fonciere  code_postal  \\\n",
       "597687    2021-05-25           Vente          10000.0        52220   \n",
       "823877    2021-03-24           Vente         155000.0        73100   \n",
       "60797     2021-02-09           Vente         300000.0         6250   \n",
       "447141    2021-02-17           Vente          75000.0        41160   \n",
       "146367    2021-06-03           Vente          97277.0        16330   \n",
       "\n",
       "         type_local  surface_reelle_bati  nombre_pieces_principales  \\\n",
       "597687          NaN                  NaN                        NaN   \n",
       "823877  Appartement                 66.0                        3.0   \n",
       "60797           NaN                  NaN                        NaN   \n",
       "447141       Maison                 92.0                        2.0   \n",
       "146367          NaN                  NaN                        NaN   \n",
       "\n",
       "          nature_culture  surface_terrain  longitude   latitude  \\\n",
       "597687           culture          15640.0   4.826634  48.436958   \n",
       "823877               NaN              NaN   5.911058  45.702133   \n",
       "60797   terrains a bâtir            380.0   6.984499  43.582243   \n",
       "447141              sols            570.0   1.342316  47.941652   \n",
       "146367           culture           4180.0   0.112731  45.738224   \n",
       "\n",
       "                                                  adresse code_departement  \\\n",
       "597687  0   B176 PIECE DE LA MARE La Porte du Der 5222...               52   \n",
       "823877     2   1075 RUE D IENA Aix-les-Bains 73100 France               73   \n",
       "60797      0   0110 CHE DES CABRIERES Mougins 6250 France                6   \n",
       "447141  3   0029 RUE DU MOULIN A VENT Ouzouer-le-Doyen...               41   \n",
       "146367            0   B023 LES BUISSONS Vars 16330 France               16   \n",
       "\n",
       "                                  identifiant_transaction  \n",
       "597687  0   B176 PIECE DE LA MARE La Porte du Der 5222...  \n",
       "823877  2   1075 RUE D IENA Aix-les-Bains 73100 France...  \n",
       "60797   0   0110 CHE DES CABRIERES Mougins 6250 France...  \n",
       "447141  3   0029 RUE DU MOULIN A VENT Ouzouer-le-Doyen...  \n",
       "146367  0   B023 LES BUISSONS Vars 16330 France le 202...  "
      ]
     },
     "metadata": {},
     "output_type": "display_data"
    },
    {
     "name": "stdout",
     "output_type": "stream",
     "text": [
      "Taille de table_vf_uni :\n"
     ]
    },
    {
     "data": {
      "text/plain": [
       "(387469, 14)"
      ]
     },
     "metadata": {},
     "output_type": "display_data"
    }
   ],
   "source": [
    "# On crée deux dataframes :\n",
    "# * un dataframe avec les transactions non dupliquées\n",
    "# * un dataframe avec les transactions dupliquées (sur lequel il faudra travailler pour parvenir à : une transaction = une ligne)\n",
    "\n",
    "table_vf_dup = table_vf.copy()\n",
    "table_vf_uni = table_vf.copy()\n",
    "print(\"Taille de table_vf_uni :\")\n",
    "print(table_vf_uni.shape)\n",
    "\n",
    "# On récupère les indices des transactions dupliquées (pour lesquelles il y a \n",
    "dup_id = table_vf_dup.groupby('identifiant_transaction').size()\n",
    "dup_id = dup_id[dup_id > 1]\n",
    "dup_id = dup_id.reset_index()\n",
    "print(\"Voici à quoi ressemble dup_id :\")\n",
    "display(dup_id.sample(5))\n",
    "\n",
    "table_vf_dup = table_vf_dup[table_vf_dup['identifiant_transaction'].isin(dup_id[\"identifiant_transaction\"])]\n",
    "print(\"Voici à quoi ressemble table_vf_dup :\")\n",
    "display(table_vf_dup.head())\n",
    "print(\"Taille de table_vf_dup :\")\n",
    "display(table_vf_dup.shape)\n",
    "\n",
    "table_vf_uni = table_vf_uni[~table_vf_uni['identifiant_transaction'].isin(dup_id[\"identifiant_transaction\"])]\n",
    "print(\"Voici à quoi ressemble table_vf_uni :\")\n",
    "display(table_vf_uni.sample(5))\n",
    "print(\"Taille de table_vf_uni :\")\n",
    "display(table_vf_uni.shape)"
   ]
  },
  {
   "cell_type": "markdown",
   "id": "74a8533a-b703-43eb-8a73-510b675f7a05",
   "metadata": {},
   "source": [
    "### Rapport de mi-parcours pre-processing :"
   ]
  },
  {
   "cell_type": "markdown",
   "id": "9a603a5c-bb99-4771-96df-f377d5119092",
   "metadata": {},
   "source": [
    "Jusqu'ici, nous avons obtenu que :\n",
    "* le dataset initial (1 210 569 lignes) comporte **des erreurs qui nous empêchent de l'exploiter directement** ;\n",
    "* en effet, on distingue les transactions qui n'ont fait l'objet que d'**une seule ligne** (car il n'y avait pas de bien secondaire) des transactions qui font l'objet de **plusieurs lignes** (car il y a un ou plusieurs biens secondaires) : au total il n'y a eu que **654 843 transactions** (soit environ 1,85 lignes par transaction en moyenne).\n",
    "\n",
    "Nous avons ainsi créé **deux datasets** :\n",
    "* un dataset (**table_vf_uni**) avec uniquement les transactions n'ayant fait l'objet que d'une seule ligne (387 469 lignes) ;\n",
    "* un dataset (**table_vf_dup**) avec uniquement les transactions ayant fait l'objet de plusieurs lignes (823 100 lignes).\n",
    "\n",
    "Ainsi, nous avons désormais **deux options** :\n",
    "* nous pouvons *entraîner notre algorithme de pricing sur les transactions n'ayant fait l'objet que d'une seule ligne* (cela exclut par exemple les appartements avec une cave, les maisons avec un jardin d'agrément, etc.) -> cela représente tout de même près de 400 000 transactions en 2021 (60 % des transactions environ).\n",
    "* nous *continuons notre travail de preprocessing pour traiter le dataset table_vf_dup* avec les transactions dupliquées (40 % des transactions environ).\n",
    "\n",
    "Comme le traitement du dataset des transactions dupliquées est compliqué, nous avons choisi d'**étudier les deux possibilités** :\n",
    "* d'abord il conviendra de vérifier que les transactions ayant fait l'objet d'une ligne unique sont **représentatives du marché immobilier français** avant d'entraîner notre algorithme avec,\n",
    "* ensuite, nous pourrons **traiter le dataset des transactions dupliquées** et réentraîner notre algorithme avec ces nouvelles données.\n",
    "* nous pourrons enfin **comparer les performances des deux modèles**."
   ]
  },
  {
   "cell_type": "markdown",
   "id": "24f8cdc9-b792-4dda-9b4f-7f53bb53fa81",
   "metadata": {},
   "source": [
    "**1.3.2. Traitement du dataset de transactions dupliquées :**"
   ]
  },
  {
   "cell_type": "code",
   "execution_count": 9,
   "id": "9cd34098-32aa-48a9-a82b-796da0627a17",
   "metadata": {},
   "outputs": [
    {
     "name": "stdout",
     "output_type": "stream",
     "text": [
      "* Différentes valeurs dans 'type_local' :\n"
     ]
    },
    {
     "data": {
      "text/plain": [
       "array(['Maison', 'Dépendance', 'Appartement', nan,\n",
       "       'Local industriel. commercial ou assimilé'], dtype=object)"
      ]
     },
     "metadata": {},
     "output_type": "display_data"
    },
    {
     "name": "stdout",
     "output_type": "stream",
     "text": [
      "* Différentes valeurs dans 'nature_culture' :\n"
     ]
    },
    {
     "data": {
      "text/plain": [
       "array(['sols', nan, 'culture', 'terrains a bâtir', 'jardins',\n",
       "       \"terrains d'agrément\"], dtype=object)"
      ]
     },
     "metadata": {},
     "output_type": "display_data"
    }
   ],
   "source": [
    "# Visualisation des colonnes principales d'intérêt pour le preprocessing :\n",
    "\n",
    "print(\"* Différentes valeurs dans 'type_local' :\")\n",
    "display(table_vf_dup['type_local'].unique())\n",
    "print(\"* Différentes valeurs dans 'nature_culture' :\")\n",
    "display(table_vf_dup['nature_culture'].unique())"
   ]
  },
  {
   "cell_type": "code",
   "execution_count": 10,
   "id": "f0a9de5c-cc6e-4a87-957c-98be905ea7af",
   "metadata": {},
   "outputs": [],
   "source": [
    "# Objectif : créer des colonnes pour stocker les valeurs des biens secondaires (jardin, terrain à bâtir, dépendance, etc.)\n",
    "# On veut le nombre de m2 de la culture (s'il ne s'agit pas d'un jardin / terrain d'agrément ou d'un terrain à bâtir), \n",
    "# On veut aussi le nombre de m2 du local (une dépendance ou un local industriel, par exemple), du terrain à bâtir et du jardin\n",
    "\n",
    "table_vf_dup[\"culture_m2\"] = 0\n",
    "table_vf_dup[\"jardin_m2\"] = 0\n",
    "table_vf_dup[\"terrains_a_bâtir_m2\"] = 0\n",
    "table_vf_dup[\"dependance_m2\"] = 0"
   ]
  },
  {
   "cell_type": "code",
   "execution_count": 11,
   "id": "891701ea",
   "metadata": {},
   "outputs": [],
   "source": [
    "# Création d'une fonction de stockage des valeurs diffuses :\n",
    "\n",
    "def stockage_function(table_vf, table, indexes : list, saved_line_index):\n",
    "    \n",
    "    # On se place sur chaque \"ligne supplémentaire\"\n",
    "    for index in indexes:\n",
    "        \n",
    "        # On regarde d'abord si la nature du bien à la ligne index est la même que celle de la ligne de référence retenue\n",
    "        # S'il s'agit de la même nature de bien, c'est qu'on a eu une duplication (\"le fichier de restitution comportera (n x p) lignes\")\n",
    "        if table.loc[index, \"type_local\"] == table.loc[saved_line_index, \"type_local\"] and table.loc[index, \"type_local\"] != \"Nan\":\n",
    "            return table_vf\n",
    "        \n",
    "        # Sinon, on continue l'exploration...\n",
    "        else:\n",
    "            # On regarde s'il s'agit d'une dépendance ou d'un local industriel ou commercial\n",
    "            if table.loc[index, \"type_local\"] == \"Dépendance\":\n",
    "                if table_vf[\"surface_reelle_bati\"][index] != \"NaN\":\n",
    "                    table_vf[\"dependance_m2\"][saved_line_index] += table_vf[\"surface_reelle_bati\"][index]\n",
    "                if table_vf[\"surface_terrain\"][index] != \"NaN\":\n",
    "                    table_vf[\"dependance_m2\"][saved_line_index] += table_vf[\"surface_terrain\"][index]\n",
    "            elif table_vf_dup.loc[index, \"type_local\"] == \"Local industriel. commercial ou assimilé\":\n",
    "                if table_vf[\"surface_reelle_bati\"][index] != \"NaN\":\n",
    "                    table_vf[\"dependance_m2\"][saved_line_index] += table_vf[\"surface_reelle_bati\"][index]\n",
    "                if table_vf[\"surface_terrain\"][index] != \"NaN\":\n",
    "                    table_vf[\"dependance_m2\"][saved_line_index] += table_vf[\"surface_terrain\"][index]\n",
    "                    \n",
    "            # S'il ne s'agit pas d'une dépendance ou d'un local industriel ou commercial, alors il peut s'agir :\n",
    "            elif table.loc[index, \"type_local\"] == \"NaN\":\n",
    "                # Dans le cas où ça augmente la surface du terrain\n",
    "                if table_vf[\"surface_terrain\"][index] != \"NaN\":\n",
    "                    # D'un jardin\n",
    "                    if table_vf[\"nature_culture\"][index] == \"terrains d'agrément\":\n",
    "                        table_vf[\"jardin_m2\"][saved_line_index] += table_vf[\"surface_terrain\"][index]\n",
    "                    if table_vf[\"nature_culture\"][index] == \"jardins\":\n",
    "                        table_vf[\"jardin_m2\"][saved_line_index] += table_vf[\"surface_terrain\"][index]\n",
    "                    # D'un terrain à bâtir\n",
    "                    if table_vf[\"nature_culture\"][index] == 'sols':\n",
    "                        table_vf[\"terrains_a_bâtir_m2\"][saved_line_index] += table_vf[\"surface_terrain\"][index]\n",
    "                    if table_vf[\"nature_culture\"][index] == 'terrains a bâtir':\n",
    "                        table_vf[\"terrains_a_bâtir_m2\"][saved_line_index] += table_vf[\"surface_terrain\"][index]\n",
    "                    # D'une culture\n",
    "                    if table_vf[\"nature_culture\"][index] == 'culture':\n",
    "                        table_vf[\"culture_m2\"][saved_line_index] += table_vf[\"surface_terrain\"][index]\n",
    "                # Dans le cas où ça augmente la surface réelle du bâtiment\n",
    "                elif table_vf[\"surface_reelle_bati\"][index] != \"NaN\":\n",
    "                    if table_vf[\"nature_culture\"][index] == 'NaN':\n",
    "                        table_vf[\"surface_reelle_bati\"][saved_line_index] += table_vf[\"surface_reelle_bati\"][index]\n",
    "                    if table_vf[\"nature_culture\"][index] == 'sols':\n",
    "                        table_vf[\"surface_reelle_bati\"][saved_line_index] += table_vf[\"surface_reelle_bati\"][index]\n",
    "                else:\n",
    "                    return table_vf\n",
    "                \n",
    "        return table_vf"
   ]
  },
  {
   "cell_type": "code",
   "execution_count": 12,
   "id": "a1bc0e0e-1c68-40a5-afad-2c6b14471999",
   "metadata": {},
   "outputs": [
    {
     "data": {
      "text/plain": [
       "'Taille initiale du dataset :'"
      ]
     },
     "metadata": {},
     "output_type": "display_data"
    },
    {
     "data": {
      "text/plain": [
       "(500, 18)"
      ]
     },
     "metadata": {},
     "output_type": "display_data"
    }
   ],
   "source": [
    "# Ici, on montre à titre d'exemple pour les 500 premières lignes de table_vf_dup...\n",
    "# ... car la fonction met du temps à s'exécuter !\n",
    "# Donc, pour exploiter tout le dataset, il faudra supprimer cette cellule.\n",
    "\n",
    "table_vf_dup = table_vf_dup.copy()[:500]\n",
    "display(\"Taille initiale du dataset :\")\n",
    "display(table_vf_dup.shape)"
   ]
  },
  {
   "cell_type": "code",
   "execution_count": 13,
   "id": "83548769",
   "metadata": {},
   "outputs": [
    {
     "name": "stderr",
     "output_type": "stream",
     "text": [
      "Progression:   0%|          | 0/165 [00:00<?, ?it/s]/opt/conda/lib/python3.9/site-packages/pandas/core/indexing.py:1732: SettingWithCopyWarning: \n",
      "A value is trying to be set on a copy of a slice from a DataFrame\n",
      "\n",
      "See the caveats in the documentation: https://pandas.pydata.org/pandas-docs/stable/user_guide/indexing.html#returning-a-view-versus-a-copy\n",
      "  self._setitem_single_block(indexer, value, name)\n",
      "/tmp/ipykernel_3398/1384247785.py:46: FutureWarning: In a future version of pandas all arguments of DataFrame.drop except for the argument 'labels' will be keyword-only\n",
      "  table_vf_dup.drop(removed_lines_indexes, 0, inplace = True)\n",
      "/tmp/ipykernel_3398/125201547.py:18: SettingWithCopyWarning: \n",
      "A value is trying to be set on a copy of a slice from a DataFrame\n",
      "\n",
      "See the caveats in the documentation: https://pandas.pydata.org/pandas-docs/stable/user_guide/indexing.html#returning-a-view-versus-a-copy\n",
      "  table_vf[\"dependance_m2\"][saved_line_index] += table_vf[\"surface_reelle_bati\"][index]\n",
      "/tmp/ipykernel_3398/125201547.py:20: SettingWithCopyWarning: \n",
      "A value is trying to be set on a copy of a slice from a DataFrame\n",
      "\n",
      "See the caveats in the documentation: https://pandas.pydata.org/pandas-docs/stable/user_guide/indexing.html#returning-a-view-versus-a-copy\n",
      "  table_vf[\"dependance_m2\"][saved_line_index] += table_vf[\"surface_terrain\"][index]\n",
      "/tmp/ipykernel_3398/125201547.py:23: SettingWithCopyWarning: \n",
      "A value is trying to be set on a copy of a slice from a DataFrame\n",
      "\n",
      "See the caveats in the documentation: https://pandas.pydata.org/pandas-docs/stable/user_guide/indexing.html#returning-a-view-versus-a-copy\n",
      "  table_vf[\"dependance_m2\"][saved_line_index] += table_vf[\"surface_reelle_bati\"][index]\n",
      "/tmp/ipykernel_3398/125201547.py:25: SettingWithCopyWarning: \n",
      "A value is trying to be set on a copy of a slice from a DataFrame\n",
      "\n",
      "See the caveats in the documentation: https://pandas.pydata.org/pandas-docs/stable/user_guide/indexing.html#returning-a-view-versus-a-copy\n",
      "  table_vf[\"dependance_m2\"][saved_line_index] += table_vf[\"surface_terrain\"][index]\n",
      "Progression: 100%|██████████| 165/165 [00:00<00:00, 681.38it/s]\n"
     ]
    },
    {
     "data": {
      "text/plain": [
       "'Taille finale du dataset :'"
      ]
     },
     "metadata": {},
     "output_type": "display_data"
    },
    {
     "data": {
      "text/plain": [
       "(165, 18)"
      ]
     },
     "metadata": {},
     "output_type": "display_data"
    },
    {
     "data": {
      "text/html": [
       "<div>\n",
       "<style scoped>\n",
       "    .dataframe tbody tr th:only-of-type {\n",
       "        vertical-align: middle;\n",
       "    }\n",
       "\n",
       "    .dataframe tbody tr th {\n",
       "        vertical-align: top;\n",
       "    }\n",
       "\n",
       "    .dataframe thead th {\n",
       "        text-align: right;\n",
       "    }\n",
       "</style>\n",
       "<table border=\"1\" class=\"dataframe\">\n",
       "  <thead>\n",
       "    <tr style=\"text-align: right;\">\n",
       "      <th></th>\n",
       "      <th>date_mutation</th>\n",
       "      <th>nature_mutation</th>\n",
       "      <th>valeur_fonciere</th>\n",
       "      <th>code_postal</th>\n",
       "      <th>type_local</th>\n",
       "      <th>surface_reelle_bati</th>\n",
       "      <th>nombre_pieces_principales</th>\n",
       "      <th>nature_culture</th>\n",
       "      <th>surface_terrain</th>\n",
       "      <th>longitude</th>\n",
       "      <th>latitude</th>\n",
       "      <th>adresse</th>\n",
       "      <th>code_departement</th>\n",
       "      <th>identifiant_transaction</th>\n",
       "      <th>culture_m2</th>\n",
       "      <th>jardin_m2</th>\n",
       "      <th>terrains_a_bâtir_m2</th>\n",
       "      <th>dependance_m2</th>\n",
       "    </tr>\n",
       "  </thead>\n",
       "  <tbody>\n",
       "    <tr>\n",
       "      <th>0</th>\n",
       "      <td>2021-01-05</td>\n",
       "      <td>Vente</td>\n",
       "      <td>185000.0</td>\n",
       "      <td>1370</td>\n",
       "      <td>Maison</td>\n",
       "      <td>97.0</td>\n",
       "      <td>5.0</td>\n",
       "      <td>sols</td>\n",
       "      <td>2410.0</td>\n",
       "      <td>5.386094</td>\n",
       "      <td>46.327140</td>\n",
       "      <td>5080   0471 CHE DE VOGELAS Val-Revermont 1370 ...</td>\n",
       "      <td>1</td>\n",
       "      <td>5080   0471 CHE DE VOGELAS Val-Revermont 1370 ...</td>\n",
       "      <td>0</td>\n",
       "      <td>0</td>\n",
       "      <td>0</td>\n",
       "      <td>NaN</td>\n",
       "    </tr>\n",
       "    <tr>\n",
       "      <th>4</th>\n",
       "      <td>2021-01-06</td>\n",
       "      <td>Vente</td>\n",
       "      <td>320000.0</td>\n",
       "      <td>1250</td>\n",
       "      <td>Maison</td>\n",
       "      <td>168.0</td>\n",
       "      <td>5.0</td>\n",
       "      <td>sols</td>\n",
       "      <td>1426.0</td>\n",
       "      <td>5.273260</td>\n",
       "      <td>46.156334</td>\n",
       "      <td>87   0140 RTE DE CERTINES Montagnat 1250 France</td>\n",
       "      <td>1</td>\n",
       "      <td>87   0140 RTE DE CERTINES Montagnat 1250 Franc...</td>\n",
       "      <td>0</td>\n",
       "      <td>0</td>\n",
       "      <td>0</td>\n",
       "      <td>NaN</td>\n",
       "    </tr>\n",
       "    <tr>\n",
       "      <th>8</th>\n",
       "      <td>2021-01-04</td>\n",
       "      <td>Vente</td>\n",
       "      <td>176000.0</td>\n",
       "      <td>1000</td>\n",
       "      <td>Appartement</td>\n",
       "      <td>71.0</td>\n",
       "      <td>3.0</td>\n",
       "      <td>NaN</td>\n",
       "      <td>NaN</td>\n",
       "      <td>5.200117</td>\n",
       "      <td>46.210292</td>\n",
       "      <td>210   0820 RUE GEORGE SAND Saint-Denis-lès-Bou...</td>\n",
       "      <td>1</td>\n",
       "      <td>210   0820 RUE GEORGE SAND Saint-Denis-lès-Bou...</td>\n",
       "      <td>0</td>\n",
       "      <td>0</td>\n",
       "      <td>0</td>\n",
       "      <td>NaN</td>\n",
       "    </tr>\n",
       "    <tr>\n",
       "      <th>10</th>\n",
       "      <td>2021-01-07</td>\n",
       "      <td>Vente</td>\n",
       "      <td>4780.0</td>\n",
       "      <td>1340</td>\n",
       "      <td>NaN</td>\n",
       "      <td>NaN</td>\n",
       "      <td>NaN</td>\n",
       "      <td>culture</td>\n",
       "      <td>6114.0</td>\n",
       "      <td>5.161927</td>\n",
       "      <td>46.393824</td>\n",
       "      <td>0   B197 FEUSSAT Foissiat 1340 France</td>\n",
       "      <td>1</td>\n",
       "      <td>0   B197 FEUSSAT Foissiat 1340 France le 2021-...</td>\n",
       "      <td>0</td>\n",
       "      <td>0</td>\n",
       "      <td>0</td>\n",
       "      <td>0.0</td>\n",
       "    </tr>\n",
       "    <tr>\n",
       "      <th>18</th>\n",
       "      <td>2021-01-08</td>\n",
       "      <td>Vente</td>\n",
       "      <td>145000.0</td>\n",
       "      <td>1340</td>\n",
       "      <td>NaN</td>\n",
       "      <td>NaN</td>\n",
       "      <td>NaN</td>\n",
       "      <td>sols</td>\n",
       "      <td>431.0</td>\n",
       "      <td>5.200264</td>\n",
       "      <td>46.404948</td>\n",
       "      <td>0   B071 CHAMANDRE Foissiat 1340 France</td>\n",
       "      <td>1</td>\n",
       "      <td>0   B071 CHAMANDRE Foissiat 1340 France le 202...</td>\n",
       "      <td>0</td>\n",
       "      <td>0</td>\n",
       "      <td>0</td>\n",
       "      <td>0.0</td>\n",
       "    </tr>\n",
       "  </tbody>\n",
       "</table>\n",
       "</div>"
      ],
      "text/plain": [
       "   date_mutation nature_mutation  valeur_fonciere  code_postal   type_local  \\\n",
       "0     2021-01-05           Vente         185000.0         1370       Maison   \n",
       "4     2021-01-06           Vente         320000.0         1250       Maison   \n",
       "8     2021-01-04           Vente         176000.0         1000  Appartement   \n",
       "10    2021-01-07           Vente           4780.0         1340          NaN   \n",
       "18    2021-01-08           Vente         145000.0         1340          NaN   \n",
       "\n",
       "    surface_reelle_bati  nombre_pieces_principales nature_culture  \\\n",
       "0                  97.0                        5.0           sols   \n",
       "4                 168.0                        5.0           sols   \n",
       "8                  71.0                        3.0            NaN   \n",
       "10                  NaN                        NaN        culture   \n",
       "18                  NaN                        NaN           sols   \n",
       "\n",
       "    surface_terrain  longitude   latitude  \\\n",
       "0            2410.0   5.386094  46.327140   \n",
       "4            1426.0   5.273260  46.156334   \n",
       "8               NaN   5.200117  46.210292   \n",
       "10           6114.0   5.161927  46.393824   \n",
       "18            431.0   5.200264  46.404948   \n",
       "\n",
       "                                              adresse code_departement  \\\n",
       "0   5080   0471 CHE DE VOGELAS Val-Revermont 1370 ...                1   \n",
       "4     87   0140 RTE DE CERTINES Montagnat 1250 France                1   \n",
       "8   210   0820 RUE GEORGE SAND Saint-Denis-lès-Bou...                1   \n",
       "10              0   B197 FEUSSAT Foissiat 1340 France                1   \n",
       "18            0   B071 CHAMANDRE Foissiat 1340 France                1   \n",
       "\n",
       "                              identifiant_transaction  culture_m2  jardin_m2  \\\n",
       "0   5080   0471 CHE DE VOGELAS Val-Revermont 1370 ...           0          0   \n",
       "4   87   0140 RTE DE CERTINES Montagnat 1250 Franc...           0          0   \n",
       "8   210   0820 RUE GEORGE SAND Saint-Denis-lès-Bou...           0          0   \n",
       "10  0   B197 FEUSSAT Foissiat 1340 France le 2021-...           0          0   \n",
       "18  0   B071 CHAMANDRE Foissiat 1340 France le 202...           0          0   \n",
       "\n",
       "    terrains_a_bâtir_m2  dependance_m2  \n",
       "0                     0            NaN  \n",
       "4                     0            NaN  \n",
       "8                     0            NaN  \n",
       "10                    0            0.0  \n",
       "18                    0            0.0  "
      ]
     },
     "metadata": {},
     "output_type": "display_data"
    }
   ],
   "source": [
    "# Objectif : stocker les valeurs des biens secondaires (jardin, terrain à bâtir, dépendance, etc.) dans les colonnes créées\n",
    "\n",
    "# On parcourt tous les identifiants de transactions uniques\n",
    "# On a importé tqdm pour visualiser la progression \n",
    "\n",
    "for identifiant in tqdm(table_vf_dup[\"identifiant_transaction\"].unique(), desc = \"Progression\"):\n",
    "    \n",
    "    # On crée une liste d'indices pour chaque identifiant de transaction unique\n",
    "    indexes = list(table_vf_dup[table_vf_dup[\"identifiant_transaction\"] == identifiant].index.values)\n",
    "        \n",
    "    # L'objectif est de trouver l'indice de référence : celui d'une maison, d'un appartement, etc.\n",
    "    # ... et lui ajouter des informations sur les dépendances / les cultures / les locaux\n",
    "    saved_line_index = indexes[0]\n",
    "    for index in indexes:\n",
    "        if table_vf_dup[\"type_local\"][index] == \"Maison\":\n",
    "            saved_line_index = index\n",
    "        elif table_vf_dup[\"type_local\"][index] == \"Appartement\":\n",
    "            saved_line_index = index\n",
    "        \n",
    "    # On prépare la liste des indices à enlever\n",
    "    removed_lines_indexes = []\n",
    "        \n",
    "    # On enlève de indexes l'indice de la ligne de référence\n",
    "    indexes.remove(saved_line_index)\n",
    "        \n",
    "    # On parcourt les lignes ayant le même identifiant de transaction unique\n",
    "    \n",
    "    \"\"\" Cette partie entre guillements ci-dessous est à supprimer \"\"\"\n",
    "    \n",
    "    \"\"\"\n",
    "    for index in indexes:\n",
    "    \n",
    "        # On applique notre fonction de stockage\n",
    "        table_vf_dup = stockage_function(table_vf_dup, table, indexes, saved_line_index)\n",
    "        table_vf_dup = table_vf_dup.copy()\n",
    "            \n",
    "        # on stocke l'indice de cette ligne \n",
    "        removed_lines_indexes.append(index)\n",
    "    \"\"\"\n",
    "        \n",
    "    table_vf_dup = stockage_function(table_vf_dup, table, indexes, saved_line_index)\n",
    "    removed_lines_indexes.extend(indexes)\n",
    "    \n",
    "    # on enlève les lignes désormais inutiles dont les indices ont été stockés dans removed_lines_indexes\n",
    "    if len(removed_lines_indexes) != 0:\n",
    "        table_vf_dup.drop(removed_lines_indexes, 0, inplace = True)\n",
    "\n",
    "display(\"Taille finale du dataset :\")\n",
    "display(table_vf_dup.shape)\n",
    "display(table_vf_dup.head(5))"
   ]
  },
  {
   "cell_type": "code",
   "execution_count": 14,
   "id": "f4fa7625",
   "metadata": {},
   "outputs": [
    {
     "data": {
      "text/plain": [
       "'Observation du DataFrame :'"
      ]
     },
     "metadata": {},
     "output_type": "display_data"
    },
    {
     "data": {
      "text/html": [
       "<div>\n",
       "<style scoped>\n",
       "    .dataframe tbody tr th:only-of-type {\n",
       "        vertical-align: middle;\n",
       "    }\n",
       "\n",
       "    .dataframe tbody tr th {\n",
       "        vertical-align: top;\n",
       "    }\n",
       "\n",
       "    .dataframe thead th {\n",
       "        text-align: right;\n",
       "    }\n",
       "</style>\n",
       "<table border=\"1\" class=\"dataframe\">\n",
       "  <thead>\n",
       "    <tr style=\"text-align: right;\">\n",
       "      <th></th>\n",
       "      <th>date_mutation</th>\n",
       "      <th>nature_mutation</th>\n",
       "      <th>valeur_fonciere</th>\n",
       "      <th>code_postal</th>\n",
       "      <th>type_local</th>\n",
       "      <th>surface_reelle_bati</th>\n",
       "      <th>nombre_pieces_principales</th>\n",
       "      <th>nature_culture</th>\n",
       "      <th>surface_terrain</th>\n",
       "      <th>longitude</th>\n",
       "      <th>latitude</th>\n",
       "      <th>adresse</th>\n",
       "      <th>code_departement</th>\n",
       "      <th>identifiant_transaction</th>\n",
       "      <th>culture_m2</th>\n",
       "      <th>jardin_m2</th>\n",
       "      <th>terrains_a_bâtir_m2</th>\n",
       "      <th>dependance_m2</th>\n",
       "    </tr>\n",
       "  </thead>\n",
       "  <tbody>\n",
       "    <tr>\n",
       "      <th>0</th>\n",
       "      <td>2021-01-05</td>\n",
       "      <td>Vente</td>\n",
       "      <td>185000.0</td>\n",
       "      <td>1370</td>\n",
       "      <td>Maison</td>\n",
       "      <td>97.0</td>\n",
       "      <td>5.0</td>\n",
       "      <td>sols</td>\n",
       "      <td>2410.0</td>\n",
       "      <td>5.386094</td>\n",
       "      <td>46.327140</td>\n",
       "      <td>5080   0471 CHE DE VOGELAS Val-Revermont 1370 ...</td>\n",
       "      <td>1</td>\n",
       "      <td>5080   0471 CHE DE VOGELAS Val-Revermont 1370 ...</td>\n",
       "      <td>0</td>\n",
       "      <td>0</td>\n",
       "      <td>0</td>\n",
       "      <td>NaN</td>\n",
       "    </tr>\n",
       "    <tr>\n",
       "      <th>4</th>\n",
       "      <td>2021-01-06</td>\n",
       "      <td>Vente</td>\n",
       "      <td>320000.0</td>\n",
       "      <td>1250</td>\n",
       "      <td>Maison</td>\n",
       "      <td>168.0</td>\n",
       "      <td>5.0</td>\n",
       "      <td>sols</td>\n",
       "      <td>1426.0</td>\n",
       "      <td>5.273260</td>\n",
       "      <td>46.156334</td>\n",
       "      <td>87   0140 RTE DE CERTINES Montagnat 1250 France</td>\n",
       "      <td>1</td>\n",
       "      <td>87   0140 RTE DE CERTINES Montagnat 1250 Franc...</td>\n",
       "      <td>0</td>\n",
       "      <td>0</td>\n",
       "      <td>0</td>\n",
       "      <td>NaN</td>\n",
       "    </tr>\n",
       "    <tr>\n",
       "      <th>8</th>\n",
       "      <td>2021-01-04</td>\n",
       "      <td>Vente</td>\n",
       "      <td>176000.0</td>\n",
       "      <td>1000</td>\n",
       "      <td>Appartement</td>\n",
       "      <td>71.0</td>\n",
       "      <td>3.0</td>\n",
       "      <td>NaN</td>\n",
       "      <td>NaN</td>\n",
       "      <td>5.200117</td>\n",
       "      <td>46.210292</td>\n",
       "      <td>210   0820 RUE GEORGE SAND Saint-Denis-lès-Bou...</td>\n",
       "      <td>1</td>\n",
       "      <td>210   0820 RUE GEORGE SAND Saint-Denis-lès-Bou...</td>\n",
       "      <td>0</td>\n",
       "      <td>0</td>\n",
       "      <td>0</td>\n",
       "      <td>NaN</td>\n",
       "    </tr>\n",
       "    <tr>\n",
       "      <th>10</th>\n",
       "      <td>2021-01-07</td>\n",
       "      <td>Vente</td>\n",
       "      <td>4780.0</td>\n",
       "      <td>1340</td>\n",
       "      <td>NaN</td>\n",
       "      <td>NaN</td>\n",
       "      <td>NaN</td>\n",
       "      <td>culture</td>\n",
       "      <td>6114.0</td>\n",
       "      <td>5.161927</td>\n",
       "      <td>46.393824</td>\n",
       "      <td>0   B197 FEUSSAT Foissiat 1340 France</td>\n",
       "      <td>1</td>\n",
       "      <td>0   B197 FEUSSAT Foissiat 1340 France le 2021-...</td>\n",
       "      <td>0</td>\n",
       "      <td>0</td>\n",
       "      <td>0</td>\n",
       "      <td>0.0</td>\n",
       "    </tr>\n",
       "    <tr>\n",
       "      <th>18</th>\n",
       "      <td>2021-01-08</td>\n",
       "      <td>Vente</td>\n",
       "      <td>145000.0</td>\n",
       "      <td>1340</td>\n",
       "      <td>NaN</td>\n",
       "      <td>NaN</td>\n",
       "      <td>NaN</td>\n",
       "      <td>sols</td>\n",
       "      <td>431.0</td>\n",
       "      <td>5.200264</td>\n",
       "      <td>46.404948</td>\n",
       "      <td>0   B071 CHAMANDRE Foissiat 1340 France</td>\n",
       "      <td>1</td>\n",
       "      <td>0   B071 CHAMANDRE Foissiat 1340 France le 202...</td>\n",
       "      <td>0</td>\n",
       "      <td>0</td>\n",
       "      <td>0</td>\n",
       "      <td>0.0</td>\n",
       "    </tr>\n",
       "  </tbody>\n",
       "</table>\n",
       "</div>"
      ],
      "text/plain": [
       "   date_mutation nature_mutation  valeur_fonciere  code_postal   type_local  \\\n",
       "0     2021-01-05           Vente         185000.0         1370       Maison   \n",
       "4     2021-01-06           Vente         320000.0         1250       Maison   \n",
       "8     2021-01-04           Vente         176000.0         1000  Appartement   \n",
       "10    2021-01-07           Vente           4780.0         1340          NaN   \n",
       "18    2021-01-08           Vente         145000.0         1340          NaN   \n",
       "\n",
       "    surface_reelle_bati  nombre_pieces_principales nature_culture  \\\n",
       "0                  97.0                        5.0           sols   \n",
       "4                 168.0                        5.0           sols   \n",
       "8                  71.0                        3.0            NaN   \n",
       "10                  NaN                        NaN        culture   \n",
       "18                  NaN                        NaN           sols   \n",
       "\n",
       "    surface_terrain  longitude   latitude  \\\n",
       "0            2410.0   5.386094  46.327140   \n",
       "4            1426.0   5.273260  46.156334   \n",
       "8               NaN   5.200117  46.210292   \n",
       "10           6114.0   5.161927  46.393824   \n",
       "18            431.0   5.200264  46.404948   \n",
       "\n",
       "                                              adresse code_departement  \\\n",
       "0   5080   0471 CHE DE VOGELAS Val-Revermont 1370 ...                1   \n",
       "4     87   0140 RTE DE CERTINES Montagnat 1250 France                1   \n",
       "8   210   0820 RUE GEORGE SAND Saint-Denis-lès-Bou...                1   \n",
       "10              0   B197 FEUSSAT Foissiat 1340 France                1   \n",
       "18            0   B071 CHAMANDRE Foissiat 1340 France                1   \n",
       "\n",
       "                              identifiant_transaction  culture_m2  jardin_m2  \\\n",
       "0   5080   0471 CHE DE VOGELAS Val-Revermont 1370 ...           0          0   \n",
       "4   87   0140 RTE DE CERTINES Montagnat 1250 Franc...           0          0   \n",
       "8   210   0820 RUE GEORGE SAND Saint-Denis-lès-Bou...           0          0   \n",
       "10  0   B197 FEUSSAT Foissiat 1340 France le 2021-...           0          0   \n",
       "18  0   B071 CHAMANDRE Foissiat 1340 France le 202...           0          0   \n",
       "\n",
       "    terrains_a_bâtir_m2  dependance_m2  \n",
       "0                     0            NaN  \n",
       "4                     0            NaN  \n",
       "8                     0            NaN  \n",
       "10                    0            0.0  \n",
       "18                    0            0.0  "
      ]
     },
     "metadata": {},
     "output_type": "display_data"
    },
    {
     "data": {
      "text/plain": [
       "\"Nombre d'identifiant_transaction uniques dans le DataFrame :\""
      ]
     },
     "metadata": {},
     "output_type": "display_data"
    },
    {
     "data": {
      "text/plain": [
       "165"
      ]
     },
     "metadata": {},
     "output_type": "display_data"
    },
    {
     "data": {
      "text/plain": [
       "'Nombre de lignes dans le DataFrame :'"
      ]
     },
     "metadata": {},
     "output_type": "display_data"
    },
    {
     "data": {
      "text/plain": [
       "165"
      ]
     },
     "metadata": {},
     "output_type": "display_data"
    },
    {
     "data": {
      "text/plain": [
       "'Nombre moyen de lignes par vente :'"
      ]
     },
     "metadata": {},
     "output_type": "display_data"
    },
    {
     "data": {
      "text/plain": [
       "1.0"
      ]
     },
     "execution_count": 14,
     "metadata": {},
     "output_type": "execute_result"
    }
   ],
   "source": [
    "# On observe que le DataFrame est désormais exploitable :\n",
    "\n",
    "display(\"Observation du DataFrame :\")\n",
    "display(table_vf_dup.head(5))\n",
    "display(\"Nombre d'identifiant_transaction uniques dans le DataFrame :\")\n",
    "display(len(table_vf_dup[\"identifiant_transaction\"].unique()))\n",
    "display(\"Nombre de lignes dans le DataFrame :\")\n",
    "display(len(table_vf_dup))\n",
    "display(\"Nombre moyen de lignes par vente :\")\n",
    "np.round(len(table_vf_dup) / len(table_vf_dup[\"identifiant_transaction\"].unique()), 2)\n",
    "\n",
    "# Attention, lorsque la surface d'une dépendance n'est pas renseignée, il est donné NaN par défaut... \n",
    "# Comment l'algorithme interprétera-t-il ce NaN ? Il s'agit de lui donner une valeur !"
   ]
  },
  {
   "cell_type": "markdown",
   "id": "57391b45-bcec-4dff-ad9d-81c818e52308",
   "metadata": {},
   "source": [
    "Il ne resterait plus qu'à **merger les deux dataframes** pour obtenir toutes les informations de l'année étudiée.\n",
    "\n",
    "Comme le code de preprocessing est très long à exécuter pour le dataset entier (12h estimées par tqdm), nous allons **nous concentrer sur le dataset des transactions avec une seule ligne** pour l'entraînement du modèle."
   ]
  },
  {
   "cell_type": "code",
   "execution_count": 15,
   "id": "6ccfc0d8-7071-4d1a-888e-fb62c921f9ca",
   "metadata": {},
   "outputs": [],
   "source": [
    "# Il faudra modifier cette cellule par la suite ...\n",
    "# ... en intégrant les transactions ayant fait l'objet de plusieurs lignes pour chaque année...\n",
    "\n",
    "data = table_vf_uni\n",
    "data = data.reset_index().drop(\"index\", axis = 1)"
   ]
  },
  {
   "cell_type": "markdown",
   "id": "dcb8392b-b333-42d7-8b4c-fce911f06fe1",
   "metadata": {},
   "source": [
    "### 1.4. Valeurs extrêmes :"
   ]
  },
  {
   "cell_type": "code",
   "execution_count": 16,
   "id": "08e2d042-830c-4a43-946e-4e5e4b6dcc75",
   "metadata": {},
   "outputs": [
    {
     "data": {
      "text/html": [
       "<div>\n",
       "<style scoped>\n",
       "    .dataframe tbody tr th:only-of-type {\n",
       "        vertical-align: middle;\n",
       "    }\n",
       "\n",
       "    .dataframe tbody tr th {\n",
       "        vertical-align: top;\n",
       "    }\n",
       "\n",
       "    .dataframe thead th {\n",
       "        text-align: right;\n",
       "    }\n",
       "</style>\n",
       "<table border=\"1\" class=\"dataframe\">\n",
       "  <thead>\n",
       "    <tr style=\"text-align: right;\">\n",
       "      <th></th>\n",
       "      <th>valeur_fonciere</th>\n",
       "      <th>surface_reelle_bati</th>\n",
       "      <th>nombre_pieces_principales</th>\n",
       "      <th>surface_terrain</th>\n",
       "    </tr>\n",
       "  </thead>\n",
       "  <tbody>\n",
       "    <tr>\n",
       "      <th>count</th>\n",
       "      <td>3.860490e+05</td>\n",
       "      <td>210290.000000</td>\n",
       "      <td>247245.000000</td>\n",
       "      <td>2.753380e+05</td>\n",
       "    </tr>\n",
       "    <tr>\n",
       "      <th>mean</th>\n",
       "      <td>2.137278e+05</td>\n",
       "      <td>109.491711</td>\n",
       "      <td>2.884726</td>\n",
       "      <td>1.854091e+03</td>\n",
       "    </tr>\n",
       "    <tr>\n",
       "      <th>std</th>\n",
       "      <td>1.357085e+06</td>\n",
       "      <td>452.103122</td>\n",
       "      <td>2.006914</td>\n",
       "      <td>9.613119e+03</td>\n",
       "    </tr>\n",
       "    <tr>\n",
       "      <th>min</th>\n",
       "      <td>1.500000e-01</td>\n",
       "      <td>1.000000</td>\n",
       "      <td>0.000000</td>\n",
       "      <td>1.000000e+00</td>\n",
       "    </tr>\n",
       "    <tr>\n",
       "      <th>25%</th>\n",
       "      <td>5.200000e+04</td>\n",
       "      <td>55.000000</td>\n",
       "      <td>1.000000</td>\n",
       "      <td>1.960000e+02</td>\n",
       "    </tr>\n",
       "    <tr>\n",
       "      <th>50%</th>\n",
       "      <td>1.350000e+05</td>\n",
       "      <td>80.000000</td>\n",
       "      <td>3.000000</td>\n",
       "      <td>4.690000e+02</td>\n",
       "    </tr>\n",
       "    <tr>\n",
       "      <th>75%</th>\n",
       "      <td>2.390000e+05</td>\n",
       "      <td>105.000000</td>\n",
       "      <td>4.000000</td>\n",
       "      <td>9.660000e+02</td>\n",
       "    </tr>\n",
       "    <tr>\n",
       "      <th>max</th>\n",
       "      <td>4.408400e+08</td>\n",
       "      <td>60000.000000</td>\n",
       "      <td>70.000000</td>\n",
       "      <td>2.967329e+06</td>\n",
       "    </tr>\n",
       "  </tbody>\n",
       "</table>\n",
       "</div>"
      ],
      "text/plain": [
       "       valeur_fonciere  surface_reelle_bati  nombre_pieces_principales  \\\n",
       "count     3.860490e+05        210290.000000              247245.000000   \n",
       "mean      2.137278e+05           109.491711                   2.884726   \n",
       "std       1.357085e+06           452.103122                   2.006914   \n",
       "min       1.500000e-01             1.000000                   0.000000   \n",
       "25%       5.200000e+04            55.000000                   1.000000   \n",
       "50%       1.350000e+05            80.000000                   3.000000   \n",
       "75%       2.390000e+05           105.000000                   4.000000   \n",
       "max       4.408400e+08         60000.000000                  70.000000   \n",
       "\n",
       "       surface_terrain  \n",
       "count     2.753380e+05  \n",
       "mean      1.854091e+03  \n",
       "std       9.613119e+03  \n",
       "min       1.000000e+00  \n",
       "25%       1.960000e+02  \n",
       "50%       4.690000e+02  \n",
       "75%       9.660000e+02  \n",
       "max       2.967329e+06  "
      ]
     },
     "execution_count": 16,
     "metadata": {},
     "output_type": "execute_result"
    }
   ],
   "source": [
    "data.drop([\"code_postal\", \"longitude\", \"latitude\"], axis = 1).describe()"
   ]
  },
  {
   "cell_type": "markdown",
   "id": "2ec82a04-c63f-4345-9694-c202e74ff01a",
   "metadata": {},
   "source": [
    "On observe avec le describe ci-dessus que **les écart-types sont très importants par rapport aux moyennes**, surtout pour les variables \"valeur_fonciere\" (plus de 10 fois), \"surface_reelle_bati\" (4 fois) et \"surface_terrain\" (5-6 fois).\n",
    "\n",
    "Donc, **on enlève les valeurs extrêmes** :"
   ]
  },
  {
   "cell_type": "code",
   "execution_count": 17,
   "id": "88af6d8a-5121-41d8-87de-0f9f3f2c3665",
   "metadata": {},
   "outputs": [],
   "source": [
    "# Pour valeur_fonciere :\n",
    "data = data[~(np.abs(data['valeur_fonciere'] - data['valeur_fonciere'].mean()) > (3 * data['valeur_fonciere'].std()))]\n",
    "\n",
    "# Pour surface_reelle_bati :\n",
    "data = data[~(np.abs(data['surface_reelle_bati'] - data['surface_reelle_bati'].mean()) > (3 * data['surface_reelle_bati'].std()))]\n",
    "\n",
    "# Pour surface_terrain :\n",
    "data = data[~(np.abs(data['surface_terrain'] - data['surface_terrain'].mean()) > (3 * data['surface_terrain'].std()))]"
   ]
  },
  {
   "cell_type": "code",
   "execution_count": 18,
   "id": "f4d5ff20-e0f9-4e4b-95ef-814f0fc32c33",
   "metadata": {},
   "outputs": [
    {
     "data": {
      "text/html": [
       "<div>\n",
       "<style scoped>\n",
       "    .dataframe tbody tr th:only-of-type {\n",
       "        vertical-align: middle;\n",
       "    }\n",
       "\n",
       "    .dataframe tbody tr th {\n",
       "        vertical-align: top;\n",
       "    }\n",
       "\n",
       "    .dataframe thead th {\n",
       "        text-align: right;\n",
       "    }\n",
       "</style>\n",
       "<table border=\"1\" class=\"dataframe\">\n",
       "  <thead>\n",
       "    <tr style=\"text-align: right;\">\n",
       "      <th></th>\n",
       "      <th>valeur_fonciere</th>\n",
       "      <th>surface_reelle_bati</th>\n",
       "      <th>nombre_pieces_principales</th>\n",
       "      <th>surface_terrain</th>\n",
       "    </tr>\n",
       "  </thead>\n",
       "  <tbody>\n",
       "    <tr>\n",
       "      <th>count</th>\n",
       "      <td>3.823390e+05</td>\n",
       "      <td>209109.000000</td>\n",
       "      <td>246036.000000</td>\n",
       "      <td>271812.000000</td>\n",
       "    </tr>\n",
       "    <tr>\n",
       "      <th>mean</th>\n",
       "      <td>1.856361e+05</td>\n",
       "      <td>89.731126</td>\n",
       "      <td>2.897190</td>\n",
       "      <td>1364.274160</td>\n",
       "    </tr>\n",
       "    <tr>\n",
       "      <th>std</th>\n",
       "      <td>2.406777e+05</td>\n",
       "      <td>76.010510</td>\n",
       "      <td>2.000793</td>\n",
       "      <td>3124.506896</td>\n",
       "    </tr>\n",
       "    <tr>\n",
       "      <th>min</th>\n",
       "      <td>1.500000e-01</td>\n",
       "      <td>1.000000</td>\n",
       "      <td>0.000000</td>\n",
       "      <td>1.000000</td>\n",
       "    </tr>\n",
       "    <tr>\n",
       "      <th>25%</th>\n",
       "      <td>5.200000e+04</td>\n",
       "      <td>55.000000</td>\n",
       "      <td>1.000000</td>\n",
       "      <td>193.000000</td>\n",
       "    </tr>\n",
       "    <tr>\n",
       "      <th>50%</th>\n",
       "      <td>1.348000e+05</td>\n",
       "      <td>80.000000</td>\n",
       "      <td>3.000000</td>\n",
       "      <td>461.000000</td>\n",
       "    </tr>\n",
       "    <tr>\n",
       "      <th>75%</th>\n",
       "      <td>2.380000e+05</td>\n",
       "      <td>105.000000</td>\n",
       "      <td>4.000000</td>\n",
       "      <td>933.000000</td>\n",
       "    </tr>\n",
       "    <tr>\n",
       "      <th>max</th>\n",
       "      <td>4.270800e+06</td>\n",
       "      <td>1276.000000</td>\n",
       "      <td>70.000000</td>\n",
       "      <td>29999.000000</td>\n",
       "    </tr>\n",
       "  </tbody>\n",
       "</table>\n",
       "</div>"
      ],
      "text/plain": [
       "       valeur_fonciere  surface_reelle_bati  nombre_pieces_principales  \\\n",
       "count     3.823390e+05        209109.000000              246036.000000   \n",
       "mean      1.856361e+05            89.731126                   2.897190   \n",
       "std       2.406777e+05            76.010510                   2.000793   \n",
       "min       1.500000e-01             1.000000                   0.000000   \n",
       "25%       5.200000e+04            55.000000                   1.000000   \n",
       "50%       1.348000e+05            80.000000                   3.000000   \n",
       "75%       2.380000e+05           105.000000                   4.000000   \n",
       "max       4.270800e+06          1276.000000                  70.000000   \n",
       "\n",
       "       surface_terrain  \n",
       "count    271812.000000  \n",
       "mean       1364.274160  \n",
       "std        3124.506896  \n",
       "min           1.000000  \n",
       "25%         193.000000  \n",
       "50%         461.000000  \n",
       "75%         933.000000  \n",
       "max       29999.000000  "
      ]
     },
     "execution_count": 18,
     "metadata": {},
     "output_type": "execute_result"
    }
   ],
   "source": [
    "data.drop([\"code_postal\", \"longitude\", \"latitude\"], axis = 1).describe()"
   ]
  },
  {
   "cell_type": "markdown",
   "id": "c4bd61be-fc78-4239-bfb2-1da8ccc6b6ae",
   "metadata": {},
   "source": [
    "On constate qu'**assez peu de données ont été enlevées du dataset** (environ 4000 lignes pour les transactions non dupliquées)."
   ]
  },
  {
   "cell_type": "markdown",
   "id": "22368a66-1ae1-49c9-a4c5-4a4d592e9b83",
   "metadata": {},
   "source": [
    "# Etape 2 : feature engineering"
   ]
  },
  {
   "cell_type": "markdown",
   "id": "9b0c58b8-a9f7-4f1e-a6f4-4d6c51675f1a",
   "metadata": {},
   "source": [
    "Idées de features : \n",
    "* prix au m2 du quartier (BallTree), \n",
    "* PIB du département, \n",
    "* densité du département (mesure de l'urbanisation, de l'activité), \n",
    "* variation de population non naturelle (mesure de l'attractivité),\n",
    "* mois de la transaction."
   ]
  },
  {
   "cell_type": "markdown",
   "id": "589d6871-53f0-418f-bfde-87f949f8bebb",
   "metadata": {},
   "source": [
    "Un agent immobilier a besoin du **prix au m2 du quartier**, c'est une donnée importante ! Pour cela, nous allons créer ..."
   ]
  },
  {
   "cell_type": "code",
   "execution_count": 19,
   "id": "a00858cc-57c6-470e-beb4-9c414e7c1e65",
   "metadata": {},
   "outputs": [
    {
     "name": "stdout",
     "output_type": "stream",
     "text": [
      "Il y a 99 départements représentés dans le dataset.\n"
     ]
    }
   ],
   "source": [
    "# prix_m2\n",
    "\n",
    "data['prix_m2'] = data['surface_terrain'] / data['valeur_fonciere']\n",
    "\n",
    "# départements\n",
    "\n",
    "print(f\"Il y a {len(data['code_departement'].unique())} départements représentés dans le dataset.\")"
   ]
  },
  {
   "cell_type": "code",
   "execution_count": null,
   "id": "8c74fbc9-2d59-4f7c-a670-80321c343592",
   "metadata": {},
   "outputs": [],
   "source": [
    "# Créations des modèles BallTree\n",
    "\n",
    "''' \n",
    "nb_departements = 99\n",
    "appart_old[‘Distance moyenne’]=np.zeros(len(appart_old))\n",
    "appart_old[‘Indices voisins’]=np.zeros(len(appart_old))\n",
    "models={}\n",
    "regions=appart_old.Région.unique()\n",
    "for k in range(len(regions)):\n",
    "    name=’appart_’+regions[k]\n",
    "    data=appart_old[appart_old.Région==regions[k]]\n",
    "    data=data.reset_index(drop=True)\n",
    "    models[k]=BallTree(data[[‘latitude_r’, ‘longitude_r’]].values, leaf_size=2, metric=’haversine’)\n",
    "    save_obj(models[k], name)\n",
    "'''"
   ]
  },
  {
   "cell_type": "markdown",
   "id": "9a528f0b-5130-48b6-bfb2-e86df6940e2b",
   "metadata": {},
   "source": [
    "# Etape 3 : analyse descriptive"
   ]
  },
  {
   "cell_type": "code",
   "execution_count": 20,
   "id": "7270d9db-efc8-466b-ae8e-2c41d385d801",
   "metadata": {},
   "outputs": [
    {
     "data": {
      "text/html": [
       "<div>\n",
       "<style scoped>\n",
       "    .dataframe tbody tr th:only-of-type {\n",
       "        vertical-align: middle;\n",
       "    }\n",
       "\n",
       "    .dataframe tbody tr th {\n",
       "        vertical-align: top;\n",
       "    }\n",
       "\n",
       "    .dataframe thead th {\n",
       "        text-align: right;\n",
       "    }\n",
       "</style>\n",
       "<table border=\"1\" class=\"dataframe\">\n",
       "  <thead>\n",
       "    <tr style=\"text-align: right;\">\n",
       "      <th></th>\n",
       "      <th>date_mutation</th>\n",
       "      <th>nature_mutation</th>\n",
       "      <th>valeur_fonciere</th>\n",
       "      <th>code_postal</th>\n",
       "      <th>type_local</th>\n",
       "      <th>surface_reelle_bati</th>\n",
       "      <th>nombre_pieces_principales</th>\n",
       "      <th>nature_culture</th>\n",
       "      <th>surface_terrain</th>\n",
       "      <th>longitude</th>\n",
       "      <th>latitude</th>\n",
       "      <th>adresse</th>\n",
       "      <th>code_departement</th>\n",
       "      <th>identifiant_transaction</th>\n",
       "      <th>prix_m2</th>\n",
       "    </tr>\n",
       "  </thead>\n",
       "  <tbody>\n",
       "    <tr>\n",
       "      <th>0</th>\n",
       "      <td>2021-01-06</td>\n",
       "      <td>Vente</td>\n",
       "      <td>10.0</td>\n",
       "      <td>1290</td>\n",
       "      <td>NaN</td>\n",
       "      <td>NaN</td>\n",
       "      <td>NaN</td>\n",
       "      <td>culture</td>\n",
       "      <td>530.0</td>\n",
       "      <td>4.844368</td>\n",
       "      <td>46.224233</td>\n",
       "      <td>0   B043 ROUGEMONT Bey 1290 France</td>\n",
       "      <td>1</td>\n",
       "      <td>0   B043 ROUGEMONT Bey 1290 France le 2021-01-06</td>\n",
       "      <td>53.000000</td>\n",
       "    </tr>\n",
       "    <tr>\n",
       "      <th>1</th>\n",
       "      <td>2021-01-04</td>\n",
       "      <td>Vente</td>\n",
       "      <td>204332.0</td>\n",
       "      <td>1310</td>\n",
       "      <td>Maison</td>\n",
       "      <td>88.0</td>\n",
       "      <td>4.0</td>\n",
       "      <td>sols</td>\n",
       "      <td>866.0</td>\n",
       "      <td>5.157688</td>\n",
       "      <td>46.200988</td>\n",
       "      <td>7   0276 ALL DES ECUREUILS Buellas 1310 France</td>\n",
       "      <td>1</td>\n",
       "      <td>7   0276 ALL DES ECUREUILS Buellas 1310 France...</td>\n",
       "      <td>0.004238</td>\n",
       "    </tr>\n",
       "  </tbody>\n",
       "</table>\n",
       "</div>"
      ],
      "text/plain": [
       "  date_mutation nature_mutation  valeur_fonciere  code_postal type_local  \\\n",
       "0    2021-01-06           Vente             10.0         1290        NaN   \n",
       "1    2021-01-04           Vente         204332.0         1310     Maison   \n",
       "\n",
       "   surface_reelle_bati  nombre_pieces_principales nature_culture  \\\n",
       "0                  NaN                        NaN        culture   \n",
       "1                 88.0                        4.0           sols   \n",
       "\n",
       "   surface_terrain  longitude   latitude  \\\n",
       "0            530.0   4.844368  46.224233   \n",
       "1            866.0   5.157688  46.200988   \n",
       "\n",
       "                                          adresse code_departement  \\\n",
       "0              0   B043 ROUGEMONT Bey 1290 France                1   \n",
       "1  7   0276 ALL DES ECUREUILS Buellas 1310 France                1   \n",
       "\n",
       "                             identifiant_transaction    prix_m2  \n",
       "0   0   B043 ROUGEMONT Bey 1290 France le 2021-01-06  53.000000  \n",
       "1  7   0276 ALL DES ECUREUILS Buellas 1310 France...   0.004238  "
      ]
     },
     "execution_count": 20,
     "metadata": {},
     "output_type": "execute_result"
    }
   ],
   "source": [
    "# Visualisation des lignes\n",
    "\n",
    "data.head(2)"
   ]
  },
  {
   "cell_type": "code",
   "execution_count": 21,
   "id": "1392150f-b49b-488e-a0cc-18e3c78df0a1",
   "metadata": {},
   "outputs": [
    {
     "data": {
      "text/plain": [
       "array(['culture', 'sols', nan, 'terrains a bâtir', 'jardins',\n",
       "       \"terrains d'agrément\"], dtype=object)"
      ]
     },
     "metadata": {},
     "output_type": "display_data"
    },
    {
     "data": {
      "text/plain": [
       "array([nan, 'Maison', 'Dépendance',\n",
       "       'Local industriel. commercial ou assimilé', 'Appartement'],\n",
       "      dtype=object)"
      ]
     },
     "metadata": {},
     "output_type": "display_data"
    }
   ],
   "source": [
    "display(data[\"nature_culture\"].unique())\n",
    "display(data[\"type_local\"].unique())"
   ]
  },
  {
   "cell_type": "code",
   "execution_count": 22,
   "id": "f25bc4db-183d-4b6a-8df1-fd2d9fba9d15",
   "metadata": {},
   "outputs": [
    {
     "name": "stdout",
     "output_type": "stream",
     "text": [
      "Le nombre de maisons dans le dataset est : 133354.\n",
      "Le nombre d'appartments dans le dataset est : 63939.\n",
      "Le nombre de 'Local industriel. commercial ou assimilé' dans le dataset est : 12646.\n"
     ]
    }
   ],
   "source": [
    "nb_maisons = list(data[\"type_local\"]).count(\"Maison\")\n",
    "print(f\"Le nombre de maisons dans le dataset est : {nb_maisons}.\")\n",
    "\n",
    "nb_appartement = list(data[\"type_local\"]).count(\"Appartement\")\n",
    "print(f\"Le nombre d'appartments dans le dataset est : {nb_appartement}.\")\n",
    "\n",
    "nb_local = list(data[\"type_local\"]).count(\"Local industriel. commercial ou assimilé\")\n",
    "print(f\"Le nombre de 'Local industriel. commercial ou assimilé' dans le dataset est : {nb_local}.\")"
   ]
  },
  {
   "cell_type": "code",
   "execution_count": 23,
   "id": "a50f953e-2f4b-49ce-8b28-4b1a709cf428",
   "metadata": {},
   "outputs": [
    {
     "data": {
      "text/plain": [
       "Text(0.5, 1.0, 'Répartition des valeurs foncières')"
      ]
     },
     "execution_count": 23,
     "metadata": {},
     "output_type": "execute_result"
    },
    {
     "data": {
      "image/png": "[encoded data removed]",
      "text/plain": [
       "<Figure size 432x288 with 1 Axes>"
      ]
     },
     "metadata": {
      "needs_background": "light"
     },
     "output_type": "display_data"
    }
   ],
   "source": [
    "# Répartition des prix de vente\n",
    "\n",
    "plt.hist(data[\"valeur_fonciere\"].values, bins = 100)\n",
    "plt.title('Répartition des valeurs foncières')"
   ]
  },
  {
   "cell_type": "markdown",
   "id": "703f645a-8477-4a1e-86d4-c304996c4d04",
   "metadata": {},
   "source": [
    "On constate que les prix de ventes sont encore très peu dispersés. **Il y a encore des valeurs extrêmes**. \n",
    "\n",
    "Pour mieux les visualiser, nous allons **renlever les prix de ventes dont l'écart à la moyenne a été plus de 2,5 fois supérieur à l'écart-type**.\n",
    "\n",
    "N.B. : nous utilisons également **le package seaborn** qui offre de bonnes opportunités de visualisation."
   ]
  },
  {
   "cell_type": "code",
   "execution_count": 24,
   "id": "8369b8c5-b02b-4f0c-9ffb-ef3f22081336",
   "metadata": {},
   "outputs": [
    {
     "data": {
      "text/plain": [
       "<seaborn.axisgrid.FacetGrid at 0x7f1aa68e0ca0>"
      ]
     },
     "execution_count": 24,
     "metadata": {},
     "output_type": "execute_result"
    },
    {
     "data": {
      "image/png": "[encoded data removed]",
      "text/plain": [
       "<Figure size 360x360 with 1 Axes>"
      ]
     },
     "metadata": {
      "needs_background": "light"
     },
     "output_type": "display_data"
    }
   ],
   "source": [
    "sns.displot(data[~(np.abs(data['valeur_fonciere'] - data['valeur_fonciere'].mean()) > (2.5 * data['valeur_fonciere'].std()))], \n",
    "            x = \"valeur_fonciere\", \n",
    "            bins = 50)"
   ]
  },
  {
   "cell_type": "markdown",
   "id": "dbd0ae99-698d-445e-9d8b-a108430638e0",
   "metadata": {},
   "source": [
    "Encore **de nombreux biens ont des valeurs très faibles** : distinguons les **types de biens**."
   ]
  },
  {
   "cell_type": "code",
   "execution_count": 25,
   "id": "65975bfa-0bd5-4368-b7b8-a5d6c44162f1",
   "metadata": {},
   "outputs": [
    {
     "data": {
      "text/plain": [
       "<seaborn.axisgrid.FacetGrid at 0x7f1aa68d20a0>"
      ]
     },
     "execution_count": 25,
     "metadata": {},
     "output_type": "execute_result"
    },
    {
     "data": {
      "image/png": "[encoded data removed]",
      "text/plain": [
       "<Figure size 461.625x360 with 1 Axes>"
      ]
     },
     "metadata": {
      "needs_background": "light"
     },
     "output_type": "display_data"
    }
   ],
   "source": [
    "data_aux = data[~(np.abs(data['valeur_fonciere'] - data['valeur_fonciere'].mean()) > (2.5 * data['valeur_fonciere'].std()))]\n",
    "data_aux = data_aux.drop(data_aux.loc[data_aux['type_local'] == 'Local industriel. commercial ou assimilé'].index)\n",
    "\n",
    "sns.displot(data = data_aux,\n",
    "            x = \"valeur_fonciere\",\n",
    "            hue = \"type_local\",\n",
    "            element = \"step\")"
   ]
  },
  {
   "cell_type": "markdown",
   "id": "aae1509c-e9d0-4d1f-afb8-7c54ebcee4d9",
   "metadata": {},
   "source": [
    "On constate que **les valeurs foncières des dépendances sont centrées autour de très faibles valeurs**, viennent ensuite les appartements puis les maisons (ce qui est logique)."
   ]
  },
  {
   "cell_type": "code",
   "execution_count": 26,
   "id": "62662709-e272-4659-bf49-36b1d01b81e6",
   "metadata": {},
   "outputs": [
    {
     "data": {
      "text/plain": [
       "<seaborn.axisgrid.FacetGrid at 0x7f1aa6823a30>"
      ]
     },
     "execution_count": 26,
     "metadata": {},
     "output_type": "execute_result"
    },
    {
     "data": {
      "image/png": "[encoded data removed]",
      "text/plain": [
       "<Figure size 461.625x360 with 1 Axes>"
      ]
     },
     "metadata": {
      "needs_background": "light"
     },
     "output_type": "display_data"
    }
   ],
   "source": [
    "# Représentation des transactions d'appartements et maisons : valeur foncière en fonction de la surface\n",
    "\n",
    "data_aux = data_aux.drop(data_aux.loc[data_aux['type_local'] == 'Dépendance'].index)\n",
    "\n",
    "sns.relplot(x = \"surface_reelle_bati\", \n",
    "            y = \"valeur_fonciere\", \n",
    "            hue = \"type_local\", \n",
    "            data = data_aux.sample(2000))\n",
    "\n",
    "# Lien tuto seaborn : https://ichi.pro/fr/maitriser-la-visualisation-de-donnees-en-python-avec-seaborn-224185530768080"
   ]
  },
  {
   "cell_type": "markdown",
   "id": "791ab1bd-bc65-40b0-9c2a-314092804b29",
   "metadata": {},
   "source": [
    "On ne constate **pas une corrélation très marquée**... En effet, il faudrait **distinguer la localisation** du bien (Paris vs. petite ville vs. campagne)."
   ]
  },
  {
   "cell_type": "code",
   "execution_count": 135,
   "id": "e0ac97f6-33ba-49d6-bfe1-f64ba11c327e",
   "metadata": {},
   "outputs": [],
   "source": [
    "# Représentation des transactions sur une carte"
   ]
  },
  {
   "cell_type": "markdown",
   "id": "4432561d-749a-45d0-8188-17b479153aa0",
   "metadata": {},
   "source": [
    "# Etape 4 : modélisation"
   ]
  },
  {
   "cell_type": "code",
   "execution_count": 95,
   "id": "3a39f3d0-a683-4c46-b9cd-f72f8f84c08c",
   "metadata": {},
   "outputs": [],
   "source": [
    "data_model = data"
   ]
  },
  {
   "cell_type": "code",
   "execution_count": 103,
   "id": "9038595e-1083-491e-92ca-938aa40c6f26",
   "metadata": {},
   "outputs": [],
   "source": [
    "# Création de la métrique d'erreur : MAPE\n",
    "\n",
    "from sklearn.metrics import make_scorer\n",
    "\n",
    "def custom_metric(y_test,y_pred):\n",
    "    error = np.abs((y_test - y_pred) / y_test)\n",
    "    return np.mean(error)\n",
    "\n",
    "custom_loss = make_scorer(custom_metric, greater_is_better = False)"
   ]
  },
  {
   "cell_type": "code",
   "execution_count": 96,
   "id": "c47b4893-16fe-4bb2-9d95-eb99ee727c7c",
   "metadata": {},
   "outputs": [],
   "source": [
    "# Features selection\n",
    "\n",
    "features = ['valeur_fonciere', 'type_local', 'surface_reelle_bati', 'nombre_pieces_principales', \n",
    "            'nature_culture', 'surface_terrain', 'longitude', 'latitude', 'code_departement', 'prix_m2']\n",
    "\n",
    "data_model = data_model[features]"
   ]
  },
  {
   "cell_type": "code",
   "execution_count": 97,
   "id": "2d9b0575-d735-44a5-91d8-9505d3d11d08",
   "metadata": {},
   "outputs": [
    {
     "name": "stderr",
     "output_type": "stream",
     "text": [
      "/tmp/ipykernel_3398/2260805932.py:5: SettingWithCopyWarning: \n",
      "A value is trying to be set on a copy of a slice from a DataFrame.\n",
      "Try using .loc[row_indexer,col_indexer] = value instead\n",
      "\n",
      "See the caveats in the documentation: https://pandas.pydata.org/pandas-docs/stable/user_guide/indexing.html#returning-a-view-versus-a-copy\n",
      "  data_model[\"encoded_local_type_m\"] = [1 if local == \"Maison\" else 0 for local in data_model[\"type_local\"]]\n",
      "/tmp/ipykernel_3398/2260805932.py:6: SettingWithCopyWarning: \n",
      "A value is trying to be set on a copy of a slice from a DataFrame.\n",
      "Try using .loc[row_indexer,col_indexer] = value instead\n",
      "\n",
      "See the caveats in the documentation: https://pandas.pydata.org/pandas-docs/stable/user_guide/indexing.html#returning-a-view-versus-a-copy\n",
      "  data_model[\"encoded_local_type_a\"] = [2 if local == \"Appartement\" else 0 for local in data_model[\"type_local\"]]\n",
      "/tmp/ipykernel_3398/2260805932.py:7: SettingWithCopyWarning: \n",
      "A value is trying to be set on a copy of a slice from a DataFrame.\n",
      "Try using .loc[row_indexer,col_indexer] = value instead\n",
      "\n",
      "See the caveats in the documentation: https://pandas.pydata.org/pandas-docs/stable/user_guide/indexing.html#returning-a-view-versus-a-copy\n",
      "  data_model[\"encoded_local_type_d\"] = [3 if local == \"Dépendance\" else 0 for local in data_model[\"type_local\"]]\n",
      "/tmp/ipykernel_3398/2260805932.py:8: SettingWithCopyWarning: \n",
      "A value is trying to be set on a copy of a slice from a DataFrame.\n",
      "Try using .loc[row_indexer,col_indexer] = value instead\n",
      "\n",
      "See the caveats in the documentation: https://pandas.pydata.org/pandas-docs/stable/user_guide/indexing.html#returning-a-view-versus-a-copy\n",
      "  data_model[\"encoded_local_type_l\"] = [4 if local == \"Local industriel. commercial ou assimilé\" else 0 for local in data_model[\"type_local\"]]\n",
      "/tmp/ipykernel_3398/2260805932.py:13: FutureWarning: Dropping of nuisance columns in DataFrame reductions (with 'numeric_only=None') is deprecated; in a future version this will raise TypeError.  Select only valid columns before calling the reduction.\n",
      "  data_model[\"encoded_local_type\"] = data_model.loc[:,list_name].sum(axis = 1)\n",
      "/tmp/ipykernel_3398/2260805932.py:28: FutureWarning: Dropping of nuisance columns in DataFrame reductions (with 'numeric_only=None') is deprecated; in a future version this will raise TypeError.  Select only valid columns before calling the reduction.\n",
      "  data_model[\"encoded_nature_culture\"] = data_model.loc[:,list_name].sum(axis = 1)\n"
     ]
    },
    {
     "data": {
      "text/html": [
       "<div>\n",
       "<style scoped>\n",
       "    .dataframe tbody tr th:only-of-type {\n",
       "        vertical-align: middle;\n",
       "    }\n",
       "\n",
       "    .dataframe tbody tr th {\n",
       "        vertical-align: top;\n",
       "    }\n",
       "\n",
       "    .dataframe thead th {\n",
       "        text-align: right;\n",
       "    }\n",
       "</style>\n",
       "<table border=\"1\" class=\"dataframe\">\n",
       "  <thead>\n",
       "    <tr style=\"text-align: right;\">\n",
       "      <th></th>\n",
       "      <th>valeur_fonciere</th>\n",
       "      <th>surface_reelle_bati</th>\n",
       "      <th>nombre_pieces_principales</th>\n",
       "      <th>surface_terrain</th>\n",
       "      <th>longitude</th>\n",
       "      <th>latitude</th>\n",
       "      <th>code_departement</th>\n",
       "      <th>prix_m2</th>\n",
       "      <th>encoded_local_type</th>\n",
       "      <th>encoded_nature_culture</th>\n",
       "    </tr>\n",
       "  </thead>\n",
       "  <tbody>\n",
       "    <tr>\n",
       "      <th>0</th>\n",
       "      <td>10.0</td>\n",
       "      <td>0.0</td>\n",
       "      <td>0.0</td>\n",
       "      <td>530.0</td>\n",
       "      <td>4.844368</td>\n",
       "      <td>46.224233</td>\n",
       "      <td>1</td>\n",
       "      <td>53.000000</td>\n",
       "      <td>0</td>\n",
       "      <td>1</td>\n",
       "    </tr>\n",
       "    <tr>\n",
       "      <th>1</th>\n",
       "      <td>204332.0</td>\n",
       "      <td>88.0</td>\n",
       "      <td>4.0</td>\n",
       "      <td>866.0</td>\n",
       "      <td>5.157688</td>\n",
       "      <td>46.200988</td>\n",
       "      <td>1</td>\n",
       "      <td>0.004238</td>\n",
       "      <td>1</td>\n",
       "      <td>2</td>\n",
       "    </tr>\n",
       "    <tr>\n",
       "      <th>2</th>\n",
       "      <td>36.3</td>\n",
       "      <td>0.0</td>\n",
       "      <td>0.0</td>\n",
       "      <td>121.0</td>\n",
       "      <td>5.462947</td>\n",
       "      <td>46.256243</td>\n",
       "      <td>1</td>\n",
       "      <td>3.333333</td>\n",
       "      <td>0</td>\n",
       "      <td>1</td>\n",
       "    </tr>\n",
       "    <tr>\n",
       "      <th>3</th>\n",
       "      <td>400.0</td>\n",
       "      <td>0.0</td>\n",
       "      <td>0.0</td>\n",
       "      <td>460.0</td>\n",
       "      <td>5.115375</td>\n",
       "      <td>46.211715</td>\n",
       "      <td>1</td>\n",
       "      <td>1.150000</td>\n",
       "      <td>0</td>\n",
       "      <td>1</td>\n",
       "    </tr>\n",
       "    <tr>\n",
       "      <th>4</th>\n",
       "      <td>4780.0</td>\n",
       "      <td>0.0</td>\n",
       "      <td>0.0</td>\n",
       "      <td>7105.0</td>\n",
       "      <td>5.158681</td>\n",
       "      <td>46.387845</td>\n",
       "      <td>1</td>\n",
       "      <td>1.486402</td>\n",
       "      <td>0</td>\n",
       "      <td>1</td>\n",
       "    </tr>\n",
       "  </tbody>\n",
       "</table>\n",
       "</div>"
      ],
      "text/plain": [
       "   valeur_fonciere  surface_reelle_bati  nombre_pieces_principales  \\\n",
       "0             10.0                  0.0                        0.0   \n",
       "1         204332.0                 88.0                        4.0   \n",
       "2             36.3                  0.0                        0.0   \n",
       "3            400.0                  0.0                        0.0   \n",
       "4           4780.0                  0.0                        0.0   \n",
       "\n",
       "   surface_terrain  longitude   latitude code_departement    prix_m2  \\\n",
       "0            530.0   4.844368  46.224233                1  53.000000   \n",
       "1            866.0   5.157688  46.200988                1   0.004238   \n",
       "2            121.0   5.462947  46.256243                1   3.333333   \n",
       "3            460.0   5.115375  46.211715                1   1.150000   \n",
       "4           7105.0   5.158681  46.387845                1   1.486402   \n",
       "\n",
       "   encoded_local_type  encoded_nature_culture  \n",
       "0                   0                       1  \n",
       "1                   1                       2  \n",
       "2                   0                       1  \n",
       "3                   0                       1  \n",
       "4                   0                       1  "
      ]
     },
     "execution_count": 97,
     "metadata": {},
     "output_type": "execute_result"
    }
   ],
   "source": [
    "# Encoding categorical variables\n",
    "\n",
    "# local_type\n",
    "\n",
    "data_model[\"encoded_local_type_m\"] = [1 if local == \"Maison\" else 0 for local in data_model[\"type_local\"]]\n",
    "data_model[\"encoded_local_type_a\"] = [2 if local == \"Appartement\" else 0 for local in data_model[\"type_local\"]]\n",
    "data_model[\"encoded_local_type_d\"] = [3 if local == \"Dépendance\" else 0 for local in data_model[\"type_local\"]]\n",
    "data_model[\"encoded_local_type_l\"] = [4 if local == \"Local industriel. commercial ou assimilé\" else 0 for local in data_model[\"type_local\"]]\n",
    "\n",
    "list_name = [\"type_local\", \"encoded_local_type_m\", \"encoded_local_type_a\", \"encoded_local_type_d\", \n",
    "             \"encoded_local_type_l\"]\n",
    "\n",
    "data_model[\"encoded_local_type\"] = data_model.loc[:,list_name].sum(axis = 1)\n",
    "\n",
    "data_model = data_model.drop(list_name, axis = 1)\n",
    "\n",
    "# nature_culture\n",
    "\n",
    "data_model[\"encoded_nature_culture_c\"] = [1 if local == \"culture\" else 0 for local in data_model[\"nature_culture\"]]\n",
    "data_model[\"encoded_nature_culture_s\"] = [2 if local == \"sols\" else 0 for local in data_model[\"nature_culture\"]]\n",
    "data_model[\"encoded_nature_culture_tb\"] = [3 if local == \"terrains a bâtir\" else 0 for local in data_model[\"nature_culture\"]]\n",
    "data_model[\"encoded_nature_culture_j\"] = [4 if local == \"jardins\" else 0 for local in data_model[\"nature_culture\"]]\n",
    "data_model[\"encoded_nature_culture_ta\"] = [4 if local == \"terrains d'agrément\" else 0 for local in data_model[\"nature_culture\"]]\n",
    "\n",
    "list_name = [\"nature_culture\", \"encoded_nature_culture_c\", \"encoded_nature_culture_s\", \n",
    "             \"encoded_nature_culture_tb\", \"encoded_nature_culture_j\", \"encoded_nature_culture_ta\"]\n",
    "\n",
    "data_model[\"encoded_nature_culture\"] = data_model.loc[:,list_name].sum(axis = 1)\n",
    "\n",
    "data_model = data_model.drop(list_name, axis = 1)\n",
    "\n",
    "# code_departement\n",
    "\n",
    "data_model[\"code_departement\"] = [201 if code == \"2A\" else code for code in data_model[\"code_departement\"]]\n",
    "data_model[\"code_departement\"] = [202 if code == \"2B\" else code for code in data_model[\"code_departement\"]]\n",
    "\n",
    "# enlever NaN\n",
    "\n",
    "data_model = data_model.fillna(0)\n",
    "\n",
    "data_model.head()"
   ]
  },
  {
   "cell_type": "code",
   "execution_count": 100,
   "id": "dde284a5-4ebd-45fa-a371-09081f62c547",
   "metadata": {},
   "outputs": [
    {
     "data": {
      "text/plain": [
       "RandomForestRegressor(min_samples_split=5, n_estimators=30)"
      ]
     },
     "execution_count": 100,
     "metadata": {},
     "output_type": "execute_result"
    }
   ],
   "source": [
    "# Entraînement du modèle\n",
    "\n",
    "from sklearn.model_selection import train_test_split\n",
    "from sklearn.ensemble import RandomForestRegressor\n",
    "\n",
    "training_data, test_data = train_test_split(data_model, test_size = 0.2)\n",
    "\n",
    "y_train = training_data[\"valeur_fonciere\"].values\n",
    "\n",
    "X_train = training_data.drop([\"valeur_fonciere\", \"prix_m2\"], axis = 1).values\n",
    "\n",
    "model = RandomForestRegressor(n_estimators = 30, min_samples_split = 5)\n",
    "\n",
    "model.fit(X_train, y_train)"
   ]
  },
  {
   "cell_type": "code",
   "execution_count": 104,
   "id": "e8ccb6e3-1963-4c56-92fe-18e6da09dc94",
   "metadata": {},
   "outputs": [
    {
     "name": "stderr",
     "output_type": "stream",
     "text": [
      "/tmp/ipykernel_3398/1961523947.py:6: RuntimeWarning: divide by zero encountered in true_divide\n",
      "  error = np.abs((y_test - y_pred) / y_test)\n",
      "/tmp/ipykernel_3398/1961523947.py:6: RuntimeWarning: invalid value encountered in true_divide\n",
      "  error = np.abs((y_test - y_pred) / y_test)\n"
     ]
    },
    {
     "data": {
      "text/plain": [
       "nan"
      ]
     },
     "execution_count": 104,
     "metadata": {},
     "output_type": "execute_result"
    }
   ],
   "source": [
    "# Test performance\n",
    "\n",
    "y_test = test_data[\"valeur_fonciere\"].values\n",
    "\n",
    "X_test = test_data.drop([\"valeur_fonciere\", \"prix_m2\"], axis = 1).values\n",
    "\n",
    "score = custom_metric(y_test, model.predict(X_test))\n",
    "\n",
    "score"
   ]
  },
  {
   "cell_type": "code",
   "execution_count": 101,
   "id": "48b77649-4c8f-4177-9582-66615b1165b1",
   "metadata": {},
   "outputs": [
    {
     "ename": "NameError",
     "evalue": "name 'y_test' is not defined",
     "output_type": "error",
     "traceback": [
      "\u001b[0;31m---------------------------------------------------------------------------\u001b[0m",
      "\u001b[0;31mNameError\u001b[0m                                 Traceback (most recent call last)",
      "\u001b[0;32m/tmp/ipykernel_3398/1399358440.py\u001b[0m in \u001b[0;36m<module>\u001b[0;34m\u001b[0m\n\u001b[0;32m----> 1\u001b[0;31m \u001b[0mschema\u001b[0m \u001b[0;34m=\u001b[0m \u001b[0mpd\u001b[0m\u001b[0;34m.\u001b[0m\u001b[0mDataFrame\u001b[0m\u001b[0;34m(\u001b[0m\u001b[0;34m(\u001b[0m\u001b[0mnp\u001b[0m\u001b[0;34m.\u001b[0m\u001b[0mabs\u001b[0m\u001b[0;34m(\u001b[0m\u001b[0my_test\u001b[0m \u001b[0;34m-\u001b[0m \u001b[0mmodel\u001b[0m\u001b[0;34m.\u001b[0m\u001b[0mpredict\u001b[0m\u001b[0;34m(\u001b[0m\u001b[0mX_test\u001b[0m\u001b[0;34m)\u001b[0m\u001b[0;34m)\u001b[0m \u001b[0;34m/\u001b[0m \u001b[0my_test\u001b[0m\u001b[0;34m)\u001b[0m\u001b[0;34m)\u001b[0m \u001b[0;34m*\u001b[0m \u001b[0;36m100\u001b[0m\u001b[0;34m\u001b[0m\u001b[0;34m\u001b[0m\u001b[0m\n\u001b[0m\u001b[1;32m      2\u001b[0m \u001b[0;34m\u001b[0m\u001b[0m\n\u001b[1;32m      3\u001b[0m \u001b[0mschema\u001b[0m\u001b[0;34m.\u001b[0m\u001b[0mhist\u001b[0m\u001b[0;34m(\u001b[0m\u001b[0mbins\u001b[0m \u001b[0;34m=\u001b[0m \u001b[0;36m1000\u001b[0m\u001b[0;34m)\u001b[0m\u001b[0;34m\u001b[0m\u001b[0;34m\u001b[0m\u001b[0m\n\u001b[1;32m      4\u001b[0m \u001b[0;34m\u001b[0m\u001b[0m\n\u001b[1;32m      5\u001b[0m \u001b[0mplt\u001b[0m\u001b[0;34m.\u001b[0m\u001b[0mxlabel\u001b[0m\u001b[0;34m(\u001b[0m\u001b[0;34m'Erreur en %'\u001b[0m\u001b[0;34m)\u001b[0m\u001b[0;34m\u001b[0m\u001b[0;34m\u001b[0m\u001b[0m\n",
      "\u001b[0;31mNameError\u001b[0m: name 'y_test' is not defined"
     ]
    }
   ],
   "source": [
    "schema = pd.DataFrame((np.abs(y_test - model.predict(X_test)) / y_test)) * 100\n",
    "\n",
    "schema.hist(bins = 1000)\n",
    "\n",
    "plt.xlabel('Erreur en %')\n",
    "plt.title('Distribution de l\\'erreur de notre modèle')"
   ]
  },
  {
   "cell_type": "code",
   "execution_count": null,
   "id": "6e567025-6019-4fad-867c-d397fc16b1f0",
   "metadata": {},
   "outputs": [],
   "source": []
  },
  {
   "cell_type": "code",
   "execution_count": null,
   "id": "8fad740f-34c7-47a3-8e03-3397d2fba2fe",
   "metadata": {},
   "outputs": [],
   "source": []
  },
  {
   "cell_type": "code",
   "execution_count": null,
   "id": "2a218c8c-ad91-46ed-a38d-2c48b3c4af97",
   "metadata": {},
   "outputs": [],
   "source": []
  },
  {
   "cell_type": "code",
   "execution_count": null,
   "id": "f626e8fb-f0b3-4ffb-ae54-31596c6bc394",
   "metadata": {},
   "outputs": [],
   "source": []
  },
  {
   "cell_type": "code",
   "execution_count": null,
   "id": "9e4dbde4-a651-4aef-a554-1d26a3006238",
   "metadata": {},
   "outputs": [],
   "source": []
  },
  {
   "cell_type": "code",
   "execution_count": null,
   "id": "7719e429-e9f0-4089-94d8-a64833eecaaa",
   "metadata": {},
   "outputs": [],
   "source": []
  },
  {
   "cell_type": "code",
   "execution_count": null,
   "id": "88f7f26f-5215-46d4-aa65-fcf26cf09e4d",
   "metadata": {},
   "outputs": [],
   "source": []
  },
  {
   "cell_type": "code",
   "execution_count": null,
   "id": "4209782c-7646-471b-9fa2-4d234af14b4a",
   "metadata": {},
   "outputs": [],
   "source": []
  },
  {
   "cell_type": "code",
   "execution_count": 84,
   "id": "200b1f38-3f73-4667-bd7a-f02f0210a8a5",
   "metadata": {},
   "outputs": [],
   "source": [
    "# Fonctions d'entraînement du modèle\n",
    "\n",
    "from sklearn.ensemble import RandomForestRegressor\n",
    "from sklearn.preprocessing import LabelEncoder\n",
    "\n",
    "def train_model(training_data, params, features):\n",
    "\n",
    "    model = {}\n",
    "    df_features, target = split_target_features(training_data, \"valeur_fonciere\")\n",
    "\n",
    "    encoder_model = fit_encode_features(df_features, features)\n",
    "    x_train, encoded_features_name = transform_encode_features(\n",
    "        encoder_model, df_features, features\n",
    "    )\n",
    "\n",
    "    regression_model = RandomForestRegressor(params)\n",
    "    regression_model.fit(x_train[encoded_features_name].values, target.values)\n",
    "\n",
    "    model[\"encoder\"] = encoder_model\n",
    "    model[\"regressor\"] = regression_model\n",
    "    model[\"feature_name\"] = features\n",
    "\n",
    "    return model, params\n",
    "\n",
    "\n",
    "def split_target_features(data: pd.DataFrame, target_name: str):\n",
    "\n",
    "    features = [feat for feat in data.columns if feat != target_name]\n",
    "    assert target_name not in features\n",
    "    return data[features], data[target_name]\n",
    "\n",
    "\n",
    "def fit_encode_features(df_features: pd.DataFrame, features_name: list):\n",
    "\n",
    "    cat_features = df_features.select_dtypes(\"object\")\n",
    "    encoders = dict()\n",
    "    for col in cat_features.columns:\n",
    "        if col not in features_name:\n",
    "            continue\n",
    "        encoder = LabelEncoder()\n",
    "        encoder = encoder.fit(list(df_features[col]) + [\"unknown\"])\n",
    "        encoders[col] = encoder\n",
    "\n",
    "    return encoders\n",
    "\n",
    "\n",
    "def transform_encode_features(encoders, df_features: pd.DataFrame, features: list, suffix: str = \"_cat\"):\n",
    "\n",
    "    encoded_features_name = features.copy()\n",
    "    for col in encoders.keys():\n",
    "        if col not in features:\n",
    "            continue\n",
    "        col_cat = col + suffix\n",
    "        new_df_col = list(df_features[col])\n",
    "        for unique_item in np.unique(df_features[col]):\n",
    "            if unique_item not in encoders[col].classes_:\n",
    "                new_df_col = [\"unknown\" if x == unique_item else x for x in new_df_col]\n",
    "        df_features[col_cat] = encoders[col].transform(new_df_col)\n",
    "        df_features[col_cat] = df_features[col_cat].astype(\"category\")\n",
    "        encoded_features_name.remove(col)\n",
    "        encoded_features_name += [col_cat]\n",
    "\n",
    "    return df_features, encoded_features_name\n",
    "\n",
    "\n",
    "def predict_price(df_features, model, features):\n",
    "    \"\"\"\n",
    "    Predict demand by encoding categorical variables and using the regressor model.\n",
    "    \"\"\"\n",
    "    x_test, encoded_features_name = transform_encode_features(\n",
    "        model[\"encoder\"], df_features.copy(), features\n",
    "    )\n",
    "    predicted_data = model[\"regressor\"].predict(x_test[encoded_features_name].values)\n",
    "    return predicted_data\n",
    "\n",
    "\n",
    "def mae(y_true: pd.Series, y_pred: pd.Series, in_percent: bool = False) -> float:\n",
    "\n",
    "    assert len(y_true) > 0, \"MAE need at least one actual\"\n",
    "    assert len(y_pred) > 0, \"MAE needs at least one prediction\"\n",
    "\n",
    "    if in_percent:\n",
    "        return 100 * np.sum(np.abs(y_pred - y_true)) / len(y_true)\n",
    "\n",
    "    return np.sum(np.abs(y_pred - y_true)) / len(y_true)\n",
    "\n",
    "\n",
    "def evaluate(y, y_hat, method):\n",
    "\n",
    "    if method == \"mae\":\n",
    "        score = mae(y, y_hat)\n",
    "    elif method == \"wmape\":\n",
    "        score = wmape(y, y_hat)\n",
    "    elif method == \"smape\":\n",
    "        score = smape(y, y_hat)\n",
    "    elif method == \"r2\":\n",
    "        score = r2(y, y_hat)\n",
    "    else:\n",
    "        raise ValueError(f\"Unknown method for backtest: {method}\")\n",
    "\n",
    "    return score\n",
    "\n",
    "\n",
    "def backtest_model(test_data, model, features):\n",
    "\n",
    "    df_feature, target = split_target_features(test_data, \"valeur_fonciere\")\n",
    "    predicted_data = predict_price(df_feature, model, features)\n",
    "    score = evaluate(target, predicted_data, \"mae\")\n",
    "    return score"
   ]
  },
  {
   "cell_type": "code",
   "execution_count": 85,
   "id": "2a788e04-7c61-4305-8e38-8b3423af9318",
   "metadata": {},
   "outputs": [],
   "source": [
    "# Train - test split\n",
    "\n",
    "from sklearn.model_selection import train_test_split\n",
    "\n",
    "data = data.drop(\"prix_m2\", axis = 1)\n",
    "\n",
    "training_data, test_data = train_test_split(data, test_size = 0.2)"
   ]
  },
  {
   "cell_type": "code",
   "execution_count": 86,
   "id": "17280510-52f8-4810-a49d-d48bc45767a6",
   "metadata": {},
   "outputs": [
    {
     "data": {
      "text/plain": [
       "(306976, 14)"
      ]
     },
     "execution_count": 86,
     "metadata": {},
     "output_type": "execute_result"
    }
   ],
   "source": [
    "training_data.shape"
   ]
  },
  {
   "cell_type": "code",
   "execution_count": 87,
   "id": "0ffada91-a480-4005-b132-3bad0fb7b047",
   "metadata": {},
   "outputs": [
    {
     "ename": "TypeError",
     "evalue": "'<' not supported between instances of 'float' and 'str'",
     "output_type": "error",
     "traceback": [
      "\u001b[0;31m---------------------------------------------------------------------------\u001b[0m",
      "\u001b[0;31mTypeError\u001b[0m                                 Traceback (most recent call last)",
      "\u001b[0;32m/tmp/ipykernel_227/811242285.py\u001b[0m in \u001b[0;36m<module>\u001b[0;34m\u001b[0m\n\u001b[1;32m      5\u001b[0m \u001b[0mmax_depth\u001b[0m \u001b[0;34m=\u001b[0m \u001b[0;36m7\u001b[0m\u001b[0;34m\u001b[0m\u001b[0;34m\u001b[0m\u001b[0m\n\u001b[1;32m      6\u001b[0m \u001b[0;34m\u001b[0m\u001b[0m\n\u001b[0;32m----> 7\u001b[0;31m \u001b[0mmodel_ensae\u001b[0m\u001b[0;34m,\u001b[0m \u001b[0mparams_ensae\u001b[0m \u001b[0;34m=\u001b[0m \u001b[0mtrain_model\u001b[0m\u001b[0;34m(\u001b[0m\u001b[0mtraining_data\u001b[0m\u001b[0;34m,\u001b[0m \u001b[0mmax_depth\u001b[0m\u001b[0;34m,\u001b[0m \u001b[0mfeatures_name\u001b[0m\u001b[0;34m)\u001b[0m\u001b[0;34m\u001b[0m\u001b[0;34m\u001b[0m\u001b[0m\n\u001b[0m\u001b[1;32m      8\u001b[0m \u001b[0;34m\u001b[0m\u001b[0m\n\u001b[1;32m      9\u001b[0m \u001b[0mscore\u001b[0m \u001b[0;34m=\u001b[0m \u001b[0mbacktest_model\u001b[0m\u001b[0;34m(\u001b[0m\u001b[0mtest_data\u001b[0m\u001b[0;34m,\u001b[0m \u001b[0mmodel_ensae\u001b[0m\u001b[0;34m,\u001b[0m \u001b[0mfeatures_name\u001b[0m\u001b[0;34m)\u001b[0m\u001b[0;34m\u001b[0m\u001b[0;34m\u001b[0m\u001b[0m\n",
      "\u001b[0;32m/tmp/ipykernel_227/413190232.py\u001b[0m in \u001b[0;36mtrain_model\u001b[0;34m(training_data, params, features)\u001b[0m\n\u001b[1;32m     10\u001b[0m \u001b[0;34m\u001b[0m\u001b[0m\n\u001b[1;32m     11\u001b[0m     \u001b[0mencoder_model\u001b[0m \u001b[0;34m=\u001b[0m \u001b[0mfit_encode_features\u001b[0m\u001b[0;34m(\u001b[0m\u001b[0mdf_features\u001b[0m\u001b[0;34m,\u001b[0m \u001b[0mfeatures\u001b[0m\u001b[0;34m)\u001b[0m\u001b[0;34m\u001b[0m\u001b[0;34m\u001b[0m\u001b[0m\n\u001b[0;32m---> 12\u001b[0;31m     x_train, encoded_features_name = transform_encode_features(\n\u001b[0m\u001b[1;32m     13\u001b[0m         \u001b[0mencoder_model\u001b[0m\u001b[0;34m,\u001b[0m \u001b[0mdf_features\u001b[0m\u001b[0;34m,\u001b[0m \u001b[0mfeatures\u001b[0m\u001b[0;34m\u001b[0m\u001b[0;34m\u001b[0m\u001b[0m\n\u001b[1;32m     14\u001b[0m     )\n",
      "\u001b[0;32m/tmp/ipykernel_227/413190232.py\u001b[0m in \u001b[0;36mtransform_encode_features\u001b[0;34m(encoders, df_features, features, suffix)\u001b[0m\n\u001b[1;32m     53\u001b[0m         \u001b[0mcol_cat\u001b[0m \u001b[0;34m=\u001b[0m \u001b[0mcol\u001b[0m \u001b[0;34m+\u001b[0m \u001b[0msuffix\u001b[0m\u001b[0;34m\u001b[0m\u001b[0;34m\u001b[0m\u001b[0m\n\u001b[1;32m     54\u001b[0m         \u001b[0mnew_df_col\u001b[0m \u001b[0;34m=\u001b[0m \u001b[0mlist\u001b[0m\u001b[0;34m(\u001b[0m\u001b[0mdf_features\u001b[0m\u001b[0;34m[\u001b[0m\u001b[0mcol\u001b[0m\u001b[0;34m]\u001b[0m\u001b[0;34m)\u001b[0m\u001b[0;34m\u001b[0m\u001b[0;34m\u001b[0m\u001b[0m\n\u001b[0;32m---> 55\u001b[0;31m         \u001b[0;32mfor\u001b[0m \u001b[0munique_item\u001b[0m \u001b[0;32min\u001b[0m \u001b[0mnp\u001b[0m\u001b[0;34m.\u001b[0m\u001b[0munique\u001b[0m\u001b[0;34m(\u001b[0m\u001b[0mdf_features\u001b[0m\u001b[0;34m[\u001b[0m\u001b[0mcol\u001b[0m\u001b[0;34m]\u001b[0m\u001b[0;34m)\u001b[0m\u001b[0;34m:\u001b[0m\u001b[0;34m\u001b[0m\u001b[0;34m\u001b[0m\u001b[0m\n\u001b[0m\u001b[1;32m     56\u001b[0m             \u001b[0;32mif\u001b[0m \u001b[0munique_item\u001b[0m \u001b[0;32mnot\u001b[0m \u001b[0;32min\u001b[0m \u001b[0mencoders\u001b[0m\u001b[0;34m[\u001b[0m\u001b[0mcol\u001b[0m\u001b[0;34m]\u001b[0m\u001b[0;34m.\u001b[0m\u001b[0mclasses_\u001b[0m\u001b[0;34m:\u001b[0m\u001b[0;34m\u001b[0m\u001b[0;34m\u001b[0m\u001b[0m\n\u001b[1;32m     57\u001b[0m                 \u001b[0mnew_df_col\u001b[0m \u001b[0;34m=\u001b[0m \u001b[0;34m[\u001b[0m\u001b[0;34m\"unknown\"\u001b[0m \u001b[0;32mif\u001b[0m \u001b[0mx\u001b[0m \u001b[0;34m==\u001b[0m \u001b[0munique_item\u001b[0m \u001b[0;32melse\u001b[0m \u001b[0mx\u001b[0m \u001b[0;32mfor\u001b[0m \u001b[0mx\u001b[0m \u001b[0;32min\u001b[0m \u001b[0mnew_df_col\u001b[0m\u001b[0;34m]\u001b[0m\u001b[0;34m\u001b[0m\u001b[0;34m\u001b[0m\u001b[0m\n",
      "\u001b[0;32m<__array_function__ internals>\u001b[0m in \u001b[0;36munique\u001b[0;34m(*args, **kwargs)\u001b[0m\n",
      "\u001b[0;32m/opt/conda/lib/python3.9/site-packages/numpy/lib/arraysetops.py\u001b[0m in \u001b[0;36munique\u001b[0;34m(ar, return_index, return_inverse, return_counts, axis)\u001b[0m\n\u001b[1;32m    260\u001b[0m     \u001b[0mar\u001b[0m \u001b[0;34m=\u001b[0m \u001b[0mnp\u001b[0m\u001b[0;34m.\u001b[0m\u001b[0masanyarray\u001b[0m\u001b[0;34m(\u001b[0m\u001b[0mar\u001b[0m\u001b[0;34m)\u001b[0m\u001b[0;34m\u001b[0m\u001b[0;34m\u001b[0m\u001b[0m\n\u001b[1;32m    261\u001b[0m     \u001b[0;32mif\u001b[0m \u001b[0maxis\u001b[0m \u001b[0;32mis\u001b[0m \u001b[0;32mNone\u001b[0m\u001b[0;34m:\u001b[0m\u001b[0;34m\u001b[0m\u001b[0;34m\u001b[0m\u001b[0m\n\u001b[0;32m--> 262\u001b[0;31m         \u001b[0mret\u001b[0m \u001b[0;34m=\u001b[0m \u001b[0m_unique1d\u001b[0m\u001b[0;34m(\u001b[0m\u001b[0mar\u001b[0m\u001b[0;34m,\u001b[0m \u001b[0mreturn_index\u001b[0m\u001b[0;34m,\u001b[0m \u001b[0mreturn_inverse\u001b[0m\u001b[0;34m,\u001b[0m \u001b[0mreturn_counts\u001b[0m\u001b[0;34m)\u001b[0m\u001b[0;34m\u001b[0m\u001b[0;34m\u001b[0m\u001b[0m\n\u001b[0m\u001b[1;32m    263\u001b[0m         \u001b[0;32mreturn\u001b[0m \u001b[0m_unpack_tuple\u001b[0m\u001b[0;34m(\u001b[0m\u001b[0mret\u001b[0m\u001b[0;34m)\u001b[0m\u001b[0;34m\u001b[0m\u001b[0;34m\u001b[0m\u001b[0m\n\u001b[1;32m    264\u001b[0m \u001b[0;34m\u001b[0m\u001b[0m\n",
      "\u001b[0;32m/opt/conda/lib/python3.9/site-packages/numpy/lib/arraysetops.py\u001b[0m in \u001b[0;36m_unique1d\u001b[0;34m(ar, return_index, return_inverse, return_counts)\u001b[0m\n\u001b[1;32m    321\u001b[0m         \u001b[0maux\u001b[0m \u001b[0;34m=\u001b[0m \u001b[0mar\u001b[0m\u001b[0;34m[\u001b[0m\u001b[0mperm\u001b[0m\u001b[0;34m]\u001b[0m\u001b[0;34m\u001b[0m\u001b[0;34m\u001b[0m\u001b[0m\n\u001b[1;32m    322\u001b[0m     \u001b[0;32melse\u001b[0m\u001b[0;34m:\u001b[0m\u001b[0;34m\u001b[0m\u001b[0;34m\u001b[0m\u001b[0m\n\u001b[0;32m--> 323\u001b[0;31m         \u001b[0mar\u001b[0m\u001b[0;34m.\u001b[0m\u001b[0msort\u001b[0m\u001b[0;34m(\u001b[0m\u001b[0;34m)\u001b[0m\u001b[0;34m\u001b[0m\u001b[0;34m\u001b[0m\u001b[0m\n\u001b[0m\u001b[1;32m    324\u001b[0m         \u001b[0maux\u001b[0m \u001b[0;34m=\u001b[0m \u001b[0mar\u001b[0m\u001b[0;34m\u001b[0m\u001b[0;34m\u001b[0m\u001b[0m\n\u001b[1;32m    325\u001b[0m     \u001b[0mmask\u001b[0m \u001b[0;34m=\u001b[0m \u001b[0mnp\u001b[0m\u001b[0;34m.\u001b[0m\u001b[0mempty\u001b[0m\u001b[0;34m(\u001b[0m\u001b[0maux\u001b[0m\u001b[0;34m.\u001b[0m\u001b[0mshape\u001b[0m\u001b[0;34m,\u001b[0m \u001b[0mdtype\u001b[0m\u001b[0;34m=\u001b[0m\u001b[0mnp\u001b[0m\u001b[0;34m.\u001b[0m\u001b[0mbool_\u001b[0m\u001b[0;34m)\u001b[0m\u001b[0;34m\u001b[0m\u001b[0;34m\u001b[0m\u001b[0m\n",
      "\u001b[0;31mTypeError\u001b[0m: '<' not supported between instances of 'float' and 'str'"
     ]
    }
   ],
   "source": [
    "# Colonnes retenues pour la modélisation\n",
    "\n",
    "features_name = ['valeur_fonciere', 'type_local', 'surface_reelle_bati', 'nombre_pieces_principales', \n",
    "                 'nature_culture', 'surface_terrain', 'longitude', 'latitude', 'code_departement', 'prix_m2']\n",
    "max_depth = 7\n",
    "\n",
    "model_ensae, params_ensae = train_model(training_data, max_depth, features_name)\n",
    "\n",
    "score = backtest_model(test_data, model_ensae, features_name)\n",
    "\n",
    "print(f\"Le score SMAPE avec les features sélectionnés est : {score}\")"
   ]
  },
  {
   "cell_type": "code",
   "execution_count": 51,
   "id": "e4c7b710-4f3e-4282-9c63-90c81e0d728c",
   "metadata": {},
   "outputs": [
    {
     "data": {
      "text/plain": [
       "'\\nfrom sklearn.model_selection import train_test_split\\nfrom sklearn.ensemble import RandomForestRegressor\\n\\ny = data[\"valeur_fonciere\"].values\\n\\nX = data.drop([\"valeur_fonciere\", \"prix_m2\"], axis = 1).values\\n\\nmodel = RandomForestRegressor(n_estimators = 30, min_samples_split = 5)\\n\\nmodel.fit(X,y)\\n'"
      ]
     },
     "execution_count": 51,
     "metadata": {},
     "output_type": "execute_result"
    }
   ],
   "source": [
    "\"\"\"\n",
    "from sklearn.model_selection import train_test_split\n",
    "from sklearn.ensemble import RandomForestRegressor\n",
    "\n",
    "y = data[\"valeur_fonciere\"].values\n",
    "\n",
    "X = data.drop([\"valeur_fonciere\", \"prix_m2\"], axis = 1).values\n",
    "\n",
    "model = RandomForestRegressor(n_estimators = 30, min_samples_split = 5)\n",
    "\n",
    "model.fit(X,y)\n",
    "\"\"\""
   ]
  },
  {
   "cell_type": "code",
   "execution_count": null,
   "id": "c9b70e6f-bd16-4fde-bf00-0033919ed5fd",
   "metadata": {},
   "outputs": [],
   "source": []
  },
  {
   "cell_type": "code",
   "execution_count": null,
   "id": "57572c53-dd4f-4290-a773-6af9f26c0b4a",
   "metadata": {},
   "outputs": [],
   "source": []
  },
  {
   "cell_type": "code",
   "execution_count": null,
   "id": "f59febd4-43f9-4214-90a4-870705120f70",
   "metadata": {},
   "outputs": [],
   "source": []
  },
  {
   "cell_type": "code",
   "execution_count": null,
   "id": "62cf3b2d-80f4-4a47-9675-7ed1f2e5843d",
   "metadata": {},
   "outputs": [],
   "source": []
  },
  {
   "cell_type": "code",
   "execution_count": null,
   "id": "2ead191d-7af2-4c89-b71a-6ccb9dc27496",
   "metadata": {},
   "outputs": [],
   "source": []
  },
  {
   "cell_type": "code",
   "execution_count": null,
   "id": "b36246fc",
   "metadata": {},
   "outputs": [],
   "source": []
  },
  {
   "cell_type": "markdown",
   "id": "b36bdb4f",
   "metadata": {},
   "source": [
    "# Début preprocessing Eloi"
   ]
  },
  {
   "cell_type": "code",
   "execution_count": 163,
   "id": "66b3cc36",
   "metadata": {
    "scrolled": true
   },
   "outputs": [],
   "source": [
    "# Les fichiers sont renommés valeursfoncieres-(année)\n",
    "\n",
    "def preprocessing(year):\n",
    "    # path = 'Users\\victo\\Desktop\\ENSAE\\Python\\tokenisation-immo\\valeursfoncieres-'+str(year)+'.csv'\n",
    "    table = pd.read_csv('data/valeursfoncieres-'+ str(year) +'.csv', sep = ',')\n",
    "    \n",
    "    a = [2, 4, 5, 6, 7, 8, 9, 10, 12, 29, 31, 32, 38, 39, 40] \n",
    "    # vecteur des n° des colonnes qui nous intéressent\n",
    "    \n",
    "    a = [k - 1 for k in a]\n",
    "    \n",
    "    table = table[table.columns[a]]\n",
    "\n",
    "    ventes_types = list(table[table.columns[1]].unique())\n",
    "    \n",
    "    table = table[(table['nature_mutation'] == 'Vente') | \n",
    "                  (table['nature_mutation'] == \"Vente en l'état futur d'achèvement\")]\n",
    "\n",
    "    table = table[(table['nombre_lots'] == 0) | (table['nombre_lots'] == 1)]\n",
    "\n",
    "    table = table[table['surface_reelle_bati']!=0]\n",
    "\n",
    "    table = table[table['surface_reelle_bati'].notna()]\n",
    "\n",
    "    table = table[table['valeur_fonciere'].notna()]\n",
    "    \n",
    "    table['adresse_numero'] = table['adresse_numero'].fillna('0').astype(int)\n",
    "    table['adresse_suffixe'] = table['adresse_suffixe'].fillna(' ')\n",
    "    table['adresse_code_voie'] = table['adresse_code_voie'].fillna(' ')\n",
    "    table['adresse_nom_voie'] = table['adresse_nom_voie'].fillna(' ')\n",
    "    table['code_postal'] = table['code_postal'].fillna('0').astype(int)\n",
    "    table['nom_commune'] = table['nom_commune'].fillna(' ')\n",
    "\n",
    "    table['Adresse'] = table['adresse_numero'].astype(str) + ' ' + table['adresse_suffixe'] + ' ' + table['adresse_code_voie'] + ' ' + table['adresse_nom_voie'] + ' ' + table['nom_commune'] + ' ' + table['code_postal'].astype(str) + ' ' + 'France'    \n",
    "    \n",
    "    table.reset_index(drop = True, inplace = True)\n",
    "  \n",
    "    return table"
   ]
  },
  {
   "cell_type": "code",
   "execution_count": 168,
   "id": "7e5ddbe6",
   "metadata": {},
   "outputs": [
    {
     "name": "stderr",
     "output_type": "stream",
     "text": [
      "C:\\Users\\victo\\Anaconda3\\lib\\site-packages\\IPython\\core\\interactiveshell.py:3263: DtypeWarning: Columns (10,12,14,16,17,18,20,22,35,36) have mixed types.Specify dtype option on import or set low_memory=False.\n",
      "  if (await self.run_code(code, result,  async_=asy)):\n"
     ]
    }
   ],
   "source": [
    "test = preprocessing(2017)"
   ]
  },
  {
   "cell_type": "code",
   "execution_count": 173,
   "id": "e7c64da4",
   "metadata": {},
   "outputs": [
    {
     "data": {
      "text/plain": [
       "1140324"
      ]
     },
     "metadata": {},
     "output_type": "display_data"
    },
    {
     "data": {
      "text/html": [
       "<div>\n",
       "<style scoped>\n",
       "    .dataframe tbody tr th:only-of-type {\n",
       "        vertical-align: middle;\n",
       "    }\n",
       "\n",
       "    .dataframe tbody tr th {\n",
       "        vertical-align: top;\n",
       "    }\n",
       "\n",
       "    .dataframe thead th {\n",
       "        text-align: right;\n",
       "    }\n",
       "</style>\n",
       "<table border=\"1\" class=\"dataframe\">\n",
       "  <thead>\n",
       "    <tr style=\"text-align: right;\">\n",
       "      <th></th>\n",
       "      <th>date_mutation</th>\n",
       "      <th>nature_mutation</th>\n",
       "      <th>valeur_fonciere</th>\n",
       "      <th>adresse_numero</th>\n",
       "      <th>adresse_suffixe</th>\n",
       "      <th>adresse_nom_voie</th>\n",
       "      <th>adresse_code_voie</th>\n",
       "      <th>code_postal</th>\n",
       "      <th>nom_commune</th>\n",
       "      <th>nombre_lots</th>\n",
       "      <th>type_local</th>\n",
       "      <th>surface_reelle_bati</th>\n",
       "      <th>surface_terrain</th>\n",
       "      <th>longitude</th>\n",
       "      <th>latitude</th>\n",
       "      <th>Adresse</th>\n",
       "    </tr>\n",
       "  </thead>\n",
       "  <tbody>\n",
       "    <tr>\n",
       "      <th>0</th>\n",
       "      <td>2017-01-03</td>\n",
       "      <td>Vente</td>\n",
       "      <td>258000.0</td>\n",
       "      <td>11</td>\n",
       "      <td></td>\n",
       "      <td>IMP DES PINSONS</td>\n",
       "      <td>0384</td>\n",
       "      <td>1000</td>\n",
       "      <td>Saint-Denis-lès-Bourg</td>\n",
       "      <td>0</td>\n",
       "      <td>Appartement</td>\n",
       "      <td>22.0</td>\n",
       "      <td>655.0</td>\n",
       "      <td>5.205776</td>\n",
       "      <td>46.197455</td>\n",
       "      <td>11   0384 IMP DES PINSONS Saint-Denis-lès-Bour...</td>\n",
       "    </tr>\n",
       "    <tr>\n",
       "      <th>1</th>\n",
       "      <td>2017-01-03</td>\n",
       "      <td>Vente</td>\n",
       "      <td>258000.0</td>\n",
       "      <td>11</td>\n",
       "      <td></td>\n",
       "      <td>IMP DES PINSONS</td>\n",
       "      <td>0384</td>\n",
       "      <td>1000</td>\n",
       "      <td>Saint-Denis-lès-Bourg</td>\n",
       "      <td>0</td>\n",
       "      <td>Appartement</td>\n",
       "      <td>22.0</td>\n",
       "      <td>655.0</td>\n",
       "      <td>5.205776</td>\n",
       "      <td>46.197455</td>\n",
       "      <td>11   0384 IMP DES PINSONS Saint-Denis-lès-Bour...</td>\n",
       "    </tr>\n",
       "    <tr>\n",
       "      <th>2</th>\n",
       "      <td>2017-01-03</td>\n",
       "      <td>Vente</td>\n",
       "      <td>258000.0</td>\n",
       "      <td>11</td>\n",
       "      <td></td>\n",
       "      <td>IMP DES PINSONS</td>\n",
       "      <td>0384</td>\n",
       "      <td>1000</td>\n",
       "      <td>Saint-Denis-lès-Bourg</td>\n",
       "      <td>0</td>\n",
       "      <td>Appartement</td>\n",
       "      <td>120.0</td>\n",
       "      <td>655.0</td>\n",
       "      <td>5.205776</td>\n",
       "      <td>46.197455</td>\n",
       "      <td>11   0384 IMP DES PINSONS Saint-Denis-lès-Bour...</td>\n",
       "    </tr>\n",
       "    <tr>\n",
       "      <th>3</th>\n",
       "      <td>2017-01-05</td>\n",
       "      <td>Vente</td>\n",
       "      <td>175050.0</td>\n",
       "      <td>11</td>\n",
       "      <td></td>\n",
       "      <td>SAINT MICHEL</td>\n",
       "      <td>B244</td>\n",
       "      <td>1370</td>\n",
       "      <td>Val-Revermont</td>\n",
       "      <td>0</td>\n",
       "      <td>Maison</td>\n",
       "      <td>99.0</td>\n",
       "      <td>471.0</td>\n",
       "      <td>5.361589</td>\n",
       "      <td>46.274684</td>\n",
       "      <td>11   B244 SAINT MICHEL Val-Revermont 1370 France</td>\n",
       "    </tr>\n",
       "    <tr>\n",
       "      <th>4</th>\n",
       "      <td>2017-01-06</td>\n",
       "      <td>Vente</td>\n",
       "      <td>162000.0</td>\n",
       "      <td>6</td>\n",
       "      <td></td>\n",
       "      <td>RUE LOUIS BLERIOT</td>\n",
       "      <td>2330</td>\n",
       "      <td>1000</td>\n",
       "      <td>Bourg-en-Bresse</td>\n",
       "      <td>1</td>\n",
       "      <td>Appartement</td>\n",
       "      <td>69.0</td>\n",
       "      <td>NaN</td>\n",
       "      <td>5.233978</td>\n",
       "      <td>46.211926</td>\n",
       "      <td>6   2330 RUE LOUIS BLERIOT Bourg-en-Bresse 100...</td>\n",
       "    </tr>\n",
       "  </tbody>\n",
       "</table>\n",
       "</div>"
      ],
      "text/plain": [
       "  date_mutation nature_mutation  valeur_fonciere  adresse_numero  \\\n",
       "0    2017-01-03           Vente         258000.0              11   \n",
       "1    2017-01-03           Vente         258000.0              11   \n",
       "2    2017-01-03           Vente         258000.0              11   \n",
       "3    2017-01-05           Vente         175050.0              11   \n",
       "4    2017-01-06           Vente         162000.0               6   \n",
       "\n",
       "  adresse_suffixe   adresse_nom_voie adresse_code_voie  code_postal  \\\n",
       "0                    IMP DES PINSONS              0384         1000   \n",
       "1                    IMP DES PINSONS              0384         1000   \n",
       "2                    IMP DES PINSONS              0384         1000   \n",
       "3                       SAINT MICHEL              B244         1370   \n",
       "4                  RUE LOUIS BLERIOT              2330         1000   \n",
       "\n",
       "             nom_commune  nombre_lots   type_local  surface_reelle_bati  \\\n",
       "0  Saint-Denis-lès-Bourg            0  Appartement                 22.0   \n",
       "1  Saint-Denis-lès-Bourg            0  Appartement                 22.0   \n",
       "2  Saint-Denis-lès-Bourg            0  Appartement                120.0   \n",
       "3          Val-Revermont            0       Maison                 99.0   \n",
       "4        Bourg-en-Bresse            1  Appartement                 69.0   \n",
       "\n",
       "   surface_terrain  longitude   latitude  \\\n",
       "0            655.0   5.205776  46.197455   \n",
       "1            655.0   5.205776  46.197455   \n",
       "2            655.0   5.205776  46.197455   \n",
       "3            471.0   5.361589  46.274684   \n",
       "4              NaN   5.233978  46.211926   \n",
       "\n",
       "                                             Adresse  \n",
       "0  11   0384 IMP DES PINSONS Saint-Denis-lès-Bour...  \n",
       "1  11   0384 IMP DES PINSONS Saint-Denis-lès-Bour...  \n",
       "2  11   0384 IMP DES PINSONS Saint-Denis-lès-Bour...  \n",
       "3   11   B244 SAINT MICHEL Val-Revermont 1370 France  \n",
       "4  6   2330 RUE LOUIS BLERIOT Bourg-en-Bresse 100...  "
      ]
     },
     "execution_count": 173,
     "metadata": {},
     "output_type": "execute_result"
    }
   ],
   "source": [
    "display(len(test))\n",
    "test.head()"
   ]
  },
  {
   "cell_type": "code",
   "execution_count": 174,
   "id": "489e3098",
   "metadata": {},
   "outputs": [
    {
     "data": {
      "text/html": [
       "<div>\n",
       "<style scoped>\n",
       "    .dataframe tbody tr th:only-of-type {\n",
       "        vertical-align: middle;\n",
       "    }\n",
       "\n",
       "    .dataframe tbody tr th {\n",
       "        vertical-align: top;\n",
       "    }\n",
       "\n",
       "    .dataframe thead th {\n",
       "        text-align: right;\n",
       "    }\n",
       "</style>\n",
       "<table border=\"1\" class=\"dataframe\">\n",
       "  <thead>\n",
       "    <tr style=\"text-align: right;\">\n",
       "      <th></th>\n",
       "      <th>date_mutation</th>\n",
       "      <th>nature_mutation</th>\n",
       "      <th>valeur_fonciere</th>\n",
       "      <th>adresse_numero</th>\n",
       "      <th>adresse_suffixe</th>\n",
       "      <th>adresse_nom_voie</th>\n",
       "      <th>adresse_code_voie</th>\n",
       "      <th>code_postal</th>\n",
       "      <th>nom_commune</th>\n",
       "      <th>nombre_lots</th>\n",
       "      <th>type_local</th>\n",
       "      <th>surface_reelle_bati</th>\n",
       "      <th>surface_terrain</th>\n",
       "      <th>longitude</th>\n",
       "      <th>latitude</th>\n",
       "      <th>Adresse</th>\n",
       "    </tr>\n",
       "  </thead>\n",
       "  <tbody>\n",
       "    <tr>\n",
       "      <th>0</th>\n",
       "      <td>2017-01-03</td>\n",
       "      <td>Vente</td>\n",
       "      <td>258000.0</td>\n",
       "      <td>11</td>\n",
       "      <td></td>\n",
       "      <td>IMP DES PINSONS</td>\n",
       "      <td>0384</td>\n",
       "      <td>1000</td>\n",
       "      <td>Saint-Denis-lès-Bourg</td>\n",
       "      <td>0</td>\n",
       "      <td>Appartement</td>\n",
       "      <td>22.0</td>\n",
       "      <td>655.0</td>\n",
       "      <td>5.205776</td>\n",
       "      <td>46.197455</td>\n",
       "      <td>11   0384 IMP DES PINSONS Saint-Denis-lès-Bour...</td>\n",
       "    </tr>\n",
       "    <tr>\n",
       "      <th>1</th>\n",
       "      <td>2017-01-03</td>\n",
       "      <td>Vente</td>\n",
       "      <td>258000.0</td>\n",
       "      <td>11</td>\n",
       "      <td></td>\n",
       "      <td>IMP DES PINSONS</td>\n",
       "      <td>0384</td>\n",
       "      <td>1000</td>\n",
       "      <td>Saint-Denis-lès-Bourg</td>\n",
       "      <td>0</td>\n",
       "      <td>Appartement</td>\n",
       "      <td>22.0</td>\n",
       "      <td>655.0</td>\n",
       "      <td>5.205776</td>\n",
       "      <td>46.197455</td>\n",
       "      <td>11   0384 IMP DES PINSONS Saint-Denis-lès-Bour...</td>\n",
       "    </tr>\n",
       "    <tr>\n",
       "      <th>2</th>\n",
       "      <td>2017-01-03</td>\n",
       "      <td>Vente</td>\n",
       "      <td>258000.0</td>\n",
       "      <td>11</td>\n",
       "      <td></td>\n",
       "      <td>IMP DES PINSONS</td>\n",
       "      <td>0384</td>\n",
       "      <td>1000</td>\n",
       "      <td>Saint-Denis-lès-Bourg</td>\n",
       "      <td>0</td>\n",
       "      <td>Appartement</td>\n",
       "      <td>120.0</td>\n",
       "      <td>655.0</td>\n",
       "      <td>5.205776</td>\n",
       "      <td>46.197455</td>\n",
       "      <td>11   0384 IMP DES PINSONS Saint-Denis-lès-Bour...</td>\n",
       "    </tr>\n",
       "    <tr>\n",
       "      <th>3</th>\n",
       "      <td>2017-01-05</td>\n",
       "      <td>Vente</td>\n",
       "      <td>175050.0</td>\n",
       "      <td>11</td>\n",
       "      <td></td>\n",
       "      <td>SAINT MICHEL</td>\n",
       "      <td>B244</td>\n",
       "      <td>1370</td>\n",
       "      <td>Val-Revermont</td>\n",
       "      <td>0</td>\n",
       "      <td>Maison</td>\n",
       "      <td>99.0</td>\n",
       "      <td>471.0</td>\n",
       "      <td>5.361589</td>\n",
       "      <td>46.274684</td>\n",
       "      <td>11   B244 SAINT MICHEL Val-Revermont 1370 France</td>\n",
       "    </tr>\n",
       "    <tr>\n",
       "      <th>4</th>\n",
       "      <td>2017-01-06</td>\n",
       "      <td>Vente</td>\n",
       "      <td>162000.0</td>\n",
       "      <td>6</td>\n",
       "      <td></td>\n",
       "      <td>RUE LOUIS BLERIOT</td>\n",
       "      <td>2330</td>\n",
       "      <td>1000</td>\n",
       "      <td>Bourg-en-Bresse</td>\n",
       "      <td>1</td>\n",
       "      <td>Appartement</td>\n",
       "      <td>69.0</td>\n",
       "      <td>NaN</td>\n",
       "      <td>5.233978</td>\n",
       "      <td>46.211926</td>\n",
       "      <td>6   2330 RUE LOUIS BLERIOT Bourg-en-Bresse 100...</td>\n",
       "    </tr>\n",
       "  </tbody>\n",
       "</table>\n",
       "</div>"
      ],
      "text/plain": [
       "  date_mutation nature_mutation  valeur_fonciere  adresse_numero  \\\n",
       "0    2017-01-03           Vente         258000.0              11   \n",
       "1    2017-01-03           Vente         258000.0              11   \n",
       "2    2017-01-03           Vente         258000.0              11   \n",
       "3    2017-01-05           Vente         175050.0              11   \n",
       "4    2017-01-06           Vente         162000.0               6   \n",
       "\n",
       "  adresse_suffixe   adresse_nom_voie adresse_code_voie  code_postal  \\\n",
       "0                    IMP DES PINSONS              0384         1000   \n",
       "1                    IMP DES PINSONS              0384         1000   \n",
       "2                    IMP DES PINSONS              0384         1000   \n",
       "3                       SAINT MICHEL              B244         1370   \n",
       "4                  RUE LOUIS BLERIOT              2330         1000   \n",
       "\n",
       "             nom_commune  nombre_lots   type_local  surface_reelle_bati  \\\n",
       "0  Saint-Denis-lès-Bourg            0  Appartement                 22.0   \n",
       "1  Saint-Denis-lès-Bourg            0  Appartement                 22.0   \n",
       "2  Saint-Denis-lès-Bourg            0  Appartement                120.0   \n",
       "3          Val-Revermont            0       Maison                 99.0   \n",
       "4        Bourg-en-Bresse            1  Appartement                 69.0   \n",
       "\n",
       "   surface_terrain  longitude   latitude  \\\n",
       "0            655.0   5.205776  46.197455   \n",
       "1            655.0   5.205776  46.197455   \n",
       "2            655.0   5.205776  46.197455   \n",
       "3            471.0   5.361589  46.274684   \n",
       "4              NaN   5.233978  46.211926   \n",
       "\n",
       "                                             Adresse  \n",
       "0  11   0384 IMP DES PINSONS Saint-Denis-lès-Bour...  \n",
       "1  11   0384 IMP DES PINSONS Saint-Denis-lès-Bour...  \n",
       "2  11   0384 IMP DES PINSONS Saint-Denis-lès-Bour...  \n",
       "3   11   B244 SAINT MICHEL Val-Revermont 1370 France  \n",
       "4  6   2330 RUE LOUIS BLERIOT Bourg-en-Bresse 100...  "
      ]
     },
     "execution_count": 174,
     "metadata": {},
     "output_type": "execute_result"
    }
   ],
   "source": [
    "test.drop_duplicates(subset = ['date_mutation', 'valeur_fonciere', 'adresse_nom_voie'], keep='last')\n",
    "test.head()"
   ]
  },
  {
   "cell_type": "code",
   "execution_count": 6,
   "id": "f2d8a19e",
   "metadata": {
    "scrolled": true
   },
   "outputs": [
    {
     "name": "stderr",
     "output_type": "stream",
     "text": [
      "C:\\Users\\victo\\Anaconda3\\lib\\site-packages\\IPython\\core\\interactiveshell.py:3263: DtypeWarning: Columns (10,12,14,16,17,18,20,22,35,36) have mixed types.Specify dtype option on import or set low_memory=False.\n",
      "  if (await self.run_code(code, result,  async_=asy)):\n",
      "C:\\Users\\victo\\Anaconda3\\lib\\site-packages\\IPython\\core\\interactiveshell.py:3263: DtypeWarning: Columns (10,12,14,16,17,18,20,22,26,35,36) have mixed types.Specify dtype option on import or set low_memory=False.\n",
      "  if (await self.run_code(code, result,  async_=asy)):\n"
     ]
    }
   ],
   "source": [
    "# Fonction pour mettre dans 'dicte' les 4 csv après preprocessing\n",
    "\n",
    "dicte = {}\n",
    "years = [2017,2018,2019,2020]\n",
    "for k in years:\n",
    "    dicte[k-2017] = preprocessing(k)"
   ]
  },
  {
   "cell_type": "code",
   "execution_count": 7,
   "id": "65040b7b",
   "metadata": {},
   "outputs": [],
   "source": [
    "output = pd.DataFrame()\n",
    "for k in range(4):\n",
    "    output = pd.concat((output,dicte[k]), axis = 0)"
   ]
  },
  {
   "cell_type": "code",
   "execution_count": 13,
   "id": "f1d9e71d",
   "metadata": {},
   "outputs": [
    {
     "data": {
      "text/html": [
       "<div>\n",
       "<style scoped>\n",
       "    .dataframe tbody tr th:only-of-type {\n",
       "        vertical-align: middle;\n",
       "    }\n",
       "\n",
       "    .dataframe tbody tr th {\n",
       "        vertical-align: top;\n",
       "    }\n",
       "\n",
       "    .dataframe thead th {\n",
       "        text-align: right;\n",
       "    }\n",
       "</style>\n",
       "<table border=\"1\" class=\"dataframe\">\n",
       "  <thead>\n",
       "    <tr style=\"text-align: right;\">\n",
       "      <th></th>\n",
       "      <th>date_mutation</th>\n",
       "      <th>nature_mutation</th>\n",
       "      <th>valeur_fonciere</th>\n",
       "      <th>type_local</th>\n",
       "      <th>surface_reelle_bati</th>\n",
       "      <th>surface_terrain</th>\n",
       "      <th>Adresse</th>\n",
       "      <th>latitude</th>\n",
       "      <th>longitude</th>\n",
       "    </tr>\n",
       "  </thead>\n",
       "  <tbody>\n",
       "    <tr>\n",
       "      <th>0</th>\n",
       "      <td>2017-01-03</td>\n",
       "      <td>Vente</td>\n",
       "      <td>258000.0</td>\n",
       "      <td>Appartement</td>\n",
       "      <td>22.0</td>\n",
       "      <td>655.0</td>\n",
       "      <td>11   0384 IMP DES PINSONS Saint-Denis-lès-Bour...</td>\n",
       "      <td>46.197455</td>\n",
       "      <td>5.205776</td>\n",
       "    </tr>\n",
       "    <tr>\n",
       "      <th>1</th>\n",
       "      <td>2017-01-03</td>\n",
       "      <td>Vente</td>\n",
       "      <td>258000.0</td>\n",
       "      <td>Appartement</td>\n",
       "      <td>22.0</td>\n",
       "      <td>655.0</td>\n",
       "      <td>11   0384 IMP DES PINSONS Saint-Denis-lès-Bour...</td>\n",
       "      <td>46.197455</td>\n",
       "      <td>5.205776</td>\n",
       "    </tr>\n",
       "    <tr>\n",
       "      <th>2</th>\n",
       "      <td>2017-01-03</td>\n",
       "      <td>Vente</td>\n",
       "      <td>258000.0</td>\n",
       "      <td>Appartement</td>\n",
       "      <td>120.0</td>\n",
       "      <td>655.0</td>\n",
       "      <td>11   0384 IMP DES PINSONS Saint-Denis-lès-Bour...</td>\n",
       "      <td>46.197455</td>\n",
       "      <td>5.205776</td>\n",
       "    </tr>\n",
       "    <tr>\n",
       "      <th>3</th>\n",
       "      <td>2017-01-05</td>\n",
       "      <td>Vente</td>\n",
       "      <td>175050.0</td>\n",
       "      <td>Maison</td>\n",
       "      <td>99.0</td>\n",
       "      <td>471.0</td>\n",
       "      <td>11   B244 SAINT MICHEL Val-Revermont 1370 France</td>\n",
       "      <td>46.274684</td>\n",
       "      <td>5.361589</td>\n",
       "    </tr>\n",
       "    <tr>\n",
       "      <th>4</th>\n",
       "      <td>2017-01-06</td>\n",
       "      <td>Vente</td>\n",
       "      <td>162000.0</td>\n",
       "      <td>Appartement</td>\n",
       "      <td>69.0</td>\n",
       "      <td>NaN</td>\n",
       "      <td>6   2330 RUE LOUIS BLERIOT Bourg-en-Bresse 100...</td>\n",
       "      <td>46.211926</td>\n",
       "      <td>5.233978</td>\n",
       "    </tr>\n",
       "    <tr>\n",
       "      <th>...</th>\n",
       "      <td>...</td>\n",
       "      <td>...</td>\n",
       "      <td>...</td>\n",
       "      <td>...</td>\n",
       "      <td>...</td>\n",
       "      <td>...</td>\n",
       "      <td>...</td>\n",
       "      <td>...</td>\n",
       "      <td>...</td>\n",
       "    </tr>\n",
       "    <tr>\n",
       "      <th>1060421</th>\n",
       "      <td>2020-12-16</td>\n",
       "      <td>Vente</td>\n",
       "      <td>1937500.0</td>\n",
       "      <td>Appartement</td>\n",
       "      <td>64.0</td>\n",
       "      <td>447.0</td>\n",
       "      <td>24   1748 RUE CHANOINESSE Paris 4e Arrondissem...</td>\n",
       "      <td>48.854301</td>\n",
       "      <td>2.350486</td>\n",
       "    </tr>\n",
       "    <tr>\n",
       "      <th>1060422</th>\n",
       "      <td>2020-12-16</td>\n",
       "      <td>Vente</td>\n",
       "      <td>1937500.0</td>\n",
       "      <td>Appartement</td>\n",
       "      <td>40.0</td>\n",
       "      <td>447.0</td>\n",
       "      <td>24   1748 RUE CHANOINESSE Paris 4e Arrondissem...</td>\n",
       "      <td>48.854301</td>\n",
       "      <td>2.350486</td>\n",
       "    </tr>\n",
       "    <tr>\n",
       "      <th>1060423</th>\n",
       "      <td>2020-12-16</td>\n",
       "      <td>Vente</td>\n",
       "      <td>1937500.0</td>\n",
       "      <td>Appartement</td>\n",
       "      <td>33.0</td>\n",
       "      <td>447.0</td>\n",
       "      <td>24   1748 RUE CHANOINESSE Paris 4e Arrondissem...</td>\n",
       "      <td>48.854301</td>\n",
       "      <td>2.350486</td>\n",
       "    </tr>\n",
       "    <tr>\n",
       "      <th>1060424</th>\n",
       "      <td>2020-12-16</td>\n",
       "      <td>Vente</td>\n",
       "      <td>1937500.0</td>\n",
       "      <td>Appartement</td>\n",
       "      <td>27.0</td>\n",
       "      <td>447.0</td>\n",
       "      <td>24   1748 RUE CHANOINESSE Paris 4e Arrondissem...</td>\n",
       "      <td>48.854301</td>\n",
       "      <td>2.350486</td>\n",
       "    </tr>\n",
       "    <tr>\n",
       "      <th>1060425</th>\n",
       "      <td>2020-12-16</td>\n",
       "      <td>Vente</td>\n",
       "      <td>1937500.0</td>\n",
       "      <td>Appartement</td>\n",
       "      <td>110.0</td>\n",
       "      <td>447.0</td>\n",
       "      <td>24   1748 RUE CHANOINESSE Paris 4e Arrondissem...</td>\n",
       "      <td>48.854301</td>\n",
       "      <td>2.350486</td>\n",
       "    </tr>\n",
       "  </tbody>\n",
       "</table>\n",
       "<p>4570326 rows × 9 columns</p>\n",
       "</div>"
      ],
      "text/plain": [
       "        date_mutation nature_mutation  valeur_fonciere   type_local  \\\n",
       "0          2017-01-03           Vente         258000.0  Appartement   \n",
       "1          2017-01-03           Vente         258000.0  Appartement   \n",
       "2          2017-01-03           Vente         258000.0  Appartement   \n",
       "3          2017-01-05           Vente         175050.0       Maison   \n",
       "4          2017-01-06           Vente         162000.0  Appartement   \n",
       "...               ...             ...              ...          ...   \n",
       "1060421    2020-12-16           Vente        1937500.0  Appartement   \n",
       "1060422    2020-12-16           Vente        1937500.0  Appartement   \n",
       "1060423    2020-12-16           Vente        1937500.0  Appartement   \n",
       "1060424    2020-12-16           Vente        1937500.0  Appartement   \n",
       "1060425    2020-12-16           Vente        1937500.0  Appartement   \n",
       "\n",
       "         surface_reelle_bati  surface_terrain  \\\n",
       "0                       22.0            655.0   \n",
       "1                       22.0            655.0   \n",
       "2                      120.0            655.0   \n",
       "3                       99.0            471.0   \n",
       "4                       69.0              NaN   \n",
       "...                      ...              ...   \n",
       "1060421                 64.0            447.0   \n",
       "1060422                 40.0            447.0   \n",
       "1060423                 33.0            447.0   \n",
       "1060424                 27.0            447.0   \n",
       "1060425                110.0            447.0   \n",
       "\n",
       "                                                   Adresse   latitude  \\\n",
       "0        11   0384 IMP DES PINSONS Saint-Denis-lès-Bour...  46.197455   \n",
       "1        11   0384 IMP DES PINSONS Saint-Denis-lès-Bour...  46.197455   \n",
       "2        11   0384 IMP DES PINSONS Saint-Denis-lès-Bour...  46.197455   \n",
       "3         11   B244 SAINT MICHEL Val-Revermont 1370 France  46.274684   \n",
       "4        6   2330 RUE LOUIS BLERIOT Bourg-en-Bresse 100...  46.211926   \n",
       "...                                                    ...        ...   \n",
       "1060421  24   1748 RUE CHANOINESSE Paris 4e Arrondissem...  48.854301   \n",
       "1060422  24   1748 RUE CHANOINESSE Paris 4e Arrondissem...  48.854301   \n",
       "1060423  24   1748 RUE CHANOINESSE Paris 4e Arrondissem...  48.854301   \n",
       "1060424  24   1748 RUE CHANOINESSE Paris 4e Arrondissem...  48.854301   \n",
       "1060425  24   1748 RUE CHANOINESSE Paris 4e Arrondissem...  48.854301   \n",
       "\n",
       "         longitude  \n",
       "0         5.205776  \n",
       "1         5.205776  \n",
       "2         5.205776  \n",
       "3         5.361589  \n",
       "4         5.233978  \n",
       "...            ...  \n",
       "1060421   2.350486  \n",
       "1060422   2.350486  \n",
       "1060423   2.350486  \n",
       "1060424   2.350486  \n",
       "1060425   2.350486  \n",
       "\n",
       "[4570326 rows x 9 columns]"
      ]
     },
     "execution_count": 13,
     "metadata": {},
     "output_type": "execute_result"
    }
   ],
   "source": [
    "output = output[['date_mutation', 'nature_mutation', 'valeur_fonciere', 'type_local', \n",
    "                 'surface_reelle_bati', 'surface_terrain', 'Adresse', 'latitude', 'longitude']]\n",
    "output.sample(10)"
   ]
  },
  {
   "cell_type": "code",
   "execution_count": 14,
   "id": "62522e23",
   "metadata": {},
   "outputs": [],
   "source": [
    "# fonction pour exporter le final en div=10 petits fichiers\n",
    "\n",
    "div=10\n",
    "for k in range(div):\n",
    "    name='final-'+str(1+k)+'.csv'\n",
    "    df=output[k*round(len(output)/div):(k+1)*round(len(output)/div)]\n",
    "    df.to_csv(name,index=False,header=True)"
   ]
  },
  {
   "cell_type": "markdown",
   "id": "819d647a",
   "metadata": {},
   "source": [
    "# Etape 2 : création du modèle pour obtenir le prix moyen du voisinage (BallTree)"
   ]
  },
  {
   "cell_type": "markdown",
   "id": "64f6bf6f",
   "metadata": {},
   "source": [
    "### 2.1. Importation des données\n",
    "\n",
    "data_vf : base de données de l'INSEE sur l'historique des valeurs foncières\n",
    "\n",
    "data_communes : base de données de l'INSEE sur les communes françaises"
   ]
  },
  {
   "cell_type": "code",
   "execution_count": 99,
   "id": "4061f43a",
   "metadata": {},
   "outputs": [
    {
     "name": "stderr",
     "output_type": "stream",
     "text": [
      "C:\\Users\\victo\\Anaconda3\\lib\\site-packages\\IPython\\core\\interactiveshell.py:3072: DtypeWarning: Columns (0,15,100) have mixed types.Specify dtype option on import or set low_memory=False.\n",
      "  interactivity=interactivity, compiler=compiler, result=result)\n"
     ]
    }
   ],
   "source": [
    "# importation de data_vf\n",
    "div = 10\n",
    "data_vf = pd.read_csv('data/final-1.csv', sep = ',')\n",
    "for k in range(1, div):\n",
    "    name = 'data/final-' + str(1 + k) + '.csv'\n",
    "    data_vf = pd.concat([data_vf, pd.read_csv(name, sep = ',')])\n",
    "    \n",
    "# importation de data_communes\n",
    "data_communes = pd.read_csv('communes_insee.csv', sep = ';')\n",
    "\n",
    "# importation de data_regions\n",
    "data_regions = pd.read_csv('communes-departement-region.csv', sep = ',')"
   ]
  },
  {
   "cell_type": "markdown",
   "id": "e2143a49",
   "metadata": {},
   "source": [
    "### 2.2. Visualisation des DataFrames"
   ]
  },
  {
   "cell_type": "code",
   "execution_count": 131,
   "id": "bf8fde10",
   "metadata": {},
   "outputs": [
    {
     "name": "stdout",
     "output_type": "stream",
     "text": [
      "Nombre de lignes de data data_vf :\n",
      "4570326\n",
      "Nombre de colonnes de data data_vf :\n",
      "9\n",
      "Visualisation de data_vf :\n"
     ]
    },
    {
     "data": {
      "text/html": [
       "<div>\n",
       "<style scoped>\n",
       "    .dataframe tbody tr th:only-of-type {\n",
       "        vertical-align: middle;\n",
       "    }\n",
       "\n",
       "    .dataframe tbody tr th {\n",
       "        vertical-align: top;\n",
       "    }\n",
       "\n",
       "    .dataframe thead th {\n",
       "        text-align: right;\n",
       "    }\n",
       "</style>\n",
       "<table border=\"1\" class=\"dataframe\">\n",
       "  <thead>\n",
       "    <tr style=\"text-align: right;\">\n",
       "      <th></th>\n",
       "      <th>date_mutation</th>\n",
       "      <th>nature_mutation</th>\n",
       "      <th>valeur_fonciere</th>\n",
       "      <th>type_local</th>\n",
       "      <th>surface_reelle_bati</th>\n",
       "      <th>surface_terrain</th>\n",
       "      <th>Adresse</th>\n",
       "      <th>latitude</th>\n",
       "      <th>longitude</th>\n",
       "    </tr>\n",
       "  </thead>\n",
       "  <tbody>\n",
       "    <tr>\n",
       "      <th>441354</th>\n",
       "      <td>2017-04-25</td>\n",
       "      <td>Vente</td>\n",
       "      <td>88000.0</td>\n",
       "      <td>Maison</td>\n",
       "      <td>162.0</td>\n",
       "      <td>162.0</td>\n",
       "      <td>4   7680 CITE TATTEGRAIN Amiens 80000 France</td>\n",
       "      <td>49.906171</td>\n",
       "      <td>2.275168</td>\n",
       "    </tr>\n",
       "    <tr>\n",
       "      <th>91820</th>\n",
       "      <td>2017-07-31</td>\n",
       "      <td>Vente</td>\n",
       "      <td>8000000.0</td>\n",
       "      <td>Appartement</td>\n",
       "      <td>38.0</td>\n",
       "      <td>8399.0</td>\n",
       "      <td>14   3860 RUE DE LA POTERIE Corbeil-Essonnes 9...</td>\n",
       "      <td>48.615961</td>\n",
       "      <td>2.484637</td>\n",
       "    </tr>\n",
       "    <tr>\n",
       "      <th>54059</th>\n",
       "      <td>2019-03-26</td>\n",
       "      <td>Vente</td>\n",
       "      <td>1860000.0</td>\n",
       "      <td>Local industriel. commercial ou assimilé</td>\n",
       "      <td>826.0</td>\n",
       "      <td>2751.0</td>\n",
       "      <td>2   0825 RUE DU CARRE NORGANDS Sautron 44880 F...</td>\n",
       "      <td>47.256058</td>\n",
       "      <td>-1.648939</td>\n",
       "    </tr>\n",
       "  </tbody>\n",
       "</table>\n",
       "</div>"
      ],
      "text/plain": [
       "       date_mutation nature_mutation  valeur_fonciere  \\\n",
       "441354    2017-04-25           Vente          88000.0   \n",
       "91820     2017-07-31           Vente        8000000.0   \n",
       "54059     2019-03-26           Vente        1860000.0   \n",
       "\n",
       "                                      type_local  surface_reelle_bati  \\\n",
       "441354                                    Maison                162.0   \n",
       "91820                                Appartement                 38.0   \n",
       "54059   Local industriel. commercial ou assimilé                826.0   \n",
       "\n",
       "        surface_terrain                                            Adresse  \\\n",
       "441354            162.0       4   7680 CITE TATTEGRAIN Amiens 80000 France   \n",
       "91820            8399.0  14   3860 RUE DE LA POTERIE Corbeil-Essonnes 9...   \n",
       "54059            2751.0  2   0825 RUE DU CARRE NORGANDS Sautron 44880 F...   \n",
       "\n",
       "         latitude  longitude  \n",
       "441354  49.906171   2.275168  \n",
       "91820   48.615961   2.484637  \n",
       "54059   47.256058  -1.648939  "
      ]
     },
     "execution_count": 131,
     "metadata": {},
     "output_type": "execute_result"
    }
   ],
   "source": [
    "# Visualisation de data_vf\n",
    "print(\"Nombre de lignes de data data_vf :\")\n",
    "print(len(data_vf))\n",
    "print(\"Nombre de colonnes de data data_vf :\")\n",
    "print(len(data_vf.columns))\n",
    "print(\"Visualisation de data_vf :\")\n",
    "data_vf.sample(3)"
   ]
  },
  {
   "cell_type": "code",
   "execution_count": 132,
   "id": "f16c8524",
   "metadata": {},
   "outputs": [
    {
     "name": "stdout",
     "output_type": "stream",
     "text": [
      "Nombre de lignes de data data_communes :\n",
      "36677\n",
      "Nombre de colonnes de data data_communes :\n",
      "101\n",
      "Visualisation de data_communes :\n"
     ]
    },
    {
     "data": {
      "text/plain": [
       "array([82, 22, 83, 93, 21, 73, 91, 25, 54, 24, 74, 26, 53, 72, 43, 23, 94,\n",
       "       52, 41, 31, 42, 11,  1,  2,  3,  4], dtype=int64)"
      ]
     },
     "execution_count": 132,
     "metadata": {},
     "output_type": "execute_result"
    }
   ],
   "source": [
    "# Visualisation de data_communes\n",
    "print(\"Nombre de lignes de data data_communes :\")\n",
    "print(len(data_communes))\n",
    "print(\"Nombre de colonnes de data data_communes :\")\n",
    "print(len(data_communes.columns))\n",
    "print(\"Visualisation de data_communes :\")\n",
    "data_communes[\"REG\"].unique()"
   ]
  },
  {
   "cell_type": "code",
   "execution_count": 134,
   "id": "4d1de4b1",
   "metadata": {},
   "outputs": [
    {
     "name": "stdout",
     "output_type": "stream",
     "text": [
      "Nombre de lignes de data data_regions :\n",
      "39201\n",
      "Nombre de colonnes de data data_regions :\n",
      "15\n",
      "Visualisation de data_regions :\n"
     ]
    },
    {
     "data": {
      "text/html": [
       "<div>\n",
       "<style scoped>\n",
       "    .dataframe tbody tr th:only-of-type {\n",
       "        vertical-align: middle;\n",
       "    }\n",
       "\n",
       "    .dataframe tbody tr th {\n",
       "        vertical-align: top;\n",
       "    }\n",
       "\n",
       "    .dataframe thead th {\n",
       "        text-align: right;\n",
       "    }\n",
       "</style>\n",
       "<table border=\"1\" class=\"dataframe\">\n",
       "  <thead>\n",
       "    <tr style=\"text-align: right;\">\n",
       "      <th></th>\n",
       "      <th>code_commune_INSEE</th>\n",
       "      <th>nom_commune_postal</th>\n",
       "      <th>code_postal</th>\n",
       "      <th>libelle_acheminement</th>\n",
       "      <th>ligne_5</th>\n",
       "      <th>latitude</th>\n",
       "      <th>longitude</th>\n",
       "      <th>code_commune</th>\n",
       "      <th>article</th>\n",
       "      <th>nom_commune</th>\n",
       "      <th>nom_commune_complet</th>\n",
       "      <th>code_departement</th>\n",
       "      <th>nom_departement</th>\n",
       "      <th>code_region</th>\n",
       "      <th>nom_region</th>\n",
       "    </tr>\n",
       "  </thead>\n",
       "  <tbody>\n",
       "    <tr>\n",
       "      <th>593</th>\n",
       "      <td>2137</td>\n",
       "      <td>BUSSIARES</td>\n",
       "      <td>2810</td>\n",
       "      <td>BUSSIARES</td>\n",
       "      <td>NaN</td>\n",
       "      <td>49.076591</td>\n",
       "      <td>3.250262</td>\n",
       "      <td>137.0</td>\n",
       "      <td>NaN</td>\n",
       "      <td>Bussiares</td>\n",
       "      <td>Bussiares</td>\n",
       "      <td>2</td>\n",
       "      <td>Aisne</td>\n",
       "      <td>32.0</td>\n",
       "      <td>Hauts-de-France</td>\n",
       "    </tr>\n",
       "    <tr>\n",
       "      <th>22107</th>\n",
       "      <td>54207</td>\n",
       "      <td>FRAISNES EN SAINTOIS</td>\n",
       "      <td>54930</td>\n",
       "      <td>FRAISNES EN SAINTOIS</td>\n",
       "      <td>NaN</td>\n",
       "      <td>48.374206</td>\n",
       "      <td>6.060920</td>\n",
       "      <td>207.0</td>\n",
       "      <td>NaN</td>\n",
       "      <td>Fraisnes-en-Saintois</td>\n",
       "      <td>Fraisnes-en-Saintois</td>\n",
       "      <td>54</td>\n",
       "      <td>Meurthe-et-Moselle</td>\n",
       "      <td>44.0</td>\n",
       "      <td>Grand Est</td>\n",
       "    </tr>\n",
       "    <tr>\n",
       "      <th>36781</th>\n",
       "      <td>86217</td>\n",
       "      <td>ST CHRISTOPHE</td>\n",
       "      <td>86230</td>\n",
       "      <td>ST CHRISTOPHE</td>\n",
       "      <td>NaN</td>\n",
       "      <td>46.925281</td>\n",
       "      <td>0.374730</td>\n",
       "      <td>217.0</td>\n",
       "      <td>NaN</td>\n",
       "      <td>Saint-Christophe</td>\n",
       "      <td>Saint-Christophe</td>\n",
       "      <td>86</td>\n",
       "      <td>Vienne</td>\n",
       "      <td>75.0</td>\n",
       "      <td>Nouvelle-Aquitaine</td>\n",
       "    </tr>\n",
       "  </tbody>\n",
       "</table>\n",
       "</div>"
      ],
      "text/plain": [
       "      code_commune_INSEE    nom_commune_postal  code_postal  \\\n",
       "593                 2137             BUSSIARES         2810   \n",
       "22107              54207  FRAISNES EN SAINTOIS        54930   \n",
       "36781              86217         ST CHRISTOPHE        86230   \n",
       "\n",
       "       libelle_acheminement ligne_5   latitude  longitude  code_commune  \\\n",
       "593               BUSSIARES     NaN  49.076591   3.250262         137.0   \n",
       "22107  FRAISNES EN SAINTOIS     NaN  48.374206   6.060920         207.0   \n",
       "36781         ST CHRISTOPHE     NaN  46.925281   0.374730         217.0   \n",
       "\n",
       "      article           nom_commune   nom_commune_complet code_departement  \\\n",
       "593       NaN             Bussiares             Bussiares                2   \n",
       "22107     NaN  Fraisnes-en-Saintois  Fraisnes-en-Saintois               54   \n",
       "36781     NaN      Saint-Christophe      Saint-Christophe               86   \n",
       "\n",
       "          nom_departement  code_region          nom_region  \n",
       "593                 Aisne         32.0     Hauts-de-France  \n",
       "22107  Meurthe-et-Moselle         44.0           Grand Est  \n",
       "36781              Vienne         75.0  Nouvelle-Aquitaine  "
      ]
     },
     "metadata": {},
     "output_type": "display_data"
    },
    {
     "data": {
      "text/plain": [
       "19"
      ]
     },
     "execution_count": 134,
     "metadata": {},
     "output_type": "execute_result"
    }
   ],
   "source": [
    "# Visualisation de data_regions\n",
    "print(\"Nombre de lignes de data data_regions :\")\n",
    "print(len(data_regions))\n",
    "print(\"Nombre de colonnes de data data_regions :\")\n",
    "print(len(data_regions.columns))\n",
    "print(\"Visualisation de data_regions :\")\n",
    "display(data_regions.sample(3))\n",
    "len(data_regions[\"code_region\"].unique())"
   ]
  },
  {
   "cell_type": "code",
   "execution_count": 135,
   "id": "76042c1b",
   "metadata": {},
   "outputs": [
    {
     "data": {
      "text/html": [
       "<div>\n",
       "<style scoped>\n",
       "    .dataframe tbody tr th:only-of-type {\n",
       "        vertical-align: middle;\n",
       "    }\n",
       "\n",
       "    .dataframe tbody tr th {\n",
       "        vertical-align: top;\n",
       "    }\n",
       "\n",
       "    .dataframe thead th {\n",
       "        text-align: right;\n",
       "    }\n",
       "</style>\n",
       "<table border=\"1\" class=\"dataframe\">\n",
       "  <thead>\n",
       "    <tr style=\"text-align: right;\">\n",
       "      <th></th>\n",
       "      <th>INSEE commune</th>\n",
       "      <th>Commune</th>\n",
       "      <th>Agriculture</th>\n",
       "      <th>Autres transports</th>\n",
       "      <th>Autres transports international</th>\n",
       "      <th>CO2 biomasse hors-total</th>\n",
       "      <th>Déchets</th>\n",
       "      <th>Energie</th>\n",
       "      <th>Industrie hors-énergie</th>\n",
       "      <th>Résidentiel</th>\n",
       "      <th>Routier</th>\n",
       "      <th>Tertiaire</th>\n",
       "    </tr>\n",
       "  </thead>\n",
       "  <tbody>\n",
       "    <tr>\n",
       "      <th>23240</th>\n",
       "      <td>60100</td>\n",
       "      <td>BRASSEUSE</td>\n",
       "      <td>1538.331660</td>\n",
       "      <td>NaN</td>\n",
       "      <td>NaN</td>\n",
       "      <td>2394.771227</td>\n",
       "      <td>10.976179</td>\n",
       "      <td>202.491966</td>\n",
       "      <td>594.364348</td>\n",
       "      <td>39.076745</td>\n",
       "      <td>23014.428150</td>\n",
       "      <td>39.718386</td>\n",
       "    </tr>\n",
       "    <tr>\n",
       "      <th>30803</th>\n",
       "      <td>76734</td>\n",
       "      <td>VERGETOT</td>\n",
       "      <td>1296.257937</td>\n",
       "      <td>NaN</td>\n",
       "      <td>NaN</td>\n",
       "      <td>365.890566</td>\n",
       "      <td>57.261273</td>\n",
       "      <td>9.418231</td>\n",
       "      <td>27.644853</td>\n",
       "      <td>170.448959</td>\n",
       "      <td>1702.040285</td>\n",
       "      <td>207.205557</td>\n",
       "    </tr>\n",
       "    <tr>\n",
       "      <th>8512</th>\n",
       "      <td>24425</td>\n",
       "      <td>SAINT-JEAN-DE-COLE</td>\n",
       "      <td>694.270708</td>\n",
       "      <td>NaN</td>\n",
       "      <td>NaN</td>\n",
       "      <td>505.694625</td>\n",
       "      <td>157.602559</td>\n",
       "      <td>87.118636</td>\n",
       "      <td>255.714894</td>\n",
       "      <td>210.327122</td>\n",
       "      <td>654.762001</td>\n",
       "      <td>174.186658</td>\n",
       "    </tr>\n",
       "  </tbody>\n",
       "</table>\n",
       "</div>"
      ],
      "text/plain": [
       "      INSEE commune             Commune  Agriculture  Autres transports  \\\n",
       "23240         60100           BRASSEUSE  1538.331660                NaN   \n",
       "30803         76734            VERGETOT  1296.257937                NaN   \n",
       "8512          24425  SAINT-JEAN-DE-COLE   694.270708                NaN   \n",
       "\n",
       "       Autres transports international  CO2 biomasse hors-total     Déchets  \\\n",
       "23240                              NaN              2394.771227   10.976179   \n",
       "30803                              NaN               365.890566   57.261273   \n",
       "8512                               NaN               505.694625  157.602559   \n",
       "\n",
       "          Energie  Industrie hors-énergie  Résidentiel       Routier  \\\n",
       "23240  202.491966              594.364348    39.076745  23014.428150   \n",
       "30803    9.418231               27.644853   170.448959   1702.040285   \n",
       "8512    87.118636              255.714894   210.327122    654.762001   \n",
       "\n",
       "        Tertiaire  \n",
       "23240   39.718386  \n",
       "30803  207.205557  \n",
       "8512   174.186658  "
      ]
     },
     "execution_count": 135,
     "metadata": {},
     "output_type": "execute_result"
    }
   ],
   "source": [
    "df_co2 = pd.read_csv(\"https://koumoul.com/s/data-fair/api/v1/datasets/igt-pouvoir-de-rechauffement-global/convert\")\n",
    "df_co2.sample(3)"
   ]
  },
  {
   "cell_type": "markdown",
   "id": "b1c356fe",
   "metadata": {},
   "source": [
    "2.3. Création d'une BDD inédite"
   ]
  },
  {
   "cell_type": "code",
   "execution_count": 159,
   "id": "9942cde4",
   "metadata": {},
   "outputs": [
    {
     "data": {
      "text/html": [
       "<div>\n",
       "<style scoped>\n",
       "    .dataframe tbody tr th:only-of-type {\n",
       "        vertical-align: middle;\n",
       "    }\n",
       "\n",
       "    .dataframe tbody tr th {\n",
       "        vertical-align: top;\n",
       "    }\n",
       "\n",
       "    .dataframe thead th {\n",
       "        text-align: right;\n",
       "    }\n",
       "</style>\n",
       "<table border=\"1\" class=\"dataframe\">\n",
       "  <thead>\n",
       "    <tr style=\"text-align: right;\">\n",
       "      <th></th>\n",
       "      <th>date_mutation</th>\n",
       "      <th>nature_mutation</th>\n",
       "      <th>valeur_fonciere</th>\n",
       "      <th>type_local</th>\n",
       "      <th>surface_reelle_bati</th>\n",
       "      <th>surface_terrain</th>\n",
       "      <th>Adresse</th>\n",
       "      <th>latitude</th>\n",
       "      <th>longitude</th>\n",
       "    </tr>\n",
       "  </thead>\n",
       "  <tbody>\n",
       "    <tr>\n",
       "      <th>0</th>\n",
       "      <td>2017-03-03</td>\n",
       "      <td>Vente</td>\n",
       "      <td>190000.0</td>\n",
       "      <td>Maison</td>\n",
       "      <td>126.0</td>\n",
       "      <td>431.0</td>\n",
       "      <td>7   0046 RUE DES NOYERS Fossé 41330 France</td>\n",
       "      <td>47.633330</td>\n",
       "      <td>1.282117</td>\n",
       "    </tr>\n",
       "    <tr>\n",
       "      <th>1</th>\n",
       "      <td>2017-03-08</td>\n",
       "      <td>Vente</td>\n",
       "      <td>80000.0</td>\n",
       "      <td>Maison</td>\n",
       "      <td>40.0</td>\n",
       "      <td>NaN</td>\n",
       "      <td>24   0390 RUE DU GAZOMETRE Montrichard Val de ...</td>\n",
       "      <td>47.341854</td>\n",
       "      <td>1.179088</td>\n",
       "    </tr>\n",
       "    <tr>\n",
       "      <th>2</th>\n",
       "      <td>2017-03-08</td>\n",
       "      <td>Vente</td>\n",
       "      <td>80000.0</td>\n",
       "      <td>Maison</td>\n",
       "      <td>30.0</td>\n",
       "      <td>NaN</td>\n",
       "      <td>24 B 0390 RUE DU GAZOMETRE Montrichard Val de ...</td>\n",
       "      <td>47.341854</td>\n",
       "      <td>1.179088</td>\n",
       "    </tr>\n",
       "    <tr>\n",
       "      <th>3</th>\n",
       "      <td>2017-03-21</td>\n",
       "      <td>Vente</td>\n",
       "      <td>95000.0</td>\n",
       "      <td>Local industriel. commercial ou assimilé</td>\n",
       "      <td>271.0</td>\n",
       "      <td>1200.0</td>\n",
       "      <td>215   0070 RUE DE CHAMP CHARDON Mont-près-Cham...</td>\n",
       "      <td>47.556513</td>\n",
       "      <td>1.443888</td>\n",
       "    </tr>\n",
       "    <tr>\n",
       "      <th>4</th>\n",
       "      <td>2017-03-23</td>\n",
       "      <td>Vente</td>\n",
       "      <td>163000.0</td>\n",
       "      <td>Maison</td>\n",
       "      <td>79.0</td>\n",
       "      <td>626.0</td>\n",
       "      <td>5   0104 RUE DU 8 MAI 1945 Cour-Cheverny 41700...</td>\n",
       "      <td>47.513564</td>\n",
       "      <td>1.453183</td>\n",
       "    </tr>\n",
       "    <tr>\n",
       "      <th>...</th>\n",
       "      <td>...</td>\n",
       "      <td>...</td>\n",
       "      <td>...</td>\n",
       "      <td>...</td>\n",
       "      <td>...</td>\n",
       "      <td>...</td>\n",
       "      <td>...</td>\n",
       "      <td>...</td>\n",
       "      <td>...</td>\n",
       "    </tr>\n",
       "    <tr>\n",
       "      <th>457024</th>\n",
       "      <td>2020-12-16</td>\n",
       "      <td>Vente</td>\n",
       "      <td>1937500.0</td>\n",
       "      <td>Appartement</td>\n",
       "      <td>64.0</td>\n",
       "      <td>447.0</td>\n",
       "      <td>24   1748 RUE CHANOINESSE Paris 4e Arrondissem...</td>\n",
       "      <td>48.854301</td>\n",
       "      <td>2.350486</td>\n",
       "    </tr>\n",
       "    <tr>\n",
       "      <th>457025</th>\n",
       "      <td>2020-12-16</td>\n",
       "      <td>Vente</td>\n",
       "      <td>1937500.0</td>\n",
       "      <td>Appartement</td>\n",
       "      <td>40.0</td>\n",
       "      <td>447.0</td>\n",
       "      <td>24   1748 RUE CHANOINESSE Paris 4e Arrondissem...</td>\n",
       "      <td>48.854301</td>\n",
       "      <td>2.350486</td>\n",
       "    </tr>\n",
       "    <tr>\n",
       "      <th>457026</th>\n",
       "      <td>2020-12-16</td>\n",
       "      <td>Vente</td>\n",
       "      <td>1937500.0</td>\n",
       "      <td>Appartement</td>\n",
       "      <td>33.0</td>\n",
       "      <td>447.0</td>\n",
       "      <td>24   1748 RUE CHANOINESSE Paris 4e Arrondissem...</td>\n",
       "      <td>48.854301</td>\n",
       "      <td>2.350486</td>\n",
       "    </tr>\n",
       "    <tr>\n",
       "      <th>457027</th>\n",
       "      <td>2020-12-16</td>\n",
       "      <td>Vente</td>\n",
       "      <td>1937500.0</td>\n",
       "      <td>Appartement</td>\n",
       "      <td>27.0</td>\n",
       "      <td>447.0</td>\n",
       "      <td>24   1748 RUE CHANOINESSE Paris 4e Arrondissem...</td>\n",
       "      <td>48.854301</td>\n",
       "      <td>2.350486</td>\n",
       "    </tr>\n",
       "    <tr>\n",
       "      <th>457028</th>\n",
       "      <td>2020-12-16</td>\n",
       "      <td>Vente</td>\n",
       "      <td>1937500.0</td>\n",
       "      <td>Appartement</td>\n",
       "      <td>110.0</td>\n",
       "      <td>447.0</td>\n",
       "      <td>24   1748 RUE CHANOINESSE Paris 4e Arrondissem...</td>\n",
       "      <td>48.854301</td>\n",
       "      <td>2.350486</td>\n",
       "    </tr>\n",
       "  </tbody>\n",
       "</table>\n",
       "<p>4113293 rows × 9 columns</p>\n",
       "</div>"
      ],
      "text/plain": [
       "       date_mutation nature_mutation  valeur_fonciere  \\\n",
       "0         2017-03-03           Vente         190000.0   \n",
       "1         2017-03-08           Vente          80000.0   \n",
       "2         2017-03-08           Vente          80000.0   \n",
       "3         2017-03-21           Vente          95000.0   \n",
       "4         2017-03-23           Vente         163000.0   \n",
       "...              ...             ...              ...   \n",
       "457024    2020-12-16           Vente        1937500.0   \n",
       "457025    2020-12-16           Vente        1937500.0   \n",
       "457026    2020-12-16           Vente        1937500.0   \n",
       "457027    2020-12-16           Vente        1937500.0   \n",
       "457028    2020-12-16           Vente        1937500.0   \n",
       "\n",
       "                                      type_local  surface_reelle_bati  \\\n",
       "0                                         Maison                126.0   \n",
       "1                                         Maison                 40.0   \n",
       "2                                         Maison                 30.0   \n",
       "3       Local industriel. commercial ou assimilé                271.0   \n",
       "4                                         Maison                 79.0   \n",
       "...                                          ...                  ...   \n",
       "457024                               Appartement                 64.0   \n",
       "457025                               Appartement                 40.0   \n",
       "457026                               Appartement                 33.0   \n",
       "457027                               Appartement                 27.0   \n",
       "457028                               Appartement                110.0   \n",
       "\n",
       "        surface_terrain                                            Adresse  \\\n",
       "0                 431.0         7   0046 RUE DES NOYERS Fossé 41330 France   \n",
       "1                   NaN  24   0390 RUE DU GAZOMETRE Montrichard Val de ...   \n",
       "2                   NaN  24 B 0390 RUE DU GAZOMETRE Montrichard Val de ...   \n",
       "3                1200.0  215   0070 RUE DE CHAMP CHARDON Mont-près-Cham...   \n",
       "4                 626.0  5   0104 RUE DU 8 MAI 1945 Cour-Cheverny 41700...   \n",
       "...                 ...                                                ...   \n",
       "457024            447.0  24   1748 RUE CHANOINESSE Paris 4e Arrondissem...   \n",
       "457025            447.0  24   1748 RUE CHANOINESSE Paris 4e Arrondissem...   \n",
       "457026            447.0  24   1748 RUE CHANOINESSE Paris 4e Arrondissem...   \n",
       "457027            447.0  24   1748 RUE CHANOINESSE Paris 4e Arrondissem...   \n",
       "457028            447.0  24   1748 RUE CHANOINESSE Paris 4e Arrondissem...   \n",
       "\n",
       "         latitude  longitude  \n",
       "0       47.633330   1.282117  \n",
       "1       47.341854   1.179088  \n",
       "2       47.341854   1.179088  \n",
       "3       47.556513   1.443888  \n",
       "4       47.513564   1.453183  \n",
       "...           ...        ...  \n",
       "457024  48.854301   2.350486  \n",
       "457025  48.854301   2.350486  \n",
       "457026  48.854301   2.350486  \n",
       "457027  48.854301   2.350486  \n",
       "457028  48.854301   2.350486  \n",
       "\n",
       "[4113293 rows x 9 columns]"
      ]
     },
     "execution_count": 159,
     "metadata": {},
     "output_type": "execute_result"
    }
   ],
   "source": [
    "data_vf[data_vf.index.duplicated()]"
   ]
  },
  {
   "cell_type": "code",
   "execution_count": 158,
   "id": "072212cd",
   "metadata": {},
   "outputs": [
    {
     "ename": "ValueError",
     "evalue": "cannot reindex from a duplicate axis",
     "output_type": "error",
     "traceback": [
      "\u001b[1;31m---------------------------------------------------------------------------\u001b[0m",
      "\u001b[1;31mValueError\u001b[0m                                Traceback (most recent call last)",
      "\u001b[1;32m<ipython-input-158-62d36166ce18>\u001b[0m in \u001b[0;36m<module>\u001b[1;34m\u001b[0m\n\u001b[0;32m      3\u001b[0m \u001b[1;33m\u001b[0m\u001b[0m\n\u001b[0;32m      4\u001b[0m \u001b[1;31m# prix_m2\u001b[0m\u001b[1;33m\u001b[0m\u001b[1;33m\u001b[0m\u001b[1;33m\u001b[0m\u001b[0m\n\u001b[1;32m----> 5\u001b[1;33m \u001b[0mdata_new\u001b[0m\u001b[1;33m[\u001b[0m\u001b[1;34m'prix_m2'\u001b[0m\u001b[1;33m]\u001b[0m \u001b[1;33m=\u001b[0m \u001b[0mdata_vf\u001b[0m\u001b[1;33m[\u001b[0m\u001b[1;34m'surface_terrain'\u001b[0m\u001b[1;33m]\u001b[0m \u001b[1;33m/\u001b[0m \u001b[0mdata_vf\u001b[0m\u001b[1;33m[\u001b[0m\u001b[1;34m'valeur_fonciere'\u001b[0m\u001b[1;33m]\u001b[0m\u001b[1;33m\u001b[0m\u001b[1;33m\u001b[0m\u001b[0m\n\u001b[0m\u001b[0;32m      6\u001b[0m \u001b[1;33m\u001b[0m\u001b[0m\n\u001b[0;32m      7\u001b[0m \u001b[1;31m# cp\u001b[0m\u001b[1;33m\u001b[0m\u001b[1;33m\u001b[0m\u001b[1;33m\u001b[0m\u001b[0m\n",
      "\u001b[1;32m~\\Anaconda3\\lib\\site-packages\\pandas\\core\\frame.py\u001b[0m in \u001b[0;36m__setitem__\u001b[1;34m(self, key, value)\u001b[0m\n\u001b[0;32m   2936\u001b[0m         \u001b[1;32melse\u001b[0m\u001b[1;33m:\u001b[0m\u001b[1;33m\u001b[0m\u001b[1;33m\u001b[0m\u001b[0m\n\u001b[0;32m   2937\u001b[0m             \u001b[1;31m# set column\u001b[0m\u001b[1;33m\u001b[0m\u001b[1;33m\u001b[0m\u001b[1;33m\u001b[0m\u001b[0m\n\u001b[1;32m-> 2938\u001b[1;33m             \u001b[0mself\u001b[0m\u001b[1;33m.\u001b[0m\u001b[0m_set_item\u001b[0m\u001b[1;33m(\u001b[0m\u001b[0mkey\u001b[0m\u001b[1;33m,\u001b[0m \u001b[0mvalue\u001b[0m\u001b[1;33m)\u001b[0m\u001b[1;33m\u001b[0m\u001b[1;33m\u001b[0m\u001b[0m\n\u001b[0m\u001b[0;32m   2939\u001b[0m \u001b[1;33m\u001b[0m\u001b[0m\n\u001b[0;32m   2940\u001b[0m     \u001b[1;32mdef\u001b[0m \u001b[0m_setitem_slice\u001b[0m\u001b[1;33m(\u001b[0m\u001b[0mself\u001b[0m\u001b[1;33m,\u001b[0m \u001b[0mkey\u001b[0m\u001b[1;33m,\u001b[0m \u001b[0mvalue\u001b[0m\u001b[1;33m)\u001b[0m\u001b[1;33m:\u001b[0m\u001b[1;33m\u001b[0m\u001b[1;33m\u001b[0m\u001b[0m\n",
      "\u001b[1;32m~\\Anaconda3\\lib\\site-packages\\pandas\\core\\frame.py\u001b[0m in \u001b[0;36m_set_item\u001b[1;34m(self, key, value)\u001b[0m\n\u001b[0;32m   2998\u001b[0m \u001b[1;33m\u001b[0m\u001b[0m\n\u001b[0;32m   2999\u001b[0m         \u001b[0mself\u001b[0m\u001b[1;33m.\u001b[0m\u001b[0m_ensure_valid_index\u001b[0m\u001b[1;33m(\u001b[0m\u001b[0mvalue\u001b[0m\u001b[1;33m)\u001b[0m\u001b[1;33m\u001b[0m\u001b[1;33m\u001b[0m\u001b[0m\n\u001b[1;32m-> 3000\u001b[1;33m         \u001b[0mvalue\u001b[0m \u001b[1;33m=\u001b[0m \u001b[0mself\u001b[0m\u001b[1;33m.\u001b[0m\u001b[0m_sanitize_column\u001b[0m\u001b[1;33m(\u001b[0m\u001b[0mkey\u001b[0m\u001b[1;33m,\u001b[0m \u001b[0mvalue\u001b[0m\u001b[1;33m)\u001b[0m\u001b[1;33m\u001b[0m\u001b[1;33m\u001b[0m\u001b[0m\n\u001b[0m\u001b[0;32m   3001\u001b[0m         \u001b[0mNDFrame\u001b[0m\u001b[1;33m.\u001b[0m\u001b[0m_set_item\u001b[0m\u001b[1;33m(\u001b[0m\u001b[0mself\u001b[0m\u001b[1;33m,\u001b[0m \u001b[0mkey\u001b[0m\u001b[1;33m,\u001b[0m \u001b[0mvalue\u001b[0m\u001b[1;33m)\u001b[0m\u001b[1;33m\u001b[0m\u001b[1;33m\u001b[0m\u001b[0m\n\u001b[0;32m   3002\u001b[0m \u001b[1;33m\u001b[0m\u001b[0m\n",
      "\u001b[1;32m~\\Anaconda3\\lib\\site-packages\\pandas\\core\\frame.py\u001b[0m in \u001b[0;36m_sanitize_column\u001b[1;34m(self, key, value, broadcast)\u001b[0m\n\u001b[0;32m   3611\u001b[0m \u001b[1;33m\u001b[0m\u001b[0m\n\u001b[0;32m   3612\u001b[0m         \u001b[1;32mif\u001b[0m \u001b[0misinstance\u001b[0m\u001b[1;33m(\u001b[0m\u001b[0mvalue\u001b[0m\u001b[1;33m,\u001b[0m \u001b[0mSeries\u001b[0m\u001b[1;33m)\u001b[0m\u001b[1;33m:\u001b[0m\u001b[1;33m\u001b[0m\u001b[1;33m\u001b[0m\u001b[0m\n\u001b[1;32m-> 3613\u001b[1;33m             \u001b[0mvalue\u001b[0m \u001b[1;33m=\u001b[0m \u001b[0mreindexer\u001b[0m\u001b[1;33m(\u001b[0m\u001b[0mvalue\u001b[0m\u001b[1;33m)\u001b[0m\u001b[1;33m\u001b[0m\u001b[1;33m\u001b[0m\u001b[0m\n\u001b[0m\u001b[0;32m   3614\u001b[0m \u001b[1;33m\u001b[0m\u001b[0m\n\u001b[0;32m   3615\u001b[0m         \u001b[1;32melif\u001b[0m \u001b[0misinstance\u001b[0m\u001b[1;33m(\u001b[0m\u001b[0mvalue\u001b[0m\u001b[1;33m,\u001b[0m \u001b[0mDataFrame\u001b[0m\u001b[1;33m)\u001b[0m\u001b[1;33m:\u001b[0m\u001b[1;33m\u001b[0m\u001b[1;33m\u001b[0m\u001b[0m\n",
      "\u001b[1;32m~\\Anaconda3\\lib\\site-packages\\pandas\\core\\frame.py\u001b[0m in \u001b[0;36mreindexer\u001b[1;34m(value)\u001b[0m\n\u001b[0;32m   3602\u001b[0m                     \u001b[1;32mif\u001b[0m \u001b[1;32mnot\u001b[0m \u001b[0mvalue\u001b[0m\u001b[1;33m.\u001b[0m\u001b[0mindex\u001b[0m\u001b[1;33m.\u001b[0m\u001b[0mis_unique\u001b[0m\u001b[1;33m:\u001b[0m\u001b[1;33m\u001b[0m\u001b[1;33m\u001b[0m\u001b[0m\n\u001b[0;32m   3603\u001b[0m                         \u001b[1;31m# duplicate axis\u001b[0m\u001b[1;33m\u001b[0m\u001b[1;33m\u001b[0m\u001b[1;33m\u001b[0m\u001b[0m\n\u001b[1;32m-> 3604\u001b[1;33m                         \u001b[1;32mraise\u001b[0m \u001b[0merr\u001b[0m\u001b[1;33m\u001b[0m\u001b[1;33m\u001b[0m\u001b[0m\n\u001b[0m\u001b[0;32m   3605\u001b[0m \u001b[1;33m\u001b[0m\u001b[0m\n\u001b[0;32m   3606\u001b[0m                     \u001b[1;31m# other\u001b[0m\u001b[1;33m\u001b[0m\u001b[1;33m\u001b[0m\u001b[1;33m\u001b[0m\u001b[0m\n",
      "\u001b[1;32m~\\Anaconda3\\lib\\site-packages\\pandas\\core\\frame.py\u001b[0m in \u001b[0;36mreindexer\u001b[1;34m(value)\u001b[0m\n\u001b[0;32m   3597\u001b[0m                 \u001b[1;31m# GH 4107\u001b[0m\u001b[1;33m\u001b[0m\u001b[1;33m\u001b[0m\u001b[1;33m\u001b[0m\u001b[0m\n\u001b[0;32m   3598\u001b[0m                 \u001b[1;32mtry\u001b[0m\u001b[1;33m:\u001b[0m\u001b[1;33m\u001b[0m\u001b[1;33m\u001b[0m\u001b[0m\n\u001b[1;32m-> 3599\u001b[1;33m                     \u001b[0mvalue\u001b[0m \u001b[1;33m=\u001b[0m \u001b[0mvalue\u001b[0m\u001b[1;33m.\u001b[0m\u001b[0mreindex\u001b[0m\u001b[1;33m(\u001b[0m\u001b[0mself\u001b[0m\u001b[1;33m.\u001b[0m\u001b[0mindex\u001b[0m\u001b[1;33m)\u001b[0m\u001b[1;33m.\u001b[0m\u001b[0m_values\u001b[0m\u001b[1;33m\u001b[0m\u001b[1;33m\u001b[0m\u001b[0m\n\u001b[0m\u001b[0;32m   3600\u001b[0m                 \u001b[1;32mexcept\u001b[0m \u001b[0mValueError\u001b[0m \u001b[1;32mas\u001b[0m \u001b[0merr\u001b[0m\u001b[1;33m:\u001b[0m\u001b[1;33m\u001b[0m\u001b[1;33m\u001b[0m\u001b[0m\n\u001b[0;32m   3601\u001b[0m                     \u001b[1;31m# raised in MultiIndex.from_tuples, see test_insert_error_msmgs\u001b[0m\u001b[1;33m\u001b[0m\u001b[1;33m\u001b[0m\u001b[1;33m\u001b[0m\u001b[0m\n",
      "\u001b[1;32m~\\Anaconda3\\lib\\site-packages\\pandas\\core\\series.py\u001b[0m in \u001b[0;36mreindex\u001b[1;34m(self, index, **kwargs)\u001b[0m\n\u001b[0;32m   4028\u001b[0m     \u001b[1;33m@\u001b[0m\u001b[0mAppender\u001b[0m\u001b[1;33m(\u001b[0m\u001b[0mgeneric\u001b[0m\u001b[1;33m.\u001b[0m\u001b[0mNDFrame\u001b[0m\u001b[1;33m.\u001b[0m\u001b[0mreindex\u001b[0m\u001b[1;33m.\u001b[0m\u001b[0m__doc__\u001b[0m\u001b[1;33m)\u001b[0m\u001b[1;33m\u001b[0m\u001b[1;33m\u001b[0m\u001b[0m\n\u001b[0;32m   4029\u001b[0m     \u001b[1;32mdef\u001b[0m \u001b[0mreindex\u001b[0m\u001b[1;33m(\u001b[0m\u001b[0mself\u001b[0m\u001b[1;33m,\u001b[0m \u001b[0mindex\u001b[0m\u001b[1;33m=\u001b[0m\u001b[1;32mNone\u001b[0m\u001b[1;33m,\u001b[0m \u001b[1;33m**\u001b[0m\u001b[0mkwargs\u001b[0m\u001b[1;33m)\u001b[0m\u001b[1;33m:\u001b[0m\u001b[1;33m\u001b[0m\u001b[1;33m\u001b[0m\u001b[0m\n\u001b[1;32m-> 4030\u001b[1;33m         \u001b[1;32mreturn\u001b[0m \u001b[0msuper\u001b[0m\u001b[1;33m(\u001b[0m\u001b[1;33m)\u001b[0m\u001b[1;33m.\u001b[0m\u001b[0mreindex\u001b[0m\u001b[1;33m(\u001b[0m\u001b[0mindex\u001b[0m\u001b[1;33m=\u001b[0m\u001b[0mindex\u001b[0m\u001b[1;33m,\u001b[0m \u001b[1;33m**\u001b[0m\u001b[0mkwargs\u001b[0m\u001b[1;33m)\u001b[0m\u001b[1;33m\u001b[0m\u001b[1;33m\u001b[0m\u001b[0m\n\u001b[0m\u001b[0;32m   4031\u001b[0m \u001b[1;33m\u001b[0m\u001b[0m\n\u001b[0;32m   4032\u001b[0m     def drop(\n",
      "\u001b[1;32m~\\Anaconda3\\lib\\site-packages\\pandas\\core\\generic.py\u001b[0m in \u001b[0;36mreindex\u001b[1;34m(self, *args, **kwargs)\u001b[0m\n\u001b[0;32m   4542\u001b[0m         \u001b[1;31m# perform the reindex on the axes\u001b[0m\u001b[1;33m\u001b[0m\u001b[1;33m\u001b[0m\u001b[1;33m\u001b[0m\u001b[0m\n\u001b[0;32m   4543\u001b[0m         return self._reindex_axes(\n\u001b[1;32m-> 4544\u001b[1;33m             \u001b[0maxes\u001b[0m\u001b[1;33m,\u001b[0m \u001b[0mlevel\u001b[0m\u001b[1;33m,\u001b[0m \u001b[0mlimit\u001b[0m\u001b[1;33m,\u001b[0m \u001b[0mtolerance\u001b[0m\u001b[1;33m,\u001b[0m \u001b[0mmethod\u001b[0m\u001b[1;33m,\u001b[0m \u001b[0mfill_value\u001b[0m\u001b[1;33m,\u001b[0m \u001b[0mcopy\u001b[0m\u001b[1;33m\u001b[0m\u001b[1;33m\u001b[0m\u001b[0m\n\u001b[0m\u001b[0;32m   4545\u001b[0m         ).__finalize__(self)\n\u001b[0;32m   4546\u001b[0m \u001b[1;33m\u001b[0m\u001b[0m\n",
      "\u001b[1;32m~\\Anaconda3\\lib\\site-packages\\pandas\\core\\generic.py\u001b[0m in \u001b[0;36m_reindex_axes\u001b[1;34m(self, axes, level, limit, tolerance, method, fill_value, copy)\u001b[0m\n\u001b[0;32m   4565\u001b[0m                 \u001b[0mfill_value\u001b[0m\u001b[1;33m=\u001b[0m\u001b[0mfill_value\u001b[0m\u001b[1;33m,\u001b[0m\u001b[1;33m\u001b[0m\u001b[1;33m\u001b[0m\u001b[0m\n\u001b[0;32m   4566\u001b[0m                 \u001b[0mcopy\u001b[0m\u001b[1;33m=\u001b[0m\u001b[0mcopy\u001b[0m\u001b[1;33m,\u001b[0m\u001b[1;33m\u001b[0m\u001b[1;33m\u001b[0m\u001b[0m\n\u001b[1;32m-> 4567\u001b[1;33m                 \u001b[0mallow_dups\u001b[0m\u001b[1;33m=\u001b[0m\u001b[1;32mFalse\u001b[0m\u001b[1;33m,\u001b[0m\u001b[1;33m\u001b[0m\u001b[1;33m\u001b[0m\u001b[0m\n\u001b[0m\u001b[0;32m   4568\u001b[0m             )\n\u001b[0;32m   4569\u001b[0m \u001b[1;33m\u001b[0m\u001b[0m\n",
      "\u001b[1;32m~\\Anaconda3\\lib\\site-packages\\pandas\\core\\generic.py\u001b[0m in \u001b[0;36m_reindex_with_indexers\u001b[1;34m(self, reindexers, fill_value, copy, allow_dups)\u001b[0m\n\u001b[0;32m   4611\u001b[0m                 \u001b[0mfill_value\u001b[0m\u001b[1;33m=\u001b[0m\u001b[0mfill_value\u001b[0m\u001b[1;33m,\u001b[0m\u001b[1;33m\u001b[0m\u001b[1;33m\u001b[0m\u001b[0m\n\u001b[0;32m   4612\u001b[0m                 \u001b[0mallow_dups\u001b[0m\u001b[1;33m=\u001b[0m\u001b[0mallow_dups\u001b[0m\u001b[1;33m,\u001b[0m\u001b[1;33m\u001b[0m\u001b[1;33m\u001b[0m\u001b[0m\n\u001b[1;32m-> 4613\u001b[1;33m                 \u001b[0mcopy\u001b[0m\u001b[1;33m=\u001b[0m\u001b[0mcopy\u001b[0m\u001b[1;33m,\u001b[0m\u001b[1;33m\u001b[0m\u001b[1;33m\u001b[0m\u001b[0m\n\u001b[0m\u001b[0;32m   4614\u001b[0m             )\n\u001b[0;32m   4615\u001b[0m \u001b[1;33m\u001b[0m\u001b[0m\n",
      "\u001b[1;32m~\\Anaconda3\\lib\\site-packages\\pandas\\core\\internals\\managers.py\u001b[0m in \u001b[0;36mreindex_indexer\u001b[1;34m(self, new_axis, indexer, axis, fill_value, allow_dups, copy)\u001b[0m\n\u001b[0;32m   1249\u001b[0m         \u001b[1;31m# some axes don't allow reindexing with dups\u001b[0m\u001b[1;33m\u001b[0m\u001b[1;33m\u001b[0m\u001b[1;33m\u001b[0m\u001b[0m\n\u001b[0;32m   1250\u001b[0m         \u001b[1;32mif\u001b[0m \u001b[1;32mnot\u001b[0m \u001b[0mallow_dups\u001b[0m\u001b[1;33m:\u001b[0m\u001b[1;33m\u001b[0m\u001b[1;33m\u001b[0m\u001b[0m\n\u001b[1;32m-> 1251\u001b[1;33m             \u001b[0mself\u001b[0m\u001b[1;33m.\u001b[0m\u001b[0maxes\u001b[0m\u001b[1;33m[\u001b[0m\u001b[0maxis\u001b[0m\u001b[1;33m]\u001b[0m\u001b[1;33m.\u001b[0m\u001b[0m_can_reindex\u001b[0m\u001b[1;33m(\u001b[0m\u001b[0mindexer\u001b[0m\u001b[1;33m)\u001b[0m\u001b[1;33m\u001b[0m\u001b[1;33m\u001b[0m\u001b[0m\n\u001b[0m\u001b[0;32m   1252\u001b[0m \u001b[1;33m\u001b[0m\u001b[0m\n\u001b[0;32m   1253\u001b[0m         \u001b[1;32mif\u001b[0m \u001b[0maxis\u001b[0m \u001b[1;33m>=\u001b[0m \u001b[0mself\u001b[0m\u001b[1;33m.\u001b[0m\u001b[0mndim\u001b[0m\u001b[1;33m:\u001b[0m\u001b[1;33m\u001b[0m\u001b[1;33m\u001b[0m\u001b[0m\n",
      "\u001b[1;32m~\\Anaconda3\\lib\\site-packages\\pandas\\core\\indexes\\base.py\u001b[0m in \u001b[0;36m_can_reindex\u001b[1;34m(self, indexer)\u001b[0m\n\u001b[0;32m   3097\u001b[0m         \u001b[1;31m# trying to reindex on an axis with duplicates\u001b[0m\u001b[1;33m\u001b[0m\u001b[1;33m\u001b[0m\u001b[1;33m\u001b[0m\u001b[0m\n\u001b[0;32m   3098\u001b[0m         \u001b[1;32mif\u001b[0m \u001b[1;32mnot\u001b[0m \u001b[0mself\u001b[0m\u001b[1;33m.\u001b[0m\u001b[0mis_unique\u001b[0m \u001b[1;32mand\u001b[0m \u001b[0mlen\u001b[0m\u001b[1;33m(\u001b[0m\u001b[0mindexer\u001b[0m\u001b[1;33m)\u001b[0m\u001b[1;33m:\u001b[0m\u001b[1;33m\u001b[0m\u001b[1;33m\u001b[0m\u001b[0m\n\u001b[1;32m-> 3099\u001b[1;33m             \u001b[1;32mraise\u001b[0m \u001b[0mValueError\u001b[0m\u001b[1;33m(\u001b[0m\u001b[1;34m\"cannot reindex from a duplicate axis\"\u001b[0m\u001b[1;33m)\u001b[0m\u001b[1;33m\u001b[0m\u001b[1;33m\u001b[0m\u001b[0m\n\u001b[0m\u001b[0;32m   3100\u001b[0m \u001b[1;33m\u001b[0m\u001b[0m\n\u001b[0;32m   3101\u001b[0m     \u001b[1;32mdef\u001b[0m \u001b[0mreindex\u001b[0m\u001b[1;33m(\u001b[0m\u001b[0mself\u001b[0m\u001b[1;33m,\u001b[0m \u001b[0mtarget\u001b[0m\u001b[1;33m,\u001b[0m \u001b[0mmethod\u001b[0m\u001b[1;33m=\u001b[0m\u001b[1;32mNone\u001b[0m\u001b[1;33m,\u001b[0m \u001b[0mlevel\u001b[0m\u001b[1;33m=\u001b[0m\u001b[1;32mNone\u001b[0m\u001b[1;33m,\u001b[0m \u001b[0mlimit\u001b[0m\u001b[1;33m=\u001b[0m\u001b[1;32mNone\u001b[0m\u001b[1;33m,\u001b[0m \u001b[0mtolerance\u001b[0m\u001b[1;33m=\u001b[0m\u001b[1;32mNone\u001b[0m\u001b[1;33m)\u001b[0m\u001b[1;33m:\u001b[0m\u001b[1;33m\u001b[0m\u001b[1;33m\u001b[0m\u001b[0m\n",
      "\u001b[1;31mValueError\u001b[0m: cannot reindex from a duplicate axis"
     ]
    }
   ],
   "source": [
    "data_new = data_vf.copy()\n",
    "data_new.reset_index(drop=True, inplace=True)\n",
    "\n",
    "# prix_m2\n",
    "data_new['prix_m2'] = data_vf['surface_terrain'] / data_vf['valeur_fonciere']\n",
    "\n",
    "# cp\n",
    "data_new['cp'] = [x[-12:][:5] for x in data_vf[\"Adresse\"].values]\n",
    "# data_new.set_index('cp')\n",
    "\n",
    "# dep\n",
    "data_new['dep'] = [x[:2] for x in data_new['cp'].values]\n",
    "\n",
    "# region\n"
   ]
  },
  {
   "cell_type": "code",
   "execution_count": 157,
   "id": "7beb0f94",
   "metadata": {},
   "outputs": [
    {
     "data": {
      "text/plain": [
       "1    11   0384 IMP DES PINSONS Saint-Denis-lès-Bour...\n",
       "1    24   0390 RUE DU GAZOMETRE Montrichard Val de ...\n",
       "1    5013   0058 RTE DE SAINT PONS Anglès 81260 France\n",
       "1    16   A005 RES DU GROS CHENE Bazincourt-sur-Ept...\n",
       "1    140   0228 RUE CLEMENT ADER Beaumont 63110 France\n",
       "1          14   0210 RUE DU BROUAGE Chauny 2300 France\n",
       "1     4   0320 RUE JOSEPH VENDRE Heyrieux 38540 France\n",
       "1    28   0280 RUE DE VILLEMARECHAL Nanteau-sur-Lun...\n",
       "1    17 T 0887 AV DE L ILE MADAME Port-des-Barques ...\n",
       "1      102   2560 RUE LEON GAMBETTA Douai 59500 France\n",
       "Name: Adresse, dtype: object"
      ]
     },
     "execution_count": 157,
     "metadata": {},
     "output_type": "execute_result"
    }
   ],
   "source": [
    "data_new"
   ]
  },
  {
   "cell_type": "code",
   "execution_count": 150,
   "id": "677de01e",
   "metadata": {},
   "outputs": [
    {
     "data": {
      "text/plain": [
       "2     1000\n",
       "2    41400\n",
       "2    81260\n",
       "2    27700\n",
       "2    63370\n",
       "2     2300\n",
       "2    38440\n",
       "2    77130\n",
       "2    17550\n",
       "2    59950\n",
       "Name: cp, dtype: object"
      ]
     },
     "execution_count": 150,
     "metadata": {},
     "output_type": "execute_result"
    }
   ],
   "source": [
    "# code_region\n",
    "x = data_new[\"cp\"].loc[2]\n",
    "x"
   ]
  },
  {
   "cell_type": "code",
   "execution_count": null,
   "id": "071a06dc",
   "metadata": {},
   "outputs": [],
   "source": [
    "\n",
    "data_regions[\"nom_region\"].iloc[data_new[]]"
   ]
  },
  {
   "cell_type": "code",
   "execution_count": null,
   "id": "20cf8a25",
   "metadata": {},
   "outputs": [],
   "source": [
    "regions = 13\n",
    "appart_old[‘Distance moyenne’]=np.zeros(len(appart_old))\n",
    "appart_old[‘Indices voisins’]=np.zeros(len(appart_old))\n",
    "models={}\n",
    "regions=appart_old.Région.unique()\n",
    "for k in range(len(regions)):\n",
    "    name=’appart_’+regions[k]\n",
    "    data=appart_old[appart_old.Région==regions[k]]\n",
    "    data=data.reset_index(drop=True)\n",
    "    models[k]=BallTree(data[[‘latitude_r’, ‘longitude_r’]].values, leaf_size=2, metric=’haversine’)\n",
    "    save_obj(models[k], name)"
   ]
  }
 ],
 "metadata": {
  "kernelspec": {
   "display_name": "Python 3 (ipykernel)",
   "language": "python",
   "name": "python3"
  },
  "language_info": {
   "codemirror_mode": {
    "name": "ipython",
    "version": 3
   },
   "file_extension": ".py",
   "mimetype": "text/x-python",
   "name": "python",
   "nbconvert_exporter": "python",
   "pygments_lexer": "ipython3",
   "version": "3.9.7"
  }
 },
 "nbformat": 4,
 "nbformat_minor": 5
}
