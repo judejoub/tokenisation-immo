{
 "cells": [
  {
   "cell_type": "markdown",
   "id": "660234b5",
   "metadata": {},
   "source": [
    "# Projet Python ENSAE\n",
    "\n",
    "## Tokenisation d'actifs immobiliers"
   ]
  },
  {
   "cell_type": "markdown",
   "id": "81d4b487",
   "metadata": {},
   "source": [
    "Lien projet: https://hureauxarnaud.medium.com/projet-estimateur-de-prix-dun-bien-immobilier-bas%C3%A9-sur-du-machine-learning-ae578fdacaca\n",
    "\n",
    "Code : https://colab.research.google.com/drive/1bU1Nx0HcLSSf1U6BVvsiYFfrJeKnhIW2?usp=sharing#scrollTo=GWGxYN3LKLu8   "
   ]
  },
  {
   "cell_type": "markdown",
   "id": "3154eea4",
   "metadata": {},
   "source": [
    "# Etape 0 : packages"
   ]
  },
  {
   "cell_type": "code",
   "execution_count": 1,
   "id": "38547454",
   "metadata": {},
   "outputs": [],
   "source": [
    "# importation des packages importants\n",
    "\n",
    "import numpy as np\n",
    "import pandas as pd\n",
    "from tqdm import tqdm\n",
    "from sklearn.neighbors import BallTree\n",
    "import requests\n",
    "import matplotlib\n",
    "import seaborn as sns\n",
    "import matplotlib.pyplot as plt"
   ]
  },
  {
   "cell_type": "markdown",
   "id": "97025158",
   "metadata": {},
   "source": [
    "# Etape 1 : preprocessing"
   ]
  },
  {
   "cell_type": "markdown",
   "id": "eab2c34c-fc10-4be2-b04e-961ad0f01601",
   "metadata": {},
   "source": [
    "### 1.1. Importation du dataset DVF :\n",
    "\n",
    "Nous importons le dataset « **Demandes de valeurs foncières** » (DVF), publié par la DGFiP, permet de connaître les transactions immobilières intervenues au cours des cinq dernières années sur le territoire métropolitain et les DOM-TOM, à l’exception de l’Alsace, de la Moselle et de Mayotte. Les données contenues sont issues des actes notariés et des informations cadastrales.\n",
    "\n",
    "Fichiers 2017-2020 : https://files.data.gouv.fr/geo-dvf/latest/"
   ]
  },
  {
   "cell_type": "code",
   "execution_count": 2,
   "id": "04c30121",
   "metadata": {},
   "outputs": [
    {
     "name": "stderr",
     "output_type": "stream",
     "text": [
      "/opt/conda/lib/python3.9/site-packages/IPython/core/interactiveshell.py:3444: DtypeWarning: Columns (10,12,17,18,20,22,24,35,36) have mixed types.Specify dtype option on import or set low_memory=False.\n",
      "  exec(code_obj, self.user_global_ns, self.user_ns)\n"
     ]
    },
    {
     "data": {
      "text/plain": [
       "'\\nfor year in range(2017, 2021):\\n    name = \"https://files.data.gouv.fr/geo-dvf/latest/csv/\" + str(year) + \"/full.csv.gz\"\\n    table = pd.concat([table, pd.read_csv(name, sep = \\',\\')])\\n\\ndisplay(\"Taille de table :\")\\ndisplay(table.shape)\\ntable.head()\\n'"
      ]
     },
     "execution_count": 2,
     "metadata": {},
     "output_type": "execute_result"
    }
   ],
   "source": [
    "# Les fichiers sont issus de https://files.data.gouv.fr/geo-dvf/latest/\n",
    "\n",
    "name = \"https://files.data.gouv.fr/geo-dvf/latest/csv/2021/full.csv.gz\"\n",
    "table = pd.read_csv(name, sep = ',')\n",
    "\n",
    "# Pour l'instant, on ne travaille que sur les données de 2021, mais il conviendra d'enlever les guillemets par la suite...\n",
    "\n",
    "\"\"\"\n",
    "for year in range(2017, 2021):\n",
    "    name = \"https://files.data.gouv.fr/geo-dvf/latest/csv/\" + str(year) + \"/full.csv.gz\"\n",
    "    table = pd.concat([table, pd.read_csv(name, sep = ',')])\n",
    "\n",
    "display(\"Taille de table :\")\n",
    "display(table.shape)\n",
    "table.head()\n",
    "\"\"\""
   ]
  },
  {
   "cell_type": "markdown",
   "id": "313f9ecc-fbac-477f-a3d0-fdc27d14e487",
   "metadata": {},
   "source": [
    "### 1.2. Visualisation des données\n",
    "\n",
    "A compléter : il s'agit d'avoir **des premières intuitions sur les données**. \n",
    "\n",
    "Notamment, il faudra visualiser sur une carte, **faire des analyses descriptives** (moyennes, variances, etc.) au niveau national et par région ou dans les grandes villes (cf. l'étape 2).\n",
    "\n",
    "En particulier, on se rend compte du **problème de preprocessing** mentionné plus haut : une transaction correspond à plusieurs lignes.\n",
    "Ainsi, si on entraîne l'algorithme de pricing sur ce dataset, il sera **biaisé** : \n",
    "* d'une part, il associerait à une dépendance de 20 m2 le prix d'un appartement de 200 m2\n",
    "* d'autre part, il ne prendrait pas en compte la plus-value apportée par un jardin à une maison, par une dépendance à un appartement, etc.\n",
    "\n",
    "Il conviendra donc de **retravailler les données pour obtenir une seule ligne par transaction**."
   ]
  },
  {
   "cell_type": "code",
   "execution_count": 3,
   "id": "62f24851",
   "metadata": {
    "scrolled": true
   },
   "outputs": [
    {
     "name": "stdout",
     "output_type": "stream",
     "text": [
      "Voici les colonnes de table :\n"
     ]
    },
    {
     "data": {
      "text/plain": [
       "Index(['id_mutation', 'date_mutation', 'numero_disposition', 'nature_mutation',\n",
       "       'valeur_fonciere', 'adresse_numero', 'adresse_suffixe',\n",
       "       'adresse_nom_voie', 'adresse_code_voie', 'code_postal', 'code_commune',\n",
       "       'nom_commune', 'code_departement', 'ancien_code_commune',\n",
       "       'ancien_nom_commune', 'id_parcelle', 'ancien_id_parcelle',\n",
       "       'numero_volume', 'lot1_numero', 'lot1_surface_carrez', 'lot2_numero',\n",
       "       'lot2_surface_carrez', 'lot3_numero', 'lot3_surface_carrez',\n",
       "       'lot4_numero', 'lot4_surface_carrez', 'lot5_numero',\n",
       "       'lot5_surface_carrez', 'nombre_lots', 'code_type_local', 'type_local',\n",
       "       'surface_reelle_bati', 'nombre_pieces_principales',\n",
       "       'code_nature_culture', 'nature_culture', 'code_nature_culture_speciale',\n",
       "       'nature_culture_speciale', 'surface_terrain', 'longitude', 'latitude'],\n",
       "      dtype='object')"
      ]
     },
     "metadata": {},
     "output_type": "display_data"
    }
   ],
   "source": [
    "# Colonnes du dataset\n",
    "\n",
    "print(\"Voici les colonnes de table :\")\n",
    "display(table.columns)"
   ]
  },
  {
   "cell_type": "code",
   "execution_count": 4,
   "id": "f9350dcd",
   "metadata": {},
   "outputs": [],
   "source": [
    "# Création d'une adresse générique\n",
    "\n",
    "table['adresse_numero'] = table['adresse_numero'].fillna('0').astype(int)\n",
    "table['adresse_suffixe'] = table['adresse_suffixe'].fillna(' ')\n",
    "table['adresse_code_voie'] = table['adresse_code_voie'].fillna(' ')\n",
    "table['adresse_nom_voie'] = table['adresse_nom_voie'].fillna(' ')\n",
    "table['code_postal'] = table['code_postal'].fillna('0').astype(int)\n",
    "table['nom_commune'] = table['nom_commune'].fillna(' ')\n",
    "\n",
    "#Ajout de \"\\\" pour que l'opération soit visible à l'écran en entier\n",
    "table[\"adresse\"] = table['adresse_numero'].astype(str) + ' ' + table['adresse_suffixe'] + ' ' + \\\n",
    "                table['adresse_code_voie'] + ' ' + table['adresse_nom_voie'] + ' ' + table['nom_commune'] + ' ' + \\\n",
    "                table['code_postal'].astype(str) + ' ' + 'France'\n",
    "\n",
    "# Création d'un identifiant de transaction\n",
    "# Pour identifier les doublons, l'adresse ne suffit pas : un bien peut avoir été vendu deux fois dans la même année\n",
    "table[\"identifiant_transaction\"] = table[\"adresse\"].astype(str) + ' le ' + table[\"date_mutation\"].astype(str)"
   ]
  },
  {
   "cell_type": "code",
   "execution_count": 5,
   "id": "d25e7012",
   "metadata": {},
   "outputs": [
    {
     "data": {
      "text/plain": [
       "'5080   0471 CHE DE VOGELAS Val-Revermont 1370 France le 2021-01-05'"
      ]
     },
     "metadata": {},
     "output_type": "display_data"
    },
    {
     "data": {
      "text/plain": [
       "'5080   0471 CHE DE VOGELAS Val-Revermont 1370 France le 2021-01-05'"
      ]
     },
     "metadata": {},
     "output_type": "display_data"
    },
    {
     "data": {
      "text/plain": [
       "\"Si l'identifiant de transaction est valide, alors True doit s'afficher :\""
      ]
     },
     "metadata": {},
     "output_type": "display_data"
    },
    {
     "data": {
      "text/plain": [
       "True"
      ]
     },
     "execution_count": 5,
     "metadata": {},
     "output_type": "execute_result"
    }
   ],
   "source": [
    "# Problème dans les données et vérification de la validité de l'identifiant de transaction :\n",
    "\n",
    "display(table[\"identifiant_transaction\"].loc[0])\n",
    "display(table[\"identifiant_transaction\"].loc[1])\n",
    "display(\"Si l'identifiant de transaction est valide, alors True doit s'afficher :\")\n",
    "table[\"identifiant_transaction\"].loc[0] == table[\"identifiant_transaction\"].loc[1]"
   ]
  },
  {
   "cell_type": "markdown",
   "id": "dbe98070-29e7-4521-8a8e-96585e09622e",
   "metadata": {},
   "source": [
    "**Problème de preprocessing** : le dataset affiche le même prix de vente global à chaque lot.\n",
    "\n",
    "En effet, d'après la **notice descriptive** : \n",
    "* Les lots, notion juridique immobilière, sont définis dans un état descriptif de division (EDD) et dans les documents de mutation. Ils permettent d’identifier une partie d’un immeuble et ainsi d’y associer un droit de propriété spécifique (propriété, usufruit, etc.).\n",
    "* Les locaux, notion fiscale, identifient les mêmes parties d’un immeuble pour les besoins de la taxe foncière et de la taxe d’habitation en regroupant plusieurs lots.\n",
    "* La correspondance entre le découpage en lots et en locaux n’est pas retracée.\n",
    "\n",
    "Donc, quand une disposition comporte plusieurs locaux ou plusieurs natures de culture, **le fichier de restitution comporte autant de lignes qu’il y a de locaux ou de nature de culture concernés par la mutation**. Ainsi, pour une même publication, il peut y avoir 1 à n ligne(s) de restitution. **Les données génériques (ainsi que le prix) sont alors répétées sur chaque ligne**.\n",
    "\n",
    "Voici les types de locaux différents : \n",
    "['Dépendance', 'Appartement', 'Maison', nan, 'Local industriel. commercial ou assimilé']\n",
    "On ne peut pas juste enlever les \"Dépendances\". En effet, ces dernières peuvent avoir un effet (haussier) sur le prix de vente.\n",
    "\n",
    "Par ailleurs, une maison avec un jardin fait l'objet de deux lignes ayant la même valeur foncière mais des surfaces différentes (celle de la maison, celle du jardin) : suivant la colonne nature_culture ([nan, 'sols', \"terrains d'agrément\", 'taillis simples', 'terrains a bâtir', 'eaux', 'landes', 'taillis sous futaie', 'prés', 'terres', 'jardins', 'peupleraies', 'vignes', 'bois', 'vergers', 'carrières', 'futaies résineuses', 'pâtures', 'futaies feuillues', 'futaies mixtes', 'chemin de fer', 'oseraies', 'pacages', 'prés plantes', 'terres plantées', 'landes boisées', 'herbages', \"prés d'embouche\"]).\n",
    "\n",
    "Il conviendra donc d'**agréger dans une ligne ces informations** :\n",
    "* l'actif immobilier a-t-il une dépendance ? si oui, de combien de m2 ?\n",
    "* la maison a-t-elle un jardin ? si oui, de combien de m2 ?"
   ]
  },
  {
   "cell_type": "code",
   "execution_count": 6,
   "id": "a2d6d028",
   "metadata": {},
   "outputs": [
    {
     "data": {
      "text/plain": [
       "\"Nombre d'adresses uniques dans le DataFrame :\""
      ]
     },
     "metadata": {},
     "output_type": "display_data"
    },
    {
     "data": {
      "text/plain": [
       "547234"
      ]
     },
     "metadata": {},
     "output_type": "display_data"
    },
    {
     "data": {
      "text/plain": [
       "\"Nombre d'identifiant_transaction uniques dans le DataFrame :\""
      ]
     },
     "metadata": {},
     "output_type": "display_data"
    },
    {
     "data": {
      "text/plain": [
       "654843"
      ]
     },
     "metadata": {},
     "output_type": "display_data"
    },
    {
     "data": {
      "text/plain": [
       "'Nombre de lignes dans le DataFrame :'"
      ]
     },
     "metadata": {},
     "output_type": "display_data"
    },
    {
     "data": {
      "text/plain": [
       "1210569"
      ]
     },
     "metadata": {},
     "output_type": "display_data"
    },
    {
     "data": {
      "text/plain": [
       "'Nombre moyen de lignes par vente :'"
      ]
     },
     "metadata": {},
     "output_type": "display_data"
    },
    {
     "data": {
      "text/plain": [
       "1.85"
      ]
     },
     "execution_count": 6,
     "metadata": {},
     "output_type": "execute_result"
    }
   ],
   "source": [
    "# On constate, encore une fois, le problème relevé ci-dessus :\n",
    "\n",
    "display(\"Nombre d'adresses uniques dans le DataFrame :\")\n",
    "display(len(table[\"adresse\"].unique()))\n",
    "\n",
    "display(\"Nombre d'identifiant_transaction uniques dans le DataFrame :\")\n",
    "display(len(table[\"identifiant_transaction\"].unique()))\n",
    "\n",
    "display(\"Nombre de lignes dans le DataFrame :\")\n",
    "display(len(table))\n",
    "\n",
    "display(\"Nombre moyen de lignes par vente :\")\n",
    "np.round(len(table) / len(table[\"identifiant_transaction\"].unique()), 2)\n",
    "\n",
    "# Une vente correspond à plusieurs lignes, les informations sont donc diffusées dans ces lignes..."
   ]
  },
  {
   "cell_type": "markdown",
   "id": "7c73870b-6be9-46a3-8851-e3e92655159a",
   "metadata": {},
   "source": [
    "### 1.3. Création du dataset final :\n",
    "\n",
    "Nous ne prenons que les colonnes suivantes :\n",
    "- Date de vente/mutation\n",
    "- Nature mutation (pour séparer les ventes en VEFA et les ventes classiques)\n",
    "- Valeur foncière (prix de vente)\n",
    "- Colonnes liées à l’adresse (pour nous permettre de localiser le bien)\n",
    "- Adresse\n",
    "- Code Postal\n",
    "- Type local (maison/appartement/Local commercial/Dépendance etc)\n",
    "- Surface réelle bâtie (nb de mètre carré du bien bâti)\n",
    "- Surface terrain (nb de mètre carré du terrain associé au bien)"
   ]
  },
  {
   "cell_type": "code",
   "execution_count": 7,
   "id": "0bc0995e",
   "metadata": {},
   "outputs": [
    {
     "data": {
      "text/plain": [
       "(1210569, 14)"
      ]
     },
     "metadata": {},
     "output_type": "display_data"
    },
    {
     "data": {
      "text/plain": [
       "'Les quatre premières lignes'"
      ]
     },
     "metadata": {},
     "output_type": "display_data"
    },
    {
     "data": {
      "text/html": [
       "<div>\n",
       "<style scoped>\n",
       "    .dataframe tbody tr th:only-of-type {\n",
       "        vertical-align: middle;\n",
       "    }\n",
       "\n",
       "    .dataframe tbody tr th {\n",
       "        vertical-align: top;\n",
       "    }\n",
       "\n",
       "    .dataframe thead th {\n",
       "        text-align: right;\n",
       "    }\n",
       "</style>\n",
       "<table border=\"1\" class=\"dataframe\">\n",
       "  <thead>\n",
       "    <tr style=\"text-align: right;\">\n",
       "      <th></th>\n",
       "      <th>date_mutation</th>\n",
       "      <th>nature_mutation</th>\n",
       "      <th>valeur_fonciere</th>\n",
       "      <th>code_postal</th>\n",
       "      <th>type_local</th>\n",
       "      <th>surface_reelle_bati</th>\n",
       "      <th>nombre_pieces_principales</th>\n",
       "      <th>nature_culture</th>\n",
       "      <th>surface_terrain</th>\n",
       "      <th>longitude</th>\n",
       "      <th>latitude</th>\n",
       "      <th>adresse</th>\n",
       "      <th>code_departement</th>\n",
       "      <th>identifiant_transaction</th>\n",
       "    </tr>\n",
       "  </thead>\n",
       "  <tbody>\n",
       "    <tr>\n",
       "      <th>0</th>\n",
       "      <td>2021-01-05</td>\n",
       "      <td>Vente</td>\n",
       "      <td>185000.0</td>\n",
       "      <td>1370</td>\n",
       "      <td>Maison</td>\n",
       "      <td>97.0</td>\n",
       "      <td>5.0</td>\n",
       "      <td>sols</td>\n",
       "      <td>2410.0</td>\n",
       "      <td>5.386094</td>\n",
       "      <td>46.327140</td>\n",
       "      <td>5080   0471 CHE DE VOGELAS Val-Revermont 1370 ...</td>\n",
       "      <td>1</td>\n",
       "      <td>5080   0471 CHE DE VOGELAS Val-Revermont 1370 ...</td>\n",
       "    </tr>\n",
       "    <tr>\n",
       "      <th>1</th>\n",
       "      <td>2021-01-05</td>\n",
       "      <td>Vente</td>\n",
       "      <td>185000.0</td>\n",
       "      <td>1370</td>\n",
       "      <td>Dépendance</td>\n",
       "      <td>NaN</td>\n",
       "      <td>0.0</td>\n",
       "      <td>sols</td>\n",
       "      <td>2410.0</td>\n",
       "      <td>5.386094</td>\n",
       "      <td>46.327140</td>\n",
       "      <td>5080   0471 CHE DE VOGELAS Val-Revermont 1370 ...</td>\n",
       "      <td>1</td>\n",
       "      <td>5080   0471 CHE DE VOGELAS Val-Revermont 1370 ...</td>\n",
       "    </tr>\n",
       "    <tr>\n",
       "      <th>2</th>\n",
       "      <td>2021-01-06</td>\n",
       "      <td>Vente</td>\n",
       "      <td>10.0</td>\n",
       "      <td>1290</td>\n",
       "      <td>NaN</td>\n",
       "      <td>NaN</td>\n",
       "      <td>NaN</td>\n",
       "      <td>culture</td>\n",
       "      <td>530.0</td>\n",
       "      <td>4.844368</td>\n",
       "      <td>46.224233</td>\n",
       "      <td>0   B043 ROUGEMONT Bey 1290 France</td>\n",
       "      <td>1</td>\n",
       "      <td>0   B043 ROUGEMONT Bey 1290 France le 2021-01-06</td>\n",
       "    </tr>\n",
       "    <tr>\n",
       "      <th>3</th>\n",
       "      <td>2021-01-04</td>\n",
       "      <td>Vente</td>\n",
       "      <td>204332.0</td>\n",
       "      <td>1310</td>\n",
       "      <td>Maison</td>\n",
       "      <td>88.0</td>\n",
       "      <td>4.0</td>\n",
       "      <td>sols</td>\n",
       "      <td>866.0</td>\n",
       "      <td>5.157688</td>\n",
       "      <td>46.200988</td>\n",
       "      <td>7   0276 ALL DES ECUREUILS Buellas 1310 France</td>\n",
       "      <td>1</td>\n",
       "      <td>7   0276 ALL DES ECUREUILS Buellas 1310 France...</td>\n",
       "    </tr>\n",
       "  </tbody>\n",
       "</table>\n",
       "</div>"
      ],
      "text/plain": [
       "  date_mutation nature_mutation  valeur_fonciere  code_postal  type_local  \\\n",
       "0    2021-01-05           Vente         185000.0         1370      Maison   \n",
       "1    2021-01-05           Vente         185000.0         1370  Dépendance   \n",
       "2    2021-01-06           Vente             10.0         1290         NaN   \n",
       "3    2021-01-04           Vente         204332.0         1310      Maison   \n",
       "\n",
       "   surface_reelle_bati  nombre_pieces_principales nature_culture  \\\n",
       "0                 97.0                        5.0           sols   \n",
       "1                  NaN                        0.0           sols   \n",
       "2                  NaN                        NaN        culture   \n",
       "3                 88.0                        4.0           sols   \n",
       "\n",
       "   surface_terrain  longitude   latitude  \\\n",
       "0           2410.0   5.386094  46.327140   \n",
       "1           2410.0   5.386094  46.327140   \n",
       "2            530.0   4.844368  46.224233   \n",
       "3            866.0   5.157688  46.200988   \n",
       "\n",
       "                                             adresse code_departement  \\\n",
       "0  5080   0471 CHE DE VOGELAS Val-Revermont 1370 ...                1   \n",
       "1  5080   0471 CHE DE VOGELAS Val-Revermont 1370 ...                1   \n",
       "2                 0   B043 ROUGEMONT Bey 1290 France                1   \n",
       "3     7   0276 ALL DES ECUREUILS Buellas 1310 France                1   \n",
       "\n",
       "                             identifiant_transaction  \n",
       "0  5080   0471 CHE DE VOGELAS Val-Revermont 1370 ...  \n",
       "1  5080   0471 CHE DE VOGELAS Val-Revermont 1370 ...  \n",
       "2   0   B043 ROUGEMONT Bey 1290 France le 2021-01-06  \n",
       "3  7   0276 ALL DES ECUREUILS Buellas 1310 France...  "
      ]
     },
     "metadata": {},
     "output_type": "display_data"
    },
    {
     "data": {
      "text/plain": [
       "'Les quatre dernières lignes'"
      ]
     },
     "metadata": {},
     "output_type": "display_data"
    },
    {
     "data": {
      "text/html": [
       "<div>\n",
       "<style scoped>\n",
       "    .dataframe tbody tr th:only-of-type {\n",
       "        vertical-align: middle;\n",
       "    }\n",
       "\n",
       "    .dataframe tbody tr th {\n",
       "        vertical-align: top;\n",
       "    }\n",
       "\n",
       "    .dataframe thead th {\n",
       "        text-align: right;\n",
       "    }\n",
       "</style>\n",
       "<table border=\"1\" class=\"dataframe\">\n",
       "  <thead>\n",
       "    <tr style=\"text-align: right;\">\n",
       "      <th></th>\n",
       "      <th>date_mutation</th>\n",
       "      <th>nature_mutation</th>\n",
       "      <th>valeur_fonciere</th>\n",
       "      <th>code_postal</th>\n",
       "      <th>type_local</th>\n",
       "      <th>surface_reelle_bati</th>\n",
       "      <th>nombre_pieces_principales</th>\n",
       "      <th>nature_culture</th>\n",
       "      <th>surface_terrain</th>\n",
       "      <th>longitude</th>\n",
       "      <th>latitude</th>\n",
       "      <th>adresse</th>\n",
       "      <th>code_departement</th>\n",
       "      <th>identifiant_transaction</th>\n",
       "    </tr>\n",
       "  </thead>\n",
       "  <tbody>\n",
       "    <tr>\n",
       "      <th>1210565</th>\n",
       "      <td>2021-03-17</td>\n",
       "      <td>Vente</td>\n",
       "      <td>260000.0</td>\n",
       "      <td>75002</td>\n",
       "      <td>Appartement</td>\n",
       "      <td>37.0</td>\n",
       "      <td>2.0</td>\n",
       "      <td>NaN</td>\n",
       "      <td>NaN</td>\n",
       "      <td>2.350774</td>\n",
       "      <td>48.868450</td>\n",
       "      <td>8   8561 RUE SAINTE FOY Paris 2e Arrondissemen...</td>\n",
       "      <td>75</td>\n",
       "      <td>8   8561 RUE SAINTE FOY Paris 2e Arrondissemen...</td>\n",
       "    </tr>\n",
       "    <tr>\n",
       "      <th>1210566</th>\n",
       "      <td>2021-03-19</td>\n",
       "      <td>Vente</td>\n",
       "      <td>38000.0</td>\n",
       "      <td>75004</td>\n",
       "      <td>Dépendance</td>\n",
       "      <td>NaN</td>\n",
       "      <td>0.0</td>\n",
       "      <td>NaN</td>\n",
       "      <td>NaN</td>\n",
       "      <td>2.357623</td>\n",
       "      <td>48.858041</td>\n",
       "      <td>6   4398 RUE DES GUILLEMITES Paris 4e Arrondis...</td>\n",
       "      <td>75</td>\n",
       "      <td>6   4398 RUE DES GUILLEMITES Paris 4e Arrondis...</td>\n",
       "    </tr>\n",
       "    <tr>\n",
       "      <th>1210567</th>\n",
       "      <td>2021-03-30</td>\n",
       "      <td>Vente</td>\n",
       "      <td>38000.0</td>\n",
       "      <td>75004</td>\n",
       "      <td>Dépendance</td>\n",
       "      <td>NaN</td>\n",
       "      <td>0.0</td>\n",
       "      <td>NaN</td>\n",
       "      <td>NaN</td>\n",
       "      <td>2.365430</td>\n",
       "      <td>48.852861</td>\n",
       "      <td>30   7338 RUE DU PETIT MUSC Paris 4e Arrondiss...</td>\n",
       "      <td>75</td>\n",
       "      <td>30   7338 RUE DU PETIT MUSC Paris 4e Arrondiss...</td>\n",
       "    </tr>\n",
       "    <tr>\n",
       "      <th>1210568</th>\n",
       "      <td>2021-03-19</td>\n",
       "      <td>Vente</td>\n",
       "      <td>690000.0</td>\n",
       "      <td>75002</td>\n",
       "      <td>Local industriel. commercial ou assimilé</td>\n",
       "      <td>56.0</td>\n",
       "      <td>0.0</td>\n",
       "      <td>NaN</td>\n",
       "      <td>NaN</td>\n",
       "      <td>2.345110</td>\n",
       "      <td>48.868196</td>\n",
       "      <td>3   8659 RUE SAINT-JOSEPH Paris 2e Arrondissem...</td>\n",
       "      <td>75</td>\n",
       "      <td>3   8659 RUE SAINT-JOSEPH Paris 2e Arrondissem...</td>\n",
       "    </tr>\n",
       "  </tbody>\n",
       "</table>\n",
       "</div>"
      ],
      "text/plain": [
       "        date_mutation nature_mutation  valeur_fonciere  code_postal  \\\n",
       "1210565    2021-03-17           Vente         260000.0        75002   \n",
       "1210566    2021-03-19           Vente          38000.0        75004   \n",
       "1210567    2021-03-30           Vente          38000.0        75004   \n",
       "1210568    2021-03-19           Vente         690000.0        75002   \n",
       "\n",
       "                                       type_local  surface_reelle_bati  \\\n",
       "1210565                               Appartement                 37.0   \n",
       "1210566                                Dépendance                  NaN   \n",
       "1210567                                Dépendance                  NaN   \n",
       "1210568  Local industriel. commercial ou assimilé                 56.0   \n",
       "\n",
       "         nombre_pieces_principales nature_culture  surface_terrain  longitude  \\\n",
       "1210565                        2.0            NaN              NaN   2.350774   \n",
       "1210566                        0.0            NaN              NaN   2.357623   \n",
       "1210567                        0.0            NaN              NaN   2.365430   \n",
       "1210568                        0.0            NaN              NaN   2.345110   \n",
       "\n",
       "          latitude                                            adresse  \\\n",
       "1210565  48.868450  8   8561 RUE SAINTE FOY Paris 2e Arrondissemen...   \n",
       "1210566  48.858041  6   4398 RUE DES GUILLEMITES Paris 4e Arrondis...   \n",
       "1210567  48.852861  30   7338 RUE DU PETIT MUSC Paris 4e Arrondiss...   \n",
       "1210568  48.868196  3   8659 RUE SAINT-JOSEPH Paris 2e Arrondissem...   \n",
       "\n",
       "        code_departement                            identifiant_transaction  \n",
       "1210565               75  8   8561 RUE SAINTE FOY Paris 2e Arrondissemen...  \n",
       "1210566               75  6   4398 RUE DES GUILLEMITES Paris 4e Arrondis...  \n",
       "1210567               75  30   7338 RUE DU PETIT MUSC Paris 4e Arrondiss...  \n",
       "1210568               75  3   8659 RUE SAINT-JOSEPH Paris 2e Arrondissem...  "
      ]
     },
     "execution_count": 7,
     "metadata": {},
     "output_type": "execute_result"
    }
   ],
   "source": [
    "# Création de table_vf :\n",
    "\n",
    "# On crée le dataframe table_vf qui sera la version finale (vf) de notre dataset\n",
    "colonnes = [\"date_mutation\", \"nature_mutation\", \"valeur_fonciere\", \"code_postal\", 'type_local',\n",
    "            'surface_reelle_bati', 'nombre_pieces_principales', 'nature_culture', 'surface_terrain', 'longitude', \n",
    "            'latitude', 'adresse', 'code_departement', 'identifiant_transaction']\n",
    "table_vf = table[colonnes].copy()\n",
    "\n",
    "# On agrège les types de cultures différents de NaN, sols, terrain à bâtir et  : on les renomme \"culture\"\n",
    "culture_type = ['taillis simples', 'eaux', 'landes', 'taillis sous futaie', 'prés', 'terres', 'peupleraies', \n",
    "                'vignes', 'bois', 'vergers', 'carrières', 'futaies résineuses', 'pâtures', 'futaies feuillues', \n",
    "                'futaies mixtes', 'chemin de fer', 'oseraies', 'pacages', 'prés plantes', 'terres plantées', \n",
    "                'landes boisées', 'herbages', \"prés d'embouche\"]\n",
    "\n",
    "for x in culture_type:\n",
    "    table_vf.loc[table_vf[\"nature_culture\"] == x, \"nature_culture\"] = \"culture\"\n",
    "\n",
    "# Visualisation de table_vf\n",
    "display(table_vf.shape)\n",
    "display(\"Les quatre premières lignes\")\n",
    "\n",
    "display(table_vf.head(4))\n",
    "display(\"Les quatre dernières lignes\")\n",
    "\n",
    "table_vf.tail(4)"
   ]
  },
  {
   "cell_type": "markdown",
   "id": "1798b71c-26a5-49ed-b848-129ab0da7ad3",
   "metadata": {},
   "source": [
    "**1.3.1. Création de deux dataframes**"
   ]
  },
  {
   "cell_type": "code",
   "execution_count": 8,
   "id": "fb5119c9-a237-4d10-81e9-301351c2f6c8",
   "metadata": {},
   "outputs": [
    {
     "name": "stdout",
     "output_type": "stream",
     "text": [
      "Taille de table_vf_uni :\n",
      "(1210569, 14)\n",
      "Voici à quoi ressemble dup_id :\n"
     ]
    },
    {
     "data": {
      "text/html": [
       "<div>\n",
       "<style scoped>\n",
       "    .dataframe tbody tr th:only-of-type {\n",
       "        vertical-align: middle;\n",
       "    }\n",
       "\n",
       "    .dataframe tbody tr th {\n",
       "        vertical-align: top;\n",
       "    }\n",
       "\n",
       "    .dataframe thead th {\n",
       "        text-align: right;\n",
       "    }\n",
       "</style>\n",
       "<table border=\"1\" class=\"dataframe\">\n",
       "  <thead>\n",
       "    <tr style=\"text-align: right;\">\n",
       "      <th></th>\n",
       "      <th>identifiant_transaction</th>\n",
       "      <th>0</th>\n",
       "    </tr>\n",
       "  </thead>\n",
       "  <tbody>\n",
       "    <tr>\n",
       "      <th>35947</th>\n",
       "      <td>0   B029 LE POIRIER Monnerville 91930 France l...</td>\n",
       "      <td>2</td>\n",
       "    </tr>\n",
       "    <tr>\n",
       "      <th>111873</th>\n",
       "      <td>11   1295 RUE LEON CIGARROA Arcachon 33120 Fra...</td>\n",
       "      <td>2</td>\n",
       "    </tr>\n",
       "    <tr>\n",
       "      <th>183039</th>\n",
       "      <td>31   8801 RUE DE SAMBRE ET MEUSE Paris 10e Arr...</td>\n",
       "      <td>2</td>\n",
       "    </tr>\n",
       "  </tbody>\n",
       "</table>\n",
       "</div>"
      ],
      "text/plain": [
       "                                  identifiant_transaction  0\n",
       "35947   0   B029 LE POIRIER Monnerville 91930 France l...  2\n",
       "111873  11   1295 RUE LEON CIGARROA Arcachon 33120 Fra...  2\n",
       "183039  31   8801 RUE DE SAMBRE ET MEUSE Paris 10e Arr...  2"
      ]
     },
     "metadata": {},
     "output_type": "display_data"
    },
    {
     "name": "stdout",
     "output_type": "stream",
     "text": [
      "Voici à quoi ressemble table_vf_dup :\n"
     ]
    },
    {
     "data": {
      "text/html": [
       "<div>\n",
       "<style scoped>\n",
       "    .dataframe tbody tr th:only-of-type {\n",
       "        vertical-align: middle;\n",
       "    }\n",
       "\n",
       "    .dataframe tbody tr th {\n",
       "        vertical-align: top;\n",
       "    }\n",
       "\n",
       "    .dataframe thead th {\n",
       "        text-align: right;\n",
       "    }\n",
       "</style>\n",
       "<table border=\"1\" class=\"dataframe\">\n",
       "  <thead>\n",
       "    <tr style=\"text-align: right;\">\n",
       "      <th></th>\n",
       "      <th>date_mutation</th>\n",
       "      <th>nature_mutation</th>\n",
       "      <th>valeur_fonciere</th>\n",
       "      <th>code_postal</th>\n",
       "      <th>type_local</th>\n",
       "      <th>surface_reelle_bati</th>\n",
       "      <th>nombre_pieces_principales</th>\n",
       "      <th>nature_culture</th>\n",
       "      <th>surface_terrain</th>\n",
       "      <th>longitude</th>\n",
       "      <th>latitude</th>\n",
       "      <th>adresse</th>\n",
       "      <th>code_departement</th>\n",
       "      <th>identifiant_transaction</th>\n",
       "    </tr>\n",
       "  </thead>\n",
       "  <tbody>\n",
       "    <tr>\n",
       "      <th>0</th>\n",
       "      <td>2021-01-05</td>\n",
       "      <td>Vente</td>\n",
       "      <td>185000.0</td>\n",
       "      <td>1370</td>\n",
       "      <td>Maison</td>\n",
       "      <td>97.0</td>\n",
       "      <td>5.0</td>\n",
       "      <td>sols</td>\n",
       "      <td>2410.0</td>\n",
       "      <td>5.386094</td>\n",
       "      <td>46.327140</td>\n",
       "      <td>5080   0471 CHE DE VOGELAS Val-Revermont 1370 ...</td>\n",
       "      <td>1</td>\n",
       "      <td>5080   0471 CHE DE VOGELAS Val-Revermont 1370 ...</td>\n",
       "    </tr>\n",
       "    <tr>\n",
       "      <th>1</th>\n",
       "      <td>2021-01-05</td>\n",
       "      <td>Vente</td>\n",
       "      <td>185000.0</td>\n",
       "      <td>1370</td>\n",
       "      <td>Dépendance</td>\n",
       "      <td>NaN</td>\n",
       "      <td>0.0</td>\n",
       "      <td>sols</td>\n",
       "      <td>2410.0</td>\n",
       "      <td>5.386094</td>\n",
       "      <td>46.327140</td>\n",
       "      <td>5080   0471 CHE DE VOGELAS Val-Revermont 1370 ...</td>\n",
       "      <td>1</td>\n",
       "      <td>5080   0471 CHE DE VOGELAS Val-Revermont 1370 ...</td>\n",
       "    </tr>\n",
       "    <tr>\n",
       "      <th>4</th>\n",
       "      <td>2021-01-06</td>\n",
       "      <td>Vente</td>\n",
       "      <td>320000.0</td>\n",
       "      <td>1250</td>\n",
       "      <td>Maison</td>\n",
       "      <td>168.0</td>\n",
       "      <td>5.0</td>\n",
       "      <td>sols</td>\n",
       "      <td>1426.0</td>\n",
       "      <td>5.273260</td>\n",
       "      <td>46.156334</td>\n",
       "      <td>87   0140 RTE DE CERTINES Montagnat 1250 France</td>\n",
       "      <td>1</td>\n",
       "      <td>87   0140 RTE DE CERTINES Montagnat 1250 Franc...</td>\n",
       "    </tr>\n",
       "    <tr>\n",
       "      <th>5</th>\n",
       "      <td>2021-01-06</td>\n",
       "      <td>Vente</td>\n",
       "      <td>320000.0</td>\n",
       "      <td>1250</td>\n",
       "      <td>Dépendance</td>\n",
       "      <td>NaN</td>\n",
       "      <td>0.0</td>\n",
       "      <td>sols</td>\n",
       "      <td>1426.0</td>\n",
       "      <td>5.273260</td>\n",
       "      <td>46.156334</td>\n",
       "      <td>87   0140 RTE DE CERTINES Montagnat 1250 France</td>\n",
       "      <td>1</td>\n",
       "      <td>87   0140 RTE DE CERTINES Montagnat 1250 Franc...</td>\n",
       "    </tr>\n",
       "    <tr>\n",
       "      <th>7</th>\n",
       "      <td>2021-01-04</td>\n",
       "      <td>Vente</td>\n",
       "      <td>176000.0</td>\n",
       "      <td>1000</td>\n",
       "      <td>Dépendance</td>\n",
       "      <td>NaN</td>\n",
       "      <td>0.0</td>\n",
       "      <td>NaN</td>\n",
       "      <td>NaN</td>\n",
       "      <td>5.200117</td>\n",
       "      <td>46.210292</td>\n",
       "      <td>210   0820 RUE GEORGE SAND Saint-Denis-lès-Bou...</td>\n",
       "      <td>1</td>\n",
       "      <td>210   0820 RUE GEORGE SAND Saint-Denis-lès-Bou...</td>\n",
       "    </tr>\n",
       "  </tbody>\n",
       "</table>\n",
       "</div>"
      ],
      "text/plain": [
       "  date_mutation nature_mutation  valeur_fonciere  code_postal  type_local  \\\n",
       "0    2021-01-05           Vente         185000.0         1370      Maison   \n",
       "1    2021-01-05           Vente         185000.0         1370  Dépendance   \n",
       "4    2021-01-06           Vente         320000.0         1250      Maison   \n",
       "5    2021-01-06           Vente         320000.0         1250  Dépendance   \n",
       "7    2021-01-04           Vente         176000.0         1000  Dépendance   \n",
       "\n",
       "   surface_reelle_bati  nombre_pieces_principales nature_culture  \\\n",
       "0                 97.0                        5.0           sols   \n",
       "1                  NaN                        0.0           sols   \n",
       "4                168.0                        5.0           sols   \n",
       "5                  NaN                        0.0           sols   \n",
       "7                  NaN                        0.0            NaN   \n",
       "\n",
       "   surface_terrain  longitude   latitude  \\\n",
       "0           2410.0   5.386094  46.327140   \n",
       "1           2410.0   5.386094  46.327140   \n",
       "4           1426.0   5.273260  46.156334   \n",
       "5           1426.0   5.273260  46.156334   \n",
       "7              NaN   5.200117  46.210292   \n",
       "\n",
       "                                             adresse code_departement  \\\n",
       "0  5080   0471 CHE DE VOGELAS Val-Revermont 1370 ...                1   \n",
       "1  5080   0471 CHE DE VOGELAS Val-Revermont 1370 ...                1   \n",
       "4    87   0140 RTE DE CERTINES Montagnat 1250 France                1   \n",
       "5    87   0140 RTE DE CERTINES Montagnat 1250 France                1   \n",
       "7  210   0820 RUE GEORGE SAND Saint-Denis-lès-Bou...                1   \n",
       "\n",
       "                             identifiant_transaction  \n",
       "0  5080   0471 CHE DE VOGELAS Val-Revermont 1370 ...  \n",
       "1  5080   0471 CHE DE VOGELAS Val-Revermont 1370 ...  \n",
       "4  87   0140 RTE DE CERTINES Montagnat 1250 Franc...  \n",
       "5  87   0140 RTE DE CERTINES Montagnat 1250 Franc...  \n",
       "7  210   0820 RUE GEORGE SAND Saint-Denis-lès-Bou...  "
      ]
     },
     "metadata": {},
     "output_type": "display_data"
    },
    {
     "name": "stdout",
     "output_type": "stream",
     "text": [
      "Taille de table_vf_dup :\n"
     ]
    },
    {
     "data": {
      "text/plain": [
       "(823100, 14)"
      ]
     },
     "metadata": {},
     "output_type": "display_data"
    },
    {
     "name": "stdout",
     "output_type": "stream",
     "text": [
      "Voici à quoi ressemble table_vf_uni :\n"
     ]
    },
    {
     "data": {
      "text/html": [
       "<div>\n",
       "<style scoped>\n",
       "    .dataframe tbody tr th:only-of-type {\n",
       "        vertical-align: middle;\n",
       "    }\n",
       "\n",
       "    .dataframe tbody tr th {\n",
       "        vertical-align: top;\n",
       "    }\n",
       "\n",
       "    .dataframe thead th {\n",
       "        text-align: right;\n",
       "    }\n",
       "</style>\n",
       "<table border=\"1\" class=\"dataframe\">\n",
       "  <thead>\n",
       "    <tr style=\"text-align: right;\">\n",
       "      <th></th>\n",
       "      <th>date_mutation</th>\n",
       "      <th>nature_mutation</th>\n",
       "      <th>valeur_fonciere</th>\n",
       "      <th>code_postal</th>\n",
       "      <th>type_local</th>\n",
       "      <th>surface_reelle_bati</th>\n",
       "      <th>nombre_pieces_principales</th>\n",
       "      <th>nature_culture</th>\n",
       "      <th>surface_terrain</th>\n",
       "      <th>longitude</th>\n",
       "      <th>latitude</th>\n",
       "      <th>adresse</th>\n",
       "      <th>code_departement</th>\n",
       "      <th>identifiant_transaction</th>\n",
       "    </tr>\n",
       "  </thead>\n",
       "  <tbody>\n",
       "    <tr>\n",
       "      <th>690324</th>\n",
       "      <td>2021-03-15</td>\n",
       "      <td>Vente</td>\n",
       "      <td>55000.0</td>\n",
       "      <td>59217</td>\n",
       "      <td>Maison</td>\n",
       "      <td>64.0</td>\n",
       "      <td>2.0</td>\n",
       "      <td>sols</td>\n",
       "      <td>140.0</td>\n",
       "      <td>3.348468</td>\n",
       "      <td>50.168288</td>\n",
       "      <td>13   0119 RUE DU  GENERAL  LECLERC Carnières 5...</td>\n",
       "      <td>59</td>\n",
       "      <td>13   0119 RUE DU  GENERAL  LECLERC Carnières 5...</td>\n",
       "    </tr>\n",
       "    <tr>\n",
       "      <th>1071060</th>\n",
       "      <td>2021-04-14</td>\n",
       "      <td>Vente</td>\n",
       "      <td>390000.0</td>\n",
       "      <td>91210</td>\n",
       "      <td>Maison</td>\n",
       "      <td>111.0</td>\n",
       "      <td>5.0</td>\n",
       "      <td>sols</td>\n",
       "      <td>509.0</td>\n",
       "      <td>2.426265</td>\n",
       "      <td>48.662636</td>\n",
       "      <td>3   2220 RUE LEO DELIBES Draveil 91210 France</td>\n",
       "      <td>91</td>\n",
       "      <td>3   2220 RUE LEO DELIBES Draveil 91210 France ...</td>\n",
       "    </tr>\n",
       "    <tr>\n",
       "      <th>857711</th>\n",
       "      <td>2021-01-06</td>\n",
       "      <td>Vente</td>\n",
       "      <td>250000.0</td>\n",
       "      <td>77176</td>\n",
       "      <td>Maison</td>\n",
       "      <td>84.0</td>\n",
       "      <td>3.0</td>\n",
       "      <td>NaN</td>\n",
       "      <td>NaN</td>\n",
       "      <td>2.565899</td>\n",
       "      <td>48.585822</td>\n",
       "      <td>5   0117 RUE DE LA GIBECIERE Nandy 77176 France</td>\n",
       "      <td>77</td>\n",
       "      <td>5   0117 RUE DE LA GIBECIERE Nandy 77176 Franc...</td>\n",
       "    </tr>\n",
       "  </tbody>\n",
       "</table>\n",
       "</div>"
      ],
      "text/plain": [
       "        date_mutation nature_mutation  valeur_fonciere  code_postal  \\\n",
       "690324     2021-03-15           Vente          55000.0        59217   \n",
       "1071060    2021-04-14           Vente         390000.0        91210   \n",
       "857711     2021-01-06           Vente         250000.0        77176   \n",
       "\n",
       "        type_local  surface_reelle_bati  nombre_pieces_principales  \\\n",
       "690324      Maison                 64.0                        2.0   \n",
       "1071060     Maison                111.0                        5.0   \n",
       "857711      Maison                 84.0                        3.0   \n",
       "\n",
       "        nature_culture  surface_terrain  longitude   latitude  \\\n",
       "690324            sols            140.0   3.348468  50.168288   \n",
       "1071060           sols            509.0   2.426265  48.662636   \n",
       "857711             NaN              NaN   2.565899  48.585822   \n",
       "\n",
       "                                                   adresse code_departement  \\\n",
       "690324   13   0119 RUE DU  GENERAL  LECLERC Carnières 5...               59   \n",
       "1071060      3   2220 RUE LEO DELIBES Draveil 91210 France               91   \n",
       "857711     5   0117 RUE DE LA GIBECIERE Nandy 77176 France               77   \n",
       "\n",
       "                                   identifiant_transaction  \n",
       "690324   13   0119 RUE DU  GENERAL  LECLERC Carnières 5...  \n",
       "1071060  3   2220 RUE LEO DELIBES Draveil 91210 France ...  \n",
       "857711   5   0117 RUE DE LA GIBECIERE Nandy 77176 Franc...  "
      ]
     },
     "metadata": {},
     "output_type": "display_data"
    },
    {
     "name": "stdout",
     "output_type": "stream",
     "text": [
      "Taille de table_vf_uni :\n"
     ]
    },
    {
     "data": {
      "text/plain": [
       "(387469, 14)"
      ]
     },
     "metadata": {},
     "output_type": "display_data"
    }
   ],
   "source": [
    "# On crée deux dataframes :\n",
    "# * un dataframe avec les transactions non dupliquées\n",
    "# * un dataframe avec les transactions dupliquées (sur lequel il faudra travailler pour parvenir à une transaction = une ligne)\n",
    "\n",
    "table_vf_dup = table_vf.copy()\n",
    "table_vf_uni = table_vf.copy()\n",
    "print(\"Taille de table_vf_uni :\")\n",
    "print(table_vf_uni.shape)\n",
    "\n",
    "# On récupère les indices des transactions dupliquées (pour lesquelles il y a \n",
    "dup_id = table_vf_dup.groupby('identifiant_transaction').size()\n",
    "dup_id = dup_id[dup_id > 1]\n",
    "dup_id = dup_id.reset_index()\n",
    "print(\"Voici à quoi ressemble dup_id :\")\n",
    "display(dup_id.sample(3))\n",
    "\n",
    "table_vf_dup = table_vf_dup[table_vf_dup['identifiant_transaction'].isin(dup_id[\"identifiant_transaction\"])]\n",
    "print(\"Voici à quoi ressemble table_vf_dup :\")\n",
    "display(table_vf_dup.head())\n",
    "print(\"Taille de table_vf_dup :\")\n",
    "display(table_vf_dup.shape)\n",
    "\n",
    "table_vf_uni = table_vf_uni[~table_vf_uni['identifiant_transaction'].isin(dup_id[\"identifiant_transaction\"])]\n",
    "print(\"Voici à quoi ressemble table_vf_uni :\")\n",
    "display(table_vf_uni.sample(3))\n",
    "print(\"Taille de table_vf_uni :\")\n",
    "display(table_vf_uni.shape)"
   ]
  },
  {
   "cell_type": "markdown",
   "id": "74a8533a-b703-43eb-8a73-510b675f7a05",
   "metadata": {},
   "source": [
    "### Rapport de mi-parcours pre-processing :"
   ]
  },
  {
   "cell_type": "markdown",
   "id": "9a603a5c-bb99-4771-96df-f377d5119092",
   "metadata": {},
   "source": [
    "Jusqu'ici, nous avons obtenu que :\n",
    "* le dataset initial (1 210 569 lignes) comporte **des erreurs qui nous empêchent de l'exploiter directement** ;\n",
    "* en effet, on distingue les transactions qui n'ont fait l'objet que d'**une seule ligne** (car il n'y avait pas de bien secondaire) des transactions qui font l'objet de **plusieurs lignes** (car il y a un ou plusieurs biens secondaires) : au total il n'y a eu que **654 843 transactions** (soit environ 1,85 lignes par transaction en moyenne).\n",
    "\n",
    "Nous avons ainsi créé **deux datasets** :\n",
    "* un dataset (**table_vf_uni**) avec uniquement les transactions n'ayant fait l'objet que d'une seule ligne (387 469 lignes) ;\n",
    "* un dataset (**table_vf_dup**) avec uniquement les transactions ayant fait l'objet de plusieurs lignes (823 100 lignes).\n",
    "\n",
    "Ainsi, nous avons désormais **deux options** :\n",
    "* nous pouvons *entraîner notre algorithme de pricing sur les transactions n'ayant fait l'objet que d'une seule ligne* (cela exclut par exemple les appartements avec une cave, les maisons avec un jardin d'agrément, etc.) -> cela représente tout de même près de 400 000 transactions en 2021 (60 % des transactions environ).\n",
    "* nous *continuons notre travail de preprocessing pour traiter le dataset table_vf_dup* avec les transactions dupliquées (40 % des transactions environ).\n",
    "\n",
    "Comme le traitement du dataset des transactions dupliquées est compliqué, nous avons choisi d'**étudier les deux possibilités** :\n",
    "* d'abord il conviendra de vérifier que les transactions ayant fait l'objet d'une ligne unique sont **représentatives du marché immobilier français** avant d'entraîner notre algorithme avec,\n",
    "* ensuite, nous pourrons **traiter le dataset des transactions dupliquées** et réentraîner notre algorithme avec ces nouvelles données.\n",
    "* nous pourrons enfin **comparer les performances des deux modèles**."
   ]
  },
  {
   "cell_type": "markdown",
   "id": "24f8cdc9-b792-4dda-9b4f-7f53bb53fa81",
   "metadata": {},
   "source": [
    "**1.3.2. Traitement du dataset de transactions dupliquées :**"
   ]
  },
  {
   "cell_type": "code",
   "execution_count": 9,
   "id": "9cd34098-32aa-48a9-a82b-796da0627a17",
   "metadata": {},
   "outputs": [
    {
     "name": "stdout",
     "output_type": "stream",
     "text": [
      "* Différentes valeurs dans 'type_local' :\n"
     ]
    },
    {
     "data": {
      "text/plain": [
       "['Maison',\n",
       " 'Dépendance',\n",
       " 'Appartement',\n",
       " nan,\n",
       " 'Local industriel. commercial ou assimilé']"
      ]
     },
     "metadata": {},
     "output_type": "display_data"
    },
    {
     "name": "stdout",
     "output_type": "stream",
     "text": [
      "* Différentes valeurs dans 'nature_culture' :\n"
     ]
    },
    {
     "data": {
      "text/plain": [
       "['sols', nan, 'culture', 'terrains a bâtir', 'jardins', \"terrains d'agrément\"]"
      ]
     },
     "metadata": {},
     "output_type": "display_data"
    }
   ],
   "source": [
    "# Visualisation des colonnes principales d'intérêt pour le preprocessing :\n",
    "\n",
    "print(\"* Différentes valeurs dans 'type_local' :\")\n",
    "display([i for i in table_vf_dup['type_local'].unique()])\n",
    "\n",
    "print(\"* Différentes valeurs dans 'nature_culture' :\")\n",
    "display([i for i in table_vf_dup['nature_culture'].unique()])"
   ]
  },
  {
   "cell_type": "code",
   "execution_count": 10,
   "id": "f0a9de5c-cc6e-4a87-957c-98be905ea7af",
   "metadata": {},
   "outputs": [],
   "source": [
    "# Objectif : créer des colonnes pour stocker les valeurs des biens secondaires (jardin, terrain à bâtir, dépendance, etc.)\n",
    "# On veut le nombre de m2 de la culture (s'il ne s'agit pas d'un jardin / terrain d'agrément ou d'un terrain à bâtir), \n",
    "# On veut aussi le nombre de m2 du local (une dépendance ou un local industriel, par exemple), du terrain à bâtir et du jardin\n",
    "\n",
    "table_vf_dup[\"culture_m2\"] = 0\n",
    "table_vf_dup[\"jardin_m2\"] = 0\n",
    "table_vf_dup[\"terrains_a_bâtir_m2\"] = 0\n",
    "table_vf_dup[\"dependance_m2\"] = 0"
   ]
  },
  {
   "cell_type": "code",
   "execution_count": 11,
   "id": "891701ea",
   "metadata": {},
   "outputs": [],
   "source": [
    "# Création d'une fonction de stockage des valeurs diffuses (faudra peut-être préciser ce qu'on veut dire par là) :\n",
    "\n",
    "def stockage_function(table_vf, table, indexes : list, saved_line_index):\n",
    "    \n",
    "    # On se place sur chaque \"ligne supplémentaire\"\n",
    "    for index in indexes:\n",
    "        \n",
    "        # On regarde d'abord si la nature du bien à la ligne index est la même que celle de la ligne de référence retenue\n",
    "        # S'il s'agit de la même nature de bien, c'est qu'on a eu une duplication (\"le fichier de restitution comportera (n x p) lignes\")\n",
    "        if table.loc[index, \"type_local\"] == table.loc[saved_line_index, \"type_local\"] and table.loc[index, \"type_local\"] != \"Nan\":\n",
    "            return table_vf\n",
    "        \n",
    "        # Sinon, on continue l'exploration...\n",
    "        else:\n",
    "            # On regarde s'il s'agit d'une dépendance ou d'un local industriel ou commercial\n",
    "            if table.loc[index, \"type_local\"] == \"Dépendance\":\n",
    "                if table_vf[\"surface_reelle_bati\"][index] != \"NaN\":\n",
    "                    table_vf[\"dependance_m2\"][saved_line_index] += table_vf[\"surface_reelle_bati\"][index]\n",
    "                if table_vf[\"surface_terrain\"][index] != \"NaN\":\n",
    "                    table_vf[\"dependance_m2\"][saved_line_index] += table_vf[\"surface_terrain\"][index]\n",
    "            elif table_vf_dup.loc[index, \"type_local\"] == \"Local industriel. commercial ou assimilé\":\n",
    "                if table_vf[\"surface_reelle_bati\"][index] != \"NaN\":\n",
    "                    table_vf[\"dependance_m2\"][saved_line_index] += table_vf[\"surface_reelle_bati\"][index]\n",
    "                if table_vf[\"surface_terrain\"][index] != \"NaN\":\n",
    "                    table_vf[\"dependance_m2\"][saved_line_index] += table_vf[\"surface_terrain\"][index]\n",
    "                    \n",
    "            # S'il ne s'agit pas d'une dépendance ou d'un local industriel ou commercial, alors il peut s'agir :\n",
    "            elif table.loc[index, \"type_local\"] == \"NaN\":\n",
    "                # Dans le cas où ça augmente la surface du terrain\n",
    "                if table_vf[\"surface_terrain\"][index] != \"NaN\":\n",
    "                    # D'un jardin\n",
    "                    if table_vf[\"nature_culture\"][index] == \"terrains d'agrément\":\n",
    "                        table_vf[\"jardin_m2\"][saved_line_index] += table_vf[\"surface_terrain\"][index]\n",
    "                    if table_vf[\"nature_culture\"][index] == \"jardins\":\n",
    "                        table_vf[\"jardin_m2\"][saved_line_index] += table_vf[\"surface_terrain\"][index]\n",
    "                    # D'un terrain à bâtir\n",
    "                    if table_vf[\"nature_culture\"][index] == 'sols':\n",
    "                        table_vf[\"terrains_a_bâtir_m2\"][saved_line_index] += table_vf[\"surface_terrain\"][index]\n",
    "                    if table_vf[\"nature_culture\"][index] == 'terrains a bâtir':\n",
    "                        table_vf[\"terrains_a_bâtir_m2\"][saved_line_index] += table_vf[\"surface_terrain\"][index]\n",
    "                    # D'une culture\n",
    "                    if table_vf[\"nature_culture\"][index] == 'culture':\n",
    "                        table_vf[\"culture_m2\"][saved_line_index] += table_vf[\"surface_terrain\"][index]\n",
    "                # Dans le cas où ça augmente la surface réelle du bâtiment\n",
    "                elif table_vf[\"surface_reelle_bati\"][index] != \"NaN\":\n",
    "                    if table_vf[\"nature_culture\"][index] == 'NaN':\n",
    "                        table_vf[\"surface_reelle_bati\"][saved_line_index] += table_vf[\"surface_reelle_bati\"][index]\n",
    "                    if table_vf[\"nature_culture\"][index] == 'sols':\n",
    "                        table_vf[\"surface_reelle_bati\"][saved_line_index] += table_vf[\"surface_reelle_bati\"][index]\n",
    "                else:\n",
    "                    return table_vf\n",
    "                \n",
    "        return table_vf"
   ]
  },
  {
   "cell_type": "code",
   "execution_count": 12,
   "id": "a1bc0e0e-1c68-40a5-afad-2c6b14471999",
   "metadata": {},
   "outputs": [
    {
     "data": {
      "text/plain": [
       "'Taille initiale du dataset :'"
      ]
     },
     "metadata": {},
     "output_type": "display_data"
    },
    {
     "data": {
      "text/plain": [
       "(500, 18)"
      ]
     },
     "metadata": {},
     "output_type": "display_data"
    }
   ],
   "source": [
    "# Ici, on montre à titre d'exemple pour les 500 premières lignes de table_vf_dup...\n",
    "# ... car la fonction met du temps à s'exécuter !\n",
    "# Donc, pour exploiter tout le dataset, il faudra supprimer cette cellule.\n",
    "\n",
    "table_vf_dup = table_vf_dup.copy()[:500]\n",
    "display(\"Taille initiale du dataset :\")\n",
    "display(table_vf_dup.shape)"
   ]
  },
  {
   "cell_type": "code",
   "execution_count": 13,
   "id": "83548769",
   "metadata": {},
   "outputs": [
    {
     "name": "stderr",
     "output_type": "stream",
     "text": [
      "Progression:   0%|          | 0/165 [00:00<?, ?it/s]/opt/conda/lib/python3.9/site-packages/pandas/core/indexing.py:1732: SettingWithCopyWarning: \n",
      "A value is trying to be set on a copy of a slice from a DataFrame\n",
      "\n",
      "See the caveats in the documentation: https://pandas.pydata.org/pandas-docs/stable/user_guide/indexing.html#returning-a-view-versus-a-copy\n",
      "  self._setitem_single_block(indexer, value, name)\n",
      "/tmp/ipykernel_236/1322038162.py:32: FutureWarning: In a future version of pandas all arguments of DataFrame.drop except for the argument 'labels' will be keyword-only\n",
      "  table_vf_dup.drop(removed_lines_indexes, 0, inplace = True)\n",
      "/tmp/ipykernel_236/515769949.py:18: SettingWithCopyWarning: \n",
      "A value is trying to be set on a copy of a slice from a DataFrame\n",
      "\n",
      "See the caveats in the documentation: https://pandas.pydata.org/pandas-docs/stable/user_guide/indexing.html#returning-a-view-versus-a-copy\n",
      "  table_vf[\"dependance_m2\"][saved_line_index] += table_vf[\"surface_reelle_bati\"][index]\n",
      "/tmp/ipykernel_236/515769949.py:20: SettingWithCopyWarning: \n",
      "A value is trying to be set on a copy of a slice from a DataFrame\n",
      "\n",
      "See the caveats in the documentation: https://pandas.pydata.org/pandas-docs/stable/user_guide/indexing.html#returning-a-view-versus-a-copy\n",
      "  table_vf[\"dependance_m2\"][saved_line_index] += table_vf[\"surface_terrain\"][index]\n",
      "/tmp/ipykernel_236/515769949.py:23: SettingWithCopyWarning: \n",
      "A value is trying to be set on a copy of a slice from a DataFrame\n",
      "\n",
      "See the caveats in the documentation: https://pandas.pydata.org/pandas-docs/stable/user_guide/indexing.html#returning-a-view-versus-a-copy\n",
      "  table_vf[\"dependance_m2\"][saved_line_index] += table_vf[\"surface_reelle_bati\"][index]\n",
      "/tmp/ipykernel_236/515769949.py:25: SettingWithCopyWarning: \n",
      "A value is trying to be set on a copy of a slice from a DataFrame\n",
      "\n",
      "See the caveats in the documentation: https://pandas.pydata.org/pandas-docs/stable/user_guide/indexing.html#returning-a-view-versus-a-copy\n",
      "  table_vf[\"dependance_m2\"][saved_line_index] += table_vf[\"surface_terrain\"][index]\n",
      "Progression: 100%|██████████| 165/165 [00:00<00:00, 803.90it/s]\n"
     ]
    },
    {
     "data": {
      "text/plain": [
       "'Taille finale du dataset :'"
      ]
     },
     "metadata": {},
     "output_type": "display_data"
    },
    {
     "data": {
      "text/plain": [
       "(165, 18)"
      ]
     },
     "metadata": {},
     "output_type": "display_data"
    },
    {
     "data": {
      "text/html": [
       "<div>\n",
       "<style scoped>\n",
       "    .dataframe tbody tr th:only-of-type {\n",
       "        vertical-align: middle;\n",
       "    }\n",
       "\n",
       "    .dataframe tbody tr th {\n",
       "        vertical-align: top;\n",
       "    }\n",
       "\n",
       "    .dataframe thead th {\n",
       "        text-align: right;\n",
       "    }\n",
       "</style>\n",
       "<table border=\"1\" class=\"dataframe\">\n",
       "  <thead>\n",
       "    <tr style=\"text-align: right;\">\n",
       "      <th></th>\n",
       "      <th>date_mutation</th>\n",
       "      <th>nature_mutation</th>\n",
       "      <th>valeur_fonciere</th>\n",
       "      <th>code_postal</th>\n",
       "      <th>type_local</th>\n",
       "      <th>surface_reelle_bati</th>\n",
       "      <th>nombre_pieces_principales</th>\n",
       "      <th>nature_culture</th>\n",
       "      <th>surface_terrain</th>\n",
       "      <th>longitude</th>\n",
       "      <th>latitude</th>\n",
       "      <th>adresse</th>\n",
       "      <th>code_departement</th>\n",
       "      <th>identifiant_transaction</th>\n",
       "      <th>culture_m2</th>\n",
       "      <th>jardin_m2</th>\n",
       "      <th>terrains_a_bâtir_m2</th>\n",
       "      <th>dependance_m2</th>\n",
       "    </tr>\n",
       "  </thead>\n",
       "  <tbody>\n",
       "    <tr>\n",
       "      <th>0</th>\n",
       "      <td>2021-01-05</td>\n",
       "      <td>Vente</td>\n",
       "      <td>185000.0</td>\n",
       "      <td>1370</td>\n",
       "      <td>Maison</td>\n",
       "      <td>97.0</td>\n",
       "      <td>5.0</td>\n",
       "      <td>sols</td>\n",
       "      <td>2410.0</td>\n",
       "      <td>5.386094</td>\n",
       "      <td>46.327140</td>\n",
       "      <td>5080   0471 CHE DE VOGELAS Val-Revermont 1370 ...</td>\n",
       "      <td>1</td>\n",
       "      <td>5080   0471 CHE DE VOGELAS Val-Revermont 1370 ...</td>\n",
       "      <td>0</td>\n",
       "      <td>0</td>\n",
       "      <td>0</td>\n",
       "      <td>NaN</td>\n",
       "    </tr>\n",
       "    <tr>\n",
       "      <th>4</th>\n",
       "      <td>2021-01-06</td>\n",
       "      <td>Vente</td>\n",
       "      <td>320000.0</td>\n",
       "      <td>1250</td>\n",
       "      <td>Maison</td>\n",
       "      <td>168.0</td>\n",
       "      <td>5.0</td>\n",
       "      <td>sols</td>\n",
       "      <td>1426.0</td>\n",
       "      <td>5.273260</td>\n",
       "      <td>46.156334</td>\n",
       "      <td>87   0140 RTE DE CERTINES Montagnat 1250 France</td>\n",
       "      <td>1</td>\n",
       "      <td>87   0140 RTE DE CERTINES Montagnat 1250 Franc...</td>\n",
       "      <td>0</td>\n",
       "      <td>0</td>\n",
       "      <td>0</td>\n",
       "      <td>NaN</td>\n",
       "    </tr>\n",
       "    <tr>\n",
       "      <th>8</th>\n",
       "      <td>2021-01-04</td>\n",
       "      <td>Vente</td>\n",
       "      <td>176000.0</td>\n",
       "      <td>1000</td>\n",
       "      <td>Appartement</td>\n",
       "      <td>71.0</td>\n",
       "      <td>3.0</td>\n",
       "      <td>NaN</td>\n",
       "      <td>NaN</td>\n",
       "      <td>5.200117</td>\n",
       "      <td>46.210292</td>\n",
       "      <td>210   0820 RUE GEORGE SAND Saint-Denis-lès-Bou...</td>\n",
       "      <td>1</td>\n",
       "      <td>210   0820 RUE GEORGE SAND Saint-Denis-lès-Bou...</td>\n",
       "      <td>0</td>\n",
       "      <td>0</td>\n",
       "      <td>0</td>\n",
       "      <td>NaN</td>\n",
       "    </tr>\n",
       "    <tr>\n",
       "      <th>10</th>\n",
       "      <td>2021-01-07</td>\n",
       "      <td>Vente</td>\n",
       "      <td>4780.0</td>\n",
       "      <td>1340</td>\n",
       "      <td>NaN</td>\n",
       "      <td>NaN</td>\n",
       "      <td>NaN</td>\n",
       "      <td>culture</td>\n",
       "      <td>6114.0</td>\n",
       "      <td>5.161927</td>\n",
       "      <td>46.393824</td>\n",
       "      <td>0   B197 FEUSSAT Foissiat 1340 France</td>\n",
       "      <td>1</td>\n",
       "      <td>0   B197 FEUSSAT Foissiat 1340 France le 2021-...</td>\n",
       "      <td>0</td>\n",
       "      <td>0</td>\n",
       "      <td>0</td>\n",
       "      <td>0.0</td>\n",
       "    </tr>\n",
       "    <tr>\n",
       "      <th>18</th>\n",
       "      <td>2021-01-08</td>\n",
       "      <td>Vente</td>\n",
       "      <td>145000.0</td>\n",
       "      <td>1340</td>\n",
       "      <td>NaN</td>\n",
       "      <td>NaN</td>\n",
       "      <td>NaN</td>\n",
       "      <td>sols</td>\n",
       "      <td>431.0</td>\n",
       "      <td>5.200264</td>\n",
       "      <td>46.404948</td>\n",
       "      <td>0   B071 CHAMANDRE Foissiat 1340 France</td>\n",
       "      <td>1</td>\n",
       "      <td>0   B071 CHAMANDRE Foissiat 1340 France le 202...</td>\n",
       "      <td>0</td>\n",
       "      <td>0</td>\n",
       "      <td>0</td>\n",
       "      <td>0.0</td>\n",
       "    </tr>\n",
       "  </tbody>\n",
       "</table>\n",
       "</div>"
      ],
      "text/plain": [
       "   date_mutation nature_mutation  valeur_fonciere  code_postal   type_local  \\\n",
       "0     2021-01-05           Vente         185000.0         1370       Maison   \n",
       "4     2021-01-06           Vente         320000.0         1250       Maison   \n",
       "8     2021-01-04           Vente         176000.0         1000  Appartement   \n",
       "10    2021-01-07           Vente           4780.0         1340          NaN   \n",
       "18    2021-01-08           Vente         145000.0         1340          NaN   \n",
       "\n",
       "    surface_reelle_bati  nombre_pieces_principales nature_culture  \\\n",
       "0                  97.0                        5.0           sols   \n",
       "4                 168.0                        5.0           sols   \n",
       "8                  71.0                        3.0            NaN   \n",
       "10                  NaN                        NaN        culture   \n",
       "18                  NaN                        NaN           sols   \n",
       "\n",
       "    surface_terrain  longitude   latitude  \\\n",
       "0            2410.0   5.386094  46.327140   \n",
       "4            1426.0   5.273260  46.156334   \n",
       "8               NaN   5.200117  46.210292   \n",
       "10           6114.0   5.161927  46.393824   \n",
       "18            431.0   5.200264  46.404948   \n",
       "\n",
       "                                              adresse code_departement  \\\n",
       "0   5080   0471 CHE DE VOGELAS Val-Revermont 1370 ...                1   \n",
       "4     87   0140 RTE DE CERTINES Montagnat 1250 France                1   \n",
       "8   210   0820 RUE GEORGE SAND Saint-Denis-lès-Bou...                1   \n",
       "10              0   B197 FEUSSAT Foissiat 1340 France                1   \n",
       "18            0   B071 CHAMANDRE Foissiat 1340 France                1   \n",
       "\n",
       "                              identifiant_transaction  culture_m2  jardin_m2  \\\n",
       "0   5080   0471 CHE DE VOGELAS Val-Revermont 1370 ...           0          0   \n",
       "4   87   0140 RTE DE CERTINES Montagnat 1250 Franc...           0          0   \n",
       "8   210   0820 RUE GEORGE SAND Saint-Denis-lès-Bou...           0          0   \n",
       "10  0   B197 FEUSSAT Foissiat 1340 France le 2021-...           0          0   \n",
       "18  0   B071 CHAMANDRE Foissiat 1340 France le 202...           0          0   \n",
       "\n",
       "    terrains_a_bâtir_m2  dependance_m2  \n",
       "0                     0            NaN  \n",
       "4                     0            NaN  \n",
       "8                     0            NaN  \n",
       "10                    0            0.0  \n",
       "18                    0            0.0  "
      ]
     },
     "metadata": {},
     "output_type": "display_data"
    }
   ],
   "source": [
    "# Objectif : stocker les valeurs des biens secondaires (jardin, terrain à bâtir, dépendance, etc.) dans les colonnes créées\n",
    "\n",
    "# On parcourt tous les identifiants de transactions uniques\n",
    "# On a importé tqdm pour visualiser la progression \n",
    "\n",
    "for identifiant in tqdm(table_vf_dup[\"identifiant_transaction\"].unique(), desc = \"Progression\"):\n",
    "    \n",
    "    # On crée une liste d'indices pour chaque identifiant de transaction unique\n",
    "    indexes = list(table_vf_dup[table_vf_dup[\"identifiant_transaction\"] == identifiant].index.values)\n",
    "        \n",
    "    # L'objectif est de trouver l'indice de référence : celui d'une maison, d'un appartement, etc.\n",
    "    # ... et lui ajouter des informations sur les dépendances / les cultures / les locaux\n",
    "    saved_line_index = indexes[0]\n",
    "    for index in indexes:\n",
    "        if table_vf_dup[\"type_local\"][index] == \"Maison\":\n",
    "            saved_line_index = index\n",
    "        elif table_vf_dup[\"type_local\"][index] == \"Appartement\":\n",
    "            saved_line_index = index\n",
    "        \n",
    "    # On prépare la liste des indices à enlever\n",
    "    removed_lines_indexes = []\n",
    "        \n",
    "    # On enlève de indexes l'indice de la ligne de référence\n",
    "    indexes.remove(saved_line_index)\n",
    "        \n",
    "    # On utilise la fonction de stockage\n",
    "    table_vf_dup = stockage_function(table_vf_dup, table, indexes, saved_line_index)\n",
    "    removed_lines_indexes.extend(indexes)\n",
    "    \n",
    "    # On enlève les lignes désormais inutiles dont les indices ont été stockés dans removed_lines_indexes\n",
    "    if len(removed_lines_indexes) != 0:\n",
    "        table_vf_dup.drop(removed_lines_indexes, 0, inplace = True)\n",
    "\n",
    "display(\"Taille finale du dataset :\")\n",
    "display(table_vf_dup.shape)\n",
    "display(table_vf_dup.head(5))"
   ]
  },
  {
   "cell_type": "code",
   "execution_count": 14,
   "id": "f4fa7625",
   "metadata": {},
   "outputs": [
    {
     "data": {
      "text/plain": [
       "'Observation du DataFrame :'"
      ]
     },
     "metadata": {},
     "output_type": "display_data"
    },
    {
     "data": {
      "text/html": [
       "<div>\n",
       "<style scoped>\n",
       "    .dataframe tbody tr th:only-of-type {\n",
       "        vertical-align: middle;\n",
       "    }\n",
       "\n",
       "    .dataframe tbody tr th {\n",
       "        vertical-align: top;\n",
       "    }\n",
       "\n",
       "    .dataframe thead th {\n",
       "        text-align: right;\n",
       "    }\n",
       "</style>\n",
       "<table border=\"1\" class=\"dataframe\">\n",
       "  <thead>\n",
       "    <tr style=\"text-align: right;\">\n",
       "      <th></th>\n",
       "      <th>date_mutation</th>\n",
       "      <th>nature_mutation</th>\n",
       "      <th>valeur_fonciere</th>\n",
       "      <th>code_postal</th>\n",
       "      <th>type_local</th>\n",
       "      <th>surface_reelle_bati</th>\n",
       "      <th>nombre_pieces_principales</th>\n",
       "      <th>nature_culture</th>\n",
       "      <th>surface_terrain</th>\n",
       "      <th>longitude</th>\n",
       "      <th>latitude</th>\n",
       "      <th>adresse</th>\n",
       "      <th>code_departement</th>\n",
       "      <th>identifiant_transaction</th>\n",
       "      <th>culture_m2</th>\n",
       "      <th>jardin_m2</th>\n",
       "      <th>terrains_a_bâtir_m2</th>\n",
       "      <th>dependance_m2</th>\n",
       "    </tr>\n",
       "  </thead>\n",
       "  <tbody>\n",
       "    <tr>\n",
       "      <th>0</th>\n",
       "      <td>2021-01-05</td>\n",
       "      <td>Vente</td>\n",
       "      <td>185000.0</td>\n",
       "      <td>1370</td>\n",
       "      <td>Maison</td>\n",
       "      <td>97.0</td>\n",
       "      <td>5.0</td>\n",
       "      <td>sols</td>\n",
       "      <td>2410.0</td>\n",
       "      <td>5.386094</td>\n",
       "      <td>46.327140</td>\n",
       "      <td>5080   0471 CHE DE VOGELAS Val-Revermont 1370 ...</td>\n",
       "      <td>1</td>\n",
       "      <td>5080   0471 CHE DE VOGELAS Val-Revermont 1370 ...</td>\n",
       "      <td>0</td>\n",
       "      <td>0</td>\n",
       "      <td>0</td>\n",
       "      <td>NaN</td>\n",
       "    </tr>\n",
       "    <tr>\n",
       "      <th>4</th>\n",
       "      <td>2021-01-06</td>\n",
       "      <td>Vente</td>\n",
       "      <td>320000.0</td>\n",
       "      <td>1250</td>\n",
       "      <td>Maison</td>\n",
       "      <td>168.0</td>\n",
       "      <td>5.0</td>\n",
       "      <td>sols</td>\n",
       "      <td>1426.0</td>\n",
       "      <td>5.273260</td>\n",
       "      <td>46.156334</td>\n",
       "      <td>87   0140 RTE DE CERTINES Montagnat 1250 France</td>\n",
       "      <td>1</td>\n",
       "      <td>87   0140 RTE DE CERTINES Montagnat 1250 Franc...</td>\n",
       "      <td>0</td>\n",
       "      <td>0</td>\n",
       "      <td>0</td>\n",
       "      <td>NaN</td>\n",
       "    </tr>\n",
       "    <tr>\n",
       "      <th>8</th>\n",
       "      <td>2021-01-04</td>\n",
       "      <td>Vente</td>\n",
       "      <td>176000.0</td>\n",
       "      <td>1000</td>\n",
       "      <td>Appartement</td>\n",
       "      <td>71.0</td>\n",
       "      <td>3.0</td>\n",
       "      <td>NaN</td>\n",
       "      <td>NaN</td>\n",
       "      <td>5.200117</td>\n",
       "      <td>46.210292</td>\n",
       "      <td>210   0820 RUE GEORGE SAND Saint-Denis-lès-Bou...</td>\n",
       "      <td>1</td>\n",
       "      <td>210   0820 RUE GEORGE SAND Saint-Denis-lès-Bou...</td>\n",
       "      <td>0</td>\n",
       "      <td>0</td>\n",
       "      <td>0</td>\n",
       "      <td>NaN</td>\n",
       "    </tr>\n",
       "    <tr>\n",
       "      <th>10</th>\n",
       "      <td>2021-01-07</td>\n",
       "      <td>Vente</td>\n",
       "      <td>4780.0</td>\n",
       "      <td>1340</td>\n",
       "      <td>NaN</td>\n",
       "      <td>NaN</td>\n",
       "      <td>NaN</td>\n",
       "      <td>culture</td>\n",
       "      <td>6114.0</td>\n",
       "      <td>5.161927</td>\n",
       "      <td>46.393824</td>\n",
       "      <td>0   B197 FEUSSAT Foissiat 1340 France</td>\n",
       "      <td>1</td>\n",
       "      <td>0   B197 FEUSSAT Foissiat 1340 France le 2021-...</td>\n",
       "      <td>0</td>\n",
       "      <td>0</td>\n",
       "      <td>0</td>\n",
       "      <td>0.0</td>\n",
       "    </tr>\n",
       "    <tr>\n",
       "      <th>18</th>\n",
       "      <td>2021-01-08</td>\n",
       "      <td>Vente</td>\n",
       "      <td>145000.0</td>\n",
       "      <td>1340</td>\n",
       "      <td>NaN</td>\n",
       "      <td>NaN</td>\n",
       "      <td>NaN</td>\n",
       "      <td>sols</td>\n",
       "      <td>431.0</td>\n",
       "      <td>5.200264</td>\n",
       "      <td>46.404948</td>\n",
       "      <td>0   B071 CHAMANDRE Foissiat 1340 France</td>\n",
       "      <td>1</td>\n",
       "      <td>0   B071 CHAMANDRE Foissiat 1340 France le 202...</td>\n",
       "      <td>0</td>\n",
       "      <td>0</td>\n",
       "      <td>0</td>\n",
       "      <td>0.0</td>\n",
       "    </tr>\n",
       "  </tbody>\n",
       "</table>\n",
       "</div>"
      ],
      "text/plain": [
       "   date_mutation nature_mutation  valeur_fonciere  code_postal   type_local  \\\n",
       "0     2021-01-05           Vente         185000.0         1370       Maison   \n",
       "4     2021-01-06           Vente         320000.0         1250       Maison   \n",
       "8     2021-01-04           Vente         176000.0         1000  Appartement   \n",
       "10    2021-01-07           Vente           4780.0         1340          NaN   \n",
       "18    2021-01-08           Vente         145000.0         1340          NaN   \n",
       "\n",
       "    surface_reelle_bati  nombre_pieces_principales nature_culture  \\\n",
       "0                  97.0                        5.0           sols   \n",
       "4                 168.0                        5.0           sols   \n",
       "8                  71.0                        3.0            NaN   \n",
       "10                  NaN                        NaN        culture   \n",
       "18                  NaN                        NaN           sols   \n",
       "\n",
       "    surface_terrain  longitude   latitude  \\\n",
       "0            2410.0   5.386094  46.327140   \n",
       "4            1426.0   5.273260  46.156334   \n",
       "8               NaN   5.200117  46.210292   \n",
       "10           6114.0   5.161927  46.393824   \n",
       "18            431.0   5.200264  46.404948   \n",
       "\n",
       "                                              adresse code_departement  \\\n",
       "0   5080   0471 CHE DE VOGELAS Val-Revermont 1370 ...                1   \n",
       "4     87   0140 RTE DE CERTINES Montagnat 1250 France                1   \n",
       "8   210   0820 RUE GEORGE SAND Saint-Denis-lès-Bou...                1   \n",
       "10              0   B197 FEUSSAT Foissiat 1340 France                1   \n",
       "18            0   B071 CHAMANDRE Foissiat 1340 France                1   \n",
       "\n",
       "                              identifiant_transaction  culture_m2  jardin_m2  \\\n",
       "0   5080   0471 CHE DE VOGELAS Val-Revermont 1370 ...           0          0   \n",
       "4   87   0140 RTE DE CERTINES Montagnat 1250 Franc...           0          0   \n",
       "8   210   0820 RUE GEORGE SAND Saint-Denis-lès-Bou...           0          0   \n",
       "10  0   B197 FEUSSAT Foissiat 1340 France le 2021-...           0          0   \n",
       "18  0   B071 CHAMANDRE Foissiat 1340 France le 202...           0          0   \n",
       "\n",
       "    terrains_a_bâtir_m2  dependance_m2  \n",
       "0                     0            NaN  \n",
       "4                     0            NaN  \n",
       "8                     0            NaN  \n",
       "10                    0            0.0  \n",
       "18                    0            0.0  "
      ]
     },
     "metadata": {},
     "output_type": "display_data"
    },
    {
     "data": {
      "text/plain": [
       "\"Nombre d'identifiant_transaction uniques dans le DataFrame :\""
      ]
     },
     "metadata": {},
     "output_type": "display_data"
    },
    {
     "data": {
      "text/plain": [
       "165"
      ]
     },
     "metadata": {},
     "output_type": "display_data"
    },
    {
     "data": {
      "text/plain": [
       "'Nombre de lignes dans le DataFrame :'"
      ]
     },
     "metadata": {},
     "output_type": "display_data"
    },
    {
     "data": {
      "text/plain": [
       "165"
      ]
     },
     "metadata": {},
     "output_type": "display_data"
    },
    {
     "data": {
      "text/plain": [
       "'Nombre moyen de lignes par vente :'"
      ]
     },
     "metadata": {},
     "output_type": "display_data"
    },
    {
     "data": {
      "text/plain": [
       "1.0"
      ]
     },
     "execution_count": 14,
     "metadata": {},
     "output_type": "execute_result"
    }
   ],
   "source": [
    "# On observe que le DataFrame est désormais exploitable :\n",
    "\n",
    "display(\"Observation du DataFrame :\")\n",
    "display(table_vf_dup.head(5))\n",
    "\n",
    "display(\"Nombre d'identifiant_transaction uniques dans le DataFrame :\")\n",
    "display(len(table_vf_dup[\"identifiant_transaction\"].unique()))\n",
    "\n",
    "display(\"Nombre de lignes dans le DataFrame :\")\n",
    "display(len(table_vf_dup))\n",
    "\n",
    "display(\"Nombre moyen de lignes par vente :\")\n",
    "np.round(len(table_vf_dup) / len(table_vf_dup[\"identifiant_transaction\"].unique()), 2)\n",
    "\n",
    "# Attention, lorsque la surface d'une dépendance n'est pas renseignée, il est donné NaN par défaut... \n",
    "# Comment l'algorithme interprétera-t-il ce NaN ? Il s'agit de lui donner une valeur !"
   ]
  },
  {
   "cell_type": "markdown",
   "id": "57391b45-bcec-4dff-ad9d-81c818e52308",
   "metadata": {},
   "source": [
    "Il ne resterait plus qu'à **merger les deux dataframes** pour obtenir toutes les informations de l'année étudiée.\n",
    "\n",
    "Comme le code de preprocessing est très long à exécuter pour le dataset entier (12h estimées par tqdm), nous allons **nous concentrer sur le dataset des transactions avec une seule ligne** pour l'entraînement du modèle."
   ]
  },
  {
   "cell_type": "code",
   "execution_count": 15,
   "id": "6ccfc0d8-7071-4d1a-888e-fb62c921f9ca",
   "metadata": {},
   "outputs": [],
   "source": [
    "# Il faudra modifier cette cellule par la suite ...\n",
    "# ... en intégrant les transactions ayant fait l'objet de plusieurs lignes pour chaque année...\n",
    "\n",
    "# Le df \"data\" est celui que l'on étudie, qui est pour l'instant seulement les lignes uniques \n",
    "data = table_vf_uni\n",
    "data = data.reset_index().drop(\"index\", axis = 1)"
   ]
  },
  {
   "cell_type": "code",
   "execution_count": 16,
   "id": "1ef50acc-86ef-4082-ae9a-e7f54b322ec5",
   "metadata": {},
   "outputs": [
    {
     "data": {
      "text/html": [
       "<div>\n",
       "<style scoped>\n",
       "    .dataframe tbody tr th:only-of-type {\n",
       "        vertical-align: middle;\n",
       "    }\n",
       "\n",
       "    .dataframe tbody tr th {\n",
       "        vertical-align: top;\n",
       "    }\n",
       "\n",
       "    .dataframe thead th {\n",
       "        text-align: right;\n",
       "    }\n",
       "</style>\n",
       "<table border=\"1\" class=\"dataframe\">\n",
       "  <thead>\n",
       "    <tr style=\"text-align: right;\">\n",
       "      <th></th>\n",
       "      <th>date_mutation</th>\n",
       "      <th>nature_mutation</th>\n",
       "      <th>valeur_fonciere</th>\n",
       "      <th>code_postal</th>\n",
       "      <th>type_local</th>\n",
       "      <th>surface_reelle_bati</th>\n",
       "      <th>nombre_pieces_principales</th>\n",
       "      <th>nature_culture</th>\n",
       "      <th>surface_terrain</th>\n",
       "      <th>longitude</th>\n",
       "      <th>latitude</th>\n",
       "      <th>adresse</th>\n",
       "      <th>code_departement</th>\n",
       "      <th>identifiant_transaction</th>\n",
       "    </tr>\n",
       "  </thead>\n",
       "  <tbody>\n",
       "    <tr>\n",
       "      <th>0</th>\n",
       "      <td>2021-01-06</td>\n",
       "      <td>Vente</td>\n",
       "      <td>10.0</td>\n",
       "      <td>1290</td>\n",
       "      <td>NaN</td>\n",
       "      <td>NaN</td>\n",
       "      <td>NaN</td>\n",
       "      <td>culture</td>\n",
       "      <td>530.0</td>\n",
       "      <td>4.844368</td>\n",
       "      <td>46.224233</td>\n",
       "      <td>0   B043 ROUGEMONT Bey 1290 France</td>\n",
       "      <td>1</td>\n",
       "      <td>0   B043 ROUGEMONT Bey 1290 France le 2021-01-06</td>\n",
       "    </tr>\n",
       "    <tr>\n",
       "      <th>1</th>\n",
       "      <td>2021-01-04</td>\n",
       "      <td>Vente</td>\n",
       "      <td>204332.0</td>\n",
       "      <td>1310</td>\n",
       "      <td>Maison</td>\n",
       "      <td>88.0</td>\n",
       "      <td>4.0</td>\n",
       "      <td>sols</td>\n",
       "      <td>866.0</td>\n",
       "      <td>5.157688</td>\n",
       "      <td>46.200988</td>\n",
       "      <td>7   0276 ALL DES ECUREUILS Buellas 1310 France</td>\n",
       "      <td>1</td>\n",
       "      <td>7   0276 ALL DES ECUREUILS Buellas 1310 France...</td>\n",
       "    </tr>\n",
       "    <tr>\n",
       "      <th>2</th>\n",
       "      <td>2021-01-04</td>\n",
       "      <td>Vente</td>\n",
       "      <td>36.3</td>\n",
       "      <td>1250</td>\n",
       "      <td>NaN</td>\n",
       "      <td>NaN</td>\n",
       "      <td>NaN</td>\n",
       "      <td>culture</td>\n",
       "      <td>121.0</td>\n",
       "      <td>5.462947</td>\n",
       "      <td>46.256243</td>\n",
       "      <td>0   B077 COMBET MAILLET Corveissiat 1250 France</td>\n",
       "      <td>1</td>\n",
       "      <td>0   B077 COMBET MAILLET Corveissiat 1250 Franc...</td>\n",
       "    </tr>\n",
       "    <tr>\n",
       "      <th>3</th>\n",
       "      <td>2021-01-11</td>\n",
       "      <td>Vente</td>\n",
       "      <td>400.0</td>\n",
       "      <td>1310</td>\n",
       "      <td>NaN</td>\n",
       "      <td>NaN</td>\n",
       "      <td>NaN</td>\n",
       "      <td>culture</td>\n",
       "      <td>460.0</td>\n",
       "      <td>5.115375</td>\n",
       "      <td>46.211715</td>\n",
       "      <td>0   B085 PRE BROUILLET Montcet 1310 France</td>\n",
       "      <td>1</td>\n",
       "      <td>0   B085 PRE BROUILLET Montcet 1310 France le ...</td>\n",
       "    </tr>\n",
       "    <tr>\n",
       "      <th>4</th>\n",
       "      <td>2021-01-07</td>\n",
       "      <td>Vente</td>\n",
       "      <td>4780.0</td>\n",
       "      <td>1340</td>\n",
       "      <td>NaN</td>\n",
       "      <td>NaN</td>\n",
       "      <td>NaN</td>\n",
       "      <td>culture</td>\n",
       "      <td>7105.0</td>\n",
       "      <td>5.158681</td>\n",
       "      <td>46.387845</td>\n",
       "      <td>0   B013 BERARDAN Foissiat 1340 France</td>\n",
       "      <td>1</td>\n",
       "      <td>0   B013 BERARDAN Foissiat 1340 France le 2021...</td>\n",
       "    </tr>\n",
       "  </tbody>\n",
       "</table>\n",
       "</div>"
      ],
      "text/plain": [
       "  date_mutation nature_mutation  valeur_fonciere  code_postal type_local  \\\n",
       "0    2021-01-06           Vente             10.0         1290        NaN   \n",
       "1    2021-01-04           Vente         204332.0         1310     Maison   \n",
       "2    2021-01-04           Vente             36.3         1250        NaN   \n",
       "3    2021-01-11           Vente            400.0         1310        NaN   \n",
       "4    2021-01-07           Vente           4780.0         1340        NaN   \n",
       "\n",
       "   surface_reelle_bati  nombre_pieces_principales nature_culture  \\\n",
       "0                  NaN                        NaN        culture   \n",
       "1                 88.0                        4.0           sols   \n",
       "2                  NaN                        NaN        culture   \n",
       "3                  NaN                        NaN        culture   \n",
       "4                  NaN                        NaN        culture   \n",
       "\n",
       "   surface_terrain  longitude   latitude  \\\n",
       "0            530.0   4.844368  46.224233   \n",
       "1            866.0   5.157688  46.200988   \n",
       "2            121.0   5.462947  46.256243   \n",
       "3            460.0   5.115375  46.211715   \n",
       "4           7105.0   5.158681  46.387845   \n",
       "\n",
       "                                           adresse code_departement  \\\n",
       "0               0   B043 ROUGEMONT Bey 1290 France                1   \n",
       "1   7   0276 ALL DES ECUREUILS Buellas 1310 France                1   \n",
       "2  0   B077 COMBET MAILLET Corveissiat 1250 France                1   \n",
       "3       0   B085 PRE BROUILLET Montcet 1310 France                1   \n",
       "4           0   B013 BERARDAN Foissiat 1340 France                1   \n",
       "\n",
       "                             identifiant_transaction  \n",
       "0   0   B043 ROUGEMONT Bey 1290 France le 2021-01-06  \n",
       "1  7   0276 ALL DES ECUREUILS Buellas 1310 France...  \n",
       "2  0   B077 COMBET MAILLET Corveissiat 1250 Franc...  \n",
       "3  0   B085 PRE BROUILLET Montcet 1310 France le ...  \n",
       "4  0   B013 BERARDAN Foissiat 1340 France le 2021...  "
      ]
     },
     "execution_count": 16,
     "metadata": {},
     "output_type": "execute_result"
    }
   ],
   "source": [
    "data.head()"
   ]
  },
  {
   "cell_type": "markdown",
   "id": "dcb8392b-b333-42d7-8b4c-fce911f06fe1",
   "metadata": {},
   "source": [
    "### 1.4. Valeurs extrêmes :"
   ]
  },
  {
   "cell_type": "code",
   "execution_count": 17,
   "id": "496a3101-6bda-49eb-8f59-51b4f1765436",
   "metadata": {},
   "outputs": [],
   "source": [
    "def boxplot_display(data):\n",
    "\n",
    "    fig, axs = plt.subplots(1,4)\n",
    "    fig.suptitle(\"Boxplot des variables d'intérêt :\")\n",
    "\n",
    "    axs[0].boxplot(data[data['valeur_fonciere'].notna()]['valeur_fonciere'])\n",
    "    axs[0].set(title = \"Valeurs foncières\")\n",
    "\n",
    "    axs[1].boxplot(data[data['surface_reelle_bati'].notna()]['surface_reelle_bati'])\n",
    "    axs[1].set(title = \"Surface bati\")\n",
    "\n",
    "    axs[2].boxplot(data[data['nombre_pieces_principales'].notna()]['nombre_pieces_principales'])\n",
    "    axs[2].set(title = \"Nbre pièces\")\n",
    "\n",
    "    axs[3].boxplot(data[data['surface_terrain'].notna()]['surface_terrain'])\n",
    "    axs[3].set(title = \"Surface terrain\")\n",
    "\n",
    "    fig.tight_layout()\n",
    "\n",
    "    plt.show()"
   ]
  },
  {
   "cell_type": "code",
   "execution_count": 18,
   "id": "78b9ce00-34e1-475c-ab50-3673db85eee5",
   "metadata": {},
   "outputs": [
    {
     "data": {
      "image/png": "[encoded data removed]",
      "text/plain": [
       "<Figure size 432x288 with 4 Axes>"
      ]
     },
     "metadata": {
      "needs_background": "light"
     },
     "output_type": "display_data"
    }
   ],
   "source": [
    "boxplot_display(data)"
   ]
  },
  {
   "cell_type": "code",
   "execution_count": 19,
   "id": "54f373e6-e8e9-414b-aa97-9432c98dd593",
   "metadata": {},
   "outputs": [
    {
     "data": {
      "image/png": "[encoded data removed]",
      "text/plain": [
       "<Figure size 432x288 with 1 Axes>"
      ]
     },
     "metadata": {
      "needs_background": "light"
     },
     "output_type": "display_data"
    }
   ],
   "source": [
    "ax = sns.boxplot(x = \"valeur_fonciere\", y = \"type_local\", data = data)"
   ]
  },
  {
   "cell_type": "markdown",
   "id": "52503a9d-089f-4bcf-bf8e-b21e9d7d551a",
   "metadata": {},
   "source": [
    "On constate sur ces boxplots que le dataset présente des valeurs extrêmes **particulièrement basses** dans les quatre variables d'intérêt."
   ]
  },
  {
   "cell_type": "code",
   "execution_count": 20,
   "id": "00617e15-8b29-412c-a50d-16b43208a8aa",
   "metadata": {},
   "outputs": [
    {
     "data": {
      "text/plain": [
       "387469"
      ]
     },
     "metadata": {},
     "output_type": "display_data"
    },
    {
     "data": {
      "text/plain": [
       "'Le nombre de valeurs foncières inférieures ou égales à 0.0 est de:'"
      ]
     },
     "metadata": {},
     "output_type": "display_data"
    },
    {
     "data": {
      "text/plain": [
       "0"
      ]
     },
     "metadata": {},
     "output_type": "display_data"
    },
    {
     "data": {
      "text/plain": [
       "'Le nombre de valeurs foncières inférieures ou égales à 1.0 est de:'"
      ]
     },
     "metadata": {},
     "output_type": "display_data"
    },
    {
     "data": {
      "text/plain": [
       "2315"
      ]
     },
     "metadata": {},
     "output_type": "display_data"
    },
    {
     "data": {
      "text/plain": [
       "'Le nombre de valeurs foncières inférieures ou égales à 10.0 est de:'"
      ]
     },
     "metadata": {},
     "output_type": "display_data"
    },
    {
     "data": {
      "text/plain": [
       "2500"
      ]
     },
     "metadata": {},
     "output_type": "display_data"
    },
    {
     "data": {
      "text/plain": [
       "'Le nombre de valeurs foncières inférieures ou égales à 1000.0 est de:'"
      ]
     },
     "metadata": {},
     "output_type": "display_data"
    },
    {
     "data": {
      "text/plain": [
       "13637"
      ]
     },
     "metadata": {},
     "output_type": "display_data"
    },
    {
     "data": {
      "text/plain": [
       "'Le nombre de valeurs foncières inférieures ou égales à 5000.0 est de:'"
      ]
     },
     "metadata": {},
     "output_type": "display_data"
    },
    {
     "data": {
      "text/plain": [
       "31482"
      ]
     },
     "metadata": {},
     "output_type": "display_data"
    },
    {
     "data": {
      "text/plain": [
       "'Le nombre de valeurs foncières inférieures ou égales à 10000.0 est de:'"
      ]
     },
     "metadata": {},
     "output_type": "display_data"
    },
    {
     "data": {
      "text/plain": [
       "42564"
      ]
     },
     "metadata": {},
     "output_type": "display_data"
    }
   ],
   "source": [
    "display(len(data[\"valeur_fonciere\"]))\n",
    "valeurs = [0.0, 1.0, 10.0, 1000.0, 5000.0, 10000.0]\n",
    "for i in valeurs:\n",
    "    display(\"Le nombre de valeurs foncières inférieures ou égales à \"+str(i)+\" est de:\")\n",
    "    display(sum(data[\"valeur_fonciere\"] <= i))"
   ]
  },
  {
   "cell_type": "code",
   "execution_count": 23,
   "id": "086a201e-ebf0-4dff-9fef-2ec7390ba0e7",
   "metadata": {},
   "outputs": [
    {
     "data": {
      "text/plain": [
       "387469"
      ]
     },
     "metadata": {},
     "output_type": "display_data"
    },
    {
     "data": {
      "text/plain": [
       "'Le nombre de surfaces bati intérieures ou égales à 0.0 est de:'"
      ]
     },
     "metadata": {},
     "output_type": "display_data"
    },
    {
     "data": {
      "text/plain": [
       "0"
      ]
     },
     "metadata": {},
     "output_type": "display_data"
    },
    {
     "data": {
      "text/plain": [
       "'Le nombre de surfaces bati intérieures ou égales à 1.0 est de:'"
      ]
     },
     "metadata": {},
     "output_type": "display_data"
    },
    {
     "data": {
      "text/plain": [
       "21"
      ]
     },
     "metadata": {},
     "output_type": "display_data"
    },
    {
     "data": {
      "text/plain": [
       "'Le nombre de surfaces bati intérieures ou égales à 5.0 est de:'"
      ]
     },
     "metadata": {},
     "output_type": "display_data"
    },
    {
     "data": {
      "text/plain": [
       "62"
      ]
     },
     "metadata": {},
     "output_type": "display_data"
    },
    {
     "data": {
      "text/plain": [
       "'Le nombre de surfaces bati intérieures ou égales à 10.0 est de:'"
      ]
     },
     "metadata": {},
     "output_type": "display_data"
    },
    {
     "data": {
      "text/plain": [
       "496"
      ]
     },
     "metadata": {},
     "output_type": "display_data"
    },
    {
     "data": {
      "text/plain": [
       "'Le nombre de surfaces bati intérieures ou égales à 30.0 est de:'"
      ]
     },
     "metadata": {},
     "output_type": "display_data"
    },
    {
     "data": {
      "text/plain": [
       "17006"
      ]
     },
     "metadata": {},
     "output_type": "display_data"
    }
   ],
   "source": [
    "display(len(data[\"surface_reelle_bati\"]))\n",
    "valeurs = [0.0, 1.0, 5.0, 10.0, 30.0]\n",
    "for i in valeurs:\n",
    "    display(\"Le nombre de surfaces bati intérieures ou égales à \"+str(i)+\" est de:\")\n",
    "    display(sum(data[\"surface_reelle_bati\"] <= i))"
   ]
  },
  {
   "cell_type": "markdown",
   "id": "fbef9340-eeac-477a-a9ad-04e5b69e4628",
   "metadata": {},
   "source": [
    "On constate que bien qu'il n'y ait pas de valeurs foncières nulle, il y en a **de nombreuses qui sont inférieures ou égales à 10**.\n",
    "On considère qu'**une transaction est crédible lorsque la valeur foncière est supérieure à 1000** (en-dessous, il s'agit d'une vente qui ne nous intéresse pas)."
   ]
  },
  {
   "cell_type": "code",
   "execution_count": 24,
   "id": "11ef4ffc-61e3-4bb4-a371-334557cb78c9",
   "metadata": {},
   "outputs": [],
   "source": [
    "# D'abord, on écarte les valeurs foncières inférieures à 5000 et les surface_reelle_bati inférieures à 10 m2\n",
    "\n",
    "data = data[data[\"valeur_fonciere\"] > 4999]\n",
    "\n",
    "data = data[data[\"surface_reelle_bati\"] > 9]"
   ]
  },
  {
   "cell_type": "code",
   "execution_count": 25,
   "id": "26648287-8a0f-4876-b7cc-859c24029003",
   "metadata": {},
   "outputs": [
    {
     "data": {
      "text/plain": [
       "array(['Maison', 'Local industriel. commercial ou assimilé',\n",
       "       'Appartement'], dtype=object)"
      ]
     },
     "execution_count": 25,
     "metadata": {},
     "output_type": "execute_result"
    }
   ],
   "source": [
    "# Il n'y a plus de Dépendances dans le dataset...\n",
    "\n",
    "data[\"type_local\"].unique()"
   ]
  },
  {
   "cell_type": "code",
   "execution_count": 26,
   "id": "08e2d042-830c-4a43-946e-4e5e4b6dcc75",
   "metadata": {},
   "outputs": [
    {
     "data": {
      "text/html": [
       "<div>\n",
       "<style scoped>\n",
       "    .dataframe tbody tr th:only-of-type {\n",
       "        vertical-align: middle;\n",
       "    }\n",
       "\n",
       "    .dataframe tbody tr th {\n",
       "        vertical-align: top;\n",
       "    }\n",
       "\n",
       "    .dataframe thead th {\n",
       "        text-align: right;\n",
       "    }\n",
       "</style>\n",
       "<table border=\"1\" class=\"dataframe\">\n",
       "  <thead>\n",
       "    <tr style=\"text-align: right;\">\n",
       "      <th></th>\n",
       "      <th>valeur_fonciere</th>\n",
       "      <th>surface_reelle_bati</th>\n",
       "      <th>nombre_pieces_principales</th>\n",
       "      <th>surface_terrain</th>\n",
       "    </tr>\n",
       "  </thead>\n",
       "  <tbody>\n",
       "    <tr>\n",
       "      <th>count</th>\n",
       "      <td>2.089620e+05</td>\n",
       "      <td>208962.000000</td>\n",
       "      <td>208962.000000</td>\n",
       "      <td>131713.000000</td>\n",
       "    </tr>\n",
       "    <tr>\n",
       "      <th>mean</th>\n",
       "      <td>2.453215e+05</td>\n",
       "      <td>108.507446</td>\n",
       "      <td>3.401489</td>\n",
       "      <td>579.178654</td>\n",
       "    </tr>\n",
       "    <tr>\n",
       "      <th>std</th>\n",
       "      <td>7.371912e+05</td>\n",
       "      <td>443.792462</td>\n",
       "      <td>1.731744</td>\n",
       "      <td>1495.270241</td>\n",
       "    </tr>\n",
       "    <tr>\n",
       "      <th>min</th>\n",
       "      <td>5.000000e+03</td>\n",
       "      <td>10.000000</td>\n",
       "      <td>0.000000</td>\n",
       "      <td>1.000000</td>\n",
       "    </tr>\n",
       "    <tr>\n",
       "      <th>25%</th>\n",
       "      <td>1.050000e+05</td>\n",
       "      <td>56.000000</td>\n",
       "      <td>2.000000</td>\n",
       "      <td>209.000000</td>\n",
       "    </tr>\n",
       "    <tr>\n",
       "      <th>50%</th>\n",
       "      <td>1.730000e+05</td>\n",
       "      <td>80.000000</td>\n",
       "      <td>4.000000</td>\n",
       "      <td>412.000000</td>\n",
       "    </tr>\n",
       "    <tr>\n",
       "      <th>75%</th>\n",
       "      <td>2.800000e+05</td>\n",
       "      <td>105.000000</td>\n",
       "      <td>4.000000</td>\n",
       "      <td>676.000000</td>\n",
       "    </tr>\n",
       "    <tr>\n",
       "      <th>max</th>\n",
       "      <td>1.369470e+08</td>\n",
       "      <td>60000.000000</td>\n",
       "      <td>70.000000</td>\n",
       "      <td>278931.000000</td>\n",
       "    </tr>\n",
       "  </tbody>\n",
       "</table>\n",
       "</div>"
      ],
      "text/plain": [
       "       valeur_fonciere  surface_reelle_bati  nombre_pieces_principales  \\\n",
       "count     2.089620e+05        208962.000000              208962.000000   \n",
       "mean      2.453215e+05           108.507446                   3.401489   \n",
       "std       7.371912e+05           443.792462                   1.731744   \n",
       "min       5.000000e+03            10.000000                   0.000000   \n",
       "25%       1.050000e+05            56.000000                   2.000000   \n",
       "50%       1.730000e+05            80.000000                   4.000000   \n",
       "75%       2.800000e+05           105.000000                   4.000000   \n",
       "max       1.369470e+08         60000.000000                  70.000000   \n",
       "\n",
       "       surface_terrain  \n",
       "count    131713.000000  \n",
       "mean        579.178654  \n",
       "std        1495.270241  \n",
       "min           1.000000  \n",
       "25%         209.000000  \n",
       "50%         412.000000  \n",
       "75%         676.000000  \n",
       "max      278931.000000  "
      ]
     },
     "execution_count": 26,
     "metadata": {},
     "output_type": "execute_result"
    }
   ],
   "source": [
    "data.drop([\"code_postal\", \"longitude\", \"latitude\"], axis = 1).describe()"
   ]
  },
  {
   "cell_type": "markdown",
   "id": "0c12def0",
   "metadata": {},
   "source": [
    "Par ailleurs, on observe avec le describe ci-dessus que **les écart-types sont très importants par rapport aux moyennes**, surtout pour les variables \"valeur_fonciere\", \"surface_reelle_bati\" et \"surface_terrain\".\n",
    "Donc, **on enlève les valeurs trop hautes** : ici, cela consiste à *enlever les valeurs dont l'écart à la moyenne en valeur absolue est supérieure à 4 fois l'écart-type*."
   ]
  },
  {
   "cell_type": "code",
   "execution_count": 27,
   "id": "d90fd9ae-9b98-4f21-a8e3-6ff291915cb6",
   "metadata": {},
   "outputs": [],
   "source": [
    "# Pour valeur_fonciere :\n",
    "data = data[~(np.abs(data['valeur_fonciere'] - data['valeur_fonciere'].mean()) > (4 * data['valeur_fonciere'].std()))]\n",
    "\n",
    "# Pour surface_reelle_bati :\n",
    "data = data[~(np.abs(data['surface_reelle_bati'] - data['surface_reelle_bati'].mean()) > (4 * data['surface_reelle_bati'].std()))]\n",
    "\n",
    "# Pour surface_terrain :\n",
    "data = data[~(np.abs(data['surface_terrain'] - data['surface_terrain'].mean()) > (4 * data['surface_terrain'].std()))]"
   ]
  },
  {
   "cell_type": "code",
   "execution_count": 28,
   "id": "9bd67371-0051-4e27-9f5d-d71d23f91cdc",
   "metadata": {},
   "outputs": [
    {
     "data": {
      "text/html": [
       "<div>\n",
       "<style scoped>\n",
       "    .dataframe tbody tr th:only-of-type {\n",
       "        vertical-align: middle;\n",
       "    }\n",
       "\n",
       "    .dataframe tbody tr th {\n",
       "        vertical-align: top;\n",
       "    }\n",
       "\n",
       "    .dataframe thead th {\n",
       "        text-align: right;\n",
       "    }\n",
       "</style>\n",
       "<table border=\"1\" class=\"dataframe\">\n",
       "  <thead>\n",
       "    <tr style=\"text-align: right;\">\n",
       "      <th></th>\n",
       "      <th>valeur_fonciere</th>\n",
       "      <th>surface_reelle_bati</th>\n",
       "      <th>nombre_pieces_principales</th>\n",
       "      <th>surface_terrain</th>\n",
       "    </tr>\n",
       "  </thead>\n",
       "  <tbody>\n",
       "    <tr>\n",
       "      <th>count</th>\n",
       "      <td>2.074130e+05</td>\n",
       "      <td>207413.000000</td>\n",
       "      <td>207413.000000</td>\n",
       "      <td>130343.000000</td>\n",
       "    </tr>\n",
       "    <tr>\n",
       "      <th>mean</th>\n",
       "      <td>2.275776e+05</td>\n",
       "      <td>90.073877</td>\n",
       "      <td>3.416883</td>\n",
       "      <td>508.939659</td>\n",
       "    </tr>\n",
       "    <tr>\n",
       "      <th>std</th>\n",
       "      <td>2.186373e+05</td>\n",
       "      <td>80.755483</td>\n",
       "      <td>1.715642</td>\n",
       "      <td>456.711799</td>\n",
       "    </tr>\n",
       "    <tr>\n",
       "      <th>min</th>\n",
       "      <td>5.000000e+03</td>\n",
       "      <td>10.000000</td>\n",
       "      <td>0.000000</td>\n",
       "      <td>1.000000</td>\n",
       "    </tr>\n",
       "    <tr>\n",
       "      <th>25%</th>\n",
       "      <td>1.050000e+05</td>\n",
       "      <td>55.000000</td>\n",
       "      <td>2.000000</td>\n",
       "      <td>207.000000</td>\n",
       "    </tr>\n",
       "    <tr>\n",
       "      <th>50%</th>\n",
       "      <td>1.720000e+05</td>\n",
       "      <td>80.000000</td>\n",
       "      <td>4.000000</td>\n",
       "      <td>408.000000</td>\n",
       "    </tr>\n",
       "    <tr>\n",
       "      <th>75%</th>\n",
       "      <td>2.780000e+05</td>\n",
       "      <td>105.000000</td>\n",
       "      <td>4.000000</td>\n",
       "      <td>666.000000</td>\n",
       "    </tr>\n",
       "    <tr>\n",
       "      <th>max</th>\n",
       "      <td>3.190000e+06</td>\n",
       "      <td>1609.000000</td>\n",
       "      <td>70.000000</td>\n",
       "      <td>4247.000000</td>\n",
       "    </tr>\n",
       "  </tbody>\n",
       "</table>\n",
       "</div>"
      ],
      "text/plain": [
       "       valeur_fonciere  surface_reelle_bati  nombre_pieces_principales  \\\n",
       "count     2.074130e+05        207413.000000              207413.000000   \n",
       "mean      2.275776e+05            90.073877                   3.416883   \n",
       "std       2.186373e+05            80.755483                   1.715642   \n",
       "min       5.000000e+03            10.000000                   0.000000   \n",
       "25%       1.050000e+05            55.000000                   2.000000   \n",
       "50%       1.720000e+05            80.000000                   4.000000   \n",
       "75%       2.780000e+05           105.000000                   4.000000   \n",
       "max       3.190000e+06          1609.000000                  70.000000   \n",
       "\n",
       "       surface_terrain  \n",
       "count    130343.000000  \n",
       "mean        508.939659  \n",
       "std         456.711799  \n",
       "min           1.000000  \n",
       "25%         207.000000  \n",
       "50%         408.000000  \n",
       "75%         666.000000  \n",
       "max        4247.000000  "
      ]
     },
     "execution_count": 28,
     "metadata": {},
     "output_type": "execute_result"
    }
   ],
   "source": [
    "data.drop([\"code_postal\", \"longitude\", \"latitude\"], axis = 1).describe()"
   ]
  },
  {
   "cell_type": "code",
   "execution_count": 29,
   "id": "d2c4d2c7-8d21-409f-9f3f-e251244cd950",
   "metadata": {},
   "outputs": [
    {
     "data": {
      "image/png": "[encoded data removed]",
      "text/plain": [
       "<Figure size 432x288 with 4 Axes>"
      ]
     },
     "metadata": {
      "needs_background": "light"
     },
     "output_type": "display_data"
    }
   ],
   "source": [
    "boxplot_display(data)"
   ]
  },
  {
   "cell_type": "code",
   "execution_count": 30,
   "id": "92e90ee2-831f-45ea-886d-5dc9d01825ce",
   "metadata": {},
   "outputs": [
    {
     "data": {
      "image/png": "[encoded data removed]",
      "text/plain": [
       "<Figure size 432x288 with 1 Axes>"
      ]
     },
     "metadata": {
      "needs_background": "light"
     },
     "output_type": "display_data"
    }
   ],
   "source": [
    "ax = sns.boxplot(x = \"valeur_fonciere\", y = \"type_local\", data = data)"
   ]
  },
  {
   "cell_type": "markdown",
   "id": "83266d3a-9c92-4e26-8f27-1f71af2eede5",
   "metadata": {},
   "source": [
    "Ces boxplots correspondent davantage avec la réalité (médiane des ventes autour de 150 000 euros)."
   ]
  },
  {
   "cell_type": "markdown",
   "id": "22368a66-1ae1-49c9-a4c5-4a4d592e9b83",
   "metadata": {},
   "source": [
    "# Etape 2 : feature engineering"
   ]
  },
  {
   "cell_type": "markdown",
   "id": "9b0c58b8-a9f7-4f1e-a6f4-4d6c51675f1a",
   "metadata": {},
   "source": [
    "Idées de features : \n",
    "* prix au m2 du quartier (BallTree), \n",
    "* PIB du département, \n",
    "* densité du département (mesure de l'urbanisation, de l'activité), \n",
    "* variation de population non naturelle (mesure de l'attractivité),\n",
    "* mois de la transaction."
   ]
  },
  {
   "cell_type": "markdown",
   "id": "589d6871-53f0-418f-bfde-87f949f8bebb",
   "metadata": {},
   "source": [
    "Un agent immobilier a besoin du **prix au m2 du quartier**, c'est une donnée importante ! Pour cela, nous allons créer ..."
   ]
  },
  {
   "cell_type": "code",
   "execution_count": 31,
   "id": "a00858cc-57c6-470e-beb4-9c414e7c1e65",
   "metadata": {},
   "outputs": [
    {
     "name": "stdout",
     "output_type": "stream",
     "text": [
      "Il y a 99 départements représentés dans le dataset.\n"
     ]
    }
   ],
   "source": [
    "# prix_m2\n",
    "\n",
    "data['prix_m2'] = data['surface_terrain'] / data['valeur_fonciere']\n",
    "\n",
    "# départements\n",
    "\n",
    "print(f\"Il y a {len(data['code_departement'].unique())} départements représentés dans le dataset.\")"
   ]
  },
  {
   "cell_type": "code",
   "execution_count": 32,
   "id": "8c74fbc9-2d59-4f7c-a670-80321c343592",
   "metadata": {},
   "outputs": [
    {
     "data": {
      "text/plain": [
       "' \\nnb_departements = 99\\nappart_old[‘Distance moyenne’]=np.zeros(len(appart_old))\\nappart_old[‘Indices voisins’]=np.zeros(len(appart_old))\\nmodels={}\\nregions=appart_old.Région.unique()\\nfor k in range(len(regions)):\\n    name=’appart_’+regions[k]\\n    data=appart_old[appart_old.Région==regions[k]]\\n    data=data.reset_index(drop=True)\\n    models[k]=BallTree(data[[‘latitude_r’, ‘longitude_r’]].values, leaf_size=2, metric=’haversine’)\\n    save_obj(models[k], name)\\n'"
      ]
     },
     "execution_count": 32,
     "metadata": {},
     "output_type": "execute_result"
    }
   ],
   "source": [
    "# Créations des modèles BallTree\n",
    "\n",
    "''' \n",
    "nb_departements = 99\n",
    "appart_old[‘Distance moyenne’]=np.zeros(len(appart_old))\n",
    "appart_old[‘Indices voisins’]=np.zeros(len(appart_old))\n",
    "models={}\n",
    "regions=appart_old.Région.unique()\n",
    "for k in range(len(regions)):\n",
    "    name=’appart_’+regions[k]\n",
    "    data=appart_old[appart_old.Région==regions[k]]\n",
    "    data=data.reset_index(drop=True)\n",
    "    models[k]=BallTree(data[[‘latitude_r’, ‘longitude_r’]].values, leaf_size=2, metric=’haversine’)\n",
    "    save_obj(models[k], name)\n",
    "'''"
   ]
  },
  {
   "cell_type": "markdown",
   "id": "9a528f0b-5130-48b6-bfb2-e86df6940e2b",
   "metadata": {},
   "source": [
    "# Etape 3 : analyse descriptive"
   ]
  },
  {
   "cell_type": "markdown",
   "id": "1dfb7c9b-63a1-4b11-8411-9e74d8417292",
   "metadata": {},
   "source": [
    "### 3.1. Premières analyses :"
   ]
  },
  {
   "cell_type": "code",
   "execution_count": 33,
   "id": "7270d9db-efc8-466b-ae8e-2c41d385d801",
   "metadata": {},
   "outputs": [
    {
     "data": {
      "text/html": [
       "<div>\n",
       "<style scoped>\n",
       "    .dataframe tbody tr th:only-of-type {\n",
       "        vertical-align: middle;\n",
       "    }\n",
       "\n",
       "    .dataframe tbody tr th {\n",
       "        vertical-align: top;\n",
       "    }\n",
       "\n",
       "    .dataframe thead th {\n",
       "        text-align: right;\n",
       "    }\n",
       "</style>\n",
       "<table border=\"1\" class=\"dataframe\">\n",
       "  <thead>\n",
       "    <tr style=\"text-align: right;\">\n",
       "      <th></th>\n",
       "      <th>date_mutation</th>\n",
       "      <th>nature_mutation</th>\n",
       "      <th>valeur_fonciere</th>\n",
       "      <th>code_postal</th>\n",
       "      <th>type_local</th>\n",
       "      <th>surface_reelle_bati</th>\n",
       "      <th>nombre_pieces_principales</th>\n",
       "      <th>nature_culture</th>\n",
       "      <th>surface_terrain</th>\n",
       "      <th>longitude</th>\n",
       "      <th>latitude</th>\n",
       "      <th>adresse</th>\n",
       "      <th>code_departement</th>\n",
       "      <th>identifiant_transaction</th>\n",
       "      <th>prix_m2</th>\n",
       "    </tr>\n",
       "  </thead>\n",
       "  <tbody>\n",
       "    <tr>\n",
       "      <th>1</th>\n",
       "      <td>2021-01-04</td>\n",
       "      <td>Vente</td>\n",
       "      <td>204332.0</td>\n",
       "      <td>1310</td>\n",
       "      <td>Maison</td>\n",
       "      <td>88.0</td>\n",
       "      <td>4.0</td>\n",
       "      <td>sols</td>\n",
       "      <td>866.0</td>\n",
       "      <td>5.157688</td>\n",
       "      <td>46.200988</td>\n",
       "      <td>7   0276 ALL DES ECUREUILS Buellas 1310 France</td>\n",
       "      <td>1</td>\n",
       "      <td>7   0276 ALL DES ECUREUILS Buellas 1310 France...</td>\n",
       "      <td>0.004238</td>\n",
       "    </tr>\n",
       "    <tr>\n",
       "      <th>6</th>\n",
       "      <td>2021-01-04</td>\n",
       "      <td>Vente</td>\n",
       "      <td>226700.0</td>\n",
       "      <td>1310</td>\n",
       "      <td>Maison</td>\n",
       "      <td>96.0</td>\n",
       "      <td>3.0</td>\n",
       "      <td>NaN</td>\n",
       "      <td>NaN</td>\n",
       "      <td>5.108604</td>\n",
       "      <td>46.244066</td>\n",
       "      <td>173   0164 CHE DU MOULIN DE POLAIZE Polliat 13...</td>\n",
       "      <td>1</td>\n",
       "      <td>173   0164 CHE DU MOULIN DE POLAIZE Polliat 13...</td>\n",
       "      <td>NaN</td>\n",
       "    </tr>\n",
       "  </tbody>\n",
       "</table>\n",
       "</div>"
      ],
      "text/plain": [
       "  date_mutation nature_mutation  valeur_fonciere  code_postal type_local  \\\n",
       "1    2021-01-04           Vente         204332.0         1310     Maison   \n",
       "6    2021-01-04           Vente         226700.0         1310     Maison   \n",
       "\n",
       "   surface_reelle_bati  nombre_pieces_principales nature_culture  \\\n",
       "1                 88.0                        4.0           sols   \n",
       "6                 96.0                        3.0            NaN   \n",
       "\n",
       "   surface_terrain  longitude   latitude  \\\n",
       "1            866.0   5.157688  46.200988   \n",
       "6              NaN   5.108604  46.244066   \n",
       "\n",
       "                                             adresse code_departement  \\\n",
       "1     7   0276 ALL DES ECUREUILS Buellas 1310 France                1   \n",
       "6  173   0164 CHE DU MOULIN DE POLAIZE Polliat 13...                1   \n",
       "\n",
       "                             identifiant_transaction   prix_m2  \n",
       "1  7   0276 ALL DES ECUREUILS Buellas 1310 France...  0.004238  \n",
       "6  173   0164 CHE DU MOULIN DE POLAIZE Polliat 13...       NaN  "
      ]
     },
     "execution_count": 33,
     "metadata": {},
     "output_type": "execute_result"
    }
   ],
   "source": [
    "# Visualisation des lignes\n",
    "data.head(2)"
   ]
  },
  {
   "cell_type": "code",
   "execution_count": 34,
   "id": "1392150f-b49b-488e-a0cc-18e3c78df0a1",
   "metadata": {},
   "outputs": [
    {
     "data": {
      "text/plain": [
       "array(['sols', nan, 'culture', 'terrains a bâtir', 'jardins',\n",
       "       \"terrains d'agrément\"], dtype=object)"
      ]
     },
     "metadata": {},
     "output_type": "display_data"
    },
    {
     "data": {
      "text/plain": [
       "array(['Maison', 'Local industriel. commercial ou assimilé',\n",
       "       'Appartement'], dtype=object)"
      ]
     },
     "metadata": {},
     "output_type": "display_data"
    }
   ],
   "source": [
    "display(data[\"nature_culture\"].unique())\n",
    "display(data[\"type_local\"].unique())"
   ]
  },
  {
   "cell_type": "code",
   "execution_count": 35,
   "id": "f25bc4db-183d-4b6a-8df1-fd2d9fba9d15",
   "metadata": {},
   "outputs": [
    {
     "name": "stdout",
     "output_type": "stream",
     "text": [
      "Le nombre de maisons dans le dataset est : 132465.\n",
      "Le nombre d'appartments dans le dataset est : 63468.\n",
      "Le nombre de 'Local industriel. commercial ou assimilé' dans le dataset est : 11480.\n"
     ]
    }
   ],
   "source": [
    "nb_maisons = list(data[\"type_local\"]).count(\"Maison\")\n",
    "print(f\"Le nombre de maisons dans le dataset est : {nb_maisons}.\")\n",
    "\n",
    "nb_appartement = list(data[\"type_local\"]).count(\"Appartement\")\n",
    "print(f\"Le nombre d'appartments dans le dataset est : {nb_appartement}.\")\n",
    "\n",
    "nb_local = list(data[\"type_local\"]).count(\"Local industriel. commercial ou assimilé\")\n",
    "print(f\"Le nombre de 'Local industriel. commercial ou assimilé' dans le dataset est : {nb_local}.\")"
   ]
  },
  {
   "cell_type": "markdown",
   "id": "0291599d-15c1-4233-b402-9a47f17bcbe5",
   "metadata": {},
   "source": [
    "### 3.2. Analyse de la répartition des ventes :"
   ]
  },
  {
   "cell_type": "code",
   "execution_count": 99,
   "id": "a50f953e-2f4b-49ce-8b28-4b1a709cf428",
   "metadata": {},
   "outputs": [
    {
     "data": {
      "text/plain": [
       "Text(0.5, 1.0, 'Répartition des valeurs foncières')"
      ]
     },
     "execution_count": 99,
     "metadata": {},
     "output_type": "execute_result"
    },
    {
     "data": {
      "image/png": "[encoded data removed]",
      "text/plain": [
       "<Figure size 432x288 with 1 Axes>"
      ]
     },
     "metadata": {
      "needs_background": "light"
     },
     "output_type": "display_data"
    }
   ],
   "source": [
    "# Répartition des prix de vente\n",
    "\n",
    "plt.hist(data[\"valeur_fonciere\"].values, bins = 100)\n",
    "plt.title('Répartition des valeurs foncières')"
   ]
  },
  {
   "cell_type": "markdown",
   "id": "703f645a-8477-4a1e-86d4-c304996c4d04",
   "metadata": {},
   "source": [
    "Il y a encore des valeurs extrêmes qui **gênent la visualisation**. Nous allons **renlever les valeurs extrêmes** pour pouvoir mieux observer (nous enlevons les valeurs foncières dont l'écart à la moyenne est supérieur à 2,5 fois l'écart type).\n",
    "\n",
    "On constate que la distribution est celle d'une **loi exponentielle**.\n",
    "\n",
    "N.B. : nous utilisons également **le package seaborn** qui offre de bonnes opportunités de visualisation."
   ]
  },
  {
   "cell_type": "code",
   "execution_count": 86,
   "id": "8369b8c5-b02b-4f0c-9ffb-ef3f22081336",
   "metadata": {},
   "outputs": [
    {
     "data": {
      "image/png": "[encoded data removed]",
      "text/plain": [
       "<Figure size 360x360 with 1 Axes>"
      ]
     },
     "metadata": {
      "needs_background": "light"
     },
     "output_type": "display_data"
    }
   ],
   "source": [
    "data_aux = data[~(np.abs(data['valeur_fonciere'] - data['valeur_fonciere'].mean()) > (2.5 * data['valeur_fonciere'].std()))]\n",
    "\n",
    "sns.displot(data_aux, \n",
    "            x = \"valeur_fonciere\", \n",
    "            bins = 50)\n",
    "plt.xticks(rotation = 45)\n",
    "plt.show()"
   ]
  },
  {
   "cell_type": "markdown",
   "id": "dbd0ae99-698d-445e-9d8b-a108430638e0",
   "metadata": {},
   "source": [
    "Distinguons les **types de biens** désormais :"
   ]
  },
  {
   "cell_type": "code",
   "execution_count": 87,
   "id": "65975bfa-0bd5-4368-b7b8-a5d6c44162f1",
   "metadata": {},
   "outputs": [
    {
     "data": {
      "image/png": "[encoded data removed]",
      "text/plain": [
       "<Figure size 461.625x360 with 1 Axes>"
      ]
     },
     "metadata": {
      "needs_background": "light"
     },
     "output_type": "display_data"
    }
   ],
   "source": [
    "data_aux = data_aux.drop(data_aux.loc[data_aux['type_local'] == 'Local industriel. commercial ou assimilé'].index)\n",
    "\n",
    "sns.displot(data = data_aux,\n",
    "            x = \"valeur_fonciere\",\n",
    "            hue = \"type_local\",\n",
    "            element = \"step\")\n",
    "\n",
    "plt.xticks(rotation = 45)\n",
    "plt.show()"
   ]
  },
  {
   "cell_type": "markdown",
   "id": "aae1509c-e9d0-4d1f-afb8-7c54ebcee4d9",
   "metadata": {},
   "source": [
    "On constate que **les valeurs foncières des dépendances sont centrées autour de très faibles valeurs**, viennent ensuite les appartements puis les maisons (ce qui est logique)."
   ]
  },
  {
   "cell_type": "markdown",
   "id": "8cd78845-cfdc-41df-a05d-f92fb90e5ad6",
   "metadata": {},
   "source": [
    "### 3.3. Corrélation entre valeur foncière et surface :"
   ]
  },
  {
   "cell_type": "code",
   "execution_count": 88,
   "id": "62662709-e272-4659-bf49-36b1d01b81e6",
   "metadata": {},
   "outputs": [
    {
     "data": {
      "image/png": "[encoded data removed]",
      "text/plain": [
       "<Figure size 461.625x360 with 1 Axes>"
      ]
     },
     "metadata": {
      "needs_background": "light"
     },
     "output_type": "display_data"
    }
   ],
   "source": [
    "# Représentation des transactions d'appartements et maisons : valeur foncière en fonction de la surface\n",
    "\n",
    "data_aux = data_aux.drop(data_aux.loc[data_aux['type_local'] == 'Dépendance'].index)\n",
    "\n",
    "ax = sns.relplot(x = \"surface_reelle_bati\", \n",
    "            y = \"valeur_fonciere\", \n",
    "            hue = \"type_local\", \n",
    "            data = data_aux.sample(2000))\n",
    "ax.set(title = \"Relation entre valeur confière et surface du bâti\",\n",
    "       xlabel = \"Surface réelle bâti\", ylabel = \"Valeur foncière\")\n",
    "plt.show()\n",
    "\n",
    "# Lien tuto seaborn : https://ichi.pro/fr/maitriser-la-visualisation-de-donnees-en-python-avec-seaborn-224185530768080"
   ]
  },
  {
   "cell_type": "markdown",
   "id": "791ab1bd-bc65-40b0-9c2a-314092804b29",
   "metadata": {},
   "source": [
    "On ne constate **pas une corrélation très marquée**... En effet, il faudrait **distinguer la localisation** du bien (Paris vs. petite ville vs. campagne)."
   ]
  },
  {
   "cell_type": "markdown",
   "id": "f0785b2c-6334-49d9-9a4a-4c97a55353f3",
   "metadata": {},
   "source": [
    "### 3.4. Premières intuitions sur l'analyse à l'échelle départementale :"
   ]
  },
  {
   "cell_type": "code",
   "execution_count": 94,
   "id": "f0e5235f-4651-4ef5-a749-0bf89d8d2f34",
   "metadata": {},
   "outputs": [
    {
     "data": {
      "image/png": "[encoded data removed]",
      "text/plain": [
       "<Figure size 461.625x360 with 1 Axes>"
      ]
     },
     "metadata": {
      "needs_background": "light"
     },
     "output_type": "display_data"
    }
   ],
   "source": [
    "# Représentation des transactions d'appartements et maisons pour Paris\n",
    "\n",
    "data_aux_paris = data.drop(data.loc[data['code_departement'] != 75].index)\n",
    "data_aux_paris = data_aux_paris.drop(data_aux_paris.loc[data_aux_paris['type_local'] == 'Local industriel. commercial ou assimilé'].index)\n",
    "\n",
    "ax = sns.relplot(x = \"surface_reelle_bati\", \n",
    "            y = \"valeur_fonciere\", \n",
    "            hue = \"type_local\", \n",
    "            data = data_aux_paris.sample(1000))\n",
    "ax.set(title = \"Relation entre valeur foncière et surface du bâti\",\n",
    "       xlabel = \"Surface réelle bâti\", ylabel = \"Valeur foncière\")\n",
    "plt.show()"
   ]
  },
  {
   "cell_type": "markdown",
   "id": "ff740a84-4cd8-4a29-bd25-95628687bfee",
   "metadata": {},
   "source": [
    "Observation de la corrélation :"
   ]
  },
  {
   "cell_type": "code",
   "execution_count": 96,
   "id": "b15ff4d5-fe98-4f96-8a1a-a0eb7d7fcf11",
   "metadata": {},
   "outputs": [
    {
     "data": {
      "image/png": "[encoded data removed]",
      "text/plain": [
       "<Figure size 461.625x360 with 1 Axes>"
      ]
     },
     "metadata": {
      "needs_background": "light"
     },
     "output_type": "display_data"
    }
   ],
   "source": [
    "ax = sns.lmplot(x = \"surface_reelle_bati\", \n",
    "            y = \"valeur_fonciere\", \n",
    "            hue = \"type_local\", \n",
    "            data = data_aux_paris.sample(10000))\n",
    "ax.set(title = \"Relation entre valeur foncière et surface du bâti\",\n",
    "       xlabel = \"Surface réelle bâti\", ylabel = \"Valeur foncière\")\n",
    "plt.show()"
   ]
  },
  {
   "cell_type": "markdown",
   "id": "df368788-b096-4e17-a118-003beab40b69",
   "metadata": {},
   "source": [
    "Pour la ville de Paris, la corrélation est très marquée !"
   ]
  },
  {
   "cell_type": "code",
   "execution_count": 98,
   "id": "5b7c486b-635a-459d-b0d6-273aa147266b",
   "metadata": {},
   "outputs": [
    {
     "data": {
      "text/plain": [
       "(317, 15)"
      ]
     },
     "metadata": {},
     "output_type": "display_data"
    },
    {
     "data": {
      "image/png": "[encoded data removed]",
      "text/plain": [
       "<Figure size 461.625x360 with 1 Axes>"
      ]
     },
     "metadata": {
      "needs_background": "light"
     },
     "output_type": "display_data"
    }
   ],
   "source": [
    "# Représentation des transactions d'appartements et maisons pour le Finistère\n",
    "\n",
    "data_aux_finistere = data.drop(data.loc[data['code_departement'] != 29].index)\n",
    "data_aux_finistere = data_aux_finistere.drop(data_aux_finistere.loc[data_aux_finistere['type_local'] == 'Local industriel. commercial ou assimilé'].index)\n",
    "display(data_aux_finistere.shape)\n",
    "\n",
    "ax = sns.lmplot(x = \"surface_reelle_bati\", \n",
    "            y = \"valeur_fonciere\", \n",
    "            hue = \"type_local\", \n",
    "            data = data_aux_finistere.sample(200))\n",
    "ax.set(title = \"Relation entre valeur foncière et surface du bâti\",\n",
    "       xlabel = \"Surface réelle bâti\", ylabel = \"Valeur foncière\")\n",
    "plt.show()"
   ]
  },
  {
   "cell_type": "markdown",
   "id": "baf2eb12",
   "metadata": {},
   "source": [
    "### 3.5. Analyse par département :"
   ]
  },
  {
   "cell_type": "code",
   "execution_count": null,
   "id": "c930a480-7c3b-45c8-b36c-45c3f42f3591",
   "metadata": {},
   "outputs": [],
   "source": [
    "# Plutôt chercher : les dix départements où il y a eu le plus / moins de ventes ...\n",
    "# Sinon, on ne visualise pas grand chose !"
   ]
  },
  {
   "cell_type": "code",
   "execution_count": 101,
   "id": "2a8ebb24-0b24-4a8e-9b11-99c31f39cfcc",
   "metadata": {},
   "outputs": [
    {
     "data": {
      "image/png": "[encoded data removed]",
      "text/plain": [
       "<Figure size 432x288 with 1 Axes>"
      ]
     },
     "metadata": {
      "needs_background": "light"
     },
     "output_type": "display_data"
    }
   ],
   "source": [
    "# Les transactions sont inégalement réparties dans les territoires : cela dépend logiquement de la densité de population.\n",
    "# Il conviendrait d'avoir le nombre de transactions moyen par habitant par département...\n",
    "# Cela permettrait de savoir si certains département sont plus dynamiques que d'autres au niveau immobilier.\n",
    "# On ciblerait ainsi, par exemple, des phénomènes de bulle immobilière dans des départements touristiques non résidentiels\n",
    "\n",
    "fig, axs = plt.subplots()\n",
    "axs.set(title = \"Valeur foncière par département\")\n",
    "axs.bar(x = [str(dep) for dep in data.code_departement.unique()],\n",
    "            height = data.groupby(\"code_departement\").valeur_fonciere.count() )\n",
    "plt.xticks(rotation = 45)\n",
    "plt.show()"
   ]
  },
  {
   "cell_type": "code",
   "execution_count": 127,
   "id": "32299581",
   "metadata": {},
   "outputs": [
    {
     "data": {
      "image/png": "[encoded data removed]",
      "text/plain": [
       "<Figure size 432x288 with 1 Axes>"
      ]
     },
     "metadata": {
      "needs_background": "light"
     },
     "output_type": "display_data"
    }
   ],
   "source": [
    "fig, axs = plt.subplots()\n",
    "axs.set(title = \"Valeur foncière par département\")\n",
    "axs.bar(x = [str(i) for i in data.code_departement.unique()],\n",
    "            height = data.groupby(\"code_departement\").valeur_fonciere.mean() )\n",
    "plt.xticks(rotation = 45)\n",
    "plt.show()"
   ]
  },
  {
   "cell_type": "code",
   "execution_count": 130,
   "id": "7eafe315",
   "metadata": {},
   "outputs": [
    {
     "data": {
      "image/png": "[encoded data removed]",
      "text/plain": [
       "<Figure size 432x288 with 1 Axes>"
      ]
     },
     "metadata": {
      "needs_background": "light"
     },
     "output_type": "display_data"
    }
   ],
   "source": [
    "fig, axs = plt.subplots()\n",
    "axs.set(title = \"Surface bâtie par département\")\n",
    "axs.bar(x = [str(i) for i in data.code_departement.unique()],\n",
    "            height = data.groupby(\"code_departement\").surface_reelle_bati.mean() )\n",
    "plt.xticks(rotation = 45)\n",
    "plt.show()"
   ]
  },
  {
   "cell_type": "code",
   "execution_count": 131,
   "id": "1c7af4bd",
   "metadata": {},
   "outputs": [
    {
     "data": {
      "image/png": "[encoded data removed]",
      "text/plain": [
       "<Figure size 432x288 with 1 Axes>"
      ]
     },
     "metadata": {
      "needs_background": "light"
     },
     "output_type": "display_data"
    }
   ],
   "source": [
    "fig, axs = plt.subplots()\n",
    "axs.set(title = \"Surface terrain par département\")\n",
    "axs.bar(x = [str(i) for i in data.code_departement.unique()],\n",
    "            height = data.groupby(\"code_departement\").surface_terrain.mean() )\n",
    "plt.xticks(rotation = 45)\n",
    "plt.show()"
   ]
  },
  {
   "cell_type": "markdown",
   "id": "bfcf71af",
   "metadata": {},
   "source": [
    "### 3.6. QQ-plot :"
   ]
  },
  {
   "cell_type": "markdown",
   "id": "637232a9-9f6a-4f94-b166-be3589037cbe",
   "metadata": {},
   "source": [
    "Les QQ-plot pour la variable \"valeurs foncières\" correspondent à ceux d'une **distribution exponentielle**, ce qui confirme notre intuition sur la répartition des valeurs foncières."
   ]
  },
  {
   "cell_type": "code",
   "execution_count": 155,
   "id": "f20d2bb6-c4bf-4663-93d3-2ce692490fcf",
   "metadata": {},
   "outputs": [
    {
     "data": {
      "image/png": "[encoded data removed]",
      "text/plain": [
       "<Figure size 432x288 with 1 Axes>"
      ]
     },
     "metadata": {
      "needs_background": "light"
     },
     "output_type": "display_data"
    }
   ],
   "source": [
    "import numpy as np\n",
    "import matplotlib.pyplot as plt\n",
    "import statsmodels.api as sm\n",
    "\n",
    "sm.qqplot(data[\"valeur_fonciere\"])\n",
    "plt.show()"
   ]
  },
  {
   "cell_type": "code",
   "execution_count": 153,
   "id": "9505a7a1",
   "metadata": {},
   "outputs": [
    {
     "data": {
      "text/plain": [
       "((array([-4.50351935, -4.31138327, -4.20710567, ...,  4.20710567,\n",
       "          4.31138327,  4.50351935]),\n",
       "  array([   5000.,    5000.,    5000., ..., 3150000., 3169650., 3190000.])),\n",
       " (179346.30430657006, 227577.59916866344, 0.8202750522626525))"
      ]
     },
     "execution_count": 153,
     "metadata": {},
     "output_type": "execute_result"
    },
    {
     "data": {
      "image/png": "[encoded data removed]",
      "text/plain": [
       "<Figure size 432x288 with 1 Axes>"
      ]
     },
     "metadata": {
      "needs_background": "light"
     },
     "output_type": "display_data"
    }
   ],
   "source": [
    "from scipy import stats\n",
    "\n",
    "stats.probplot(data[\"valeur_fonciere\"], plot = plt)"
   ]
  },
  {
   "cell_type": "markdown",
   "id": "6be49a80-59a4-450c-ab54-c21363dfb9e5",
   "metadata": {},
   "source": [
    "### 3.7. Représentation cartographique :"
   ]
  },
  {
   "cell_type": "code",
   "execution_count": 112,
   "id": "8b918058-9ed7-478a-9f7c-fb406926d600",
   "metadata": {},
   "outputs": [],
   "source": [
    "# Décommenter si packages pas installés\n",
    "\n",
    "#!pip install geopandas\n",
    "import geopandas as gpd\n",
    "#!pip install folium\n",
    "import folium"
   ]
  },
  {
   "cell_type": "code",
   "execution_count": 119,
   "id": "2523f775-6360-4057-869d-7bb938d2f54b",
   "metadata": {},
   "outputs": [
    {
     "data": {
      "text/html": [
       "<div style=\"width:100%;\"><div style=\"position:relative;width:100%;height:0;padding-bottom:60%;\"><span style=\"color:#565656\">Make this Notebook Trusted to load map: File -> Trust Notebook</span><iframe src=\"about:blank\" style=\"position:absolute;width:100%;height:100%;left:0;top:0;border:none !important;\" data-html=%3C%21DOCTYPE%20html%3E%0A%3Chead%3E%20%20%20%20%0A%20%20%20%20%3Cmeta%20http-equiv%3D%22content-type%22%20content%3D%22text/html%3B%20charset%3DUTF-8%22%20/%3E%0A%20%20%20%20%0A%20%20%20%20%20%20%20%20%3Cscript%3E%0A%20%20%20%20%20%20%20%20%20%20%20%20L_NO_TOUCH%20%3D%20false%3B%0A%20%20%20%20%20%20%20%20%20%20%20%20L_DISABLE_3D%20%3D%20false%3B%0A%20%20%20%20%20%20%20%20%3C/script%3E%0A%20%20%20%20%0A%20%20%20%20%3Cstyle%3Ehtml%2C%20body%20%7Bwidth%3A%20100%25%3Bheight%3A%20100%25%3Bmargin%3A%200%3Bpadding%3A%200%3B%7D%3C/style%3E%0A%20%20%20%20%3Cstyle%3E%23map%20%7Bposition%3Aabsolute%3Btop%3A0%3Bbottom%3A0%3Bright%3A0%3Bleft%3A0%3B%7D%3C/style%3E%0A%20%20%20%20%3Cscript%20src%3D%22https%3A//cdn.jsdelivr.net/npm/leaflet%401.6.0/dist/leaflet.js%22%3E%3C/script%3E%0A%20%20%20%20%3Cscript%20src%3D%22https%3A//code.jquery.com/jquery-1.12.4.min.js%22%3E%3C/script%3E%0A%20%20%20%20%3Cscript%20src%3D%22https%3A//maxcdn.bootstrapcdn.com/bootstrap/3.2.0/js/bootstrap.min.js%22%3E%3C/script%3E%0A%20%20%20%20%3Cscript%20src%3D%22https%3A//cdnjs.cloudflare.com/ajax/libs/Leaflet.awesome-markers/2.0.2/leaflet.awesome-markers.js%22%3E%3C/script%3E%0A%20%20%20%20%3Clink%20rel%3D%22stylesheet%22%20href%3D%22https%3A//cdn.jsdelivr.net/npm/leaflet%401.6.0/dist/leaflet.css%22/%3E%0A%20%20%20%20%3Clink%20rel%3D%22stylesheet%22%20href%3D%22https%3A//maxcdn.bootstrapcdn.com/bootstrap/3.2.0/css/bootstrap.min.css%22/%3E%0A%20%20%20%20%3Clink%20rel%3D%22stylesheet%22%20href%3D%22https%3A//maxcdn.bootstrapcdn.com/bootstrap/3.2.0/css/bootstrap-theme.min.css%22/%3E%0A%20%20%20%20%3Clink%20rel%3D%22stylesheet%22%20href%3D%22https%3A//maxcdn.bootstrapcdn.com/font-awesome/4.6.3/css/font-awesome.min.css%22/%3E%0A%20%20%20%20%3Clink%20rel%3D%22stylesheet%22%20href%3D%22https%3A//cdnjs.cloudflare.com/ajax/libs/Leaflet.awesome-markers/2.0.2/leaflet.awesome-markers.css%22/%3E%0A%20%20%20%20%3Clink%20rel%3D%22stylesheet%22%20href%3D%22https%3A//cdn.jsdelivr.net/gh/python-visualization/folium/folium/templates/leaflet.awesome.rotate.min.css%22/%3E%0A%20%20%20%20%0A%20%20%20%20%20%20%20%20%20%20%20%20%3Cmeta%20name%3D%22viewport%22%20content%3D%22width%3Ddevice-width%2C%0A%20%20%20%20%20%20%20%20%20%20%20%20%20%20%20%20initial-scale%3D1.0%2C%20maximum-scale%3D1.0%2C%20user-scalable%3Dno%22%20/%3E%0A%20%20%20%20%20%20%20%20%20%20%20%20%3Cstyle%3E%0A%20%20%20%20%20%20%20%20%20%20%20%20%20%20%20%20%23map_f768e4677b8d4ef38d70c3ec5c73a37a%20%7B%0A%20%20%20%20%20%20%20%20%20%20%20%20%20%20%20%20%20%20%20%20position%3A%20relative%3B%0A%20%20%20%20%20%20%20%20%20%20%20%20%20%20%20%20%20%20%20%20width%3A%20100.0%25%3B%0A%20%20%20%20%20%20%20%20%20%20%20%20%20%20%20%20%20%20%20%20height%3A%20100.0%25%3B%0A%20%20%20%20%20%20%20%20%20%20%20%20%20%20%20%20%20%20%20%20left%3A%200.0%25%3B%0A%20%20%20%20%20%20%20%20%20%20%20%20%20%20%20%20%20%20%20%20top%3A%200.0%25%3B%0A%20%20%20%20%20%20%20%20%20%20%20%20%20%20%20%20%7D%0A%20%20%20%20%20%20%20%20%20%20%20%20%3C/style%3E%0A%20%20%20%20%20%20%20%20%0A%3C/head%3E%0A%3Cbody%3E%20%20%20%20%0A%20%20%20%20%0A%20%20%20%20%20%20%20%20%20%20%20%20%3Cdiv%20class%3D%22folium-map%22%20id%3D%22map_f768e4677b8d4ef38d70c3ec5c73a37a%22%20%3E%3C/div%3E%0A%20%20%20%20%20%20%20%20%0A%3C/body%3E%0A%3Cscript%3E%20%20%20%20%0A%20%20%20%20%0A%20%20%20%20%20%20%20%20%20%20%20%20var%20map_f768e4677b8d4ef38d70c3ec5c73a37a%20%3D%20L.map%28%0A%20%20%20%20%20%20%20%20%20%20%20%20%20%20%20%20%22map_f768e4677b8d4ef38d70c3ec5c73a37a%22%2C%0A%20%20%20%20%20%20%20%20%20%20%20%20%20%20%20%20%7B%0A%20%20%20%20%20%20%20%20%20%20%20%20%20%20%20%20%20%20%20%20center%3A%20%5B46.227638%2C%202.213749%5D%2C%0A%20%20%20%20%20%20%20%20%20%20%20%20%20%20%20%20%20%20%20%20crs%3A%20L.CRS.EPSG3857%2C%0A%20%20%20%20%20%20%20%20%20%20%20%20%20%20%20%20%20%20%20%20zoom%3A%205%2C%0A%20%20%20%20%20%20%20%20%20%20%20%20%20%20%20%20%20%20%20%20zoomControl%3A%20true%2C%0A%20%20%20%20%20%20%20%20%20%20%20%20%20%20%20%20%20%20%20%20preferCanvas%3A%20false%2C%0A%20%20%20%20%20%20%20%20%20%20%20%20%20%20%20%20%7D%0A%20%20%20%20%20%20%20%20%20%20%20%20%29%3B%0A%0A%20%20%20%20%20%20%20%20%20%20%20%20%0A%0A%20%20%20%20%20%20%20%20%0A%20%20%20%20%0A%20%20%20%20%20%20%20%20%20%20%20%20var%20tile_layer_53e8ec02bc234863930a3f6154b322bd%20%3D%20L.tileLayer%28%0A%20%20%20%20%20%20%20%20%20%20%20%20%20%20%20%20%22https%3A//%7Bs%7D.tile.openstreetmap.org/%7Bz%7D/%7Bx%7D/%7By%7D.png%22%2C%0A%20%20%20%20%20%20%20%20%20%20%20%20%20%20%20%20%7B%22attribution%22%3A%20%22Data%20by%20%5Cu0026copy%3B%20%5Cu003ca%20href%3D%5C%22http%3A//openstreetmap.org%5C%22%5Cu003eOpenStreetMap%5Cu003c/a%5Cu003e%2C%20under%20%5Cu003ca%20href%3D%5C%22http%3A//www.openstreetmap.org/copyright%5C%22%5Cu003eODbL%5Cu003c/a%5Cu003e.%22%2C%20%22detectRetina%22%3A%20false%2C%20%22maxNativeZoom%22%3A%2018%2C%20%22maxZoom%22%3A%2018%2C%20%22minZoom%22%3A%200%2C%20%22noWrap%22%3A%20false%2C%20%22opacity%22%3A%201%2C%20%22subdomains%22%3A%20%22abc%22%2C%20%22tms%22%3A%20false%7D%0A%20%20%20%20%20%20%20%20%20%20%20%20%29.addTo%28map_f768e4677b8d4ef38d70c3ec5c73a37a%29%3B%0A%20%20%20%20%20%20%20%20%0A%3C/script%3E onload=\"this.contentDocument.open();this.contentDocument.write(    decodeURIComponent(this.getAttribute('data-html')));this.contentDocument.close();\" allowfullscreen webkitallowfullscreen mozallowfullscreen></iframe></div></div>"
      ],
      "text/plain": [
       "<folium.folium.Map at 0x7f483dfaffd0>"
      ]
     },
     "execution_count": 119,
     "metadata": {},
     "output_type": "execute_result"
    }
   ],
   "source": [
    "france = folium.Map(location = [46.227638, 2.213749], zoom_start = 5)\n",
    "france"
   ]
  },
  {
   "cell_type": "code",
   "execution_count": null,
   "id": "f06c54e8-0e14-49d2-806c-7261c42e5528",
   "metadata": {},
   "outputs": [],
   "source": [
    "# lien tuto folium : https://fxjollois.github.io/cours-2016-2017/analyse-donnees-massives-tp9.html"
   ]
  },
  {
   "cell_type": "code",
   "execution_count": null,
   "id": "2ba9eba5-1148-45ad-981f-dfe35901e541",
   "metadata": {},
   "outputs": [],
   "source": []
  },
  {
   "cell_type": "code",
   "execution_count": null,
   "id": "ccf4349f-4c38-4790-a302-a509158a2c29",
   "metadata": {},
   "outputs": [],
   "source": []
  },
  {
   "cell_type": "code",
   "execution_count": null,
   "id": "bf67c59c-253c-461e-8aff-04fe18f30c1e",
   "metadata": {},
   "outputs": [],
   "source": []
  },
  {
   "cell_type": "markdown",
   "id": "4432561d-749a-45d0-8188-17b479153aa0",
   "metadata": {},
   "source": [
    "# Etape 4 : modélisation"
   ]
  },
  {
   "cell_type": "markdown",
   "id": "82344581",
   "metadata": {},
   "source": [
    "**Imports pour la modélisation**"
   ]
  },
  {
   "cell_type": "code",
   "execution_count": 91,
   "id": "430dae17",
   "metadata": {},
   "outputs": [],
   "source": [
    "from sklearn.metrics import make_scorer\n",
    "from sklearn.metrics import explained_variance_score\n",
    "from sklearn.metrics import mean_squared_error\n",
    "\n",
    "from sklearn.linear_model import LinearRegression\n",
    "\n",
    "from sklearn.model_selection import train_test_split\n",
    "\n",
    "from sklearn.ensemble import RandomForestRegressor\n"
   ]
  },
  {
   "cell_type": "code",
   "execution_count": 67,
   "id": "3a39f3d0-a683-4c46-b9cd-f72f8f84c08c",
   "metadata": {},
   "outputs": [],
   "source": [
    "# data_model = data[data[\"valeur_fonciere\"] > 0.0] # A priori plus nécessaire car fait plus haut"
   ]
  },
  {
   "cell_type": "markdown",
   "id": "f2760c76",
   "metadata": {},
   "source": [
    "**Concernant le choix des métriques d'évaluation des modèles** \n",
    "Ici on cherche à prédire le plus précisemment possible la valeur du logement à partir de ses caractéristiques.\n",
    "Les métriques utilisées pour l'instant sont :\n",
    "- *Explained_variance_score* qui correspond à la part de variance dans le y_pred que le modèle explique\n",
    "- *mean_squarred_error* \"expected value of the squarred error\"\n",
    "- MAPE codée en-dessous, mean absolute percentage error, mesure de la précision comme un pourcentage  \n",
    "\n",
    "**Ce sera important de justifier notre choix de ces métriques**"
   ]
  },
  {
   "cell_type": "code",
   "execution_count": 52,
   "id": "9038595e-1083-491e-92ca-938aa40c6f26",
   "metadata": {},
   "outputs": [],
   "source": [
    "# Création de la métrique d'erreur : MAPE\n",
    "\n",
    "def custom_metric(y_test,y_pred):\n",
    "    error = np.abs((y_test - y_pred) / y_test)\n",
    "    return np.mean(error)\n",
    "\n",
    "custom_loss = make_scorer(custom_metric, greater_is_better = False)"
   ]
  },
  {
   "cell_type": "code",
   "execution_count": 68,
   "id": "c47b4893-16fe-4bb2-9d95-eb99ee727c7c",
   "metadata": {},
   "outputs": [],
   "source": [
    "# Features selection\n",
    "\n",
    "features = ['valeur_fonciere', 'type_local', 'surface_reelle_bati', 'nombre_pieces_principales', \n",
    "            'nature_culture', 'surface_terrain', 'longitude', 'latitude', 'code_departement', 'prix_m2']\n",
    "\n",
    "data_model = data_model[features]"
   ]
  },
  {
   "cell_type": "markdown",
   "id": "b0556900",
   "metadata": {},
   "source": [
    "Etant donné que le modèle de randomforest de sklearn ne peut pas gérer seul les variables catégorielles, nous devons les \n",
    "transformer en dummies"
   ]
  },
  {
   "cell_type": "code",
   "execution_count": 69,
   "id": "2d9b0575-d735-44a5-91d8-9505d3d11d08",
   "metadata": {},
   "outputs": [
    {
     "data": {
      "text/html": [
       "<div>\n",
       "<style scoped>\n",
       "    .dataframe tbody tr th:only-of-type {\n",
       "        vertical-align: middle;\n",
       "    }\n",
       "\n",
       "    .dataframe tbody tr th {\n",
       "        vertical-align: top;\n",
       "    }\n",
       "\n",
       "    .dataframe thead th {\n",
       "        text-align: right;\n",
       "    }\n",
       "</style>\n",
       "<table border=\"1\" class=\"dataframe\">\n",
       "  <thead>\n",
       "    <tr style=\"text-align: right;\">\n",
       "      <th></th>\n",
       "      <th>valeur_fonciere</th>\n",
       "      <th>surface_reelle_bati</th>\n",
       "      <th>nombre_pieces_principales</th>\n",
       "      <th>surface_terrain</th>\n",
       "      <th>longitude</th>\n",
       "      <th>latitude</th>\n",
       "      <th>code_departement</th>\n",
       "      <th>prix_m2</th>\n",
       "      <th>encoded_local_type</th>\n",
       "      <th>encoded_nature_culture</th>\n",
       "    </tr>\n",
       "  </thead>\n",
       "  <tbody>\n",
       "    <tr>\n",
       "      <th>0</th>\n",
       "      <td>10.0</td>\n",
       "      <td>0.0</td>\n",
       "      <td>0.0</td>\n",
       "      <td>530.0</td>\n",
       "      <td>4.844368</td>\n",
       "      <td>46.224233</td>\n",
       "      <td>1</td>\n",
       "      <td>53.000000</td>\n",
       "      <td>0</td>\n",
       "      <td>1</td>\n",
       "    </tr>\n",
       "    <tr>\n",
       "      <th>1</th>\n",
       "      <td>204332.0</td>\n",
       "      <td>88.0</td>\n",
       "      <td>4.0</td>\n",
       "      <td>866.0</td>\n",
       "      <td>5.157688</td>\n",
       "      <td>46.200988</td>\n",
       "      <td>1</td>\n",
       "      <td>0.004238</td>\n",
       "      <td>1</td>\n",
       "      <td>2</td>\n",
       "    </tr>\n",
       "    <tr>\n",
       "      <th>2</th>\n",
       "      <td>36.3</td>\n",
       "      <td>0.0</td>\n",
       "      <td>0.0</td>\n",
       "      <td>121.0</td>\n",
       "      <td>5.462947</td>\n",
       "      <td>46.256243</td>\n",
       "      <td>1</td>\n",
       "      <td>3.333333</td>\n",
       "      <td>0</td>\n",
       "      <td>1</td>\n",
       "    </tr>\n",
       "    <tr>\n",
       "      <th>3</th>\n",
       "      <td>400.0</td>\n",
       "      <td>0.0</td>\n",
       "      <td>0.0</td>\n",
       "      <td>460.0</td>\n",
       "      <td>5.115375</td>\n",
       "      <td>46.211715</td>\n",
       "      <td>1</td>\n",
       "      <td>1.150000</td>\n",
       "      <td>0</td>\n",
       "      <td>1</td>\n",
       "    </tr>\n",
       "    <tr>\n",
       "      <th>4</th>\n",
       "      <td>4780.0</td>\n",
       "      <td>0.0</td>\n",
       "      <td>0.0</td>\n",
       "      <td>7105.0</td>\n",
       "      <td>5.158681</td>\n",
       "      <td>46.387845</td>\n",
       "      <td>1</td>\n",
       "      <td>1.486402</td>\n",
       "      <td>0</td>\n",
       "      <td>1</td>\n",
       "    </tr>\n",
       "  </tbody>\n",
       "</table>\n",
       "</div>"
      ],
      "text/plain": [
       "   valeur_fonciere  surface_reelle_bati  nombre_pieces_principales  \\\n",
       "0             10.0                  0.0                        0.0   \n",
       "1         204332.0                 88.0                        4.0   \n",
       "2             36.3                  0.0                        0.0   \n",
       "3            400.0                  0.0                        0.0   \n",
       "4           4780.0                  0.0                        0.0   \n",
       "\n",
       "   surface_terrain  longitude   latitude code_departement    prix_m2  \\\n",
       "0            530.0   4.844368  46.224233                1  53.000000   \n",
       "1            866.0   5.157688  46.200988                1   0.004238   \n",
       "2            121.0   5.462947  46.256243                1   3.333333   \n",
       "3            460.0   5.115375  46.211715                1   1.150000   \n",
       "4           7105.0   5.158681  46.387845                1   1.486402   \n",
       "\n",
       "   encoded_local_type  encoded_nature_culture  \n",
       "0                   0                       1  \n",
       "1                   1                       2  \n",
       "2                   0                       1  \n",
       "3                   0                       1  \n",
       "4                   0                       1  "
      ]
     },
     "execution_count": 69,
     "metadata": {},
     "output_type": "execute_result"
    }
   ],
   "source": [
    "# Encoding categorical variables\n",
    "\n",
    "# local_type\n",
    "\n",
    "data_model[\"encoded_local_type_m\"] = [1 if local == \"Maison\" else 0 for local in data_model[\"type_local\"]]\n",
    "data_model[\"encoded_local_type_a\"] = [2 if local == \"Appartement\" else 0 for local in data_model[\"type_local\"]]\n",
    "data_model[\"encoded_local_type_d\"] = [3 if local == \"Dépendance\" else 0 for local in data_model[\"type_local\"]]\n",
    "data_model[\"encoded_local_type_l\"] = [4 if local == \"Local industriel. commercial ou assimilé\" else 0 \\\n",
    "                                      for local in data_model[\"type_local\"]]\n",
    "\n",
    "\n",
    "list_name = [\"type_local\", \"encoded_local_type_m\", \"encoded_local_type_a\", \"encoded_local_type_d\", \n",
    "             \"encoded_local_type_l\"]\n",
    "\n",
    "data_model[\"encoded_local_type\"] = data_model.loc[:,list_name].sum(axis = 1)\n",
    "data_model = data_model.drop(list_name, axis = 1)\n",
    "\n",
    "# nature_culture\n",
    "\n",
    "data_model[\"encoded_nature_culture_c\"] = [1 if local == \"culture\" else 0 for local in data_model[\"nature_culture\"]]\n",
    "data_model[\"encoded_nature_culture_s\"] = [2 if local == \"sols\" else 0 for local in data_model[\"nature_culture\"]]\n",
    "data_model[\"encoded_nature_culture_tb\"] = [3 if local == \"terrains a bâtir\" else 0 for local in data_model[\"nature_culture\"]]\n",
    "data_model[\"encoded_nature_culture_j\"] = [4 if local == \"jardins\" else 0 for local in data_model[\"nature_culture\"]]\n",
    "data_model[\"encoded_nature_culture_ta\"] = [4 if local == \"terrains d'agrément\" else 0 for local in data_model[\"nature_culture\"]]\n",
    "\n",
    "list_name = [\"nature_culture\", \"encoded_nature_culture_c\", \"encoded_nature_culture_s\", \n",
    "             \"encoded_nature_culture_tb\", \"encoded_nature_culture_j\", \"encoded_nature_culture_ta\"]\n",
    "\n",
    "data_model[\"encoded_nature_culture\"] = data_model.loc[:,list_name].sum(axis = 1)\n",
    "\n",
    "data_model = data_model.drop(list_name, axis = 1)\n",
    "\n",
    "# code_departement\n",
    "\n",
    "data_model[\"code_departement\"] = [201 if code == \"2A\" else code for code in data_model[\"code_departement\"]]\n",
    "data_model[\"code_departement\"] = [202 if code == \"2B\" else code for code in data_model[\"code_departement\"]]\n",
    "\n",
    "# enlever NaN (on les remplace par des 0, à justifier)\n",
    "data_model = data_model.fillna(0)\n",
    "\n",
    "data_model.head()"
   ]
  },
  {
   "cell_type": "markdown",
   "id": "4d8996b0",
   "metadata": {},
   "source": [
    "**Régression linéaire simple**"
   ]
  },
  {
   "cell_type": "code",
   "execution_count": 73,
   "id": "3de11d84",
   "metadata": {},
   "outputs": [
    {
     "data": {
      "text/html": [
       "<div>\n",
       "<style scoped>\n",
       "    .dataframe tbody tr th:only-of-type {\n",
       "        vertical-align: middle;\n",
       "    }\n",
       "\n",
       "    .dataframe tbody tr th {\n",
       "        vertical-align: top;\n",
       "    }\n",
       "\n",
       "    .dataframe thead th {\n",
       "        text-align: right;\n",
       "    }\n",
       "</style>\n",
       "<table border=\"1\" class=\"dataframe\">\n",
       "  <thead>\n",
       "    <tr style=\"text-align: right;\">\n",
       "      <th></th>\n",
       "      <th>valeur_fonciere</th>\n",
       "      <th>surface_reelle_bati</th>\n",
       "      <th>nombre_pieces_principales</th>\n",
       "      <th>surface_terrain</th>\n",
       "      <th>longitude</th>\n",
       "      <th>latitude</th>\n",
       "      <th>code_departement</th>\n",
       "      <th>prix_m2</th>\n",
       "      <th>encoded_local_type</th>\n",
       "      <th>encoded_nature_culture</th>\n",
       "    </tr>\n",
       "  </thead>\n",
       "  <tbody>\n",
       "    <tr>\n",
       "      <th>0</th>\n",
       "      <td>10.0</td>\n",
       "      <td>0.0</td>\n",
       "      <td>0.0</td>\n",
       "      <td>530.0</td>\n",
       "      <td>4.844368</td>\n",
       "      <td>46.224233</td>\n",
       "      <td>1</td>\n",
       "      <td>53.000000</td>\n",
       "      <td>0</td>\n",
       "      <td>1</td>\n",
       "    </tr>\n",
       "    <tr>\n",
       "      <th>1</th>\n",
       "      <td>204332.0</td>\n",
       "      <td>88.0</td>\n",
       "      <td>4.0</td>\n",
       "      <td>866.0</td>\n",
       "      <td>5.157688</td>\n",
       "      <td>46.200988</td>\n",
       "      <td>1</td>\n",
       "      <td>0.004238</td>\n",
       "      <td>1</td>\n",
       "      <td>2</td>\n",
       "    </tr>\n",
       "    <tr>\n",
       "      <th>2</th>\n",
       "      <td>36.3</td>\n",
       "      <td>0.0</td>\n",
       "      <td>0.0</td>\n",
       "      <td>121.0</td>\n",
       "      <td>5.462947</td>\n",
       "      <td>46.256243</td>\n",
       "      <td>1</td>\n",
       "      <td>3.333333</td>\n",
       "      <td>0</td>\n",
       "      <td>1</td>\n",
       "    </tr>\n",
       "    <tr>\n",
       "      <th>3</th>\n",
       "      <td>400.0</td>\n",
       "      <td>0.0</td>\n",
       "      <td>0.0</td>\n",
       "      <td>460.0</td>\n",
       "      <td>5.115375</td>\n",
       "      <td>46.211715</td>\n",
       "      <td>1</td>\n",
       "      <td>1.150000</td>\n",
       "      <td>0</td>\n",
       "      <td>1</td>\n",
       "    </tr>\n",
       "    <tr>\n",
       "      <th>4</th>\n",
       "      <td>4780.0</td>\n",
       "      <td>0.0</td>\n",
       "      <td>0.0</td>\n",
       "      <td>7105.0</td>\n",
       "      <td>5.158681</td>\n",
       "      <td>46.387845</td>\n",
       "      <td>1</td>\n",
       "      <td>1.486402</td>\n",
       "      <td>0</td>\n",
       "      <td>1</td>\n",
       "    </tr>\n",
       "  </tbody>\n",
       "</table>\n",
       "</div>"
      ],
      "text/plain": [
       "   valeur_fonciere  surface_reelle_bati  nombre_pieces_principales  \\\n",
       "0             10.0                  0.0                        0.0   \n",
       "1         204332.0                 88.0                        4.0   \n",
       "2             36.3                  0.0                        0.0   \n",
       "3            400.0                  0.0                        0.0   \n",
       "4           4780.0                  0.0                        0.0   \n",
       "\n",
       "   surface_terrain  longitude   latitude code_departement    prix_m2  \\\n",
       "0            530.0   4.844368  46.224233                1  53.000000   \n",
       "1            866.0   5.157688  46.200988                1   0.004238   \n",
       "2            121.0   5.462947  46.256243                1   3.333333   \n",
       "3            460.0   5.115375  46.211715                1   1.150000   \n",
       "4           7105.0   5.158681  46.387845                1   1.486402   \n",
       "\n",
       "   encoded_local_type  encoded_nature_culture  \n",
       "0                   0                       1  \n",
       "1                   1                       2  \n",
       "2                   0                       1  \n",
       "3                   0                       1  \n",
       "4                   0                       1  "
      ]
     },
     "execution_count": 73,
     "metadata": {},
     "output_type": "execute_result"
    }
   ],
   "source": [
    "data_model_small = data_model.copy()\n",
    "data_model_small.head()"
   ]
  },
  {
   "cell_type": "code",
   "execution_count": 77,
   "id": "a020a7bd",
   "metadata": {},
   "outputs": [
    {
     "data": {
      "text/html": [
       "<div>\n",
       "<style scoped>\n",
       "    .dataframe tbody tr th:only-of-type {\n",
       "        vertical-align: middle;\n",
       "    }\n",
       "\n",
       "    .dataframe tbody tr th {\n",
       "        vertical-align: top;\n",
       "    }\n",
       "\n",
       "    .dataframe thead th {\n",
       "        text-align: right;\n",
       "    }\n",
       "</style>\n",
       "<table border=\"1\" class=\"dataframe\">\n",
       "  <thead>\n",
       "    <tr style=\"text-align: right;\">\n",
       "      <th></th>\n",
       "      <th>surface_reelle_bati</th>\n",
       "      <th>valeur_fonciere</th>\n",
       "    </tr>\n",
       "  </thead>\n",
       "  <tbody>\n",
       "    <tr>\n",
       "      <th>0</th>\n",
       "      <td>0.0</td>\n",
       "      <td>10.0</td>\n",
       "    </tr>\n",
       "    <tr>\n",
       "      <th>1</th>\n",
       "      <td>88.0</td>\n",
       "      <td>204332.0</td>\n",
       "    </tr>\n",
       "    <tr>\n",
       "      <th>2</th>\n",
       "      <td>0.0</td>\n",
       "      <td>36.3</td>\n",
       "    </tr>\n",
       "    <tr>\n",
       "      <th>3</th>\n",
       "      <td>0.0</td>\n",
       "      <td>400.0</td>\n",
       "    </tr>\n",
       "    <tr>\n",
       "      <th>4</th>\n",
       "      <td>0.0</td>\n",
       "      <td>4780.0</td>\n",
       "    </tr>\n",
       "  </tbody>\n",
       "</table>\n",
       "</div>"
      ],
      "text/plain": [
       "   surface_reelle_bati  valeur_fonciere\n",
       "0                  0.0             10.0\n",
       "1                 88.0         204332.0\n",
       "2                  0.0             36.3\n",
       "3                  0.0            400.0\n",
       "4                  0.0           4780.0"
      ]
     },
     "execution_count": 77,
     "metadata": {},
     "output_type": "execute_result"
    }
   ],
   "source": [
    "data_model_small = data_model_small[[\"surface_reelle_bati\", \"valeur_fonciere\"]]\n",
    "data_model_small.head()"
   ]
  },
  {
   "cell_type": "code",
   "execution_count": 98,
   "id": "a7d42286",
   "metadata": {},
   "outputs": [],
   "source": [
    "# Ajustement du modèle\n",
    "\n",
    "training_data, test_data = train_test_split(data_model_small, test_size = 0.2)\n",
    "y_train = training_data[\"valeur_fonciere\"].values\n",
    "X_train = training_data.drop([\"valeur_fonciere\"], axis =1).values\n",
    "\n",
    "model = LinearRegression(fit_intercept = True).fit(X_train, y_train)"
   ]
  },
  {
   "cell_type": "code",
   "execution_count": 99,
   "id": "346277ce",
   "metadata": {},
   "outputs": [],
   "source": [
    "# Test du modèle\n",
    "\n",
    "y_test = test_data[\"valeur_fonciere\"].values\n",
    "X_test = test_data.drop([\"valeur_fonciere\"], axis =1).values\n",
    "y_pred = model.predict(X_test)"
   ]
  },
  {
   "cell_type": "code",
   "execution_count": 103,
   "id": "903877a2",
   "metadata": {},
   "outputs": [
    {
     "name": "stdout",
     "output_type": "stream",
     "text": [
      "Intercept: \n",
      " 141045.97086705235\n",
      "Coefficients: \n",
      " [910.14981551]\n"
     ]
    }
   ],
   "source": [
    "# Coefficients du modèle\n",
    "print(\"Intercept: \\n\", model.intercept_)\n",
    "print(\"Coefficients: \\n\", model.coef_)"
   ]
  },
  {
   "cell_type": "code",
   "execution_count": 101,
   "id": "6bd8bcad",
   "metadata": {},
   "outputs": [
    {
     "data": {
      "text/plain": [
       "'Variance expliquée par le modèle'"
      ]
     },
     "metadata": {},
     "output_type": "display_data"
    },
    {
     "data": {
      "text/plain": [
       "0.06952275365013294"
      ]
     },
     "metadata": {},
     "output_type": "display_data"
    },
    {
     "data": {
      "text/plain": [
       "'MSE'"
      ]
     },
     "metadata": {},
     "output_type": "display_data"
    },
    {
     "data": {
      "text/plain": [
       "52511880696.91955"
      ]
     },
     "metadata": {},
     "output_type": "display_data"
    },
    {
     "data": {
      "text/plain": [
       "'R2'"
      ]
     },
     "metadata": {},
     "output_type": "display_data"
    },
    {
     "data": {
      "text/plain": [
       "0.0695226864479942"
      ]
     },
     "metadata": {},
     "output_type": "display_data"
    }
   ],
   "source": [
    "# Métriques du modèle\n",
    "display(\"Variance expliquée par le modèle\")\n",
    "display(explained_variance_score(y_test, y_pred))\n",
    "display(\"MSE\")\n",
    "display(mean_squared_error(y_test, y_pred))\n",
    "display(\"R2\")\n",
    "display(r2_score(y_test, y_pred))"
   ]
  },
  {
   "cell_type": "markdown",
   "id": "6e284347",
   "metadata": {},
   "source": [
    "Ce modèle extrêmement simple explique seulement **7%** de la variance dans les données de test"
   ]
  },
  {
   "cell_type": "code",
   "execution_count": 102,
   "id": "58c8f8c5",
   "metadata": {},
   "outputs": [
    {
     "data": {
      "image/png": "[encoded data removed]",
      "text/plain": [
       "<Figure size 432x288 with 1 Axes>"
      ]
     },
     "metadata": {
      "needs_background": "light"
     },
     "output_type": "display_data"
    }
   ],
   "source": [
    "fig, axs = plt.subplots()\n",
    "axs.scatter(X_test, y_test, color = \"black\", s = 1)\n",
    "axs.plot(X_test, y_pred, color = \"blue\", linewidth = 3)\n",
    "plt.show()"
   ]
  },
  {
   "cell_type": "markdown",
   "id": "f22ac007",
   "metadata": {},
   "source": [
    "Le graphique ci-dessus indique les vrais points de données (en noir) et la droite de la régression linéaire simple (en bleue)"
   ]
  },
  {
   "cell_type": "markdown",
   "id": "824e5e72",
   "metadata": {},
   "source": [
    "**Régression linéaire multiple**"
   ]
  },
  {
   "cell_type": "code",
   "execution_count": 136,
   "id": "c580fb2d",
   "metadata": {},
   "outputs": [],
   "source": [
    "# Ajustement du modèle\n",
    "\n",
    "# code_departement ? Pas ajoutable en l'état parce qu'il induirait un ordre entre le départemetn ce qui n'est pas ce qu'on veut\n",
    "\n",
    "training_data, test_data = train_test_split(data_model[[\"valeur_fonciere\",\"surface_reelle_bati\", \"nombre_pieces_principales\",\n",
    "                                                       \"surface_terrain\", \"encoded_local_type\", \"encoded_nature_culture\"]],\n",
    "                                            test_size = 0.2)\n",
    "\n",
    "y_train = training_data[\"valeur_fonciere\"].values\n",
    "X_train = training_data.drop([\"valeur_fonciere\"], axis =1).values\n",
    "\n",
    "model = LinearRegression(fit_intercept = True).fit(X_train, y_train)"
   ]
  },
  {
   "cell_type": "code",
   "execution_count": 137,
   "id": "65771356",
   "metadata": {},
   "outputs": [],
   "source": [
    "# Test du modèle\n",
    "\n",
    "y_test = test_data[\"valeur_fonciere\"].values\n",
    "X_test = test_data.drop([\"valeur_fonciere\"], axis =1).values\n",
    "y_pred = model.predict(X_test)"
   ]
  },
  {
   "cell_type": "code",
   "execution_count": 138,
   "id": "d87f0249",
   "metadata": {},
   "outputs": [
    {
     "name": "stdout",
     "output_type": "stream",
     "text": [
      "Intercept: \n",
      " 133758.39449584443\n",
      "Coefficients: \n",
      " [ 6.62280624e+02  1.24651553e+04 -2.27453647e+00  4.03831627e+03\n",
      " -4.34188612e+03]\n"
     ]
    }
   ],
   "source": [
    "# Coefficients du modèle\n",
    "print(\"Intercept: \\n\", model.intercept_)\n",
    "print(\"Coefficients: \\n\", model.coef_)"
   ]
  },
  {
   "cell_type": "code",
   "execution_count": 140,
   "id": "03edda24",
   "metadata": {},
   "outputs": [
    {
     "data": {
      "text/plain": [
       "'Variance expliquée par le modèle'"
      ]
     },
     "metadata": {},
     "output_type": "display_data"
    },
    {
     "data": {
      "text/plain": [
       "0.0873535387617127"
      ]
     },
     "metadata": {},
     "output_type": "display_data"
    },
    {
     "data": {
      "text/plain": [
       "'MSE'"
      ]
     },
     "metadata": {},
     "output_type": "display_data"
    },
    {
     "data": {
      "text/plain": [
       "51839429734.06165"
      ]
     },
     "metadata": {},
     "output_type": "display_data"
    }
   ],
   "source": [
    "# Métriques du modèle\n",
    "display(\"Variance expliquée par le modèle\")\n",
    "display(explained_variance_score(y_test, y_pred))\n",
    "\n",
    "display(\"MSE\")\n",
    "display(mean_squared_error(y_test, y_pred))"
   ]
  },
  {
   "cell_type": "markdown",
   "id": "aee43e23",
   "metadata": {},
   "source": [
    "Dans mon test, on monte à seulement **8%** de variance expliquée en rajoutant plein de variables"
   ]
  },
  {
   "cell_type": "markdown",
   "id": "e9ab7671",
   "metadata": {},
   "source": [
    "**Random forest**"
   ]
  },
  {
   "cell_type": "code",
   "execution_count": 55,
   "id": "dde284a5-4ebd-45fa-a371-09081f62c547",
   "metadata": {},
   "outputs": [
    {
     "data": {
      "text/plain": [
       "RandomForestRegressor(min_samples_split=5, n_estimators=30)"
      ]
     },
     "execution_count": 55,
     "metadata": {},
     "output_type": "execute_result"
    }
   ],
   "source": [
    "# Entraînement du modèle\n",
    "\n",
    "training_data, test_data = train_test_split(data_model, test_size = 0.2)\n",
    "\n",
    "y_train = training_data[\"valeur_fonciere\"].values\n",
    "X_train = training_data.drop([\"valeur_fonciere\", \"prix_m2\"], axis = 1).values\n",
    "\n",
    "model = RandomForestRegressor(n_estimators = 30, min_samples_split = 5)\n",
    "\n",
    "model.fit(X_train, y_train)"
   ]
  },
  {
   "cell_type": "code",
   "execution_count": 57,
   "id": "e8ccb6e3-1963-4c56-92fe-18e6da09dc94",
   "metadata": {},
   "outputs": [
    {
     "data": {
      "text/plain": [
       "1129.8336266136614"
      ]
     },
     "metadata": {},
     "output_type": "display_data"
    },
    {
     "data": {
      "text/plain": [
       "0.46152155041716525"
      ]
     },
     "metadata": {},
     "output_type": "display_data"
    }
   ],
   "source": [
    "# Test performance\n",
    "\n",
    "y_test = test_data[\"valeur_fonciere\"].values\n",
    "\n",
    "X_test = test_data.drop([\"valeur_fonciere\", \"prix_m2\"], axis = 1).values\n",
    "\n",
    "score = custom_metric(y_test, model.predict(X_test))\n",
    "score2 = explained_variance_score(y_test, model.predict(X_test))\n",
    "\n",
    "display(score)\n",
    "display(score2)"
   ]
  },
  {
   "cell_type": "code",
   "execution_count": 58,
   "id": "48b77649-4c8f-4177-9582-66615b1165b1",
   "metadata": {},
   "outputs": [
    {
     "data": {
      "text/plain": [
       "Text(0.5, 1.0, \"Distribution de l'erreur de notre modèle\")"
      ]
     },
     "execution_count": 58,
     "metadata": {},
     "output_type": "execute_result"
    },
    {
     "data": {
      "image/png": "[encoded data removed]",
      "text/plain": [
       "<Figure size 432x288 with 1 Axes>"
      ]
     },
     "metadata": {
      "needs_background": "light"
     },
     "output_type": "display_data"
    }
   ],
   "source": [
    "schema = pd.DataFrame((np.abs(y_test - model.predict(X_test)) / y_test)) * 100\n",
    "\n",
    "schema.hist(bins = 1000)\n",
    "\n",
    "plt.xlabel('Erreur en %')\n",
    "plt.title('Distribution de l\\'erreur de notre modèle')"
   ]
  },
  {
   "cell_type": "markdown",
   "id": "45f4cf38",
   "metadata": {},
   "source": [
    "Ici on n'a pas de \"beug\" mais quand même un problème vu que **le graphe n'affiche rien**"
   ]
  }
 ],
 "metadata": {
  "kernelspec": {
   "display_name": "Python 3 (ipykernel)",
   "language": "python",
   "name": "python3"
  },
  "language_info": {
   "codemirror_mode": {
    "name": "ipython",
    "version": 3
   },
   "file_extension": ".py",
   "mimetype": "text/x-python",
   "name": "python",
   "nbconvert_exporter": "python",
   "pygments_lexer": "ipython3",
   "version": "3.9.7"
  }
 },
 "nbformat": 4,
 "nbformat_minor": 5
}
